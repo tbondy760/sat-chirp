{
 "cells": [
  {
   "cell_type": "markdown",
   "metadata": {},
   "source": [
    "# Make Calibration WAV Files\n",
    "## By Terry Bondy, VA3TYB"
   ]
  },
  {
   "cell_type": "code",
   "execution_count": 1,
   "metadata": {},
   "outputs": [
    {
     "name": "stdout",
     "output_type": "stream",
     "text": [
      "Last updated: Saturday 28 December 2019 UTC"
     ]
    }
   ],
   "source": [
    "printf(strftime (\"Last updated: %A %e %B %Y %Z\", localtime (time())))\n",
    "%plot --format svg\n",
    "# format long"
   ]
  },
  {
   "cell_type": "code",
   "execution_count": 2,
   "metadata": {},
   "outputs": [],
   "source": [
    "fcLow = 200;\n",
    "fcHigh = 2600;"
   ]
  },
  {
   "cell_type": "code",
   "execution_count": 3,
   "metadata": {},
   "outputs": [
    {
     "name": "stdout",
     "output_type": "stream",
     "text": [
      "fcMid =  721.11\n"
     ]
    }
   ],
   "source": [
    "fcMid = sqrt(fcHigh/fcLow) * fcLow"
   ]
  },
  {
   "cell_type": "code",
   "execution_count": 4,
   "metadata": {},
   "outputs": [
    {
     "name": "stdout",
     "output_type": "stream",
     "text": [
      "ans =  2401\n",
      "ans =  721.11\n"
     ]
    }
   ],
   "source": [
    "F = fcLow:1:fcHigh;\n",
    "columns(F)\n",
    "sqrt(fcLow*fcHigh)"
   ]
  },
  {
   "cell_type": "code",
   "execution_count": 5,
   "metadata": {},
   "outputs": [
    {
     "name": "stdout",
     "output_type": "stream",
     "text": [
      "jmin =  5.2983\n",
      "jmax =  7.8633\n",
      "jmid =  6.5808\n",
      "hmin =    1.5291e-04\n",
      "hmax =  1.2825\n"
     ]
    }
   ],
   "source": [
    "J = log(F);\n",
    "jmin = min(J)\n",
    "jmax = max(J)\n",
    "jmid = mean([jmin, jmax])\n",
    "H = abs(J - jmid);\n",
    "hmin = min(H)\n",
    "hmax = max(H)"
   ]
  },
  {
   "cell_type": "code",
   "execution_count": 6,
   "metadata": {},
   "outputs": [
    {
     "name": "stdout",
     "output_type": "stream",
     "text": [
      "Possible_Intervals =\n",
      "\n",
      " Columns 1 through 11:\n",
      "\n",
      "      2      3      4      5      6      8     10     12     15     16     20\n",
      "\n",
      " Columns 12 through 22:\n",
      "\n",
      "     24     25     30     32     40     48     50     60     75     80     96\n",
      "\n",
      " Columns 23 through 33:\n",
      "\n",
      "    100    120    150    160    200    240    300    400    480    600    800\n",
      "\n",
      " Columns 34 and 35:\n",
      "\n",
      "   1200   2400\n",
      "\n",
      "intervals =  15\n"
     ]
    }
   ],
   "source": [
    "# What are the factors of the number of frequencies?\n",
    "Factors = factor(columns(F)-1);\n",
    "# Determine the possible intervals by looking at all products of choose\n",
    "Possible_Intervals = unique(cell2mat(arrayfun(@(t) unique(prod(nchoosek(Factors, t), 2))', [1:columns(Factors)], \"UniformOutput\", false)))\n",
    "# Then pick one of them\n",
    "intervals = Possible_Intervals(9)"
   ]
  },
  {
   "cell_type": "markdown",
   "metadata": {},
   "source": [
    "Sort F so that it is in the order log distance from fcMid, and also compute what interval they are in."
   ]
  },
  {
   "cell_type": "code",
   "execution_count": 7,
   "metadata": {},
   "outputs": [],
   "source": [
    "G = sortrows(horzcat(H', ceil(intervals*H'/hmax), F'), [1]);"
   ]
  },
  {
   "cell_type": "markdown",
   "metadata": {},
   "source": [
    "Sample a number of rows"
   ]
  },
  {
   "cell_type": "code",
   "execution_count": 8,
   "metadata": {},
   "outputs": [
    {
     "name": "stdout",
     "output_type": "stream",
     "text": [
      "Sample =\n",
      "\n",
      "  0.000152907993856033                     1                   721\n",
      "     0.111291697227823                     2                   806\n",
      "     0.220490989192815                     3                   899\n",
      "     0.326963233703332                     4                   520\n",
      "     0.430421942071562                     6                  1109\n",
      "     0.529904077700022                     7                  1225\n",
      "     0.624843131131558                     8                  1347\n",
      "     0.714323988345509                     9                   353\n",
      "     0.800048529486476                    10                   324\n",
      "     0.880348471888118                    11                   299\n",
      "     0.956774539091467                    12                   277\n",
      "      1.02907015563475                    13                  2018\n",
      "      1.09753431122808                    13                  2161\n",
      "       1.1624776555502                    14                  2306\n",
      "      1.22420577060679                    15                   212\n",
      "      1.28247467873077                    15                   200\n",
      "      1.28247467873077                    15                   200\n",
      "\n"
     ]
    }
   ],
   "source": [
    "format long g\n",
    "Sample = vertcat(G(1:floor(end/intervals):end,:), G(rows(G),:))\n",
    "format"
   ]
  },
  {
   "cell_type": "code",
   "execution_count": 9,
   "metadata": {},
   "outputs": [
    {
     "name": "stdout",
     "output_type": "stream",
     "text": [
      "ans =\n",
      "\n",
      "   1.5291e-04   1.0000e+00   7.2100e+02\n",
      "\n"
     ]
    }
   ],
   "source": [
    "G(find(G(:,3)==721),:)"
   ]
  },
  {
   "cell_type": "code",
   "execution_count": 10,
   "metadata": {},
   "outputs": [
    {
     "name": "stdout",
     "output_type": "stream",
     "text": [
      "ans =  123\n",
      "ans =\n",
      "\n",
      " Columns 1 through 13:\n",
      "\n",
      "   123   125   126   129   132   138   142   151   156   167   176   188   201\n",
      "\n",
      " Columns 14 and 15:\n",
      "\n",
      "   215   232\n",
      "\n"
     ]
    }
   ],
   "source": [
    "sum(G(:,2) == 1)\n",
    "sum(G(:,2) == 1:1:intervals)"
   ]
  },
  {
   "cell_type": "markdown",
   "metadata": {},
   "source": [
    "Ensure that there are no values of H that are duplicated, meaning that there are a pair of frequencies, one each on each side of fcMid, that are equidistant log-wise, from fcMid. If there are, then we would have to be careful how we subdivide F later on. If there is at least one, then the following result will be zero."
   ]
  },
  {
   "cell_type": "code",
   "execution_count": 11,
   "metadata": {},
   "outputs": [
    {
     "name": "stdout",
     "output_type": "stream",
     "text": [
      "ans =    3.8469e-04\n"
     ]
    }
   ],
   "source": [
    "sort(abs(diff(H)))(1)"
   ]
  },
  {
   "cell_type": "markdown",
   "metadata": {},
   "source": [
    "Helps that fcMid is not integral, like members of F."
   ]
  },
  {
   "cell_type": "code",
   "execution_count": 12,
   "metadata": {},
   "outputs": [],
   "source": [
    "sampleRate = 16000;\n",
    "numPeriods = 10;\n",
    "period = numPeriods;\n",
    "Tshort = 0:1/sampleRate:1;\n",
    "T = 0:1/sampleRate:period;"
   ]
  },
  {
   "cell_type": "markdown",
   "metadata": {},
   "source": [
    "Ensure that you run `Nonlin_min_Install` notebook to install this package."
   ]
  },
  {
   "cell_type": "code",
   "execution_count": 13,
   "metadata": {},
   "outputs": [],
   "source": [
    "pkg load optim"
   ]
  },
  {
   "cell_type": "code",
   "execution_count": 14,
   "metadata": {},
   "outputs": [],
   "source": [
    "# TestPhi is a column vector, 0 <= phi <= pi, length m\n",
    "# TestFreq is a column vector, length m\n",
    "# Sig is a row vector\n",
    "# Tshort is a row vector\n",
    "function cost = costAny(TestPhi, TestFreq, Sig, Tshort)\n",
    "  cost = max(abs(sum(cos(2*pi*TestFreq * Tshort + TestPhi)) + Sig));\n",
    "endfunction"
   ]
  },
  {
   "cell_type": "code",
   "execution_count": 15,
   "metadata": {},
   "outputs": [
    {
     "name": "stdout",
     "output_type": "stream",
     "text": [
      "ans =\n",
      "\n",
      "       1   16001\n",
      "\n",
      "ans =  1\n",
      "toc: 0.019181 seconds\n",
      "ans =  1\n",
      "ans =\n",
      "\n",
      "       1   16001\n",
      "\n",
      "toc: 0.0779572 seconds\n",
      "ans =  23.365\n",
      "ans =\n",
      "\n",
      "       1   16001\n",
      "\n",
      "toc: 0.0768812 seconds\n",
      "ans =  37.250\n",
      "ans =\n",
      "\n",
      "       1   16001\n",
      "\n",
      "toc: 0.0715599 seconds\n",
      "ans =  56.436\n",
      "ans =\n",
      "\n",
      "       1   16001\n",
      "\n",
      "toc: 0.065352 seconds\n",
      "ans =  56.128\n",
      "ans =\n",
      "\n",
      "       1   16001\n",
      "\n",
      "toc: 0.0708489 seconds\n",
      "ans =  64.864\n",
      "ans =\n",
      "\n",
      "       1   16001\n",
      "\n",
      "toc: 0.068748 seconds\n",
      "ans =  63.705\n",
      "ans =\n",
      "\n",
      "       1   16001\n",
      "\n",
      "toc: 0.0637932 seconds\n",
      "ans =  73.942\n",
      "ans =\n",
      "\n",
      "       1   16001\n",
      "\n",
      "toc: 0.0723 seconds\n",
      "ans =  81.445\n",
      "ans =\n",
      "\n",
      "       1   16001\n",
      "\n",
      "toc: 0.067282 seconds\n",
      "ans =  84.215\n",
      "ans =\n",
      "\n",
      "       1   16001\n",
      "\n",
      "toc: 0.0632229 seconds\n",
      "ans =  90.589\n",
      "ans =\n",
      "\n",
      "       1   16001\n",
      "\n",
      "toc: 0.0669339 seconds\n",
      "ans =  99.599\n",
      "ans =\n",
      "\n",
      "       1   16001\n",
      "\n",
      "toc: 0.0598431 seconds\n",
      "ans =  117.50\n",
      "ans =\n",
      "\n",
      "       1   16001\n",
      "\n",
      "toc: 0.071177 seconds\n",
      "ans =  111.10\n",
      "ans =\n",
      "\n",
      "       1   16001\n",
      "\n",
      "toc: 0.0636511 seconds\n",
      "ans =  116.91\n",
      "ans =\n",
      "\n",
      "       1   16001\n",
      "\n",
      "toc: 0.0614011 seconds\n",
      "ans =  124.91\n",
      "ans =\n",
      "\n",
      "       1   16001\n",
      "\n",
      "toc: 0.064666 seconds\n",
      "ans =  115.73\n",
      "ans =\n",
      "\n",
      "       1   16001\n",
      "\n",
      "toc: 0.061089 seconds\n",
      "ans =  116.36\n",
      "ans =\n",
      "\n",
      "       1   16001\n",
      "\n",
      "toc: 0.0637901 seconds\n",
      "ans =  127.16\n",
      "ans =\n",
      "\n",
      "       1   16001\n",
      "\n",
      "toc: 0.0643201 seconds\n",
      "ans =  126.98\n",
      "ans =\n",
      "\n",
      "       1   16001\n",
      "\n",
      "toc: 0.066 seconds\n",
      "ans =  130.77\n"
     ]
    }
   ],
   "source": [
    "tic = time();\n",
    "TestFreq = [ G(1,3) ];\n",
    "TestPhi = [ 0 ];\n",
    "cosArg = 2*pi*TestFreq * Tshort + TestPhi;\n",
    "Sig = cos(cosArg);\n",
    "size(Sig)\n",
    "max(abs(Sig))\n",
    "printf(\"toc: %d seconds\\n\", time() - tic)\n",
    "max(abs(Sig))\n",
    "numIndexes = 120;\n",
    "for firstIndex = 2:numIndexes:rows(G)\n",
    "  TestFreq = G(firstIndex:firstIndex+numIndexes-1, 3);\n",
    "  tic = time();\n",
    "  TestPhi = 2*pi*rand(rows(TestFreq),1);\n",
    "  cosArg = 2*pi*TestFreq * Tshort + TestPhi;\n",
    "  Sig = sum(cos(cosArg)) + Sig;\n",
    "  size(Sig)\n",
    "  printf(\"toc: %d seconds\\n\", time() - tic)\n",
    "  max(abs(Sig))\n",
    "endfor"
   ]
  },
  {
   "cell_type": "code",
   "execution_count": 16,
   "metadata": {},
   "outputs": [
    {
     "name": "stdout",
     "output_type": "stream",
     "text": [
      "ans =  29.615\n",
      "ans =  29.615\n",
      "toc: 0.00682616 seconds\n"
     ]
    }
   ],
   "source": [
    "Sig(1)\n",
    "Sig(end)\n",
    "tic = time();\n",
    "# Repeat Sig to expand it to numPeriods\n",
    "Sig = [(Sig(1:end-1)' * ones(1, numPeriods))(:)', Sig(1)];\n",
    "printf(\"toc: %d seconds\\n\", time() - tic)"
   ]
  },
  {
   "cell_type": "code",
   "execution_count": 17,
   "metadata": {},
   "outputs": [
    {
     "name": "stdout",
     "output_type": "stream",
     "text": [
      "toc: 0.00612998 seconds\n"
     ]
    }
   ],
   "source": [
    "tic = time();\n",
    "# SigShort = Sig(1:end-1);\n",
    "# Sig = [SigShort, SigShort, SigShort, SigShort, SigShort, SigShort, SigShort, SigShort, SigShort, Sig];\n",
    "printf(\"toc: %d seconds\\n\", time() - tic)"
   ]
  },
  {
   "cell_type": "code",
   "execution_count": 18,
   "metadata": {},
   "outputs": [
    {
     "data": {
      "image/png": "[encoded data removed]",
      "text/plain": [
       "<IPython.core.display.Image object>"
      ]
     },
     "metadata": {},
     "output_type": "display_data"
    }
   ],
   "source": [
    "# size(Tshort)\n",
    "# size(T)\n",
    "# size(Sig)\n",
    "plot(T, Sig)\n",
    "# grid on\n",
    "# grid minor\n",
    "# axis([-0.1,+0.1], \"tic\")"
   ]
  },
  {
   "cell_type": "code",
   "execution_count": 19,
   "metadata": {},
   "outputs": [
    {
     "data": {
      "image/png": "[encoded data removed]",
      "text/plain": [
       "<IPython.core.display.Image object>"
      ]
     },
     "metadata": {},
     "output_type": "display_data"
    }
   ],
   "source": [
    "RC = (1 - cos(2*pi*T/period))/2;\n",
    "plot(T, RC);"
   ]
  },
  {
   "cell_type": "code",
   "execution_count": 20,
   "metadata": {},
   "outputs": [],
   "source": [
    "E_cos_pulse = fftshift(fft(RC .* Sig, sampleRate*period*10 + 1));\n",
    "# E_cos_pulse = fftshift(fft(RC .* Sig));\n",
    "F_base = linspace(-sampleRate/2, sampleRate/2, columns(E_cos_pulse));"
   ]
  },
  {
   "cell_type": "code",
   "execution_count": 21,
   "metadata": {},
   "outputs": [
    {
     "data": {
      "image/png": "[encoded data removed]",
      "text/plain": [
       "<IPython.core.display.Image object>"
      ]
     },
     "metadata": {},
     "output_type": "display_data"
    }
   ],
   "source": [
    "plot(F_base, abs(E_cos_pulse))\n",
    "grid on\n",
    "grid minor\n",
    "# axis([fcLow-10 fcLow+10], \"tic\")"
   ]
  },
  {
   "cell_type": "code",
   "execution_count": null,
   "metadata": {},
   "outputs": [],
   "source": []
  }
 ],
 "metadata": {
  "kernelspec": {
   "display_name": "Octave",
   "language": "octave",
   "name": "octave"
  },
  "language_info": {
   "file_extension": ".m",
   "help_links": [
    {
     "text": "GNU Octave",
     "url": "https://www.gnu.org/software/octave/support.html"
    },
    {
     "text": "Octave Kernel",
     "url": "https://github.com/Calysto/octave_kernel"
    },
    {
     "text": "MetaKernel Magics",
     "url": "https://metakernel.readthedocs.io/en/latest/source/README.html"
    }
   ],
   "mimetype": "text/x-octave",
   "name": "octave",
   "version": "4.2.2"
  }
 },
 "nbformat": 4,
 "nbformat_minor": 2
}
