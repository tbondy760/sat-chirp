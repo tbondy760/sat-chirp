{
 "cells": [
  {
   "cell_type": "markdown",
   "metadata": {},
   "source": [
    "# Determine Costas Array Frequencies, Order 8, For Yaesu Radios\n",
    "## By Terry Bondy, VA3TYB"
   ]
  },
  {
   "cell_type": "code",
   "execution_count": 1,
   "metadata": {},
   "outputs": [
    {
     "name": "stdout",
     "output_type": "stream",
     "text": [
      "Last updated: Sunday 16 February 2020"
     ]
    }
   ],
   "source": [
    "source(\"../common/preamble.m\")"
   ]
  },
  {
   "cell_type": "code",
   "execution_count": 2,
   "metadata": {},
   "outputs": [
    {
     "name": "stdout",
     "output_type": "stream",
     "text": [
      "radioFreqAudioBwLow =  200\n",
      "radioFreqAudioBwHigh =  2600\n",
      "radioFreqAudioBw =  2400\n",
      "radioFreqAudioMidBand =  721.11\n"
     ]
    }
   ],
   "source": [
    "source(\"../common/radio.m\")"
   ]
  },
  {
   "cell_type": "markdown",
   "metadata": {},
   "source": [
    "Want to spread the frequencies equidistant across the audio bandpass for the radio, but have it centered one the geometric center of the audio bandpass for the radio. That means:\n",
    "\n",
    " 1. $N = 8$,\n",
    " 1. $costas8Freq_{8} = costas8Freq_{1} + costas8FreqDelta * (N - 1)$\n",
    " 1. $\\frac{costas8Freq_{1}}{radioFreqAudioBwLow} = \\frac{radioFreqAudioBwHigh}{costas8Freq_{8}}$\n",
    " 1. $costas8Freq_{8} < radioFreqAudioBwHigh$\n",
    " 1. $radioFreqAudioBwLow < costas8Freq_{1}$\n",
    " \n",
    "Using 1, 2, 4, and 5 an upper limit can be set on $costas8FreqDelta$.\n",
    "$costas8FreqDelta < \\frac{radioFreqAudioBwHigh - radioFreqAudioBwLow}{7}$\n",
    "or "
   ]
  },
  {
   "cell_type": "code",
   "execution_count": 3,
   "metadata": {},
   "outputs": [
    {
     "name": "stdout",
     "output_type": "stream",
     "text": [
      "ans =  342.86\n"
     ]
    }
   ],
   "source": [
    "(radioFreqAudioBwHigh - radioFreqAudioBwLow)/7"
   ]
  },
  {
   "cell_type": "markdown",
   "metadata": {},
   "source": [
    "So let set"
   ]
  },
  {
   "cell_type": "code",
   "execution_count": 4,
   "metadata": {},
   "outputs": [
    {
     "name": "stdout",
     "output_type": "stream",
     "text": [
      "costas8FreqDelta =  300\n"
     ]
    }
   ],
   "source": [
    "costas8FreqDelta = 300"
   ]
  },
  {
   "cell_type": "markdown",
   "metadata": {},
   "source": [
    "Substituting into 3. and re-arranging\n",
    "\n",
    " * $costas8Freq_{1} \\cdot costas8Freq_{8} = radioFreqAudioBwLow \\cdot radioFreqAudioBwHigh$\n",
    " * $costas8Freq_{1} \\cdot (costas8Freq_{1} + 300 \\cdot 7) = 200 \\cdot 2600$\n",
    " * $costas8Freq_{1}^{2} + costas8Freq_{1} \\cdot 2100 = 520000$\n",
    " \n",
    "Solving for the positive root provides"
   ]
  },
  {
   "cell_type": "code",
   "execution_count": 5,
   "metadata": {},
   "outputs": [
    {
     "name": "stdout",
     "output_type": "stream",
     "text": [
      "ans =\n",
      "\n",
      "  -2323.77\n",
      "    223.77\n",
      "\n"
     ]
    }
   ],
   "source": [
    "roots([1, 2100, -520000])"
   ]
  },
  {
   "cell_type": "markdown",
   "metadata": {},
   "source": [
    "Checking"
   ]
  },
  {
   "cell_type": "code",
   "execution_count": 6,
   "metadata": {},
   "outputs": [
    {
     "name": "stdout",
     "output_type": "stream",
     "text": [
      "ans =  300\n"
     ]
    }
   ],
   "source": [
    "(2323.77-223.77)/7"
   ]
  },
  {
   "cell_type": "code",
   "execution_count": 7,
   "metadata": {},
   "outputs": [
    {
     "name": "stdout",
     "output_type": "stream",
     "text": [
      "ans =  1.1189\n"
     ]
    }
   ],
   "source": [
    "223.77/radioFreqAudioBwLow"
   ]
  },
  {
   "cell_type": "code",
   "execution_count": 8,
   "metadata": {},
   "outputs": [
    {
     "name": "stdout",
     "output_type": "stream",
     "text": [
      "ans =  1.1189\n"
     ]
    }
   ],
   "source": [
    "radioFreqAudioBwHigh/2323.77"
   ]
  },
  {
   "cell_type": "markdown",
   "metadata": {},
   "source": [
    "Setting to a reasonable nearby integer"
   ]
  },
  {
   "cell_type": "code",
   "execution_count": 9,
   "metadata": {},
   "outputs": [
    {
     "name": "stdout",
     "output_type": "stream",
     "text": [
      "costas8FreqsCv =\n",
      "\n",
      "    225\n",
      "    525\n",
      "    825\n",
      "   1125\n",
      "   1425\n",
      "   1725\n",
      "   2025\n",
      "   2325\n",
      "\n"
     ]
    }
   ],
   "source": [
    "costas8FreqsCv = [225:costas8FreqDelta:2325](:)"
   ]
  },
  {
   "cell_type": "markdown",
   "metadata": {},
   "source": [
    "Need a frequency ordering. From _Modified Costas Signal, Levanon & Mozeson_ here is one:"
   ]
  },
  {
   "cell_type": "code",
   "execution_count": 10,
   "metadata": {},
   "outputs": [],
   "source": [
    "costas8FreqIdxCv = [ 1 8 3 6 2 7 5 4 ](:);"
   ]
  }
 ],
 "metadata": {
  "kernelspec": {
   "display_name": "Octave",
   "language": "octave",
   "name": "octave"
  },
  "language_info": {
   "file_extension": ".m",
   "help_links": [
    {
     "text": "GNU Octave",
     "url": "https://www.gnu.org/software/octave/support.html"
    },
    {
     "text": "Octave Kernel",
     "url": "https://github.com/Calysto/octave_kernel"
    },
    {
     "text": "MetaKernel Magics",
     "url": "https://metakernel.readthedocs.io/en/latest/source/README.html"
    }
   ],
   "mimetype": "text/x-octave",
   "name": "octave",
   "version": "4.2.2"
  }
 },
 "nbformat": 4,
 "nbformat_minor": 2
}
