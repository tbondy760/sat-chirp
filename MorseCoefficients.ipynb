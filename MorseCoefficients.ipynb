{
 "cells": [
  {
   "cell_type": "markdown",
   "metadata": {},
   "source": [
    "# Create Coefficients For Messages\n",
    "## By Terry Bondy, VA3TYB"
   ]
  },
  {
   "cell_type": "code",
   "execution_count": 1,
   "metadata": {},
   "outputs": [
    {
     "name": "stdout",
     "output_type": "stream",
     "text": [
      "Last updated: Tuesday 26 November 2019"
     ]
    }
   ],
   "source": [
    "printf(strftime (\"Last updated: %A %e %B %Y\", localtime (time ())))"
   ]
  },
  {
   "cell_type": "markdown",
   "metadata": {},
   "source": [
    "Input the table"
   ]
  },
  {
   "cell_type": "code",
   "execution_count": 2,
   "metadata": {},
   "outputs": [],
   "source": [
    "MorseTable"
   ]
  },
  {
   "cell_type": "code",
   "execution_count": 3,
   "metadata": {},
   "outputs": [
    {
     "name": "stdout",
     "output_type": "stream",
     "text": [
      "Test = AE B$\n"
     ]
    }
   ],
   "source": [
    "Test = \"AE B$\""
   ]
  },
  {
   "cell_type": "code",
   "execution_count": 4,
   "metadata": {},
   "outputs": [
    {
     "name": "stdout",
     "output_type": "stream",
     "text": [
      "Trinary_for_test =\n",
      "\n",
      "10000000000000001200\n",
      "10000000000000000100\n",
      "10000000000000000000\n",
      "10000000000000211100\n",
      "10000000000111211200\n",
      "\n"
     ]
    }
   ],
   "source": [
    "Trinary_for_test = dec2base(arrayfun(@(v) strfind(Morse_char_to_trinary_map, v)(1) - 1, Test) .* 9 .+ 3^19, 3)"
   ]
  },
  {
   "cell_type": "code",
   "execution_count": 5,
   "metadata": {},
   "outputs": [
    {
     "name": "stdout",
     "output_type": "stream",
     "text": [
      "Test_marks = \n",
      "{\n",
      "  [1,1] = a0aaa000\n",
      "  [2,1] = a000\n",
      "  [3,1] = 00\n",
      "  [4,1] = aaa0a0a0a000\n",
      "  [5,1] = a0a0a0aaa0a0a0aaa000\n",
      "}\n"
     ]
    }
   ],
   "source": [
    "Test_marks = ...\n",
    "    # Do the processing for each character\n",
    "    arrayfun(@(v) ...\n",
    "        # Replace trailing zeroes with nothing\n",
    "#        strrep(\n",
    "                # Replace '2' with 'aaa0'\n",
    "                strrep(\n",
    "                       # Replace '1' with a 'a0'\n",
    "                       strrep(\n",
    "                              # Replace leading 1 and zeroes with nothing\n",
    "                              regexprep(v, \"^10{9,16}([12])|^10{17}(00)$\", \"$1\"),\n",
    "                              \"1\", \"a0\"),\n",
    "                       \"2\", \"aaa0\"),\n",
    "#                \"0\", \"\"),\n",
    "        cellstr(Trinary_for_test)\n",
    "    )"
   ]
  },
  {
   "cell_type": "code",
   "execution_count": 6,
   "metadata": {},
   "outputs": [
    {
     "name": "stdout",
     "output_type": "stream",
     "text": [
      "Test_marks_str =\n",
      "\n",
      "a0aaa000            \n",
      "a000                \n",
      "00                  \n",
      "aaa0a0a0a000        \n",
      "a0a0a0aaa0a0a0aaa000\n",
      "\n"
     ]
    }
   ],
   "source": [
    "Test_marks_str = char(Test_marks(:,1))"
   ]
  },
  {
   "cell_type": "code",
   "execution_count": 7,
   "metadata": {},
   "outputs": [
    {
     "name": "stdout",
     "output_type": "stream",
     "text": [
      "ans =\n",
      "\n",
      "    5   20\n",
      "\n"
     ]
    }
   ],
   "source": [
    "size(Test_marks_str)"
   ]
  },
  {
   "cell_type": "code",
   "execution_count": 8,
   "metadata": {},
   "outputs": [
    {
     "name": "stdout",
     "output_type": "stream",
     "text": [
      "Test_marks_concat = a0aaa000a00000aaa0a0a0a000a0a0a0aaa0a0a0aaa000\n"
     ]
    }
   ],
   "source": [
    "Test_marks_concat = strrep(reshape(Test_marks_str', 1, []), \" \", \"\")"
   ]
  },
  {
   "cell_type": "code",
   "execution_count": 9,
   "metadata": {},
   "outputs": [
    {
     "name": "stdout",
     "output_type": "stream",
     "text": [
      "Test_coeff =\n",
      "\n",
      " Columns 1 through 26:\n",
      "\n",
      "  1  0  1  1  1  0  0  0  1  0  0  0  0  0  1  1  1  0  1  0  1  0  1  0  0  0\n",
      "\n",
      " Columns 27 through 46:\n",
      "\n",
      "  1  0  1  0  1  0  1  1  1  0  1  0  1  0  1  1  1  0  0  0\n",
      "\n"
     ]
    }
   ],
   "source": [
    "Test_coeff = isalpha(Test_marks_concat)"
   ]
  },
  {
   "cell_type": "code",
   "execution_count": null,
   "metadata": {},
   "outputs": [],
   "source": []
  }
 ],
 "metadata": {
  "kernelspec": {
   "display_name": "Octave",
   "language": "octave",
   "name": "octave"
  },
  "language_info": {
   "file_extension": ".m",
   "help_links": [
    {
     "text": "GNU Octave",
     "url": "https://www.gnu.org/software/octave/support.html"
    },
    {
     "text": "Octave Kernel",
     "url": "https://github.com/Calysto/octave_kernel"
    },
    {
     "text": "MetaKernel Magics",
     "url": "https://metakernel.readthedocs.io/en/latest/source/README.html"
    }
   ],
   "mimetype": "text/x-octave",
   "name": "octave",
   "version": "4.2.2"
  }
 },
 "nbformat": 4,
 "nbformat_minor": 2
}
