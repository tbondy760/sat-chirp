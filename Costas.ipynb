{
 "cells": [
  {
   "cell_type": "markdown",
   "metadata": {},
   "source": [
    "# Costas Signal Processing\n",
    "## By Terry Bondy, VA3TYB"
   ]
  },
  {
   "cell_type": "code",
   "execution_count": 1,
   "metadata": {},
   "outputs": [
    {
     "name": "stdout",
     "output_type": "stream",
     "text": [
      "Last updated: Saturday  1 February 2020"
     ]
    }
   ],
   "source": [
    "printf(strftime (\"Last updated: %A %e %B %Y\", localtime (time ())))"
   ]
  },
  {
   "cell_type": "markdown",
   "metadata": {},
   "source": [
    "1. Want to be able to process signals across a BW just a bit bigger than 100 kHz.\n",
    "1. Want to be able to send 8 X 8 Costas signal using a radio with a BW 200 Hz - 2600 Hz."
   ]
  },
  {
   "cell_type": "markdown",
   "metadata": {},
   "source": [
    "frLow = 200\n",
    "frHigh = 2600\n",
    "bwRadio = frHigh - frLow\n",
    "costasN = 8\n",
    "deltaFcostas = bwRadio/costasN"
   ]
  },
  {
   "cell_type": "markdown",
   "metadata": {},
   "source": [
    "To meet the Nyquist criteria, sampling rate > 2 * BWchannel. BWchannel is:"
   ]
  },
  {
   "cell_type": "code",
   "execution_count": 6,
   "metadata": {},
   "outputs": [
    {
     "name": "stdout",
     "output_type": "stream",
     "text": [
      "BWchannel =  100000\n"
     ]
    }
   ],
   "source": [
    "BWchannel = 100000"
   ]
  },
  {
   "cell_type": "markdown",
   "metadata": {},
   "source": [
    "...and twice that is:"
   ]
  },
  {
   "cell_type": "code",
   "execution_count": 7,
   "metadata": {},
   "outputs": [
    {
     "name": "stdout",
     "output_type": "stream",
     "text": [
      "ans =  200000\n"
     ]
    }
   ],
   "source": [
    "BWchannel * 2"
   ]
  },
  {
   "cell_type": "markdown",
   "metadata": {},
   "source": [
    "For the Costas signal, one subpulse period is 1/deltaFcostas"
   ]
  },
  {
   "cell_type": "code",
   "execution_count": 8,
   "metadata": {},
   "outputs": [
    {
     "name": "stdout",
     "output_type": "stream",
     "text": [
      "ans =  0.0033333\n"
     ]
    }
   ],
   "source": [
    "1/deltaFcostas"
   ]
  },
  {
   "cell_type": "markdown",
   "metadata": {},
   "source": [
    "For processing, we want the number of samples to be processed in a bit period to be a power of two greater than"
   ]
  },
  {
   "cell_type": "code",
   "execution_count": 9,
   "metadata": {},
   "outputs": [
    {
     "name": "stdout",
     "output_type": "stream",
     "text": [
      "ans =  666.67\n"
     ]
    }
   ],
   "source": [
    "BWchannel * 2/deltaFcostas"
   ]
  },
  {
   "cell_type": "markdown",
   "metadata": {},
   "source": [
    "or"
   ]
  },
  {
   "cell_type": "code",
   "execution_count": 13,
   "metadata": {},
   "outputs": [
    {
     "name": "stdout",
     "output_type": "stream",
     "text": [
      "pulseSamples =  1024\n"
     ]
    }
   ],
   "source": [
    "pulseSamples = pow2(ceil(log2(BWchannel * 2/deltaFcostas)))"
   ]
  },
  {
   "cell_type": "code",
   "execution_count": 14,
   "metadata": {},
   "outputs": [
    {
     "name": "stdout",
     "output_type": "stream",
     "text": [
      "sampleRate =  307200\n"
     ]
    }
   ],
   "source": [
    "sampleRate = pulseSamples * deltaFcostas"
   ]
  },
  {
   "cell_type": "markdown",
   "metadata": {},
   "source": [
    "...which meets the Nyquist criteria nicely with lots of headroom."
   ]
  },
  {
   "cell_type": "markdown",
   "metadata": {},
   "source": [
    "To ensure continous phase between subpulses, the lowest freq. subpulse should be the same as deltaFcostas. So, the Costas signal baseband frequencies are:"
   ]
  },
  {
   "cell_type": "code",
   "execution_count": 15,
   "metadata": {},
   "outputs": [
    {
     "name": "stdout",
     "output_type": "stream",
     "text": [
      "costasFreq =\n",
      "\n",
      "    300    600    900   1200   1500   1800   2100   2400\n",
      "\n"
     ]
    }
   ],
   "source": [
    "costasFreq = deltaFcostas:deltaFcostas:deltaFcostas * costasN"
   ]
  },
  {
   "cell_type": "markdown",
   "metadata": {},
   "source": [
    "Lets simulate trying to determine the offset frequency and offset time that a Costas signal is received. We'll use a reference signal of 0 Hz offset and 0 s time, just so wwe can find out what the processing offsets are."
   ]
  },
  {
   "cell_type": "markdown",
   "metadata": {},
   "source": [
    "First build up the reference signal"
   ]
  },
  {
   "cell_type": "code",
   "execution_count": 23,
   "metadata": {},
   "outputs": [],
   "source": [
    "RefSig = [ 0 ];\n",
    "for costasFreq = deltaFcostas:deltaFcostas:deltaFcostas * costasN\n",
    "  Time = 0:1/sampleRate:1/deltaFcostas;\n",
    "  SubPulse = i * exp(i*2*pi*costasFreq*Time);\n",
    "  # Add all but the first\n",
    "  RefSig = [RefSig SubPulse(2:end)];\n",
    "endfor"
   ]
  },
  {
   "cell_type": "code",
   "execution_count": 36,
   "metadata": {},
   "outputs": [
    {
     "data": {
      "image/png": "[encoded data removed]",
      "text/plain": [
       "<IPython.core.display.Image object>"
      ]
     },
     "metadata": {},
     "output_type": "display_data"
    }
   ],
   "source": [
    "plot(0:1/sampleRate:costasN/deltaFcostas, RefSig)"
   ]
  },
  {
   "cell_type": "code",
   "execution_count": 31,
   "metadata": {},
   "outputs": [
    {
     "data": {
      "image/png": "[encoded data removed]",
      "text/plain": [
       "<IPython.core.display.Image object>"
      ]
     },
     "metadata": {},
     "output_type": "display_data"
    }
   ],
   "source": [
    "Freq = linspace(0, sampleRate, columns(SubPulse));\n",
    "plot(Freq, abs(fft(SubPulse)))\n",
    "grid on\n",
    "grid minor\n",
    "axis([0 10000])"
   ]
  },
  {
   "cell_type": "code",
   "execution_count": null,
   "metadata": {},
   "outputs": [],
   "source": []
  }
 ],
 "metadata": {
  "kernelspec": {
   "display_name": "Octave",
   "language": "octave",
   "name": "octave"
  },
  "language_info": {
   "file_extension": ".m",
   "help_links": [
    {
     "text": "GNU Octave",
     "url": "https://www.gnu.org/software/octave/support.html"
    },
    {
     "text": "Octave Kernel",
     "url": "https://github.com/Calysto/octave_kernel"
    },
    {
     "text": "MetaKernel Magics",
     "url": "https://metakernel.readthedocs.io/en/latest/source/README.html"
    }
   ],
   "mimetype": "text/x-octave",
   "name": "octave",
   "version": "4.2.2"
  }
 },
 "nbformat": 4,
 "nbformat_minor": 2
}
