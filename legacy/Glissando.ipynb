{
 "cells": [
  {
   "cell_type": "markdown",
   "metadata": {},
   "source": [
    "# Make Calibration WAV Files, Continuously Moving From One Frequency to Another\n",
    "## By Terry Bondy, VA3TYB"
   ]
  },
  {
   "cell_type": "code",
   "execution_count": 1,
   "metadata": {},
   "outputs": [
    {
     "name": "stdout",
     "output_type": "stream",
     "text": [
      "Last updated: Sunday  5 January 2020 UTC"
     ]
    }
   ],
   "source": [
    "printf(strftime (\"Last updated: %A %e %B %Y %Z\", localtime (time())))\n",
    "%plot --format svg\n",
    "# format long"
   ]
  },
  {
   "cell_type": "code",
   "execution_count": 2,
   "metadata": {},
   "outputs": [],
   "source": [
    "fcLow = 200;\n",
    "fcHigh = 2600;"
   ]
  },
  {
   "cell_type": "code",
   "execution_count": 3,
   "metadata": {},
   "outputs": [
    {
     "name": "stdout",
     "output_type": "stream",
     "text": [
      "ans =  6667.6\n"
     ]
    }
   ],
   "source": [
    "# If want to have 1 Hz per second at its fastest, then how many seconds?\n",
    "(log(fcHigh)-log(fcLow))/(log(fcHigh)-log(fcHigh-1))"
   ]
  },
  {
   "cell_type": "code",
   "execution_count": 4,
   "metadata": {},
   "outputs": [
    {
     "name": "stdout",
     "output_type": "stream",
     "text": [
      "ans =  1.8521\n"
     ]
    }
   ],
   "source": [
    "# hours?\n",
    "ans/(60*60)"
   ]
  },
  {
   "cell_type": "code",
   "execution_count": 5,
   "metadata": {},
   "outputs": [],
   "source": [
    "# too many hours"
   ]
  },
  {
   "cell_type": "code",
   "execution_count": 6,
   "metadata": {},
   "outputs": [
    {
     "name": "stdout",
     "output_type": "stream",
     "text": [
      "numOctaves =  3.7004\n"
     ]
    }
   ],
   "source": [
    "# How many octaves?\n",
    "numOctaves = log(fcHigh/fcLow)/log(2)"
   ]
  },
  {
   "cell_type": "code",
   "execution_count": 7,
   "metadata": {},
   "outputs": [
    {
     "name": "stdout",
     "output_type": "stream",
     "text": [
      "step =  1\n",
      "freq =  200\n",
      "step =  2\n",
      "freq =  214.36\n",
      "step =  3\n",
      "freq =  229.74\n",
      "step =  4\n",
      "freq =  246.23\n",
      "step =  5\n",
      "freq =  263.91\n",
      "step =  6\n",
      "freq =  282.85\n",
      "step =  7\n",
      "freq =  303.16\n",
      "step =  8\n",
      "freq =  324.92\n",
      "step =  9\n",
      "freq =  348.24\n",
      "step =  10\n",
      "freq =  373.24\n",
      "step =  11\n",
      "freq =  400.03\n",
      "step =  12\n",
      "freq =  428.75\n",
      "step =  13\n",
      "freq =  459.52\n",
      "step =  14\n",
      "freq =  492.51\n",
      "step =  15\n",
      "freq =  527.86\n",
      "step =  16\n",
      "freq =  565.76\n",
      "step =  17\n",
      "freq =  606.37\n",
      "step =  18\n",
      "freq =  649.89\n",
      "step =  19\n",
      "freq =  696.54\n",
      "step =  20\n",
      "freq =  746.54\n",
      "step =  21\n",
      "freq =  800.13\n",
      "step =  22\n",
      "freq =  857.57\n",
      "step =  23\n",
      "freq =  919.13\n",
      "step =  24\n",
      "freq =  985.10\n",
      "step =  25\n",
      "freq =  1055.8\n",
      "step =  26\n",
      "freq =  1131.6\n",
      "step =  27\n",
      "freq =  1212.8\n",
      "step =  28\n",
      "freq =  1299.9\n",
      "step =  29\n",
      "freq =  1393.2\n",
      "step =  30\n",
      "freq =  1493.2\n",
      "step =  31\n",
      "freq =  1600.4\n",
      "step =  32\n",
      "freq =  1715.3\n",
      "step =  33\n",
      "freq =  1838.4\n",
      "step =  34\n",
      "freq =  1970.4\n",
      "step =  35\n",
      "freq =  2111.8\n",
      "step =  36\n",
      "freq =  2263.4\n",
      "step =  37\n",
      "freq =  2425.9\n",
      "step =  38\n",
      "freq =  2600.0\n"
     ]
    }
   ],
   "source": [
    "steps = 37; # From ~3.7 octaves, with 10 steps per octave\n",
    "mult = exp(log(fcHigh/fcLow)/steps);\n",
    "freq = fcLow;\n",
    "for step = 1:steps+1\n",
    "  step, freq\n",
    "  freq *= mult;\n",
    "endfor"
   ]
  },
  {
   "cell_type": "code",
   "execution_count": 8,
   "metadata": {},
   "outputs": [
    {
     "name": "stdout",
     "output_type": "stream",
     "text": [
      "ans =  152\n"
     ]
    }
   ],
   "source": [
    "# How many seconds if take 38 steps, 4 sec per?\n",
    "(steps+1)*4"
   ]
  },
  {
   "cell_type": "code",
   "execution_count": 9,
   "metadata": {},
   "outputs": [],
   "source": [
    "# Or approx 2.5 minutes"
   ]
  },
  {
   "cell_type": "code",
   "execution_count": 44,
   "metadata": {},
   "outputs": [
    {
     "name": "stdout",
     "output_type": "stream",
     "text": [
      "stepsPerOctave =  20\n",
      "steps =  74\n",
      "step =  1\n",
      "ans =  200\n",
      "step =  2\n",
      "ans =  207\n",
      "step =  3\n",
      "ans =  214\n",
      "step =  4\n",
      "ans =  222\n",
      "step =  5\n",
      "ans =  230\n",
      "step =  6\n",
      "ans =  238\n",
      "step =  7\n",
      "ans =  246\n",
      "step =  8\n",
      "ans =  255\n",
      "step =  9\n",
      "ans =  264\n",
      "step =  10\n",
      "ans =  273\n",
      "step =  11\n",
      "ans =  283\n",
      "step =  12\n",
      "ans =  293\n",
      "step =  13\n",
      "ans =  303\n",
      "step =  14\n",
      "ans =  314\n",
      "step =  15\n",
      "ans =  325\n",
      "step =  16\n",
      "ans =  336\n",
      "step =  17\n",
      "ans =  348\n",
      "step =  18\n",
      "ans =  361\n",
      "step =  19\n",
      "ans =  373\n",
      "step =  20\n",
      "ans =  386\n",
      "step =  21\n",
      "ans =  400\n",
      "step =  22\n",
      "ans =  414\n",
      "step =  23\n",
      "ans =  429\n",
      "step =  24\n",
      "ans =  444\n",
      "step =  25\n",
      "ans =  460\n",
      "step =  26\n",
      "ans =  476\n",
      "step =  27\n",
      "ans =  493\n",
      "step =  28\n",
      "ans =  510\n",
      "step =  29\n",
      "ans =  528\n",
      "step =  30\n",
      "ans =  546\n",
      "step =  31\n",
      "ans =  566\n",
      "step =  32\n",
      "ans =  586\n",
      "step =  33\n",
      "ans =  606\n",
      "step =  34\n",
      "ans =  628\n",
      "step =  35\n",
      "ans =  650\n",
      "step =  36\n",
      "ans =  673\n",
      "step =  37\n",
      "ans =  697\n",
      "step =  38\n",
      "ans =  721\n",
      "step =  39\n",
      "ans =  747\n",
      "step =  40\n",
      "ans =  773\n",
      "step =  41\n",
      "ans =  800\n",
      "step =  42\n",
      "ans =  828\n",
      "step =  43\n",
      "ans =  858\n",
      "step =  44\n",
      "ans =  888\n",
      "step =  45\n",
      "ans =  919\n",
      "step =  46\n",
      "ans =  952\n",
      "step =  47\n",
      "ans =  985\n",
      "step =  48\n",
      "ans =  1020\n",
      "step =  49\n",
      "ans =  1056\n",
      "step =  50\n",
      "ans =  1093\n",
      "step =  51\n",
      "ans =  1132\n",
      "step =  52\n",
      "ans =  1172\n",
      "step =  53\n",
      "ans =  1213\n",
      "step =  54\n",
      "ans =  1256\n",
      "step =  55\n",
      "ans =  1300\n",
      "step =  56\n",
      "ans =  1346\n",
      "step =  57\n",
      "ans =  1393\n",
      "step =  58\n",
      "ans =  1442\n",
      "step =  59\n",
      "ans =  1493\n",
      "step =  60\n",
      "ans =  1546\n",
      "step =  61\n",
      "ans =  1600\n",
      "step =  62\n",
      "ans =  1657\n",
      "step =  63\n",
      "ans =  1715\n",
      "step =  64\n",
      "ans =  1776\n",
      "step =  65\n",
      "ans =  1838\n",
      "step =  66\n",
      "ans =  1903\n",
      "step =  67\n",
      "ans =  1970\n",
      "step =  68\n",
      "ans =  2040\n",
      "step =  69\n",
      "ans =  2112\n",
      "step =  70\n",
      "ans =  2186\n",
      "step =  71\n",
      "ans =  2263\n",
      "step =  72\n",
      "ans =  2343\n",
      "step =  73\n",
      "ans =  2426\n",
      "step =  74\n",
      "ans =  2511\n",
      "step =  75\n",
      "ans =  2600\n"
     ]
    }
   ],
   "source": [
    "# Make twice as many steps\n",
    "stepsPerOctave = 20\n",
    "steps = floor(numOctaves*stepsPerOctave)\n",
    "mult = exp(log(fcHigh/fcLow)/steps);\n",
    "freq = fcLow;\n",
    "for step = 1:steps+1\n",
    "  step, round(freq)\n",
    "  freq *= mult;\n",
    "endfor"
   ]
  },
  {
   "cell_type": "code",
   "execution_count": 11,
   "metadata": {},
   "outputs": [
    {
     "name": "stdout",
     "output_type": "stream",
     "text": [
      "ans =  300\n"
     ]
    }
   ],
   "source": [
    "# How many seconds if take steps, 4 sec per?\n",
    "(steps+1)*4"
   ]
  },
  {
   "cell_type": "code",
   "execution_count": 12,
   "metadata": {},
   "outputs": [],
   "source": [
    "# Or 5 minutes"
   ]
  },
  {
   "cell_type": "code",
   "execution_count": 13,
   "metadata": {},
   "outputs": [],
   "source": [
    "sampleRate = 16000;\n",
    "dwellPeriod = 3;\n",
    "transPeriod = 1;"
   ]
  },
  {
   "cell_type": "code",
   "execution_count": 14,
   "metadata": {},
   "outputs": [],
   "source": [
    "Ttrans = 0:1/sampleRate:transPeriod;\n",
    "TransRC = 1 + (mult-1)*(1 - cos(2*pi*Ttrans/(transPeriod*2)))/2;"
   ]
  },
  {
   "cell_type": "code",
   "execution_count": 15,
   "metadata": {},
   "outputs": [
    {
     "data": {
      "image/png": "[encoded data removed]",
      "text/plain": [
       "<IPython.core.display.Image object>"
      ]
     },
     "metadata": {},
     "output_type": "display_data"
    }
   ],
   "source": [
    "plot(Ttrans, TransRC)"
   ]
  },
  {
   "cell_type": "code",
   "execution_count": 45,
   "metadata": {},
   "outputs": [
    {
     "name": "stdout",
     "output_type": "stream",
     "text": [
      "ans =  2600\n"
     ]
    }
   ],
   "source": [
    "freq = fcLow;\n",
    "Freq = round(freq) .* ones(1, sampleRate*dwellPeriod+1);\n",
    "mult = exp(log(fcHigh/fcLow)/steps);\n",
    "for step = 1:steps\n",
    "  freq *= mult;\n",
    "  Freq = [Freq(1:end-1), round(freq) .* ones(1, sampleRate*dwellPeriod+1)];\n",
    "endfor\n",
    "Freq(end)"
   ]
  },
  {
   "cell_type": "code",
   "execution_count": 46,
   "metadata": {},
   "outputs": [
    {
     "name": "stdout",
     "output_type": "stream",
     "text": [
      "ans =\n",
      "\n",
      "         1   3600001\n",
      "\n",
      "ans =\n",
      "\n",
      "         1   3600001\n",
      "\n"
     ]
    }
   ],
   "source": [
    "size(Freq)\n",
    "T = 0:1/sampleRate:(columns(Freq)-1)/sampleRate;\n",
    "size(T)"
   ]
  },
  {
   "cell_type": "code",
   "execution_count": 47,
   "metadata": {},
   "outputs": [
    {
     "data": {
      "image/png": "[encoded data removed]",
      "text/plain": [
       "<IPython.core.display.Image object>"
      ]
     },
     "metadata": {},
     "output_type": "display_data"
    }
   ],
   "source": [
    "semilogy(T, Freq)"
   ]
  },
  {
   "cell_type": "code",
   "execution_count": 48,
   "metadata": {},
   "outputs": [],
   "source": [
    "introOutroPeriod = 5;"
   ]
  },
  {
   "cell_type": "code",
   "execution_count": 49,
   "metadata": {},
   "outputs": [],
   "source": [
    "# Extend Freq by introOutroPeriod\n",
    "Freq = [Freq(1) .* ones(1, sampleRate*introOutroPeriod), Freq, Freq(end) .* ones(1, sampleRate*introOutroPeriod)];\n",
    "# And extend T \n",
    "T = 0:1/sampleRate:(columns(Freq)-1)/sampleRate;"
   ]
  },
  {
   "cell_type": "code",
   "execution_count": 50,
   "metadata": {},
   "outputs": [],
   "source": [
    "PilotFreq = 721;\n",
    "Pilot = cos(2*pi*PilotFreq * T);"
   ]
  },
  {
   "cell_type": "code",
   "execution_count": 51,
   "metadata": {},
   "outputs": [],
   "source": [
    "Sig = cos(2*pi*Freq .* T);"
   ]
  },
  {
   "cell_type": "code",
   "execution_count": 52,
   "metadata": {},
   "outputs": [
    {
     "data": {
      "image/png": "[encoded data removed]",
      "text/plain": [
       "<IPython.core.display.Image object>"
      ]
     },
     "metadata": {},
     "output_type": "display_data"
    }
   ],
   "source": [
    "plot(T,Sig)\n",
    "grid on\n",
    "grid minor\n",
    "axis([0 1/200], \"tic\")"
   ]
  },
  {
   "cell_type": "code",
   "execution_count": 53,
   "metadata": {},
   "outputs": [
    {
     "data": {
      "image/png": "[encoded data removed]",
      "text/plain": [
       "<IPython.core.display.Image object>"
      ]
     },
     "metadata": {},
     "output_type": "display_data"
    }
   ],
   "source": [
    "Tintro = 0:1/sampleRate:introOutroPeriod;\n",
    "RCintro = (1 - cos(2*pi*Tintro/(introOutroPeriod*2)))/2;\n",
    "plot(Tintro, RCintro)"
   ]
  },
  {
   "cell_type": "code",
   "execution_count": 54,
   "metadata": {},
   "outputs": [
    {
     "name": "stdout",
     "output_type": "stream",
     "text": [
      "period =  235\n"
     ]
    }
   ],
   "source": [
    "period = (columns(T)-1)/sampleRate"
   ]
  },
  {
   "cell_type": "code",
   "execution_count": 55,
   "metadata": {},
   "outputs": [
    {
     "data": {
      "image/png": "[encoded data removed]",
      "text/plain": [
       "<IPython.core.display.Image object>"
      ]
     },
     "metadata": {},
     "output_type": "display_data"
    }
   ],
   "source": [
    "Toutro = (period-introOutroPeriod):1/sampleRate:period;\n",
    "RCoutro = flip(RCintro);\n",
    "plot(Toutro, RCoutro)"
   ]
  },
  {
   "cell_type": "code",
   "execution_count": 56,
   "metadata": {},
   "outputs": [],
   "source": [
    "Envelope = [RCintro(1:end-1), ones(1, (period-2*introOutroPeriod)*sampleRate), RCoutro(1:end)];\n",
    "SigTot = (Pilot .+ Sig) .* Envelope;\n",
    "# SigTot = (Sig) .* Envelope;"
   ]
  },
  {
   "cell_type": "code",
   "execution_count": 57,
   "metadata": {},
   "outputs": [
    {
     "data": {
      "image/png": "[encoded data removed]",
      "text/plain": [
       "<IPython.core.display.Image object>"
      ]
     },
     "metadata": {},
     "output_type": "display_data"
    }
   ],
   "source": [
    "plot(T, SigTot)\n",
    "axis([0 10])"
   ]
  },
  {
   "cell_type": "code",
   "execution_count": 58,
   "metadata": {},
   "outputs": [
    {
     "data": {
      "image/png": "[encoded data removed]",
      "text/plain": [
       "<IPython.core.display.Image object>"
      ]
     },
     "metadata": {},
     "output_type": "display_data"
    }
   ],
   "source": [
    "plot(T, SigTot)\n",
    "axis([period-10 period])"
   ]
  },
  {
   "cell_type": "code",
   "execution_count": 59,
   "metadata": {},
   "outputs": [
    {
     "name": "stdout",
     "output_type": "stream",
     "text": [
      "calibrateFilename = calibrateGlissandoTest.wav\n"
     ]
    }
   ],
   "source": [
    "calibrateFilename = \"calibrateGlissandoTest.wav\""
   ]
  },
  {
   "cell_type": "code",
   "execution_count": 60,
   "metadata": {},
   "outputs": [],
   "source": [
    "audiowrite(calibrateFilename, SigTot ./ max(abs(SigTot)), sampleRate, \n",
    "\"Title\", \"Rising Tone + Pilot Tone Calibration file for Yaesu radioes.\",\n",
    "\"Artist\", \"Terry Bondy, VA3TYB\")"
   ]
  },
  {
   "cell_type": "code",
   "execution_count": 61,
   "metadata": {},
   "outputs": [
    {
     "name": "stdout",
     "output_type": "stream",
     "text": [
      "ans =\n",
      "\n",
      "  scalar structure containing the fields:\n",
      "\n",
      "    Filename = calibrateGlissandoTest.wav\n",
      "    CompressionMethod = \n",
      "    NumChannels =  1\n",
      "    SampleRate =  16000\n",
      "    TotalSamples =  3760001\n",
      "    Duration =  235.00\n",
      "    BitsPerSample =  16\n",
      "    BitRate = -1\n",
      "    Title = Rising Tone + Pilot Tone Calibration file for Yaesu radioes.\n",
      "    Artist = Terry Bondy, VA3TYB\n",
      "    Comment = \n",
      "\n"
     ]
    }
   ],
   "source": [
    "audioinfo(calibrateFilename)"
   ]
  },
  {
   "cell_type": "code",
   "execution_count": 62,
   "metadata": {},
   "outputs": [
    {
     "name": "stdout",
     "output_type": "stream",
     "text": [
      "ans =\n",
      "\n",
      "   3760001         1\n",
      "\n",
      "fs =  16000\n"
     ]
    }
   ],
   "source": [
    "[y, fs] = audioread(calibrateFilename);\n",
    "size(y)\n",
    "fs"
   ]
  },
  {
   "cell_type": "code",
   "execution_count": 63,
   "metadata": {},
   "outputs": [
    {
     "data": {
      "image/png": "[encoded data removed]",
      "text/plain": [
       "<IPython.core.display.Image object>"
      ]
     },
     "metadata": {},
     "output_type": "display_data"
    }
   ],
   "source": [
    "plot(y)"
   ]
  },
  {
   "cell_type": "code",
   "execution_count": null,
   "metadata": {},
   "outputs": [],
   "source": []
  }
 ],
 "metadata": {
  "kernelspec": {
   "display_name": "Octave",
   "language": "octave",
   "name": "octave"
  },
  "language_info": {
   "file_extension": ".m",
   "help_links": [
    {
     "text": "GNU Octave",
     "url": "https://www.gnu.org/software/octave/support.html"
    },
    {
     "text": "Octave Kernel",
     "url": "https://github.com/Calysto/octave_kernel"
    },
    {
     "text": "MetaKernel Magics",
     "url": "https://metakernel.readthedocs.io/en/latest/source/README.html"
    }
   ],
   "mimetype": "text/x-octave",
   "name": "octave",
   "version": "4.2.2"
  }
 },
 "nbformat": 4,
 "nbformat_minor": 2
}
