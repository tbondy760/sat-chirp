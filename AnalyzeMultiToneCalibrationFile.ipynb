{
 "cells": [
  {
   "cell_type": "markdown",
   "metadata": {},
   "source": [
    "# Analyze Received Long Multi Tone Calibration WAV File\n",
    "## By Terry Bondy, VA3TYB"
   ]
  },
  {
   "cell_type": "code",
   "execution_count": 1,
   "metadata": {},
   "outputs": [
    {
     "name": "stdout",
     "output_type": "stream",
     "text": [
      "Last updated: Monday 13 January 2020 UTC"
     ]
    }
   ],
   "source": [
    "printf(strftime (\"Last updated: %A %e %B %Y %Z\", localtime (time())))\n",
    "%plot --format svg\n",
    "format free\n",
    "pkg load signal"
   ]
  },
  {
   "cell_type": "code",
   "execution_count": 2,
   "metadata": {},
   "outputs": [
    {
     "name": "stdout",
     "output_type": "stream",
     "text": [
      "inputFilename = /mnt/lexar/SDRuno_20200107_005334Z_445900kHz_trimmed.wav\n"
     ]
    }
   ],
   "source": [
    "inputFilename = \"/mnt/lexar/SDRuno_20200107_005334Z_445900kHz_trimmed.wav\""
   ]
  },
  {
   "cell_type": "code",
   "execution_count": 3,
   "metadata": {},
   "outputs": [
    {
     "name": "stdout",
     "output_type": "stream",
     "text": [
      "ans =\n",
      "\n",
      "  scalar structure containing the fields:\n",
      "\n",
      "    Filename = /mnt/lexar/SDRuno_20200107_005334Z_445900kHz_trimmed.wav\n",
      "    CompressionMethod = \n",
      "    NumChannels = 2\n",
      "    SampleRate = 62500\n",
      "    TotalSamples = 1.40625e+07\n",
      "    Duration = 225\n",
      "    BitsPerSample = -1\n",
      "    BitRate = -1\n",
      "    Title = \n",
      "    Artist = \n",
      "    Comment = \n",
      "\n"
     ]
    }
   ],
   "source": [
    "audioinfo(inputFilename)"
   ]
  },
  {
   "cell_type": "code",
   "execution_count": 4,
   "metadata": {},
   "outputs": [
    {
     "name": "stdout",
     "output_type": "stream",
     "text": [
      "ans =\n",
      "\n",
      " 1.40625e+07 2\n",
      "\n",
      "\n",
      "sampleRate = 62500\n"
     ]
    }
   ],
   "source": [
    "[SamplesIQRV, sampleRate] = audioread(inputFilename);\n",
    "size(SamplesIQRV)\n",
    "sampleRate"
   ]
  },
  {
   "cell_type": "code",
   "execution_count": 5,
   "metadata": {},
   "outputs": [
    {
     "name": "stdout",
     "output_type": "stream",
     "text": [
      "ans =\n",
      "\n",
      " 1.40625e+07 1\n",
      "\n",
      "\n"
     ]
    }
   ],
   "source": [
    "SamplesRV=SamplesIQRV(:,1)+i*SamplesIQRV(:,2);\n",
    "size(SamplesRV)"
   ]
  },
  {
   "cell_type": "code",
   "execution_count": 6,
   "metadata": {},
   "outputs": [],
   "source": [
    "# plot(abs(SamplesRV));"
   ]
  },
  {
   "cell_type": "code",
   "execution_count": 7,
   "metadata": {},
   "outputs": [],
   "source": [
    "numPeriods = rows(SamplesRV)/sampleRate;\n",
    "period = numPeriods;\n",
    "TshortRV = [0:1/sampleRate:1](:);\n",
    "TfullRV = [0:1/sampleRate:period](:);"
   ]
  },
  {
   "cell_type": "code",
   "execution_count": 8,
   "metadata": {},
   "outputs": [
    {
     "name": "stdout",
     "output_type": "stream",
     "text": [
      "ans =\n",
      "\n",
      " 62501 1\n",
      "\n",
      "\n"
     ]
    }
   ],
   "source": [
    "RaisedCosineRV = (1 - cos(2*pi*TshortRV))/2;\n",
    "size(RaisedCosineRV)"
   ]
  },
  {
   "cell_type": "code",
   "execution_count": 9,
   "metadata": {},
   "outputs": [
    {
     "name": "stdout",
     "output_type": "stream",
     "text": [
      "ans =\n",
      "\n",
      " 62501 1\n",
      "\n",
      "\n"
     ]
    }
   ],
   "source": [
    "SigSec0RV = SamplesRV(1:rows(RaisedCosineRV)) .* RaisedCosineRV;\n",
    "size(SigSec0RV)"
   ]
  },
  {
   "cell_type": "code",
   "execution_count": 10,
   "metadata": {},
   "outputs": [],
   "source": [
    "# plot(abs(SigSec0RV));"
   ]
  },
  {
   "cell_type": "code",
   "execution_count": 11,
   "metadata": {},
   "outputs": [],
   "source": [
    "FftSec0RV = abs(fftshift(fft(SigSec0RV, sampleRate*10 + 1)));\n",
    "FreqSec0RV = [linspace(-sampleRate/2, sampleRate/2, rows(FftSec0RV))](:);"
   ]
  },
  {
   "cell_type": "code",
   "execution_count": 12,
   "metadata": {},
   "outputs": [],
   "source": [
    "% plot(FreqSec0RV, FftSec0RV)\n",
    "% grid on\n",
    "% grid minor\n",
    "% axis([100 800], \"tic\")"
   ]
  },
  {
   "cell_type": "code",
   "execution_count": 13,
   "metadata": {},
   "outputs": [],
   "source": [
    "% plot(FreqSec0RV, FftSec0RV)\n",
    "% grid on\n",
    "% grid minor\n",
    "% idx = find(FftSec0RV(:) == max(FftSec0RV))\n",
    "% FftSec0RV(idx)\n",
    "% FreqSec0RV(idx)\n",
    "% axis([ans-4 ans+4], \"tic\")"
   ]
  },
  {
   "cell_type": "code",
   "execution_count": 14,
   "metadata": {},
   "outputs": [],
   "source": [
    "% plot(FreqSec0RV, FftSec0RV)\n",
    "% grid on\n",
    "% grid minor\n",
    "% axis([235-4 235+4], \"tic\")"
   ]
  },
  {
   "cell_type": "code",
   "execution_count": 15,
   "metadata": {},
   "outputs": [
    {
     "name": "stdout",
     "output_type": "stream",
     "text": [
      "ans = 314801\n"
     ]
    }
   ],
   "source": [
    "find(FreqSec0RV(:) == 230)"
   ]
  },
  {
   "cell_type": "code",
   "execution_count": 16,
   "metadata": {},
   "outputs": [
    {
     "name": "stdout",
     "output_type": "stream",
     "text": [
      "ans = 314951\n"
     ]
    }
   ],
   "source": [
    "find(FreqSec0RV(:) == 245)"
   ]
  },
  {
   "cell_type": "code",
   "execution_count": 17,
   "metadata": {},
   "outputs": [
    {
     "name": "stdout",
     "output_type": "stream",
     "text": [
      "idx = 314855\n",
      "ans = 141.949\n",
      "ans = 235.4\n"
     ]
    }
   ],
   "source": [
    "idx = find(FftSec0RV(:) == max(FftSec0RV(314801:314951)))\n",
    "FftSec0RV(idx)\n",
    "FreqSec0RV(idx)"
   ]
  },
  {
   "cell_type": "code",
   "execution_count": 18,
   "metadata": {},
   "outputs": [
    {
     "name": "stdout",
     "output_type": "stream",
     "text": [
      "ans = -521\n"
     ]
    }
   ],
   "source": [
    "FreqSec0RV(find(FftSec0RV(:) == max(FftSec0RV(314801:314951)))) - ...\n",
    "FreqSec0RV(find(FftSec0RV(:) == max(FftSec0RV)))"
   ]
  },
  {
   "cell_type": "code",
   "execution_count": 19,
   "metadata": {},
   "outputs": [
    {
     "name": "stdout",
     "output_type": "stream",
     "text": [
      "ans = 200\n"
     ]
    }
   ],
   "source": [
    "721 - 521"
   ]
  },
  {
   "cell_type": "code",
   "execution_count": 28,
   "metadata": {},
   "outputs": [],
   "source": [
    "fracSeconds = 1;\n",
    "indexIncr = (rows(TshortRV)-1)/fracSeconds;\n",
    "pilotFreq = 721;\n",
    "Response = [];\n",
    "# Use a most positive initial reference freq because probe freq starts low and increases\n",
    "refFreq = sampleRate * 2;\n",
    "for startIndex = 1:indexIncr:rows(SamplesRV)-rows(RaisedCosineRV)-1\n",
    "  time = TfullRV(startIndex);\n",
    "  # SigSec0RV = SamplesRV(1:rows(RaisedCosineRV)) .* RaisedCosineRV;\n",
    "  SigLoopRV = SamplesRV(startIndex:startIndex+rows(RaisedCosineRV)-1) .* RaisedCosineRV;\n",
    "  FftLoopRV = fftshift(fft(SigLoopRV, sampleRate*10 + 1));\n",
    "  FftLoopAbsRV = abs(FftLoopRV);\n",
    "  # max(FftLoopAbsRV)\n",
    "  # FftLoopPolCV = cart2pol(real(FftLoopRV), imag(FftLoopRV)); # rows of [theta, r]\n",
    "  # FftLoopPolCV(1,:)\n",
    "  FreqLoopRV = linspace(-sampleRate/2, sampleRate/2, rows(FftLoopRV));\n",
    "  freqMaxPeak = FreqLoopRV(find(FftLoopAbsRV(:) == max(FftLoopAbsRV)));\n",
    "  [PeaksCV idxPeaksCV] = findpeaks(FftLoopAbsRV, \"MinPeakHeight\", 50);\n",
    "  if (rows(idxPeaksCV) == 1)\n",
    "    idxPeaksCV = [idxPeaksCV; idxPeaksCV];\n",
    "  endif\n",
    "  FreqPeaksLoopRV = FreqLoopRV(idxPeaksCV);\n",
    "  # Find the reference frequency based on minimum difference from the last iteration\n",
    "  FreqDiff = abs(FreqPeaksLoopRV .- refFreq);\n",
    "  minFreqDiff = min(FreqDiff);\n",
    "  refFreqIdx = find(FreqDiff(:) == minFreqDiff, 1);\n",
    "  probeFreqIdx = rows(idxPeaksCV) + 1 - refFreqIdx;\n",
    "  # Determine corrected (expected) frequencies\n",
    "  corrFreqLoopRV = FreqPeaksLoopRV .- FreqPeaksLoopRV(refFreqIdx) .+ pilotFreq;\n",
    "  # Get ratio of response\n",
    "  FftLoopRV(idxPeaksCV(probeFreqIdx))/FftLoopRV(idxPeaksCV(refFreqIdx));\n",
    "  [phase, mag] = cart2pol(real(ans), imag(ans)); # rows of [theta, r]\n",
    "  Response = [Response; time, rows(idxPeaksCV), corrFreqLoopRV(probeFreqIdx), phase*180/pi, 20*log10(mag)];\n",
    "  \n",
    "  # Compute the new reference frequency\n",
    "  refFreq = FreqPeaksLoopRV(refFreqIdx);\n",
    "endfor"
   ]
  },
  {
   "cell_type": "code",
   "execution_count": null,
   "metadata": {},
   "outputs": [],
   "source": []
  },
  {
   "cell_type": "code",
   "execution_count": null,
   "metadata": {},
   "outputs": [],
   "source": []
  }
 ],
 "metadata": {
  "kernelspec": {
   "display_name": "Octave",
   "language": "octave",
   "name": "octave"
  },
  "language_info": {
   "file_extension": ".m",
   "help_links": [
    {
     "text": "GNU Octave",
     "url": "https://www.gnu.org/software/octave/support.html"
    },
    {
     "text": "Octave Kernel",
     "url": "https://github.com/Calysto/octave_kernel"
    },
    {
     "text": "MetaKernel Magics",
     "url": "https://metakernel.readthedocs.io/en/latest/source/README.html"
    }
   ],
   "mimetype": "text/x-octave",
   "name": "octave",
   "version": "4.2.2"
  }
 },
 "nbformat": 4,
 "nbformat_minor": 2
}
