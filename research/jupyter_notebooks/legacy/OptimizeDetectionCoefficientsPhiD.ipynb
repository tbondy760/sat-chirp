{
 "cells": [
  {
   "cell_type": "markdown",
   "metadata": {},
   "source": [
    "# Morse Coefficient Optimization\n",
    "## By Terry Bondy, VA3TYB"
   ]
  },
  {
   "cell_type": "code",
   "execution_count": 1,
   "metadata": {},
   "outputs": [
    {
     "name": "stdout",
     "output_type": "stream",
     "text": [
      "Last updated: Tuesday 10 December 2019"
     ]
    }
   ],
   "source": [
    "printf(strftime (\"Last updated: %A %e %B %Y\", localtime (time ())))"
   ]
  },
  {
   "cell_type": "markdown",
   "metadata": {},
   "source": [
    "The notebook concerns itself with optimizing the detection coefficients $\\phi_d(i)$ from `MorseCoefficients` notebook where $\\phi_d(i)$ is is the $i^{th}$ detection optimizing phase value for the message.\n",
    "\n",
    "Turns out if $M$ is the number of bits, then only have to optimize $\\frac{M}{2}$ values, because for maximal detection, $\\phi_d(i) = -\\phi_d(M + 1 - i)$\n"
   ]
  },
  {
   "cell_type": "markdown",
   "metadata": {},
   "source": [
    "The following function computes a column vector representing the sound/silence coefficients $a_s(i)$ for the message to be sent."
   ]
  },
  {
   "cell_type": "code",
   "execution_count": null,
   "metadata": {},
   "outputs": [],
   "source": [
    "function A_s = makeMorseSoundSilence(message)\n",
    "    baseCoeff = alphaToMorse(message)';\n",
    "    A_s = vertcat(baseCoeff, [ 0; 0; 0; 0; 0; 0; 0; ], flip(baseCoeff));\n",
    "    sz = rows(A_s);\n",
    "    # See if needs padding\n",
    "    if (sz < 551)\n",
    "        half = (551 - sz)/2;\n",
    "        A_s = vertcat(zeros(half,1), baseCoeff, [ 0; 0; 0; 0; 0; 0; 0; ], flip(baseCoeff), zeros(half,1));\n",
    "    endif        \n",
    "endfunction"
   ]
  },
  {
   "cell_type": "markdown",
   "metadata": {},
   "source": [
    "Try it out"
   ]
  },
  {
   "cell_type": "code",
   "execution_count": null,
   "metadata": {},
   "outputs": [],
   "source": [
    "A_s = makeMorseSoundSilence(\"QRG DE VA3TYB VA3TYB?\");\n",
    "rows(A_s)"
   ]
  },
  {
   "cell_type": "markdown",
   "metadata": {},
   "source": [
    "Determine the number of \"on\" bits."
   ]
  },
  {
   "cell_type": "code",
   "execution_count": null,
   "metadata": {},
   "outputs": [],
   "source": [
    "A_s' * A_s"
   ]
  },
  {
   "cell_type": "markdown",
   "metadata": {},
   "source": [
    "The following is the cost function used to optimize $\\phi_d(i)$."
   ]
  },
  {
   "cell_type": "code",
   "execution_count": null,
   "metadata": {},
   "outputs": [],
   "source": [
    "# Phi_d is a column vector, 0 <= phi <= pi, length m\n",
    "# A_s is a column vector, 0 or 1s, length 2m + 1\n",
    "function cost = costAny(Phi_d, A_s)\n",
    "  # Make a test vector where the back half is a mirror and congugate of the front half for maximal detection\n",
    "  # Centre value is 1, because it is the unit vector that is a congugate of itself\n",
    "  test = A_s .* [ exp(j .* Phi_d); 1; exp(-j .* flip(Phi_d)) ];\n",
    "  cost = max(abs(conv(test,flip(test))))/(A_s' * A_s);\n",
    "endfunction"
   ]
  },
  {
   "cell_type": "markdown",
   "metadata": {},
   "source": [
    "Try it out. Should get an answer between 0.15 and 0.5 but usually between 0.25 and 0.4."
   ]
  },
  {
   "cell_type": "code",
   "execution_count": null,
   "metadata": {},
   "outputs": [],
   "source": [
    "costAny(pi .* rand(floor(rows(A_s)/2), 1), A_s)"
   ]
  },
  {
   "cell_type": "markdown",
   "metadata": {},
   "source": [
    "Ensure that you run `Nonlin_min_Install` notebook to install this package."
   ]
  },
  {
   "cell_type": "code",
   "execution_count": null,
   "metadata": {},
   "outputs": [],
   "source": [
    "pkg load optim"
   ]
  },
  {
   "cell_type": "markdown",
   "metadata": {},
   "source": [
    "Finally a function that will provide $a_s(i)$ and $\\phi_d(i)$ for a given message."
   ]
  },
  {
   "cell_type": "code",
   "execution_count": null,
   "metadata": {},
   "outputs": [],
   "source": [
    "function [A_s, Phi_d, objf, cvg] = optimize(message)\n",
    "  A_s = makeMorseSoundSilence(message);\n",
    "  m = floor(rows(A_s)/2);\n",
    "  A_s_half = A_s(1:m);\n",
    "  init_p = pi .* rand(m, 1) .* A_s_half;\n",
    "  # Not varying all the parameters\n",
    "  fixed = not(logical(A_s_half));\n",
    "  lbound = zeros(m, 1);\n",
    "  ubound = pi .* ones(m, 1);\n",
    "  [Phi_d, objf, cvg] = nonlin_min (@ (Phi_trial) costAny(Phi_trial, A_s), init_p, optimset (\"Algorithm\", \"samin\", \n",
    "    \"fixed\", fixed,\n",
    "    \"lbound\", lbound,\n",
    "    \"ubound\", ubound,\n",
    "    \"Display\", \"iter\"\n",
    "  ));\n",
    "endfunction"
   ]
  },
  {
   "cell_type": "markdown",
   "metadata": {},
   "source": [
    "Try it out."
   ]
  },
  {
   "cell_type": "code",
   "execution_count": null,
   "metadata": {},
   "outputs": [],
   "source": [
    "[VA3ASE_A_s, VA3ASE_Phi_d, objf, cvg] = optimize(\"QRG DE VA3ASE VA3ASE?\");\n",
    "cvg\n",
    "objf\n"
   ]
  },
  {
   "cell_type": "code",
   "execution_count": null,
   "metadata": {},
   "outputs": [],
   "source": [
    "[VE3YRA_A_s, VE3YRA_Phi_d, objf, cvg] = optimize(\"QRG DE VE3YRA VE3YRA?\");\n",
    "cvg\n",
    "objf"
   ]
  },
  {
   "cell_type": "code",
   "execution_count": null,
   "metadata": {},
   "outputs": [],
   "source": [
    "[VA3TYB_A_s, VA3TYB_Phi_d, objf, cvg] = optimize(\"QRG DE VA3TYB VA3TYB?\");\n",
    "cvg\n",
    "objf"
   ]
  },
  {
   "cell_type": "code",
   "execution_count": null,
   "metadata": {},
   "outputs": [],
   "source": [
    "format long"
   ]
  },
  {
   "cell_type": "code",
   "execution_count": null,
   "metadata": {},
   "outputs": [],
   "source": [
    "save \"VA3ASE_A_s.mat\" VA3ASE_A_s"
   ]
  },
  {
   "cell_type": "code",
   "execution_count": null,
   "metadata": {},
   "outputs": [],
   "source": [
    "save \"VA3ASE_Phi_d.mat\" VA3ASE_Phi_d"
   ]
  },
  {
   "cell_type": "code",
   "execution_count": null,
   "metadata": {},
   "outputs": [],
   "source": [
    "save \"VE3YRA_A_s.mat\" VE3YRA_A_s"
   ]
  },
  {
   "cell_type": "code",
   "execution_count": null,
   "metadata": {},
   "outputs": [],
   "source": [
    "save \"VE3YRA_Phi_d.mat\" VE3YRA_Phi_d"
   ]
  },
  {
   "cell_type": "code",
   "execution_count": null,
   "metadata": {},
   "outputs": [],
   "source": [
    "save \"VA3TYB_A_s.mat\" VE3YRA_A_s"
   ]
  },
  {
   "cell_type": "code",
   "execution_count": null,
   "metadata": {},
   "outputs": [],
   "source": [
    "save \"VA3TYB_Phi_d.mat\" VA3TYB_Phi_d"
   ]
  },
  {
   "cell_type": "code",
   "execution_count": null,
   "metadata": {},
   "outputs": [],
   "source": []
  }
 ],
 "metadata": {
  "kernelspec": {
   "display_name": "Octave",
   "language": "octave",
   "name": "octave"
  },
  "language_info": {
   "file_extension": ".m",
   "help_links": [
    {
     "text": "GNU Octave",
     "url": "https://www.gnu.org/software/octave/support.html"
    },
    {
     "text": "Octave Kernel",
     "url": "https://github.com/Calysto/octave_kernel"
    },
    {
     "text": "MetaKernel Magics",
     "url": "https://metakernel.readthedocs.io/en/latest/source/README.html"
    }
   ],
   "mimetype": "text/x-octave",
   "name": "octave",
   "version": "4.2.2"
  }
 },
 "nbformat": 4,
 "nbformat_minor": 2
}
