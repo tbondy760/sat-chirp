{
 "cells": [
  {
   "cell_type": "markdown",
   "metadata": {},
   "source": [
    "# Sat Chirp Backgrounder\n",
    "By Terry Bondy, VA3TYB"
   ]
  },
  {
   "cell_type": "code",
   "execution_count": 1,
   "metadata": {},
   "outputs": [
    {
     "name": "stdout",
     "output_type": "stream",
     "text": [
      "Last updated: Sunday 20 October 2019"
     ]
    }
   ],
   "source": [
    "printf(strftime (\"Last updated: %A %e %B %Y\", localtime (time ())))"
   ]
  },
  {
   "cell_type": "markdown",
   "metadata": {},
   "source": [
    "# Scope\n",
    "What is described here is background for a means of determining the \n",
    "instantaneous translating properties of a linear satellite by sending \n",
    "a single brief 'chirp' in the uplink and listening across the satellite band \n",
    "for the downlink with an SDR and doing some processing. These translation \n",
    "properties include:\n",
    "* The instantaneous tranlation frequency,\n",
    "* Whether the downlink is USB or LSB.\n",
    "\n",
    "# Producing This Document\n",
    "This document is produced using [Octave](https://www.gnu.org/software/octave/), an open source tool very similar to\n",
    "*Matlab*. The lines in the boxes are *Octave* commands to create the \n",
    "mathematical examples that are used. Octave is being run in a [Jupyter](https://jupyterlab.readthedocs.io/en/stable/) notebook which can be access from the internet\n"
   ]
  },
  {
   "cell_type": "markdown",
   "metadata": {},
   "source": [
    "# Strategy for Determining Downlink Frequency of the Uplink Chirp\n",
    "To further describe the strategy for determining the downlink frequency\n",
    "of the uplink chirp, the SDR will receive the complete satellite downlink\n",
    "band and do processing on it. It will look at the _frequency_ representation\n",
    "of the chirp that is decided on and determine its frequency offset.\n",
    "\n",
    "In order to determine the frequency offset, the process will use a \n",
    "[matched filter](https://en.wikipedia.org/wiki/Matched_filter). An example\n",
    "of a matched filter will demonstrate the two properties that will make it \n",
    "useful for this process:\n",
    "* It is easy to determine whether the signal originating the matched filter is present,\n",
    "* It is easy to determine when the signal originating the matched filter has completed."
   ]
  },
  {
   "cell_type": "markdown",
   "metadata": {},
   "source": [
    "For this example a cosine pulse starting at 0 s and ending at 1s"
   ]
  },
  {
   "cell_type": "code",
   "execution_count": null,
   "metadata": {},
   "outputs": [],
   "source": [
    "T = [0: 1/48000: 1];\n",
    "V_of_t = cos(2*pi*20*T);\n",
    "\n",
    "plot(T, V_of_t)\n",
    "ylabel(\"Amplitude (V)\")\n",
    "xlabel(\"Time (s)\")\n",
    "title(\"Figure 7: RF Pulse - Time domain\")\n",
    "axis('square')\n",
    "axis([-0.1 1.1 -1.1 1.1])"
   ]
  },
  {
   "cell_type": "markdown",
   "metadata": {},
   "source": [
    "As it turns out the matched filter is the time reversed version of the\n",
    "signal, which is the signal itself.\n",
    "\n",
    "The output of the filter is determined by convolving the input signal\n",
    "with the matched filter. For the first part of the example, the input\n",
    "is the signal itself followed by 4 sec of silence"
   ]
  },
  {
   "cell_type": "code",
   "execution_count": null,
   "metadata": {},
   "outputs": [],
   "source": [
    "V_input = horzcat(V_of_t, zeros(1, 48000*4));\n",
    "O_of_t = conv(V_of_t, V_input);\n",
    "T_of_output = [0: 1/48000: (size(O_of_t,2)-1)/48000];\n",
    "plot(T_of_output, O_of_t)\n",
    "ylabel(\"Amplitude (V)\")\n",
    "xlabel(\"Time (s)\")\n",
    "title(\"Figure 8: RF Pulse Matched Filter Output - Time Domain\")"
   ]
  },
  {
   "cell_type": "markdown",
   "metadata": {},
   "source": [
    "The peak of the envelope determines where RF pulse ends.\n",
    "\n",
    "For the next part of the example, it will be determined if the signal\n",
    "can be detected in the presence of noise. First come up with\n",
    "the input signal with the noise at a SNR = -20 (Figure 9)."
   ]
  },
  {
   "cell_type": "code",
   "execution_count": null,
   "metadata": {},
   "outputs": [],
   "source": [
    "snr = -20; # dB\n",
    "# Linearize the SNR\n",
    "snr_lin = 10^(snr/10);\n",
    "# Determine the original signal power\n",
    "e_sig = sum(abs(V_of_t).^2)/size(V_of_t,2);\n",
    "# And then get noise spectral density\n",
    "n_0 = e_sig/snr_lin;\n",
    "n_sigma = sqrt(n_0);\n",
    "\n",
    "V_noise = n_sigma * randn(1,size(V_input,2));"
   ]
  },
  {
   "cell_type": "code",
   "execution_count": null,
   "metadata": {},
   "outputs": [],
   "source": [
    "V_signal = V_input .+ V_noise;\n",
    "plot([0: 1/48000: (size(V_signal,2)-1)/48000], V_signal)\n",
    "ylabel(\"Amplitude (V)\")\n",
    "xlabel(\"Time (s)\")\n",
    "title(\"Figure 9: RF Pulse with Noise - Time Domain\")\n",
    "axis('square')"
   ]
  },
  {
   "cell_type": "markdown",
   "metadata": {},
   "source": [
    "Can you see the pulse amongst the noise? Lets plot them next to each other\n",
    "for magnitude comparision (Figure 10)."
   ]
  },
  {
   "cell_type": "code",
   "execution_count": null,
   "metadata": {},
   "outputs": [],
   "source": [
    "V_compare = horzcat(V_input, V_noise);\n",
    "plot([0: 1/48000: (size(V_compare,2)-1)/48000], V_compare)\n",
    "ylabel(\"Amplitude (V)\")\n",
    "xlabel(\"Time (s)\")\n",
    "title(\"Figure 10: Magnitude Comparision of RF Pulse and Noise - Time Domain\")\n",
    "axis('square')"
   ]
  },
  {
   "cell_type": "markdown",
   "metadata": {},
   "source": [
    "Finally lets examine the matched filter output (Figure 11)."
   ]
  },
  {
   "cell_type": "code",
   "execution_count": null,
   "metadata": {},
   "outputs": [],
   "source": [
    "O_of_t = conv(V_of_t, V_signal);\n",
    "plot(T_of_output, O_of_t)\n",
    "ylabel(\"Amplitude (V)\")\n",
    "xlabel(\"Time (s)\")\n",
    "title(\"Figure 10: RF Pulse Matched Filter Output with Noise - Time Domain\")\n",
    "axis('square')"
   ]
  },
  {
   "cell_type": "markdown",
   "metadata": {},
   "source": [
    "So even though the RF pulse is 20 dB less than the noise, the matched filter\n",
    "is able to pull it out."
   ]
  },
  {
   "cell_type": "markdown",
   "metadata": {},
   "source": [
    "# A Brief Review of Signal Analysis In The Time and Frequency Domains \n",
    "Consider a 20 Hz wave modulated by a triangular pulse over one second \n",
    "sampled at 48 kHz (Figure 1).\n",
    "\n",
    "Create a vector of times between \n",
    "-0.5 and 0.5 at 1/48000 intervals"
   ]
  },
  {
   "cell_type": "code",
   "execution_count": null,
   "metadata": {},
   "outputs": [],
   "source": [
    "T = [ -0.5 : 1/48000 : 0.5]; "
   ]
  },
  {
   "cell_type": "markdown",
   "metadata": {},
   "source": [
    "Create a vector of voltages for those times"
   ]
  },
  {
   "cell_type": "code",
   "execution_count": null,
   "metadata": {},
   "outputs": [],
   "source": [
    "V_of_t = 2 * cos(2*pi*20*T) .* (0.5 - abs(T));"
   ]
  },
  {
   "cell_type": "markdown",
   "metadata": {},
   "source": [
    "...and then plot the voltage in the time domain"
   ]
  },
  {
   "cell_type": "code",
   "execution_count": null,
   "metadata": {},
   "outputs": [],
   "source": [
    "%plot --format svg\n",
    "plot(T, V_of_t)\n",
    "ylabel(\"Amplitude (V)\")\n",
    "xlabel(\"Time (s)\")\n",
    "title(\"Figure 1: Modulating Triangular Pulse - Time domain\")\n",
    "axis([-0.51 0.51 -1.01 1.01])"
   ]
  },
  {
   "cell_type": "markdown",
   "metadata": {},
   "source": [
    "Now do an FFT to determine the frequency components of the signal (Figure 2).\n",
    "\n",
    "Use `fft` to do an analysis of the time signal in the \n",
    "frequency domain. Use `fftshift` to shift 0 Hz to the \n",
    "centre of the vector"
   ]
  },
  {
   "cell_type": "code",
   "execution_count": null,
   "metadata": {},
   "outputs": [],
   "source": [
    "V_of_f = fftshift(fft(V_of_t, (size(V_of_t,2)-1)*10+1)/(size(V_of_t,2)/2));"
   ]
  },
  {
   "cell_type": "markdown",
   "metadata": {},
   "source": [
    "Create a vector of frequencies for plotting"
   ]
  },
  {
   "cell_type": "code",
   "execution_count": null,
   "metadata": {},
   "outputs": [],
   "source": [
    "F = [-24000: 1/10: 24000];"
   ]
  },
  {
   "cell_type": "markdown",
   "metadata": {},
   "source": [
    "...and then plot the voltage in the frequency domain"
   ]
  },
  {
   "cell_type": "code",
   "execution_count": null,
   "metadata": {},
   "outputs": [],
   "source": [
    "plot(F, V_of_f)\n",
    "ylabel(\"Amplitude (V)\");\n",
    "xlabel(\"Frequency (Hz)\");\n",
    "title(\"Figure 2: Modulating Triangular Pulse - Frequency domain\")\n",
    "axis([-25 25 -1.01 1.01])"
   ]
  },
  {
   "cell_type": "markdown",
   "metadata": {},
   "source": [
    "It can be seen from the graph that the primary components consist of\n",
    "frequencies at and around +20 Hz and -20 Hz."
   ]
  },
  {
   "cell_type": "markdown",
   "metadata": {},
   "source": [
    "Note that real value signals\n",
    "will have +ve and -ve frequency components."
   ]
  },
  {
   "cell_type": "markdown",
   "metadata": {},
   "source": [
    "The same process can be used\n",
    "with complex phasors by using `exp(i*2*pi*20*T)` or `exp(-i*2*pi*20*T)` in \n",
    "place of `cos(2*pi*20*T)`. For the +ve phasor the time signal looks the \n",
    "same (Figure 3).\n",
    "\n",
    "Create a vector of voltages for those times"
   ]
  },
  {
   "cell_type": "code",
   "execution_count": null,
   "metadata": {},
   "outputs": [],
   "source": [
    "V_of_t = 2 * exp(i*2*pi*20*T) .* (0.5 - abs(T));"
   ]
  },
  {
   "cell_type": "code",
   "execution_count": null,
   "metadata": {},
   "outputs": [],
   "source": [
    "plot(T, V_of_t)\n",
    "ylabel(\"Amplitude (V)\")\n",
    "xlabel(\"Time (s)\")\n",
    "title(\"Figure 3: Modulating Triangular Pulse (exp(i*2*pi*20*T)) - Time domain\")\n",
    "axis('square')\n",
    "axis([-0.51 0.51 -1.01 1.01])"
   ]
  },
  {
   "cell_type": "markdown",
   "metadata": {},
   "source": [
    "The FFT is calculated again (Figure 4)."
   ]
  },
  {
   "cell_type": "code",
   "execution_count": null,
   "metadata": {},
   "outputs": [],
   "source": [
    "V_of_f = fftshift(fft(V_of_t, (size(V_of_t,2)-1)*10+1)/(size(V_of_t,2)/2));"
   ]
  },
  {
   "cell_type": "code",
   "execution_count": null,
   "metadata": {},
   "outputs": [],
   "source": [
    "plot(F, V_of_f)\n",
    "ylabel(\"Amplitude (V)\");\n",
    "xlabel(\"Frequency (Hz)\");\n",
    "title(\"Figure 4: Modulating Triangular Pulse (exp(i*2*pi*20*T)) - Frequency domain\")\n",
    "axis('square')\n",
    "axis([-25 25 -1.01 1.01])"
   ]
  },
  {
   "cell_type": "markdown",
   "metadata": {},
   "source": [
    "Looking at the FFT there is only one sideband, the USB. Also, the\n",
    "component has twice the energy of the previos two, representing conservation\n",
    "of energy.\n",
    "\n",
    "Now for `exp(-i*2*pi*20*T)` (Figure 5). \n",
    "\n",
    "Create a vector of voltages for those times"
   ]
  },
  {
   "cell_type": "code",
   "execution_count": null,
   "metadata": {},
   "outputs": [],
   "source": [
    "V_of_t = 2 * exp(-i*2*pi*20*T) .* (0.5 - abs(T));"
   ]
  },
  {
   "cell_type": "code",
   "execution_count": null,
   "metadata": {},
   "outputs": [],
   "source": [
    "plot(T, V_of_t)\n",
    "ylabel(\"Amplitude (V)\")\n",
    "xlabel(\"Time (s)\")\n",
    "title(\"Figure 5: Modulating Triangular Pulse (exp(-i*2*pi*20*T)) - Time domain\")\n",
    "axis('square')\n",
    "axis([-0.51 0.51 -1.01 1.01])"
   ]
  },
  {
   "cell_type": "markdown",
   "metadata": {},
   "source": [
    "The FFT is calculated (Figure 6)."
   ]
  },
  {
   "cell_type": "code",
   "execution_count": null,
   "metadata": {},
   "outputs": [],
   "source": [
    "V_of_f = fftshift(fft(V_of_t, (size(V_of_t,2)-1)*10+1)/(size(V_of_t,2)/2));"
   ]
  },
  {
   "cell_type": "code",
   "execution_count": null,
   "metadata": {},
   "outputs": [],
   "source": [
    "F = [-24000: 1/10: 24000];"
   ]
  },
  {
   "cell_type": "code",
   "execution_count": null,
   "metadata": {},
   "outputs": [],
   "source": [
    "plot(F, V_of_f)\n",
    "ylabel(\"Amplitude (V)\");\n",
    "xlabel(\"Frequency (Hz)\");\n",
    "title(\"Figure 6: Modulating Triangular Pulse (exp(-i*2*pi*20*T)) - Frequency domain\")\n",
    "axis('square')\n",
    "axis([-25 25 -1.01 1.01])"
   ]
  },
  {
   "cell_type": "markdown",
   "metadata": {},
   "source": [
    "Looking at the FFT there is only one sideband, the LSB."
   ]
  },
  {
   "cell_type": "markdown",
   "metadata": {},
   "source": [
    "So far in the examples a matched filter is shown working in the time domain.\n",
    "Matched filters can also be used in the frequency domain. In this case it\n",
    "is possible to determine the frequency offset of the signal. The process\n",
    "is the following:\n",
    "* RF pulse -> FFT -> flip in frequency = matched filter\n",
    "* input signal -> FFT -> convolve with matched filter = matched filter output\n",
    "\n",
    "There is a property in time/frequency analysis that can be brought to bear,\n",
    "specifically convolution of two signals in one domain is multiplication in\n",
    "the other. So now the process becomes:\n",
    "* RF pulse -> FFT -> flip in frequency -> reverse FFT -> matched filter in time domain\n",
    "* input signal -> multiply by matched filter in time domain -> FFT = matched filter output"
   ]
  },
  {
   "cell_type": "markdown",
   "metadata": {},
   "source": [
    "For the example we are going to use the 20 Hz RF pulse, but just the USB.\n",
    "Examine first the matched filter in the time domain (Figure 11)."
   ]
  },
  {
   "cell_type": "code",
   "execution_count": null,
   "metadata": {},
   "outputs": [],
   "source": [
    "T = [0: 1/48000: 1];\n",
    "V_of_t = exp(2*i*pi*20*T);\n",
    "V_input = horzcat(V_of_t, zeros(1, 48000*4));\n",
    "MatchedFilter_of_t = ifft(flip(fft(V_input)));\n",
    "plot([0: 1/48000: (size(MatchedFilter_of_t,2)-1)/48000], MatchedFilter_of_t)\n",
    "ylabel(\"Amplitude (V)\")\n",
    "xlabel(\"Time (s)\")\n",
    "title(\"Figure 11: Matched Filter - Time Domain\")\n",
    "axis('square')"
   ]
  },
  {
   "cell_type": "code",
   "execution_count": null,
   "metadata": {},
   "outputs": [],
   "source": [
    "snr = -20; # dB\n",
    "# Linearize the SNR\n",
    "snr_lin = 10^(snr/10);\n",
    "# Determine the original signal power\n",
    "e_sig = sum(abs(V_of_t).^2)/size(V_of_t,2);\n",
    "# And then get noise spectral density\n",
    "n_0 = e_sig/snr_lin;\n",
    "n_sigma = sqrt(n_0);\n",
    "\n",
    "V_noise = n_sigma * randn(1,size(V_input,2));\n",
    "\n",
    "V_signal = V_input .+ V_noise; # Use the same noise from the other example\n",
    "V_signal_2 = V_signal .* MatchedFilter_of_t;\n",
    "V_of_f = fft(V_signal_2)/(size(V_signal_2,2)/2);\n",
    "F = [0: 1/5: (size(V_signal,2)-1)/5]; # 5 comes from length of sample in time\n",
    "plot(F, V_of_f)\n",
    "ylabel(\"Amplitude (V)\");\n",
    "xlabel(\"Frequency (Hz)\");\n",
    "title(\"Figure 12: Modulating Triangular Pulse (exp(-i*2*pi*20*T)) - Frequency domain\")"
   ]
  },
  {
   "cell_type": "code",
   "execution_count": null,
   "metadata": {},
   "outputs": [],
   "source": [
    "So now lets use the same pulse, but shift its frequency to 120 Hz and\n",
    "add some noise, multiply by the matched filter, then look at a plot of the\n",
    "FFT."
   ]
  },
  {
   "cell_type": "code",
   "execution_count": null,
   "metadata": {},
   "outputs": [],
   "source": [
    "V_of_t = exp(2*i*pi*120*T);\n",
    "V_input = horzcat(V_of_t, zeros(1, 48000*4));\n",
    "\n",
    "\n",
    "snr = -20; # dB\n",
    "# Linearize the SNR\n",
    "snr_lin = 10^(snr/10);\n",
    "# Determine the original signal power\n",
    "e_sig = sum(abs(V_of_t).^2)/size(V_of_t,2);\n",
    "# And then get noise spectral density\n",
    "n_0 = e_sig/snr_lin;\n",
    "n_sigma = sqrt(n_0);\n",
    "\n",
    "V_noise = n_sigma * randn(1,size(V_input,2));\n",
    "V_signal = V_input .+ V_noise; # Use the same noise from the other example\n",
    "V_signal_2 = V_signal .* MatchedFilter_of_t;\n",
    "V_of_f = fft(V_signal_2)/(size(V_signal_2,2)/2);"
   ]
  },
  {
   "cell_type": "code",
   "execution_count": null,
   "metadata": {},
   "outputs": [],
   "source": [
    "F = [0: 1/5: (size(V_signal_2,2)-1)/5]; # 5 comes from length of sample in time"
   ]
  },
  {
   "cell_type": "code",
   "execution_count": null,
   "metadata": {},
   "outputs": [],
   "source": [
    "plot(F, V_of_f)\n",
    "ylabel(\"Amplitude (V)\");\n",
    "xlabel(\"Frequency (Hz)\");\n",
    "title(\"Figure 12: Modulating Triangular Pulse (exp(-i*2*pi*20*T)) - Frequency domain\")\n",
    "axis('square')"
   ]
  },
  {
   "cell_type": "code",
   "execution_count": null,
   "metadata": {},
   "outputs": [],
   "source": []
  }
 ],
 "metadata": {
  "kernelspec": {
   "display_name": "Octave",
   "language": "octave",
   "name": "octave"
  },
  "language_info": {
   "file_extension": ".m",
   "help_links": [
    {
     "text": "GNU Octave",
     "url": "https://www.gnu.org/software/octave/support.html"
    },
    {
     "text": "Octave Kernel",
     "url": "https://github.com/Calysto/octave_kernel"
    },
    {
     "text": "MetaKernel Magics",
     "url": "https://metakernel.readthedocs.io/en/latest/source/README.html"
    }
   ],
   "mimetype": "text/x-octave",
   "name": "octave",
   "version": "4.2.2"
  }
 },
 "nbformat": 4,
 "nbformat_minor": 2
}
