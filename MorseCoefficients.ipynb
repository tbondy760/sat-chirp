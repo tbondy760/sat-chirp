{
 "cells": [
  {
   "cell_type": "markdown",
   "metadata": {},
   "source": [
    "# Creating The Expected Signal, Morse Coefficients\n",
    "## By Terry Bondy, VA3TYB"
   ]
  },
  {
   "cell_type": "code",
   "execution_count": 1,
   "metadata": {},
   "outputs": [
    {
     "name": "stdout",
     "output_type": "stream",
     "text": [
      "Last updated: Sunday  1 December 2019"
     ]
    }
   ],
   "source": [
    "printf(strftime (\"Last updated: %A %e %B %Y\", localtime (time ())))"
   ]
  },
  {
   "cell_type": "markdown",
   "metadata": {},
   "source": [
    "# Background"
   ]
  },
  {
   "cell_type": "markdown",
   "metadata": {},
   "source": [
    "In choosing an expected signal, we want to:\n",
    "1. Spread the signal across the radio's audio bandwidth as much as is possible,\n",
    "1. Make it identifiable when looking at a waterfall display, whether using LSB or USB, if the signal is visually detectable above the band noise,\n",
    "1. Make it distinguishable from other identifiers used for the same purpose (i.e. VA3TYB, VA3ASE, VE3YRA all being different, visually and for the detector ultimeatly used).\n",
    "1. Optimize properties of the signal for detection (more on this later).\n",
    "\n",
    "To that end a message containing the operator's call sign at least once will be:\n",
    "1. First converted to Morse represented by a row vector where each 1 represents a key down interval for a _dit_ time and each 0 represents a key up interval for a _dit_ time. For example \\[ 1 0 1 1 1 ] represents 'A'.\n",
    "1. The row vector is concatenated with \\[ 0 0 0 0 0 0 0 ] representing a space, and then a left-to-right mirror image of itself. Taking the example for 'A' a bit further = \\[ 1 0 1 1 1 0 0 0 0 0 0 0 1 1 1 0 1 ].\n",
    "1. The resulting row vector is spread evenly across the audio bandwidth of the radio, and if the value is 1, a sinusoidal tone will be produced on that frequency, and if the value is 0, no sinusoidal tone will be produced on that frequency. Taking the example further, if the radio had a bandwidth 200 - 3400 Hz, the message could be spread across the bandwidth at an interval of 200 Hz, so that tones would be sounded at 200 Hz, 600 Hz, 800 Hz, 1000 Hz, 2600 Hz, 2800 Hz, 3000 Hz, and 3400 Hz. No tones would be found on 400 Hz, 1200 Hz, 1400 Hz, 1600 Hz, 1800 Hz, 2000 Hz, 2200 Hz, 2400 Hz, and 3200 Hz."
   ]
  },
  {
   "cell_type": "markdown",
   "metadata": {},
   "source": [
    "The row vector so derived represents sound/silence coefficients for the following signal that is played by the radio:\n",
    "$${played\\ signal}(t) = \\sum\\limits_{i=0}^{bits - 1} a_s(i)\\ a_r(f)\\ cos(2\\pi{tf} + \\phi_r(f) + \\phi_d(i)),$$ where $$f = (LF+i\\frac{HF-LF}{bits - 1})$$\n",
    "to result in an expected signal of:\n",
    "$${expected\\ USB\\ signal}(t) = \\sum\\limits_{i=0}^{bits - 1} a_s(i)\\ e^{j2\\pi{tf} + \\phi_d(i)}$$\n",
    "for USB and\n",
    "$${expected\\ LSB\\ signal}(t) = \\sum\\limits_{i=0}^{bits - 1} a_s(i)\\ e^{-j2\\pi{tf} + \\phi_d(i)}$$\n",
    "for LSB and where:\n",
    "* $bits$ is the number of bits required by the message,\n",
    "* $a_s(i)$ is the $i^{th}$ sound/silent coefficient for the message, $a_s(i) \\in [0,1]$\n",
    "* $a_r(f)$ is an amplitude coefficient required for compensating for the audio frequency dependent amplitude attenuation of the SignaLink and the radio, $a_r(f) \\in \\!R, a_r(f) > 0$\n",
    "* $\\phi_r(f)$ is a phase value required for compensating for the audio frequency dependent phase delay of the SignaLink and the radio, $\\phi_r(f) \\in \\!R, 0 \\leq \\phi_r(f) < 2\\pi$\n",
    "* $\\phi_d(i)$ is a detection optimizing phase value for the message, $\\phi_d(i) \\in \\!R, 0 \\leq \\phi_d(i) < 2\\pi$\n",
    "* $LF$ is the lower limit on the audio bandwidth of the radio, e.g. 400 Hz\n",
    "* $HF$ is the upper limit on the audio bandwidth of the radio, e.g. 2600 Hz"
   ]
  },
  {
   "cell_type": "markdown",
   "metadata": {},
   "source": [
    "# Radio Bandwidths\n",
    "## Yaesu FT-817\n",
    "The manual of the FT-817 gives the audio SSB bandwidth of the radio as:\n",
    "* 400 Hz-2600 Hz (–6 dB)\n",
    "\n",
    "## Yaesu FT-847\n",
    "The manual of the FT-847 gives the audio SSB bandwidth of the radio as:\n",
    "* 400 Hz - 2600 Hz (-6 dB)\n",
    "\n",
    "## Available Bandwidth\n",
    "So the available bandwidth in Hz is:"
   ]
  },
  {
   "cell_type": "code",
   "execution_count": 2,
   "metadata": {},
   "outputs": [
    {
     "name": "stdout",
     "output_type": "stream",
     "text": [
      "bw =  2200\r\n"
     ]
    }
   ],
   "source": [
    "bw = 2600 - 400\n"
   ]
  },
  {
   "cell_type": "markdown",
   "metadata": {},
   "source": [
    "# Number of Bits For Various Messages\n",
    "## VA3TYB"
   ]
  },
  {
   "cell_type": "code",
   "execution_count": 3,
   "metadata": {},
   "outputs": [
    {
     "name": "stdout",
     "output_type": "stream",
     "text": [
      "ans =  297\r\n"
     ]
    }
   ],
   "source": [
    "7 + 2 * size(alphaToMorse(\"QRG DE VA3TYB?\"))(2)"
   ]
  },
  {
   "cell_type": "code",
   "execution_count": 4,
   "metadata": {},
   "outputs": [
    {
     "name": "stdout",
     "output_type": "stream",
     "text": [
      "ans =  445\r\n"
     ]
    }
   ],
   "source": [
    "7 + 2 * size(alphaToMorse(\"QRG DE VA3TYB VA3TYB?\"))(2)"
   ]
  },
  {
   "cell_type": "code",
   "execution_count": 5,
   "metadata": {},
   "outputs": [
    {
     "name": "stdout",
     "output_type": "stream",
     "text": [
      "ans =  593\r\n"
     ]
    }
   ],
   "source": [
    "7 + 2 * size(alphaToMorse(\"QRG DE VA3TYB VA3TYB VA3TYB?\"))(2)"
   ]
  },
  {
   "cell_type": "markdown",
   "metadata": {},
   "source": [
    "## VA3ASE"
   ]
  },
  {
   "cell_type": "code",
   "execution_count": 6,
   "metadata": {},
   "outputs": [
    {
     "name": "stdout",
     "output_type": "stream",
     "text": [
      "ans =  269\r\n"
     ]
    }
   ],
   "source": [
    "7 + 2 * size(alphaToMorse(\"QRG DE VA3ASE?\"))(2)"
   ]
  },
  {
   "cell_type": "code",
   "execution_count": 7,
   "metadata": {},
   "outputs": [
    {
     "name": "stdout",
     "output_type": "stream",
     "text": [
      "ans =  389\r\n"
     ]
    }
   ],
   "source": [
    "7 + 2 * size(alphaToMorse(\"QRG DE VA3ASE VA3ASE?\"))(2)"
   ]
  },
  {
   "cell_type": "code",
   "execution_count": 8,
   "metadata": {},
   "outputs": [
    {
     "name": "stdout",
     "output_type": "stream",
     "text": [
      "ans =  509\r\n"
     ]
    }
   ],
   "source": [
    "7 + 2 * size(alphaToMorse(\"QRG DE VA3ASE VA3ASE VA3ASE?\"))(2)"
   ]
  },
  {
   "cell_type": "markdown",
   "metadata": {},
   "source": [
    "## VE3YRA"
   ]
  },
  {
   "cell_type": "code",
   "execution_count": 9,
   "metadata": {},
   "outputs": [
    {
     "name": "stdout",
     "output_type": "stream",
     "text": [
      "ans =  289\r\n"
     ]
    }
   ],
   "source": [
    "7 + 2 * size(alphaToMorse(\"QRG DE VE3YRA?\"))(2)"
   ]
  },
  {
   "cell_type": "code",
   "execution_count": 10,
   "metadata": {},
   "outputs": [
    {
     "name": "stdout",
     "output_type": "stream",
     "text": [
      "ans =  429\r\n"
     ]
    }
   ],
   "source": [
    "7 + 2 * size(alphaToMorse(\"QRG DE VE3YRA VE3YRA?\"))(2)"
   ]
  },
  {
   "cell_type": "code",
   "execution_count": 11,
   "metadata": {},
   "outputs": [
    {
     "name": "stdout",
     "output_type": "stream",
     "text": [
      "ans =  569\r\n"
     ]
    }
   ],
   "source": [
    "7 + 2 * size(alphaToMorse(\"QRG DE VE3YRA VE3YRA VE3YRA?\"))(2)"
   ]
  },
  {
   "cell_type": "markdown",
   "metadata": {},
   "source": [
    "## VY0JJJ\n",
    "Call sign chosen because it represents a maximally long Canadian morse callsign."
   ]
  },
  {
   "cell_type": "code",
   "execution_count": 12,
   "metadata": {},
   "outputs": [
    {
     "name": "stdout",
     "output_type": "stream",
     "text": [
      "ans =  353\r\n"
     ]
    }
   ],
   "source": [
    "7 + 2 * size(alphaToMorse(\"QRG DE VY0JJJ?\"))(2)"
   ]
  },
  {
   "cell_type": "code",
   "execution_count": 13,
   "metadata": {},
   "outputs": [
    {
     "name": "stdout",
     "output_type": "stream",
     "text": [
      "ans =  557\r\n"
     ]
    }
   ],
   "source": [
    "7 + 2 * size(alphaToMorse(\"QRG DE VY0JJJ VY0JJJ?\"))(2)"
   ]
  },
  {
   "cell_type": "code",
   "execution_count": 14,
   "metadata": {},
   "outputs": [
    {
     "name": "stdout",
     "output_type": "stream",
     "text": [
      "ans =  761\r\n"
     ]
    }
   ],
   "source": [
    "7 + 2 * size(alphaToMorse(\"QRG DE VY0JJJ VY0JJJ VY0JJJ?\"))(2)"
   ]
  },
  {
   "cell_type": "markdown",
   "metadata": {},
   "source": [
    "## Target Number of Bits\n",
    "For a margin of \"safety\" (i.e. to get away from 6dB frequencies), take 80% only of BW, i.e."
   ]
  },
  {
   "cell_type": "code",
   "execution_count": 15,
   "metadata": {},
   "outputs": [
    {
     "name": "stdout",
     "output_type": "stream",
     "text": [
      "bw =  1760\r\n"
     ]
    }
   ],
   "source": [
    "bw = .8 * (2600 - 400)"
   ]
  },
  {
   "cell_type": "markdown",
   "metadata": {},
   "source": [
    "Want the detector to work with a 0.25 second slice. So"
   ]
  },
  {
   "cell_type": "code",
   "execution_count": 16,
   "metadata": {},
   "outputs": [
    {
     "name": "stdout",
     "output_type": "stream",
     "text": [
      "bits =  441\r\n"
     ]
    }
   ],
   "source": [
    "bits = bw/4 + 1"
   ]
  },
  {
   "cell_type": "markdown",
   "metadata": {},
   "source": [
    "Back check"
   ]
  },
  {
   "cell_type": "code",
   "execution_count": 17,
   "metadata": {},
   "outputs": [
    {
     "name": "stdout",
     "output_type": "stream",
     "text": [
      "ans =  1760\r\n"
     ]
    }
   ],
   "source": [
    "(bits - 1) * 4"
   ]
  },
  {
   "cell_type": "markdown",
   "metadata": {},
   "source": [
    "Dual identifier message for VA3TYB will be tight. Lets determine percentage of bandwidth"
   ]
  },
  {
   "cell_type": "code",
   "execution_count": 18,
   "metadata": {},
   "outputs": [
    {
     "name": "stdout",
     "output_type": "stream",
     "text": [
      "ans =  80.727\r\n"
     ]
    }
   ],
   "source": [
    "((445 - 1) * 4 * 100)/(2600 - 400)"
   ]
  },
  {
   "cell_type": "markdown",
   "metadata": {},
   "source": [
    "Close enough!"
   ]
  },
  {
   "cell_type": "markdown",
   "metadata": {},
   "source": [
    "# Summary\n",
    "I have:\n",
    "* Determined the format of the message to compute the sound/silence coefficients to yeild a number of bits that will allow the detector to work quickly enough that:\n",
    "  * Hopefully Doppler shift changes should not effect the results of the detection\n",
    "  * Minimize interference to other users of the band\n",
    "\n",
    "  That format is \"QRG DE _callsign_ _callsign_?\" with space (key up for 7 dit times) followed by the reverse image of itself.\n",
    "* Determined the frequency spacing of the tones represented by the sound/silence coefficients. The frequency spacing is 4 Hz."
   ]
  },
  {
   "cell_type": "markdown",
   "metadata": {},
   "source": [
    "## Coefficients\n",
    "Morse coefficients to make up 551 bits can be computed using the following function. At 551 bits, the first sound/silence coefficient represents 400 Hz, the -6dB LF limit of the FT-817 and FT-847."
   ]
  },
  {
   "cell_type": "code",
   "execution_count": 19,
   "metadata": {},
   "outputs": [],
   "source": [
    "function toRet = makeMorseCoeff(message)\n",
    "    baseCoeff = alphaToMorse(message);\n",
    "    toRet = horzcat(baseCoeff, [ 0 0 0 0 0 0 0 ], flip(baseCoeff));\n",
    "    sz = size(toRet)(2);\n",
    "    # See if needs padding\n",
    "    if (sz < 551)\n",
    "        half = (551 - sz)/2;\n",
    "        toRet = horzcat(zeros(1,half), baseCoeff, [ 0 0 0 0 0 0 0 ], flip(baseCoeff), zeros(1,half));\n",
    "    endif        \n",
    "endfunction"
   ]
  },
  {
   "cell_type": "code",
   "execution_count": null,
   "metadata": {},
   "outputs": [],
   "source": []
  }
 ],
 "metadata": {
  "kernelspec": {
   "display_name": "Octave",
   "language": "octave",
   "name": "octave"
  },
  "language_info": {
   "file_extension": ".m",
   "help_links": [
    {
     "text": "GNU Octave",
     "url": "https://www.gnu.org/software/octave/support.html"
    },
    {
     "text": "Octave Kernel",
     "url": "https://github.com/Calysto/octave_kernel"
    },
    {
     "text": "MetaKernel Magics",
     "url": "https://metakernel.readthedocs.io/en/latest/source/README.html"
    }
   ],
   "mimetype": "text/x-octave",
   "name": "octave",
   "version": "4.2.2"
  }
 },
 "nbformat": 4,
 "nbformat_minor": 2
}
