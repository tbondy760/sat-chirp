{
 "cells": [
  {
   "cell_type": "markdown",
   "metadata": {},
   "source": [
    "# Make Calibration WAV Files\n",
    "## By Terry Bondy, VA3TYB"
   ]
  },
  {
   "cell_type": "code",
   "execution_count": 1,
   "metadata": {},
   "outputs": [
    {
     "name": "stdout",
     "output_type": "stream",
     "text": [
      "Last updated: Wednesday  1 January 2020 UTC"
     ]
    }
   ],
   "source": [
    "printf(strftime (\"Last updated: %A %e %B %Y %Z\", localtime (time())))\n",
    "%plot --format svg\n",
    "# format long"
   ]
  },
  {
   "cell_type": "code",
   "execution_count": null,
   "metadata": {},
   "outputs": [],
   "source": [
    "pkg install -forge struct\n",
    "pkg install -forge io\n",
    "pkg install -forge statistics\n",
    "pkg install -forge optim"
   ]
  },
  {
   "cell_type": "code",
   "execution_count": null,
   "metadata": {},
   "outputs": [],
   "source": [
    "fcLow = 200;\n",
    "fcHigh = 2600;"
   ]
  },
  {
   "cell_type": "code",
   "execution_count": null,
   "metadata": {},
   "outputs": [],
   "source": [
    "fcMid = sqrt(fcHigh/fcLow) * fcLow"
   ]
  },
  {
   "cell_type": "code",
   "execution_count": null,
   "metadata": {},
   "outputs": [],
   "source": [
    "F = fcLow:1:fcHigh;\n",
    "columns(F)\n",
    "sqrt(fcLow*fcHigh)"
   ]
  },
  {
   "cell_type": "code",
   "execution_count": null,
   "metadata": {},
   "outputs": [],
   "source": [
    "J = log(F);\n",
    "jmin = min(J)\n",
    "jmax = max(J)\n",
    "jmid = mean([jmin, jmax])\n",
    "H = abs(J - jmid);\n",
    "hmin = min(H)\n",
    "hmax = max(H)"
   ]
  },
  {
   "cell_type": "code",
   "execution_count": null,
   "metadata": {},
   "outputs": [],
   "source": [
    "# What are the factors of the number of frequencies?\n",
    "Factors = factor(columns(F)-1);\n",
    "# Determine the possible intervals by looking at all products of choose\n",
    "Possible_Intervals = unique(cell2mat(arrayfun(@(t) unique(prod(nchoosek(Factors, t), 2))', [1:columns(Factors)], \"UniformOutput\", false)))\n",
    "# Then pick one of them\n",
    "intervals = Possible_Intervals(9)"
   ]
  },
  {
   "cell_type": "markdown",
   "metadata": {},
   "source": [
    "Sort F so that it is in the order log distance from fcMid, and also compute what interval they are in."
   ]
  },
  {
   "cell_type": "code",
   "execution_count": null,
   "metadata": {},
   "outputs": [],
   "source": [
    "G = sortrows(horzcat(H', ceil(intervals*H'/hmax), F'), [1]);"
   ]
  },
  {
   "cell_type": "markdown",
   "metadata": {},
   "source": [
    "Sample a number of rows"
   ]
  },
  {
   "cell_type": "code",
   "execution_count": null,
   "metadata": {},
   "outputs": [],
   "source": [
    "format long g\n",
    "Sample = vertcat(G(1:floor(end/intervals):end,:), G(rows(G),:))\n",
    "format"
   ]
  },
  {
   "cell_type": "code",
   "execution_count": null,
   "metadata": {},
   "outputs": [],
   "source": [
    "G(find(G(:,3)==721),:)"
   ]
  },
  {
   "cell_type": "code",
   "execution_count": null,
   "metadata": {},
   "outputs": [],
   "source": [
    "sum(G(:,2) == 1)\n",
    "sum(G(:,2) == 1:1:intervals)"
   ]
  },
  {
   "cell_type": "markdown",
   "metadata": {},
   "source": [
    "Ensure that there are no values of H that are duplicated, meaning that there are a pair of frequencies, one each on each side of fcMid, that are equidistant log-wise, from fcMid. If there are, then we would have to be careful how we subdivide F later on. If there is at least one, then the following result will be zero."
   ]
  },
  {
   "cell_type": "code",
   "execution_count": null,
   "metadata": {},
   "outputs": [],
   "source": [
    "sort(abs(diff(H)))(1)"
   ]
  },
  {
   "cell_type": "markdown",
   "metadata": {},
   "source": [
    "Helps that fcMid is not integral, like members of F."
   ]
  },
  {
   "cell_type": "code",
   "execution_count": null,
   "metadata": {},
   "outputs": [],
   "source": [
    "TestFreq = G(:,3);\n",
    "iter = 0;\n",
    "filename = sprintf(\"TestFreq.mat\", iter);\n",
    "save(filename,\"TestFreq\");\n",
    "# save \"TestFreq.mat\" TestFreq;"
   ]
  },
  {
   "cell_type": "code",
   "execution_count": null,
   "metadata": {},
   "outputs": [],
   "source": [
    "sampleRate = 16000;\n",
    "numPeriods = 10;\n",
    "period = numPeriods;\n",
    "Tshort = 0:1/sampleRate:1;\n",
    "T = 0:1/sampleRate:period;"
   ]
  },
  {
   "cell_type": "markdown",
   "metadata": {},
   "source": [
    "Ensure that you run `Nonlin_min_Install` notebook to install this package."
   ]
  },
  {
   "cell_type": "code",
   "execution_count": null,
   "metadata": {},
   "outputs": [],
   "source": [
    "pkg load optim"
   ]
  },
  {
   "cell_type": "code",
   "execution_count": null,
   "metadata": {},
   "outputs": [],
   "source": [
    "# TestPhi is a column vector, 0 <= phi <= pi, length m\n",
    "# TestFreq is a column vector, length m\n",
    "# Sig is a row vector\n",
    "# Tshort is a row vector\n",
    "function cost = costAny(Phi_trial, CosTerm, Sig)\n",
    "  cost = max(abs(sum(cos(CosTerm + Phi_trial)) + Sig));\n",
    "endfunction"
   ]
  },
  {
   "cell_type": "code",
   "execution_count": null,
   "metadata": {
    "scrolled": false
   },
   "outputs": [],
   "source": [
    "tic = time();\n",
    "TestFreq = [ G(1,3) ];\n",
    "TestPhi = [ 0 ];\n",
    "cosArg = 2*pi*TestFreq * Tshort + TestPhi;\n",
    "Sig = cos(cosArg);\n",
    "size(Sig)\n",
    "max(abs(Sig))\n",
    "printf(\"toc: %d seconds\\n\", time() - tic)\n",
    "numIndexes = 16;\n",
    "iter=1;\n",
    "for firstIndex = 2:numIndexes:rows(G)\n",
    "  printf(\"iter: %d\\n\", iter);\n",
    "  Sigfilename = sprintf(\"Sig_%d.mat\", iter);\n",
    "  if (2 != exist (Sigfilename, \"file\"))\n",
    "    TestFreq = G(firstIndex:firstIndex+numIndexes-1, 3);\n",
    "    CosTerm = 2*pi*TestFreq * Tshort;\n",
    "    tic = time();\n",
    "  \n",
    "    init_p = pi*rand(rows(TestFreq),1);\n",
    "    lbound = zeros(rows(TestFreq), 1);\n",
    "    ubound = pi .* ones(rows(TestFreq), 1);\n",
    "    [TestPhi, objf, cvg] = nonlin_min (@ (Phi_trial) costAny(Phi_trial, CosTerm, Sig), init_p, optimset (\"Algorithm\", \"samin\", \n",
    "      \"lbound\", lbound,\n",
    "      \"ubound\", ubound,\n",
    "      \"Display\", \"iter\"\n",
    "    ));\n",
    "    printf(\"toc: %d seconds\\n\", time() - tic)\n",
    "    cosArg = 2*pi*TestFreq * Tshort + TestPhi;\n",
    "    Sig = sum(cos(cosArg)) + Sig;\n",
    "    save(Sigfilename, \"Sig\");\n",
    "    filename = sprintf(\"TestFreq_%d.mat\", iter);\n",
    "    save(filename, \"TestFreq\");\n",
    "    filename = sprintf(\"TestPhi_%d.mat\", iter);\n",
    "    save(filename, \"TestPhi\");\n",
    "  else\n",
    "    load(Sigfilename)\n",
    "  endif\n",
    "  \n",
    "  max(abs(Sig))\n",
    "  iter++;\n",
    "endfor"
   ]
  },
  {
   "cell_type": "code",
   "execution_count": null,
   "metadata": {},
   "outputs": [],
   "source": [
    "Sig(1)\n",
    "Sig(end)\n",
    "# Repeat Sig to expand it to numPeriods\n",
    "Sig = [(Sig(1:end-1)' * ones(1, numPeriods))(:)', Sig(1)];"
   ]
  },
  {
   "cell_type": "code",
   "execution_count": null,
   "metadata": {},
   "outputs": [],
   "source": [
    "plot(T, Sig)"
   ]
  },
  {
   "cell_type": "code",
   "execution_count": null,
   "metadata": {},
   "outputs": [],
   "source": [
    "RC = (1 - cos(2*pi*T/period))/2;"
   ]
  },
  {
   "cell_type": "code",
   "execution_count": null,
   "metadata": {},
   "outputs": [],
   "source": [
    "E_cos_pulse = fftshift(fft(RC .* Sig, sampleRate*period*10 + 1));\n",
    "# E_cos_pulse = fftshift(fft(RC .* Sig));\n",
    "F_base = linspace(-sampleRate/2, sampleRate/2, columns(E_cos_pulse));"
   ]
  },
  {
   "cell_type": "code",
   "execution_count": null,
   "metadata": {},
   "outputs": [],
   "source": [
    "plot(F_base, abs(E_cos_pulse))\n",
    "grid on\n",
    "grid minor\n",
    "# axis([fcLow-10 fcLow+10], \"tic\")"
   ]
  },
  {
   "cell_type": "code",
   "execution_count": null,
   "metadata": {},
   "outputs": [],
   "source": []
  }
 ],
 "metadata": {
  "kernelspec": {
   "display_name": "Octave",
   "language": "octave",
   "name": "octave"
  },
  "language_info": {
   "file_extension": ".m",
   "help_links": [
    {
     "text": "GNU Octave",
     "url": "https://www.gnu.org/software/octave/support.html"
    },
    {
     "text": "Octave Kernel",
     "url": "https://github.com/Calysto/octave_kernel"
    },
    {
     "text": "MetaKernel Magics",
     "url": "https://metakernel.readthedocs.io/en/latest/source/README.html"
    }
   ],
   "mimetype": "text/x-octave",
   "name": "octave",
   "version": "4.2.2"
  }
 },
 "nbformat": 4,
 "nbformat_minor": 2
}
