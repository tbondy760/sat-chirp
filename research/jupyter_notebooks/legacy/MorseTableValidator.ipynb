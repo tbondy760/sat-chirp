{
 "cells": [
  {
   "cell_type": "markdown",
   "metadata": {},
   "source": [
    "# MorseTable Validator\n",
    "## By Terry Bondy, VA3TYB"
   ]
  },
  {
   "cell_type": "code",
   "execution_count": 1,
   "metadata": {},
   "outputs": [
    {
     "name": "stdout",
     "output_type": "stream",
     "text": [
      "Last updated: Tuesday 26 November 2019"
     ]
    }
   ],
   "source": [
    "printf(strftime (\"Last updated: %A %e %B %Y\", localtime (time ())))"
   ]
  },
  {
   "cell_type": "markdown",
   "metadata": {},
   "source": [
    "This notebook does simple validation on the contents of `MorseTable`.\n",
    "\n",
    "Input the table"
   ]
  },
  {
   "cell_type": "code",
   "execution_count": 2,
   "metadata": {},
   "outputs": [],
   "source": [
    "MorseTable"
   ]
  },
  {
   "cell_type": "markdown",
   "metadata": {},
   "source": [
    "This length should be 1122"
   ]
  },
  {
   "cell_type": "code",
   "execution_count": 3,
   "metadata": {},
   "outputs": [
    {
     "name": "stdout",
     "output_type": "stream",
     "text": [
      "ans =  1122\n"
     ]
    }
   ],
   "source": [
    "length(Morse_char_to_trinary_map)"
   ]
  },
  {
   "cell_type": "markdown",
   "metadata": {},
   "source": [
    "This is the string we will do lookups on to determine if the table is correct"
   ]
  },
  {
   "cell_type": "code",
   "execution_count": 4,
   "metadata": {},
   "outputs": [
    {
     "name": "stdout",
     "output_type": "stream",
     "text": [
      "Test = ABCDEFGHIJKLMNOPQRSTUVWXYZ0123456789.,?'!/()&:;=+-_\"$@\n"
     ]
    }
   ],
   "source": [
    "Test = toupper(\"abcdefghijklmnopqrstuvwxyz0123456789.,?'!/()&:;=+-_\\\"$@\")"
   ]
  },
  {
   "cell_type": "markdown",
   "metadata": {},
   "source": [
    "Do lookup on Test and create some equi-length trinary numbers \n",
    "1. Mult by 9 to add two '0' to end\n",
    "1. Add 3^19 to get leading 1 way out front"
   ]
  },
  {
   "cell_type": "code",
   "execution_count": 5,
   "metadata": {},
   "outputs": [
    {
     "name": "stdout",
     "output_type": "stream",
     "text": [
      "Trinary_for_test =\n",
      "\n",
      "10000000000000012000\n",
      "10000000000002111000\n",
      "10000000000002121000\n",
      "10000000000000211000\n",
      "10000000000000001000\n",
      "10000000000001121000\n",
      "10000000000000221000\n",
      "10000000000001111000\n",
      "10000000000000011000\n",
      "10000000000001222000\n",
      "10000000000000212000\n",
      "10000000000001211000\n",
      "10000000000000022000\n",
      "10000000000000021000\n",
      "10000000000000222000\n",
      "10000000000001221000\n",
      "10000000000002212000\n",
      "10000000000000121000\n",
      "10000000000000111000\n",
      "10000000000000002000\n",
      "10000000000000112000\n",
      "10000000000001112000\n",
      "10000000000000122000\n",
      "10000000000002112000\n",
      "10000000000002122000\n",
      "10000000000002211000\n",
      "10000000000022222000\n",
      "10000000000012222000\n",
      "10000000000011222000\n",
      "10000000000011122000\n",
      "10000000000011112000\n",
      "10000000000011111000\n",
      "10000000000021111000\n",
      "10000000000022111000\n",
      "10000000000022211000\n",
      "10000000000022221000\n",
      "10000000000121212000\n",
      "10000000000221122000\n",
      "10000000000112211000\n",
      "10000000000122221000\n",
      "10000000000212122000\n",
      "10000000000021121000\n",
      "10000000000021221000\n",
      "10000000000212212000\n",
      "10000000000012111000\n",
      "10000000000222111000\n",
      "10000000000212121000\n",
      "10000000000021112000\n",
      "10000000000012121000\n",
      "10000000000211112000\n",
      "10000000000112212000\n",
      "10000000000121121000\n",
      "10000000001112112000\n",
      "10000000000122121000\n",
      "\n"
     ]
    }
   ],
   "source": [
    "Trinary_for_test = dec2base(arrayfun(@(v) strfind(Morse_char_to_trinary_map, v)(1) - 1, Test) .* 27 .+ 3^19, 3)"
   ]
  },
  {
   "cell_type": "markdown",
   "metadata": {},
   "source": [
    "Through string substitution, create di-dahs for each character"
   ]
  },
  {
   "cell_type": "code",
   "execution_count": 6,
   "metadata": {},
   "outputs": [
    {
     "name": "stdout",
     "output_type": "stream",
     "text": [
      "Test_di_dahs = \n",
      "{\n",
      "  [1,1] =  . _ \n",
      "  [2,1] =  _ . . . \n",
      "  [3,1] =  _ . _ . \n",
      "  [4,1] =  _ . . \n",
      "  [5,1] =  . \n",
      "  [6,1] =  . . _ . \n",
      "  [7,1] =  _ _ . \n",
      "  [8,1] =  . . . . \n",
      "  [9,1] =  . . \n",
      "  [10,1] =  . _ _ _ \n",
      "  [11,1] =  _ . _ \n",
      "  [12,1] =  . _ . . \n",
      "  [13,1] =  _ _ \n",
      "  [14,1] =  _ . \n",
      "  [15,1] =  _ _ _ \n",
      "  [16,1] =  . _ _ . \n",
      "  [17,1] =  _ _ . _ \n",
      "  [18,1] =  . _ . \n",
      "  [19,1] =  . . . \n",
      "  [20,1] =  _ \n",
      "  [21,1] =  . . _ \n",
      "  [22,1] =  . . . _ \n",
      "  [23,1] =  . _ _ \n",
      "  [24,1] =  _ . . _ \n",
      "  [25,1] =  _ . _ _ \n",
      "  [26,1] =  _ _ . . \n",
      "  [27,1] =  _ _ _ _ _ \n",
      "  [28,1] =  . _ _ _ _ \n",
      "  [29,1] =  . . _ _ _ \n",
      "  [30,1] =  . . . _ _ \n",
      "  [31,1] =  . . . . _ \n",
      "  [32,1] =  . . . . . \n",
      "  [33,1] =  _ . . . . \n",
      "  [34,1] =  _ _ . . . \n",
      "  [35,1] =  _ _ _ . . \n",
      "  [36,1] =  _ _ _ _ . \n",
      "  [37,1] =  . _ . _ . _ \n",
      "  [38,1] =  _ _ . . _ _ \n",
      "  [39,1] =  . . _ _ . . \n",
      "  [40,1] =  . _ _ _ _ . \n",
      "  [41,1] =  _ . _ . _ _ \n",
      "  [42,1] =  _ . . _ . \n",
      "  [43,1] =  _ . _ _ . \n",
      "  [44,1] =  _ . _ _ . _ \n",
      "  [45,1] =  . _ . . . \n",
      "  [46,1] =  _ _ _ . . . \n",
      "  [47,1] =  _ . _ . _ . \n",
      "  [48,1] =  _ . . . _ \n",
      "  [49,1] =  . _ . _ . \n",
      "  [50,1] =  _ . . . . _ \n",
      "  [51,1] =  . . _ _ . _ \n",
      "  [52,1] =  . _ . . _ . \n",
      "  [53,1] =  . . . _ . . _ \n",
      "  [54,1] =  . _ _ . _ . \n",
      "}\n"
     ]
    }
   ],
   "source": [
    "Test_di_dahs = ...\n",
    "    # Do the processing for each character\n",
    "    arrayfun(@(v) ...\n",
    "        # Replace trailing zeroes with nothing\n",
    "        strrep(\n",
    "                # Replace '2' with dah\n",
    "                strrep(\n",
    "                       # Replace '1' with a dit\n",
    "                       strrep(\n",
    "                              # Replace leading 1 and zeroes with nothing\n",
    "                              regexprep(v, \"1000000000[0]*\", \" \"),\n",
    "                              \"1\", \". \"),\n",
    "                       \"2\", \"_ \"),\n",
    "                \"0\", \"\"),\n",
    "        cellstr(Trinary_for_test)\n",
    "    )"
   ]
  },
  {
   "cell_type": "markdown",
   "metadata": {},
   "source": [
    "Finally, concat these and compare to our expected result. `ans` will be 1 if each row compares equal."
   ]
  },
  {
   "cell_type": "code",
   "execution_count": 7,
   "metadata": {},
   "outputs": [
    {
     "name": "stdout",
     "output_type": "stream",
     "text": [
      "ans = 1\n"
     ]
    }
   ],
   "source": [
    "all(\n",
    "    strcmp(\n",
    "            strcat(cellstr(Test(:)), Test_di_dahs), \n",
    "            {\n",
    "                \"A . _ \"\n",
    "                \"B _ . . . \"\n",
    "                \"C _ . _ . \"\n",
    "                \"D _ . . \"\n",
    "                \"E . \"\n",
    "                \"F . . _ . \"\n",
    "                \"G _ _ . \"\n",
    "                \"H . . . . \"\n",
    "                \"I . . \"\n",
    "                \"J . _ _ _ \"\n",
    "                \"K _ . _ \"\n",
    "                \"L . _ . . \"\n",
    "                \"M _ _ \"\n",
    "                \"N _ . \"\n",
    "                \"O _ _ _ \"\n",
    "                \"P . _ _ . \"\n",
    "                \"Q _ _ . _ \"\n",
    "                \"R . _ . \"\n",
    "                \"S . . . \"\n",
    "                \"T _ \"\n",
    "                \"U . . _ \"\n",
    "                \"V . . . _ \"\n",
    "                \"W . _ _ \"\n",
    "                \"X _ . . _ \"\n",
    "                \"Y _ . _ _ \"\n",
    "                \"Z _ _ . . \"\n",
    "                \"0 _ _ _ _ _ \"\n",
    "                \"1 . _ _ _ _ \"\n",
    "                \"2 . . _ _ _ \"\n",
    "                \"3 . . . _ _ \"\n",
    "                \"4 . . . . _ \"\n",
    "                \"5 . . . . . \"\n",
    "                \"6 _ . . . . \"\n",
    "                \"7 _ _ . . . \"\n",
    "                \"8 _ _ _ . . \"\n",
    "                \"9 _ _ _ _ . \"\n",
    "                \". . _ . _ . _ \"\n",
    "                \", _ _ . . _ _ \"\n",
    "                \"? . . _ _ . . \"\n",
    "                \"' . _ _ _ _ . \"\n",
    "                \"! _ . _ . _ _ \"\n",
    "                \"/ _ . . _ . \"\n",
    "                \"( _ . _ _ . \"\n",
    "                \") _ . _ _ . _ \"\n",
    "                \"& . _ . . . \"\n",
    "                \": _ _ _ . . . \"\n",
    "                \"; _ . _ . _ . \"\n",
    "                \"= _ . . . _ \"\n",
    "                \"+ . _ . _ . \"\n",
    "                \"- _ . . . . _ \"\n",
    "                \"_ . . _ _ . _ \"\n",
    "                \"\\\" . _ . . _ . \"\n",
    "                \"$ . . . _ . . _ \"\n",
    "                \"@ . _ _ . _ . \"\n",
    "            }\n",
    "    )\n",
    ")"
   ]
  },
  {
   "cell_type": "markdown",
   "metadata": {},
   "source": [
    "The above should be `ans = 1` if everything is OK"
   ]
  },
  {
   "cell_type": "code",
   "execution_count": null,
   "metadata": {},
   "outputs": [],
   "source": []
  }
 ],
 "metadata": {
  "kernelspec": {
   "display_name": "Octave",
   "language": "octave",
   "name": "octave"
  },
  "language_info": {
   "file_extension": ".m",
   "help_links": [
    {
     "text": "GNU Octave",
     "url": "https://www.gnu.org/software/octave/support.html"
    },
    {
     "text": "Octave Kernel",
     "url": "https://github.com/Calysto/octave_kernel"
    },
    {
     "text": "MetaKernel Magics",
     "url": "https://metakernel.readthedocs.io/en/latest/source/README.html"
    }
   ],
   "mimetype": "text/x-octave",
   "name": "octave",
   "version": "4.2.2"
  }
 },
 "nbformat": 4,
 "nbformat_minor": 2
}
