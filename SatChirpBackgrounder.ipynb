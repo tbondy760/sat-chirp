{
 "cells": [
  {
   "cell_type": "markdown",
   "metadata": {},
   "source": [
    "# Sat Chirp Backgrounder\n",
    "By Terry Bondy, VA3TYB"
   ]
  },
  {
   "cell_type": "code",
   "execution_count": 31,
   "metadata": {},
   "outputs": [
    {
     "name": "stdout",
     "output_type": "stream",
     "text": [
      "Last updated: Monday 21 October 2019"
     ]
    }
   ],
   "source": [
    "printf(strftime (\"Last updated: %A %e %B %Y\", localtime (time ())))"
   ]
  },
  {
   "cell_type": "markdown",
   "metadata": {},
   "source": [
    "# Scope\n",
    "What is described here is background for a means of determining the \n",
    "instantaneous translating properties of a linear satellite by sending \n",
    "a single brief 'chirp' in the uplink and listening across the satellite band \n",
    "for the downlink with an SDR and doing some processing. These translation \n",
    "properties include:\n",
    "* The instantaneous tranlation frequency,\n",
    "* Whether the downlink is USB or LSB.\n",
    "\n",
    "# Producing This Document\n",
    "This document is produced using [Octave](https://www.gnu.org/software/octave/), an open source tool very similar to\n",
    "*Matlab*. The lines in the boxes are *Octave* commands to create the \n",
    "mathematical examples that are used. Octave is being run in a [Jupyter](https://jupyterlab.readthedocs.io/en/stable/) notebook which can be access from the internet, TBD.\n",
    "\n",
    "But first a bit of bookkeeping.\n"
   ]
  },
  {
   "cell_type": "code",
   "execution_count": null,
   "metadata": {},
   "outputs": [],
   "source": [
    "%plot --format svg"
   ]
  },
  {
   "cell_type": "markdown",
   "metadata": {},
   "source": [
    "# Strategy for Determining Downlink Frequency of the Uplink Chirp\n",
    "To further describe the strategy for determining the downlink frequency\n",
    "of the uplink chirp, the SDR will receive the complete satellite downlink\n",
    "band and do processing on it. It will look at the _frequency_ representation\n",
    "of the chirp that is decided on and determine its frequency offset.\n",
    "\n",
    "In order to determine the frequency offset, the process will use a \n",
    "[matched filter](https://en.wikipedia.org/wiki/Matched_filter). An example\n",
    "of a matched filter will demonstrate the two properties that will make it \n",
    "useful for this process:\n",
    "* It is easy to determine whether the signal originating the matched filter is present,\n",
    "* It is easy to determine when the signal originating the matched filter has completed."
   ]
  },
  {
   "cell_type": "markdown",
   "metadata": {},
   "source": [
    "For this example we wish to detect a 20 Hz cosine pulse 1s long."
   ]
  },
  {
   "cell_type": "code",
   "execution_count": null,
   "metadata": {},
   "outputs": [],
   "source": [
    "sample_rate = 6000; # Sampling at 6 kHz\n",
    "T_base = [0: 1/sample_rate: 1]; # The time base, sampling at 6 kHz\n",
    "V_cos_pulse = cos(2*pi*20*T_base);\n",
    "\n",
    "plot(T_base, V_cos_pulse)\n",
    "ylabel(\"Amplitude (V)\")\n",
    "xlabel(\"Time (s)\")\n",
    "title(\"Figure 1: Cosine Pulse - Time domain\")\n",
    "axis([-0.5 1.5 -2 2])"
   ]
  },
  {
   "cell_type": "markdown",
   "metadata": {},
   "source": [
    "As it turns out the matched filter is the time reversed version of the\n",
    "signal, which in this case is the signal itself because $cos(2\\pi*20*t) = cos(2\\pi*20*-t)$\n",
    "\n",
    "The output of the filter is determined by convolving the input signal\n",
    "with the matched filter.\n",
    "\n",
    "For the first part of the example, the input\n",
    "is the signal itself followed by 4 sec of silence, then the signal again, then 4 sec of silence, then the signal and then lastly 4 sec of silence."
   ]
  },
  {
   "cell_type": "code",
   "execution_count": null,
   "metadata": {},
   "outputs": [],
   "source": [
    "V_4s_silence = zeros(1, sample_rate*4);\n",
    "V_input = horzcat(V_cos_pulse, V_4s_silence, V_cos_pulse, V_4s_silence, V_cos_pulse, V_4s_silence);\n",
    "T_base = [0: 1/sample_rate: (size(V_input,2)-1)/sample_rate]; # The time base\n",
    "plot(T_base, V_input)\n",
    "ylabel(\"Amplitude (V)\")\n",
    "xlabel(\"Time (s)\")\n",
    "title(\"Figure 2: Input Signal - Time Domain\")\n",
    "axis([-0.5 15.5 -2 2])"
   ]
  },
  {
   "cell_type": "markdown",
   "metadata": {},
   "source": [
    "To do the matching, we convolve the time reversed signal we are searching for with the input signal. The peaks of the output indicate the moment of times the signal was detected."
   ]
  },
  {
   "cell_type": "code",
   "execution_count": null,
   "metadata": {},
   "outputs": [],
   "source": [
    "V_matching = flip(V_cos_pulse); # 'flip' does the time reversing, not really necessary for this signal\n",
    "V_matched = conv(V_matching, V_input);\n",
    "T_base = [0: 1/sample_rate: (size(V_matched,2)-1)/sample_rate]; # The time base, sampling at 6 kHz\n",
    "plot(T_base, V_matched)\n",
    "ylabel(\"Amplitude (V)\")\n",
    "xlabel(\"Time (s)\")\n",
    "title(\"Figure 3: Matched Filter Output - Time Domain\")\n",
    "axis([-0.5 15.5])"
   ]
  },
  {
   "cell_type": "markdown",
   "metadata": {},
   "source": [
    "The peaks of the envelope determines where each of the cosine pulses end.\n",
    "\n",
    "For the next part of the example, it will be determined if the signal\n",
    "can be detected in the presence of noise. First come up with\n",
    "the input signal with the noise at a SNR = -20."
   ]
  },
  {
   "cell_type": "code",
   "execution_count": null,
   "metadata": {},
   "outputs": [],
   "source": [
    "snr = -20; # dB\n",
    "# Linearize the SNR\n",
    "snr_lin = 10^(snr/10);\n",
    "# Determine the original signal power\n",
    "e_sig = sum(abs(V_cos_pulse).^2)/size(V_cos_pulse,2);\n",
    "# And then get noise spectral density\n",
    "n_0 = e_sig/snr_lin;\n",
    "n_sigma = sqrt(n_0);\n",
    "\n",
    "V_noise = n_sigma * randn(1,size(V_input,2));\n",
    "V_noisy_input = V_input .+ V_noise;\n",
    "T_base = [0: 1/sample_rate: (size(V_input,2)-1)/sample_rate]; # The time base\n",
    "plot(T_base, V_noisy_input)\n",
    "ylabel(\"Amplitude (V)\")\n",
    "xlabel(\"Time (s)\")\n",
    "title(\"Figure 4: Input Signal with Noise - Time Domain\")\n",
    "axis([-0.5 15.5])"
   ]
  },
  {
   "cell_type": "markdown",
   "metadata": {},
   "source": [
    "Can you see the pulse amongst the noise? Let's plot them next to each other\n",
    "for magnitude comparision (Figure 5)."
   ]
  },
  {
   "cell_type": "code",
   "execution_count": null,
   "metadata": {},
   "outputs": [],
   "source": [
    "V_compare = horzcat(V_input, V_noise);\n",
    "T_base = [0: 1/sample_rate: (size(V_compare,2)-1)/sample_rate]; # The time base\n",
    "plot(T_base, V_compare)\n",
    "ylabel(\"Amplitude (V)\")\n",
    "xlabel(\"Time (s)\")\n",
    "title(\"Figure 5: Magnitude Comparision of Cosine Pulses and Noise - Time Domain\")\n",
    "axis([-0.5 30.5])"
   ]
  },
  {
   "cell_type": "markdown",
   "metadata": {},
   "source": [
    "Finally lets examine the matched filter output (Figure 6)."
   ]
  },
  {
   "cell_type": "code",
   "execution_count": null,
   "metadata": {},
   "outputs": [],
   "source": [
    "V_matched = conv(V_matching, V_noisy_input);\n",
    "T_base = [0: 1/sample_rate: (size(V_matched,2)-1)/sample_rate]; # The time base, sampling at 6 kHz\n",
    "plot(T_base, V_matched)\n",
    "ylabel(\"Amplitude (V)\")\n",
    "xlabel(\"Time (s)\")\n",
    "title(\"Figure 6: Matched Filter Output - Time Domain\")\n",
    "axis([-0.5 15.5])"
   ]
  },
  {
   "cell_type": "markdown",
   "metadata": {},
   "source": [
    "So even though the cosine pulses are 20 dB less than the noise, the matched filter\n",
    "is able to pull them out."
   ]
  },
  {
   "cell_type": "markdown",
   "metadata": {},
   "source": [
    "# A Brief Review of Signal Analysis In The Time and Frequency Domains \n",
    "Before taking on using a matched filter in the _frequency_ domain, a short review of signal analysis in both the time and frequency domain.\n",
    "\n",
    "Consider again a 20 Hz cosine pulse lasting 1s (Figure 1)."
   ]
  },
  {
   "cell_type": "code",
   "execution_count": 32,
   "metadata": {},
   "outputs": [
    {
     "data": {
      "image/svg+xml": [
       "<svg height=\"420px\" viewBox=\"0 0 560 420\" width=\"560px\" xmlns=\"http://www.w3.org/2000/svg\" xmlns:xlink=\"http://www.w3.org/1999/xlink\">\n",
       "\n",
       "<title>Gnuplot</title>\n",
       "<desc>Produced by GNUPLOT 5.2 patchlevel 2 </desc>\n",
       "\n",
       "<g id=\"gnuplot_canvas\">\n",
       "\n",
       "<rect fill=\"none\" height=\"420\" width=\"560\" x=\"0\" y=\"0\"/>\n",
       "<defs>\n",
       "\n",
       "\t<circle id=\"gpDot\" r=\"0.5\" stroke-width=\"0.5\"/>\n",
       "\t<path d=\"M-1,0 h2 M0,-1 v2\" id=\"gpPt0\" stroke=\"currentColor\" stroke-width=\"0.222\"/>\n",
       "\t<path d=\"M-1,-1 L1,1 M1,-1 L-1,1\" id=\"gpPt1\" stroke=\"currentColor\" stroke-width=\"0.222\"/>\n",
       "\t<path d=\"M-1,0 L1,0 M0,-1 L0,1 M-1,-1 L1,1 M-1,1 L1,-1\" id=\"gpPt2\" stroke=\"currentColor\" stroke-width=\"0.222\"/>\n",
       "\t<rect height=\"2\" id=\"gpPt3\" stroke=\"currentColor\" stroke-width=\"0.222\" width=\"2\" x=\"-1\" y=\"-1\"/>\n",
       "\t<rect fill=\"currentColor\" height=\"2\" id=\"gpPt4\" stroke=\"currentColor\" stroke-width=\"0.222\" width=\"2\" x=\"-1\" y=\"-1\"/>\n",
       "\t<circle cx=\"0\" cy=\"0\" id=\"gpPt5\" r=\"1\" stroke=\"currentColor\" stroke-width=\"0.222\"/>\n",
       "\t<use fill=\"currentColor\" id=\"gpPt6\" stroke=\"none\" xlink:href=\"#gpPt5\"/>\n",
       "\t<path d=\"M0,-1.33 L-1.33,0.67 L1.33,0.67 z\" id=\"gpPt7\" stroke=\"currentColor\" stroke-width=\"0.222\"/>\n",
       "\t<use fill=\"currentColor\" id=\"gpPt8\" stroke=\"none\" xlink:href=\"#gpPt7\"/>\n",
       "\t<use id=\"gpPt9\" stroke=\"currentColor\" transform=\"rotate(180)\" xlink:href=\"#gpPt7\"/>\n",
       "\t<use fill=\"currentColor\" id=\"gpPt10\" stroke=\"none\" xlink:href=\"#gpPt9\"/>\n",
       "\t<use id=\"gpPt11\" stroke=\"currentColor\" transform=\"rotate(45)\" xlink:href=\"#gpPt3\"/>\n",
       "\t<use fill=\"currentColor\" id=\"gpPt12\" stroke=\"none\" xlink:href=\"#gpPt11\"/>\n",
       "\t<path d=\"M0,1.330 L1.265,0.411 L0.782,-1.067 L-0.782,-1.076 L-1.265,0.411 z\" id=\"gpPt13\" stroke=\"currentColor\" stroke-width=\"0.222\"/>\n",
       "\t<use fill=\"currentColor\" id=\"gpPt14\" stroke=\"none\" xlink:href=\"#gpPt13\"/>\n",
       "\t<filter filterUnits=\"objectBoundingBox\" height=\"1\" id=\"textbox\" width=\"1\" x=\"0\" y=\"0\">\n",
       "\t  <feFlood flood-color=\"white\" flood-opacity=\"1\" result=\"bgnd\"/>\n",
       "\t  <feComposite in=\"SourceGraphic\" in2=\"bgnd\" operator=\"atop\"/>\n",
       "\t</filter>\n",
       "\t<filter filterUnits=\"objectBoundingBox\" height=\"1\" id=\"greybox\" width=\"1\" x=\"0\" y=\"0\">\n",
       "\t  <feFlood flood-color=\"lightgrey\" flood-opacity=\"1\" result=\"grey\"/>\n",
       "\t  <feComposite in=\"SourceGraphic\" in2=\"grey\" operator=\"atop\"/>\n",
       "\t</filter>\n",
       "</defs>\n",
       "<g color=\"white\" fill=\"none\" stroke=\"currentColor\" stroke-linecap=\"butt\" stroke-linejoin=\"miter\" stroke-width=\"1.00\">\n",
       "</g>\n",
       "<g color=\"black\" fill=\"none\" stroke=\"currentColor\" stroke-linecap=\"butt\" stroke-linejoin=\"miter\" stroke-width=\"1.00\">\n",
       "\t<g shape-rendering=\"crispEdges\" stroke=\"none\">\n",
       "\t\t<polygon fill=\"rgb(255, 255, 255)\" points=\"71.9,362.4 534.9,362.4 534.9,52.7 71.9,52.7 \"/>\n",
       "\t</g>\n",
       "</g>\n",
       "<g color=\"black\" fill=\"none\" stroke=\"currentColor\" stroke-linecap=\"butt\" stroke-linejoin=\"miter\" stroke-width=\"1.00\">\n",
       "\t<path d=\"M71.9,362.4 L84.4,362.4 M535.0,362.4 L522.5,362.4  \" stroke=\"rgb(  0,   0,   0)\"/>\t<g fill=\"rgb(38,38,38)\" font-family=\"Arial\" font-size=\"10.00\" stroke=\"none\" text-anchor=\"end\" transform=\"translate(63.6,365.7)\">\n",
       "\t\t<text><tspan font-family=\"Arial\">-2</tspan></text>\n",
       "\t</g>\n",
       "</g>\n",
       "<g color=\"black\" fill=\"none\" stroke=\"currentColor\" stroke-linecap=\"butt\" stroke-linejoin=\"miter\" stroke-width=\"1.00\">\n",
       "\t<path d=\"M71.9,323.7 L84.4,323.7 M535.0,323.7 L522.5,323.7  \" stroke=\"rgb(  0,   0,   0)\"/>\t<g fill=\"rgb(38,38,38)\" font-family=\"Arial\" font-size=\"10.00\" stroke=\"none\" text-anchor=\"end\" transform=\"translate(63.6,327.0)\">\n",
       "\t\t<text><tspan font-family=\"Arial\">-1.5</tspan></text>\n",
       "\t</g>\n",
       "</g>\n",
       "<g color=\"black\" fill=\"none\" stroke=\"currentColor\" stroke-linecap=\"butt\" stroke-linejoin=\"miter\" stroke-width=\"1.00\">\n",
       "\t<path d=\"M71.9,284.9 L84.4,284.9 M535.0,284.9 L522.5,284.9  \" stroke=\"rgb(  0,   0,   0)\"/>\t<g fill=\"rgb(38,38,38)\" font-family=\"Arial\" font-size=\"10.00\" stroke=\"none\" text-anchor=\"end\" transform=\"translate(63.6,288.2)\">\n",
       "\t\t<text><tspan font-family=\"Arial\">-1</tspan></text>\n",
       "\t</g>\n",
       "</g>\n",
       "<g color=\"black\" fill=\"none\" stroke=\"currentColor\" stroke-linecap=\"butt\" stroke-linejoin=\"miter\" stroke-width=\"1.00\">\n",
       "\t<path d=\"M71.9,246.2 L84.4,246.2 M535.0,246.2 L522.5,246.2  \" stroke=\"rgb(  0,   0,   0)\"/>\t<g fill=\"rgb(38,38,38)\" font-family=\"Arial\" font-size=\"10.00\" stroke=\"none\" text-anchor=\"end\" transform=\"translate(63.6,249.5)\">\n",
       "\t\t<text><tspan font-family=\"Arial\">-0.5</tspan></text>\n",
       "\t</g>\n",
       "</g>\n",
       "<g color=\"black\" fill=\"none\" stroke=\"currentColor\" stroke-linecap=\"butt\" stroke-linejoin=\"miter\" stroke-width=\"1.00\">\n",
       "\t<path d=\"M71.9,207.5 L84.4,207.5 M535.0,207.5 L522.5,207.5  \" stroke=\"rgb(  0,   0,   0)\"/>\t<g fill=\"rgb(38,38,38)\" font-family=\"Arial\" font-size=\"10.00\" stroke=\"none\" text-anchor=\"end\" transform=\"translate(63.6,210.8)\">\n",
       "\t\t<text><tspan font-family=\"Arial\">0</tspan></text>\n",
       "\t</g>\n",
       "</g>\n",
       "<g color=\"black\" fill=\"none\" stroke=\"currentColor\" stroke-linecap=\"butt\" stroke-linejoin=\"miter\" stroke-width=\"1.00\">\n",
       "\t<path d=\"M71.9,168.8 L84.4,168.8 M535.0,168.8 L522.5,168.8  \" stroke=\"rgb(  0,   0,   0)\"/>\t<g fill=\"rgb(38,38,38)\" font-family=\"Arial\" font-size=\"10.00\" stroke=\"none\" text-anchor=\"end\" transform=\"translate(63.6,172.1)\">\n",
       "\t\t<text><tspan font-family=\"Arial\">0.5</tspan></text>\n",
       "\t</g>\n",
       "</g>\n",
       "<g color=\"black\" fill=\"none\" stroke=\"currentColor\" stroke-linecap=\"butt\" stroke-linejoin=\"miter\" stroke-width=\"1.00\">\n",
       "\t<path d=\"M71.9,130.0 L84.4,130.0 M535.0,130.0 L522.5,130.0  \" stroke=\"rgb(  0,   0,   0)\"/>\t<g fill=\"rgb(38,38,38)\" font-family=\"Arial\" font-size=\"10.00\" stroke=\"none\" text-anchor=\"end\" transform=\"translate(63.6,133.3)\">\n",
       "\t\t<text><tspan font-family=\"Arial\">1</tspan></text>\n",
       "\t</g>\n",
       "</g>\n",
       "<g color=\"black\" fill=\"none\" stroke=\"currentColor\" stroke-linecap=\"butt\" stroke-linejoin=\"miter\" stroke-width=\"1.00\">\n",
       "\t<path d=\"M71.9,91.3 L84.4,91.3 M535.0,91.3 L522.5,91.3  \" stroke=\"rgb(  0,   0,   0)\"/>\t<g fill=\"rgb(38,38,38)\" font-family=\"Arial\" font-size=\"10.00\" stroke=\"none\" text-anchor=\"end\" transform=\"translate(63.6,94.6)\">\n",
       "\t\t<text><tspan font-family=\"Arial\">1.5</tspan></text>\n",
       "\t</g>\n",
       "</g>\n",
       "<g color=\"black\" fill=\"none\" stroke=\"currentColor\" stroke-linecap=\"butt\" stroke-linejoin=\"miter\" stroke-width=\"1.00\">\n",
       "\t<path d=\"M71.9,52.6 L84.4,52.6 M535.0,52.6 L522.5,52.6  \" stroke=\"rgb(  0,   0,   0)\"/>\t<g fill=\"rgb(38,38,38)\" font-family=\"Arial\" font-size=\"10.00\" stroke=\"none\" text-anchor=\"end\" transform=\"translate(63.6,55.9)\">\n",
       "\t\t<text><tspan font-family=\"Arial\">2</tspan></text>\n",
       "\t</g>\n",
       "</g>\n",
       "<g color=\"black\" fill=\"none\" stroke=\"currentColor\" stroke-linecap=\"butt\" stroke-linejoin=\"miter\" stroke-width=\"1.00\">\n",
       "\t<path d=\"M71.9,362.4 L71.9,349.9 M71.9,52.6 L71.9,65.1  \" stroke=\"rgb(  0,   0,   0)\"/>\t<g fill=\"rgb(38,38,38)\" font-family=\"Arial\" font-size=\"10.00\" stroke=\"none\" text-anchor=\"middle\" transform=\"translate(71.9,383.7)\">\n",
       "\t\t<text><tspan font-family=\"Arial\">-0.5</tspan></text>\n",
       "\t</g>\n",
       "</g>\n",
       "<g color=\"black\" fill=\"none\" stroke=\"currentColor\" stroke-linecap=\"butt\" stroke-linejoin=\"miter\" stroke-width=\"1.00\">\n",
       "\t<path d=\"M187.7,362.4 L187.7,349.9 M187.7,52.6 L187.7,65.1  \" stroke=\"rgb(  0,   0,   0)\"/>\t<g fill=\"rgb(38,38,38)\" font-family=\"Arial\" font-size=\"10.00\" stroke=\"none\" text-anchor=\"middle\" transform=\"translate(187.7,383.7)\">\n",
       "\t\t<text><tspan font-family=\"Arial\">0</tspan></text>\n",
       "\t</g>\n",
       "</g>\n",
       "<g color=\"black\" fill=\"none\" stroke=\"currentColor\" stroke-linecap=\"butt\" stroke-linejoin=\"miter\" stroke-width=\"1.00\">\n",
       "\t<path d=\"M303.5,362.4 L303.5,349.9 M303.5,52.6 L303.5,65.1  \" stroke=\"rgb(  0,   0,   0)\"/>\t<g fill=\"rgb(38,38,38)\" font-family=\"Arial\" font-size=\"10.00\" stroke=\"none\" text-anchor=\"middle\" transform=\"translate(303.5,383.7)\">\n",
       "\t\t<text><tspan font-family=\"Arial\">0.5</tspan></text>\n",
       "\t</g>\n",
       "</g>\n",
       "<g color=\"black\" fill=\"none\" stroke=\"currentColor\" stroke-linecap=\"butt\" stroke-linejoin=\"miter\" stroke-width=\"1.00\">\n",
       "\t<path d=\"M419.2,362.4 L419.2,349.9 M419.2,52.6 L419.2,65.1  \" stroke=\"rgb(  0,   0,   0)\"/>\t<g fill=\"rgb(38,38,38)\" font-family=\"Arial\" font-size=\"10.00\" stroke=\"none\" text-anchor=\"middle\" transform=\"translate(419.2,383.7)\">\n",
       "\t\t<text><tspan font-family=\"Arial\">1</tspan></text>\n",
       "\t</g>\n",
       "</g>\n",
       "<g color=\"black\" fill=\"none\" stroke=\"currentColor\" stroke-linecap=\"butt\" stroke-linejoin=\"miter\" stroke-width=\"1.00\">\n",
       "\t<path d=\"M535.0,362.4 L535.0,349.9 M535.0,52.6 L535.0,65.1  \" stroke=\"rgb(  0,   0,   0)\"/>\t<g fill=\"rgb(38,38,38)\" font-family=\"Arial\" font-size=\"10.00\" stroke=\"none\" text-anchor=\"middle\" transform=\"translate(535.0,383.7)\">\n",
       "\t\t<text><tspan font-family=\"Arial\">1.5</tspan></text>\n",
       "\t</g>\n",
       "</g>\n",
       "<g color=\"black\" fill=\"none\" stroke=\"currentColor\" stroke-linecap=\"butt\" stroke-linejoin=\"miter\" stroke-width=\"1.00\">\n",
       "</g>\n",
       "<g color=\"black\" fill=\"none\" stroke=\"currentColor\" stroke-linecap=\"butt\" stroke-linejoin=\"miter\" stroke-width=\"1.00\">\n",
       "\t<g fill=\"rgb(38,38,38)\" font-family=\"Arial\" font-size=\"11.00\" stroke=\"none\" text-anchor=\"middle\" transform=\"translate(15.9,207.5) rotate(-90)\">\n",
       "\t\t<text><tspan font-family=\"Arial\">Amplitude (V)</tspan></text>\n",
       "\t</g>\n",
       "</g>\n",
       "<g color=\"black\" fill=\"none\" stroke=\"currentColor\" stroke-linecap=\"butt\" stroke-linejoin=\"miter\" stroke-width=\"1.00\">\n",
       "\t<g fill=\"rgb(38,38,38)\" font-family=\"Arial\" font-size=\"11.00\" stroke=\"none\" text-anchor=\"middle\" transform=\"translate(303.4,411.0)\">\n",
       "\t\t<text><tspan font-family=\"Arial\">Time (s)</tspan></text>\n",
       "\t</g>\n",
       "</g>\n",
       "<g color=\"black\" fill=\"none\" stroke=\"currentColor\" stroke-linecap=\"butt\" stroke-linejoin=\"miter\" stroke-width=\"1.00\">\n",
       "\t<g fill=\"rgb(0,0,0)\" font-family=\":Bold\" font-size=\"11.00\" stroke=\"none\" text-anchor=\"middle\" transform=\"translate(303.4,30.7)\">\n",
       "\t\t<text><tspan font-family=\"\" font-weight=\"bold\">Figure 6: Cosine Pulse - Time domain</tspan></text>\n",
       "\t</g>\n",
       "</g>\n",
       "<g color=\"black\" fill=\"none\" stroke=\"currentColor\" stroke-linecap=\"butt\" stroke-linejoin=\"miter\" stroke-width=\"1.00\">\n",
       "</g>\n",
       "\t<g id=\"gnuplot_plot_1a\"><title>gnuplot_plot_1a</title>\n",
       "<g color=\"white\" fill=\"none\" stroke=\"currentColor\" stroke-linecap=\"butt\" stroke-linejoin=\"miter\" stroke-width=\"0.50\">\n",
       "</g>\n",
       "<g color=\"black\" fill=\"none\" stroke=\"currentColor\" stroke-linecap=\"butt\" stroke-linejoin=\"miter\" stroke-width=\"0.50\">\n",
       "\t<path d=\"M187.7,130.0 L187.7,130.1 L187.8,130.1 L187.8,130.2 L187.8,130.3 L187.9,130.5 L187.9,130.7 L187.9,130.9   L188.0,131.1 L188.0,131.4 L188.1,131.7 L188.1,132.1 L188.1,132.5 L188.2,132.9 L188.2,133.4 L188.3,133.8   L188.3,134.4 L188.3,134.9 L188.4,135.5 L188.4,136.1 L188.4,136.7 L188.5,137.4 L188.5,138.1 L188.6,138.9   L188.6,139.6 L188.6,140.4 L188.7,141.3 L188.7,142.1 L188.8,143.0 L188.8,143.9 L188.8,144.8 L188.9,145.8   L188.9,146.8 L188.9,147.8 L189.0,148.9 L189.0,149.9 L189.1,151.0 L189.1,152.2 L189.1,153.3 L189.2,154.5   L189.2,155.7 L189.3,156.9 L189.3,158.1 L189.3,159.4 L189.4,160.7 L189.4,162.0 L189.5,163.3 L189.5,164.6   L189.5,166.0 L189.6,167.4 L189.6,168.8 L189.6,170.2 L189.7,171.6 L189.7,173.1 L189.8,174.5 L189.8,176.0   L189.8,177.5 L189.9,179.0 L189.9,180.5 L190.0,182.0 L190.0,183.6 L190.0,185.1 L190.1,186.7 L190.1,188.2   L190.1,189.8 L190.2,191.4 L190.2,193.0 L190.3,194.6 L190.3,196.2 L190.3,197.8 L190.4,199.4 L190.4,201.0   L190.5,202.6 L190.5,204.3 L190.5,205.9 L190.6,207.5 L190.6,209.1 L190.6,210.7 L190.7,212.4 L190.7,214.0   L190.8,215.6 L190.8,217.2 L190.8,218.8 L190.9,220.4 L190.9,222.0 L191.0,223.6 L191.0,225.2 L191.0,226.8   L191.1,228.3 L191.1,229.9 L191.1,231.4 L191.2,233.0 L191.2,234.5 L191.3,236.0 L191.3,237.5 L191.3,239.0   L191.4,240.5 L191.4,241.9 L191.5,243.4 L191.5,244.8 L191.5,246.2 L191.6,247.6 L191.6,249.0 L191.6,250.4   L191.7,251.7 L191.7,253.0 L191.8,254.3 L191.8,255.6 L191.8,256.9 L191.9,258.1 L191.9,259.3 L192.0,260.5   L192.0,261.7 L192.0,262.8 L192.1,264.0 L192.1,265.1 L192.2,266.1 L192.2,267.2 L192.2,268.2 L192.3,269.2   L192.3,270.2 L192.3,271.1 L192.4,272.0 L192.4,272.9 L192.5,273.7 L192.5,274.6 L192.5,275.4 L192.6,276.1   L192.6,276.9 L192.7,277.6 L192.7,278.3 L192.7,278.9 L192.8,279.5 L192.8,280.1 L192.8,280.6 L192.9,281.2   L192.9,281.6 L193.0,282.1 L193.0,282.5 L193.0,282.9 L193.1,283.3 L193.1,283.6 L193.2,283.9 L193.2,284.1   L193.2,284.3 L193.3,284.5 L193.3,284.7 L193.3,284.8 L193.4,284.9 L193.5,284.9 L193.6,284.8 L193.6,284.7   L193.7,284.5 L193.7,284.3 L193.7,284.1 L193.8,283.9 L193.8,283.6 L193.8,283.3 L193.9,282.9 L193.9,282.5   L194.0,282.1 L194.0,281.6 L194.0,281.2 L194.1,280.6 L194.1,280.1 L194.2,279.5 L194.2,278.9 L194.2,278.3   L194.3,277.6 L194.3,276.9 L194.4,276.1 L194.4,275.4 L194.4,274.6 L194.5,273.7 L194.5,272.9 L194.5,272.0   L194.6,271.1 L194.6,270.2 L194.7,269.2 L194.7,268.2 L194.7,267.2 L194.8,266.1 L194.8,265.1 L194.9,264.0   L194.9,262.8 L194.9,261.7 L195.0,260.5 L195.0,259.3 L195.0,258.1 L195.1,256.9 L195.1,255.6 L195.2,254.3   L195.2,253.0 L195.2,251.7 L195.3,250.4 L195.3,249.0 L195.4,247.6 L195.4,246.2 L195.4,244.8 L195.5,243.4   L195.5,241.9 L195.5,240.5 L195.6,239.0 L195.6,237.5 L195.7,236.0 L195.7,234.5 L195.7,233.0 L195.8,231.4   L195.8,229.9 L195.9,228.3 L195.9,226.8 L195.9,225.2 L196.0,223.6 L196.0,222.0 L196.0,220.4 L196.1,218.8   L196.1,217.2 L196.2,215.6 L196.2,214.0 L196.2,212.4 L196.3,210.7 L196.3,209.1 L196.4,207.5 L196.4,205.9   L196.4,204.3 L196.5,202.6 L196.5,201.0 L196.6,199.4 L196.6,197.8 L196.6,196.2 L196.7,194.6 L196.7,193.0   L196.7,191.4 L196.8,189.8 L196.8,188.2 L196.9,186.7 L196.9,185.1 L196.9,183.6 L197.0,182.0 L197.0,180.5   L197.1,179.0 L197.1,177.5 L197.1,176.0 L197.2,174.5 L197.2,173.1 L197.2,171.6 L197.3,170.2 L197.3,168.8   L197.4,167.4 L197.4,166.0 L197.4,164.6 L197.5,163.3 L197.5,162.0 L197.6,160.7 L197.6,159.4 L197.6,158.1   L197.7,156.9 L197.7,155.7 L197.7,154.5 L197.8,153.3 L197.8,152.2 L197.9,151.0 L197.9,149.9 L197.9,148.9   L198.0,147.8 L198.0,146.8 L198.1,145.8 L198.1,144.8 L198.1,143.9 L198.2,143.0 L198.2,142.1 L198.2,141.3   L198.3,140.4 L198.3,139.6 L198.4,138.9 L198.4,138.1 L198.4,137.4 L198.5,136.7 L198.5,136.1 L198.6,135.5   L198.6,134.9 L198.6,134.4 L198.7,133.8 L198.7,133.4 L198.8,132.9 L198.8,132.5 L198.8,132.1 L198.9,131.7   L198.9,131.4 L198.9,131.1 L199.0,130.9 L199.0,130.7 L199.1,130.5 L199.1,130.3 L199.1,130.2 L199.2,130.1   L199.3,130.0 L199.3,130.1 L199.4,130.2 L199.4,130.3 L199.4,130.5 L199.5,130.7 L199.5,130.9 L199.6,131.1   L199.6,131.4 L199.6,131.7 L199.7,132.1 L199.7,132.5 L199.8,132.9 L199.8,133.4 L199.8,133.8 L199.9,134.4   L199.9,134.9 L199.9,135.5 L200.0,136.1 L200.0,136.7 L200.1,137.4 L200.1,138.1 L200.1,138.9 L200.2,139.6   L200.2,140.4 L200.3,141.3 L200.3,142.1 L200.3,143.0 L200.4,143.9 L200.4,144.8 L200.4,145.8 L200.5,146.8   L200.5,147.8 L200.6,148.9 L200.6,149.9 L200.6,151.0 L200.7,152.2 L200.7,153.3 L200.8,154.5 L200.8,155.7   L200.8,156.9 L200.9,158.1 L200.9,159.4 L201.0,160.7 L201.0,162.0 L201.0,163.3 L201.1,164.6 L201.1,166.0   L201.1,167.4 L201.2,168.8 L201.2,170.2 L201.3,171.6 L201.3,173.1 L201.3,174.5 L201.4,176.0 L201.4,177.5   L201.5,179.0 L201.5,180.5 L201.5,182.0 L201.6,183.6 L201.6,185.1 L201.6,186.7 L201.7,188.2 L201.7,189.8   L201.8,191.4 L201.8,193.0 L201.8,194.6 L201.9,196.2 L201.9,197.8 L202.0,199.4 L202.0,201.0 L202.0,202.6   L202.1,204.3 L202.1,205.9 L202.1,207.5 L202.2,209.1 L202.2,210.7 L202.3,212.4 L202.3,214.0 L202.3,215.6   L202.4,217.2 L202.4,218.8 L202.5,220.4 L202.5,222.0 L202.5,223.6 L202.6,225.2 L202.6,226.8 L202.6,228.3   L202.7,229.9 L202.7,231.4 L202.8,233.0 L202.8,234.5 L202.8,236.0 L202.9,237.5 L202.9,239.0 L203.0,240.5   L203.0,241.9 L203.0,243.4 L203.1,244.8 L203.1,246.2 L203.2,247.6 L203.2,249.0 L203.2,250.4 L203.3,251.7   L203.3,253.0 L203.3,254.3 L203.4,255.6 L203.4,256.9 L203.5,258.1 L203.5,259.3 L203.5,260.5 L203.6,261.7   L203.6,262.8 L203.7,264.0 L203.7,265.1 L203.7,266.1 L203.8,267.2 L203.8,268.2 L203.8,269.2 L203.9,270.2   L203.9,271.1 L204.0,272.0 L204.0,272.9 L204.0,273.7 L204.1,274.6 L204.1,275.4 L204.2,276.1 L204.2,276.9   L204.2,277.6 L204.3,278.3 L204.3,278.9 L204.3,279.5 L204.4,280.1 L204.4,280.6 L204.5,281.2 L204.5,281.6   L204.5,282.1 L204.6,282.5 L204.6,282.9 L204.7,283.3 L204.7,283.6 L204.7,283.9 L204.8,284.1 L204.8,284.3   L204.8,284.5 L204.9,284.7 L204.9,284.8 L205.0,284.9 L205.1,284.9 L205.2,284.8 L205.2,284.7 L205.2,284.5   L205.3,284.3 L205.3,284.1 L205.3,283.9 L205.4,283.6 L205.4,283.3 L205.5,282.9 L205.5,282.5 L205.5,282.1   L205.6,281.6 L205.6,281.2 L205.7,280.6 L205.7,280.1 L205.7,279.5 L205.8,278.9 L205.8,278.3 L205.9,277.6   L205.9,276.9 L205.9,276.1 L206.0,275.4 L206.0,274.6 L206.0,273.7 L206.1,272.9 L206.1,272.0 L206.2,271.1   L206.2,270.2 L206.2,269.2 L206.3,268.2 L206.3,267.2 L206.4,266.1 L206.4,265.1 L206.4,264.0 L206.5,262.8   L206.5,261.7 L206.5,260.5 L206.6,259.3 L206.6,258.1 L206.7,256.9 L206.7,255.6 L206.7,254.3 L206.8,253.0   L206.8,251.7 L206.9,250.4 L206.9,249.0 L206.9,247.6 L207.0,246.2 L207.0,244.8 L207.0,243.4 L207.1,241.9   L207.1,240.5 L207.2,239.0 L207.2,237.5 L207.2,236.0 L207.3,234.5 L207.3,233.0 L207.4,231.4 L207.4,229.9   L207.4,228.3 L207.5,226.8 L207.5,225.2 L207.5,223.6 L207.6,222.0 L207.6,220.4 L207.7,218.8 L207.7,217.2   L207.7,215.6 L207.8,214.0 L207.8,212.4 L207.9,210.7 L207.9,209.1 L207.9,207.5 L208.0,205.9 L208.0,204.3   L208.1,202.6 L208.1,201.0 L208.1,199.4 L208.2,197.8 L208.2,196.2 L208.2,194.6 L208.3,193.0 L208.3,191.4   L208.4,189.8 L208.4,188.2 L208.4,186.7 L208.5,185.1 L208.5,183.6 L208.6,182.0 L208.6,180.5 L208.6,179.0   L208.7,177.5 L208.7,176.0 L208.7,174.5 L208.8,173.1 L208.8,171.6 L208.9,170.2 L208.9,168.8 L208.9,167.4   L209.0,166.0 L209.0,164.6 L209.1,163.3 L209.1,162.0 L209.1,160.7 L209.2,159.4 L209.2,158.1 L209.2,156.9   L209.3,155.7 L209.3,154.5 L209.4,153.3 L209.4,152.2 L209.4,151.0 L209.5,149.9 L209.5,148.9 L209.6,147.8   L209.6,146.8 L209.6,145.8 L209.7,144.8 L209.7,143.9 L209.7,143.0 L209.8,142.1 L209.8,141.3 L209.9,140.4   L209.9,139.6 L209.9,138.9 L210.0,138.1 L210.0,137.4 L210.1,136.7 L210.1,136.1 L210.1,135.5 L210.2,134.9   L210.2,134.4 L210.3,133.8 L210.3,133.4 L210.3,132.9 L210.4,132.5 L210.4,132.1 L210.4,131.7 L210.5,131.4   L210.5,131.1 L210.6,130.9 L210.6,130.7 L210.6,130.5 L210.7,130.3 L210.7,130.2 L210.8,130.1 L210.8,130.0   L210.9,130.1 L210.9,130.2 L211.0,130.3 L211.0,130.5 L211.1,130.7 L211.1,130.9 L211.1,131.1 L211.2,131.4   L211.2,131.7 L211.3,132.1 L211.3,132.5 L211.3,132.9 L211.4,133.4 L211.4,133.8 L211.4,134.4 L211.5,134.9   L211.5,135.5 L211.6,136.1 L211.6,136.7 L211.6,137.4 L211.7,138.1 L211.7,138.9 L211.8,139.6 L211.8,140.4   L211.8,141.3 L211.9,142.1 L211.9,143.0 L211.9,143.9 L212.0,144.8 L212.0,145.8 L212.1,146.8 L212.1,147.8   L212.1,148.9 L212.2,149.9 L212.2,151.0 L212.3,152.2 L212.3,153.3 L212.3,154.5 L212.4,155.7 L212.4,156.9   L212.5,158.1 L212.5,159.4 L212.5,160.7 L212.6,162.0 L212.6,163.3 L212.6,164.6 L212.7,166.0 L212.7,167.4   L212.8,168.8 L212.8,170.2 L212.8,171.6 L212.9,173.1 L212.9,174.5 L213.0,176.0 L213.0,177.5 L213.0,179.0   L213.1,180.5 L213.1,182.0 L213.1,183.6 L213.2,185.1 L213.2,186.7 L213.3,188.2 L213.3,189.8 L213.3,191.4   L213.4,193.0 L213.4,194.6 L213.5,196.2 L213.5,197.8 L213.5,199.4 L213.6,201.0 L213.6,202.6 L213.6,204.3   L213.7,205.9 L213.7,207.5 L213.8,209.1 L213.8,210.7 L213.8,212.4 L213.9,214.0 L213.9,215.6 L214.0,217.2   L214.0,218.8 L214.0,220.4 L214.1,222.0 L214.1,223.6 L214.1,225.2 L214.2,226.8 L214.2,228.3 L214.3,229.9   L214.3,231.4 L214.3,233.0 L214.4,234.5 L214.4,236.0 L214.5,237.5 L214.5,239.0 L214.5,240.5 L214.6,241.9   L214.6,243.4 L214.7,244.8 L214.7,246.2 L214.7,247.6 L214.8,249.0 L214.8,250.4 L214.8,251.7 L214.9,253.0   L214.9,254.3 L215.0,255.6 L215.0,256.9 L215.0,258.1 L215.1,259.3 L215.1,260.5 L215.2,261.7 L215.2,262.8   L215.2,264.0 L215.3,265.1 L215.3,266.1 L215.3,267.2 L215.4,268.2 L215.4,269.2 L215.5,270.2 L215.5,271.1   L215.5,272.0 L215.6,272.9 L215.6,273.7 L215.7,274.6 L215.7,275.4 L215.7,276.1 L215.8,276.9 L215.8,277.6   L215.8,278.3 L215.9,278.9 L215.9,279.5 L216.0,280.1 L216.0,280.6 L216.0,281.2 L216.1,281.6 L216.1,282.1   L216.2,282.5 L216.2,282.9 L216.2,283.3 L216.3,283.6 L216.3,283.9 L216.3,284.1 L216.4,284.3 L216.4,284.5   L216.5,284.7 L216.5,284.8 L216.5,284.9 L216.6,284.9 L216.7,284.9 L216.7,284.8 L216.8,284.7 L216.8,284.5   L216.9,284.3 L216.9,284.1 L216.9,283.9 L217.0,283.6 L217.0,283.3 L217.0,282.9 L217.1,282.5 L217.1,282.1   L217.2,281.6 L217.2,281.2 L217.2,280.6 L217.3,280.1 L217.3,279.5 L217.4,278.9 L217.4,278.3 L217.4,277.6   L217.5,276.9 L217.5,276.1 L217.5,275.4 L217.6,274.6 L217.6,273.7 L217.7,272.9 L217.7,272.0 L217.7,271.1   L217.8,270.2 L217.8,269.2 L217.9,268.2 L217.9,267.2 L217.9,266.1 L218.0,265.1 L218.0,264.0 L218.0,262.8   L218.1,261.7 L218.1,260.5 L218.2,259.3 L218.2,258.1 L218.2,256.9 L218.3,255.6 L218.3,254.3 L218.4,253.0   L218.4,251.7 L218.4,250.4 L218.5,249.0 L218.5,247.6 L218.5,246.2 L218.6,244.8 L218.6,243.4 L218.7,241.9   L218.7,240.5 L218.7,239.0 L218.8,237.5 L218.8,236.0 L218.9,234.5 L218.9,233.0 L218.9,231.4 L219.0,229.9   L219.0,228.3 L219.1,226.8 L219.1,225.2 L219.1,223.6 L219.2,222.0 L219.2,220.4 L219.2,218.8 L219.3,217.2   L219.3,215.6 L219.4,214.0 L219.4,212.4 L219.4,210.7 L219.5,209.1 L219.5,207.5 L219.6,205.9 L219.6,204.3   L219.6,202.6 L219.7,201.0 L219.7,199.4 L219.7,197.8 L219.8,196.2 L219.8,194.6 L219.9,193.0 L219.9,191.4   L219.9,189.8 L220.0,188.2 L220.0,186.7 L220.1,185.1 L220.1,183.6 L220.1,182.0 L220.2,180.5 L220.2,179.0   L220.2,177.5 L220.3,176.0 L220.3,174.5 L220.4,173.1 L220.4,171.6 L220.4,170.2 L220.5,168.8 L220.5,167.4   L220.6,166.0 L220.6,164.6 L220.6,163.3 L220.7,162.0 L220.7,160.7 L220.7,159.4 L220.8,158.1 L220.8,156.9   L220.9,155.7 L220.9,154.5 L220.9,153.3 L221.0,152.2 L221.0,151.0 L221.1,149.9 L221.1,148.9 L221.1,147.8   L221.2,146.8 L221.2,145.8 L221.2,144.8 L221.3,143.9 L221.3,143.0 L221.4,142.1 L221.4,141.3 L221.4,140.4   L221.5,139.6 L221.5,138.9 L221.6,138.1 L221.6,137.4 L221.6,136.7 L221.7,136.1 L221.7,135.5 L221.8,134.9   L221.8,134.4 L221.8,133.8 L221.9,133.4 L221.9,132.9 L221.9,132.5 L222.0,132.1 L222.0,131.7 L222.1,131.4   L222.1,131.1 L222.1,130.9 L222.2,130.7 L222.2,130.5 L222.3,130.3 L222.3,130.2 L222.3,130.1 L222.4,130.1   L222.4,130.0 L222.4,130.1 L222.5,130.1 L222.5,130.2 L222.6,130.3 L222.6,130.5 L222.6,130.7 L222.7,130.9   L222.7,131.1 L222.8,131.4 L222.8,131.7 L222.8,132.1 L222.9,132.5 L222.9,132.9 L222.9,133.4 L223.0,133.8   L223.0,134.4 L223.1,134.9 L223.1,135.5 L223.1,136.1 L223.2,136.7 L223.2,137.4 L223.3,138.1 L223.3,138.9   L223.3,139.6 L223.4,140.4 L223.4,141.3 L223.4,142.1 L223.5,143.0 L223.5,143.9 L223.6,144.8 L223.6,145.8   L223.6,146.8 L223.7,147.8 L223.7,148.9 L223.8,149.9 L223.8,151.0 L223.8,152.2 L223.9,153.3 L223.9,154.5   L224.0,155.7 L224.0,156.9 L224.0,158.1 L224.1,159.4 L224.1,160.7 L224.1,162.0 L224.2,163.3 L224.2,164.6   L224.3,166.0 L224.3,167.4 L224.3,168.8 L224.4,170.2 L224.4,171.6 L224.5,173.1 L224.5,174.5 L224.5,176.0   L224.6,177.5 L224.6,179.0 L224.6,180.5 L224.7,182.0 L224.7,183.6 L224.8,185.1 L224.8,186.7 L224.8,188.2   L224.9,189.8 L224.9,191.4 L225.0,193.0 L225.0,194.6 L225.0,196.2 L225.1,197.8 L225.1,199.4 L225.1,201.0   L225.2,202.6 L225.2,204.3 L225.3,205.9 L225.3,207.5 L225.3,209.1 L225.4,210.7 L225.4,212.4 L225.5,214.0   L225.5,215.6 L225.5,217.2 L225.6,218.8 L225.6,220.4 L225.6,222.0 L225.7,223.6 L225.7,225.2 L225.8,226.8   L225.8,228.3 L225.8,229.9 L225.9,231.4 L225.9,233.0 L226.0,234.5 L226.0,236.0 L226.0,237.5 L226.1,239.0   L226.1,240.5 L226.2,241.9 L226.2,243.4 L226.2,244.8 L226.3,246.2 L226.3,247.6 L226.3,249.0 L226.4,250.4   L226.4,251.7 L226.5,253.0 L226.5,254.3 L226.5,255.6 L226.6,256.9 L226.6,258.1 L226.7,259.3 L226.7,260.5   L226.7,261.7 L226.8,262.8 L226.8,264.0 L226.8,265.1 L226.9,266.1 L226.9,267.2 L227.0,268.2 L227.0,269.2   L227.0,270.2 L227.1,271.1 L227.1,272.0 L227.2,272.9 L227.2,273.7 L227.2,274.6 L227.3,275.4 L227.3,276.1   L227.3,276.9 L227.4,277.6 L227.4,278.3 L227.5,278.9 L227.5,279.5 L227.5,280.1 L227.6,280.6 L227.6,281.2   L227.7,281.6 L227.7,282.1 L227.7,282.5 L227.8,282.9 L227.8,283.3 L227.8,283.6 L227.9,283.9 L227.9,284.1   L228.0,284.3 L228.0,284.5 L228.0,284.7 L228.1,284.8 L228.1,284.9 L228.2,284.9 L228.3,284.9 L228.3,284.8   L228.4,284.7 L228.4,284.5 L228.4,284.3 L228.5,284.1 L228.5,283.9 L228.5,283.6 L228.6,283.3 L228.6,282.9   L228.7,282.5 L228.7,282.1 L228.7,281.6 L228.8,281.2 L228.8,280.6 L228.9,280.1 L228.9,279.5 L228.9,278.9   L229.0,278.3 L229.0,277.6 L229.0,276.9 L229.1,276.1 L229.1,275.4 L229.2,274.6 L229.2,273.7 L229.2,272.9   L229.3,272.0 L229.3,271.1 L229.4,270.2 L229.4,269.2 L229.4,268.2 L229.5,267.2 L229.5,266.1 L229.5,265.1   L229.6,264.0 L229.6,262.8 L229.7,261.7 L229.7,260.5 L229.7,259.3 L229.8,258.1 L229.8,256.9 L229.9,255.6   L229.9,254.3 L229.9,253.0 L230.0,251.7 L230.0,250.4 L230.0,249.0 L230.1,247.6 L230.1,246.2 L230.2,244.8   L230.2,243.4 L230.2,241.9 L230.3,240.5 L230.3,239.0 L230.4,237.5 L230.4,236.0 L230.4,234.5 L230.5,233.0   L230.5,231.4 L230.6,229.9 L230.6,228.3 L230.6,226.8 L230.7,225.2 L230.7,223.6 L230.7,222.0 L230.8,220.4   L230.8,218.8 L230.9,217.2 L230.9,215.6 L230.9,214.0 L231.0,212.4 L231.0,210.7 L231.1,209.1 L231.1,207.5   L231.1,205.9 L231.2,204.3 L231.2,202.6 L231.2,201.0 L231.3,199.4 L231.3,197.8 L231.4,196.2 L231.4,194.6   L231.4,193.0 L231.5,191.4 L231.5,189.8 L231.6,188.2 L231.6,186.7 L231.6,185.1 L231.7,183.6 L231.7,182.0   L231.7,180.5 L231.8,179.0 L231.8,177.5 L231.9,176.0 L231.9,174.5 L231.9,173.1 L232.0,171.6 L232.0,170.2   L232.1,168.8 L232.1,167.4 L232.1,166.0 L232.2,164.6 L232.2,163.3 L232.2,162.0 L232.3,160.7 L232.3,159.4   L232.4,158.1 L232.4,156.9 L232.4,155.7 L232.5,154.5 L232.5,153.3 L232.6,152.2 L232.6,151.0 L232.6,149.9   L232.7,148.9 L232.7,147.8 L232.8,146.8 L232.8,145.8 L232.8,144.8 L232.9,143.9 L232.9,143.0 L232.9,142.1   L233.0,141.3 L233.0,140.4 L233.1,139.6 L233.1,138.9 L233.1,138.1 L233.2,137.4 L233.2,136.7 L233.3,136.1   L233.3,135.5 L233.3,134.9 L233.4,134.4 L233.4,133.8 L233.4,133.4 L233.5,132.9 L233.5,132.5 L233.6,132.1   L233.6,131.7 L233.6,131.4 L233.7,131.1 L233.7,130.9 L233.8,130.7 L233.8,130.5 L233.8,130.3 L233.9,130.2   L233.9,130.1 L234.0,130.0 L234.0,130.1 L234.1,130.1 L234.1,130.2 L234.1,130.3 L234.2,130.5 L234.2,130.7   L234.3,130.9 L234.3,131.1 L234.3,131.4 L234.4,131.7 L234.4,132.1 L234.4,132.5 L234.5,132.9 L234.5,133.4   L234.6,133.8 L234.6,134.4 L234.6,134.9 L234.7,135.5 L234.7,136.1 L234.8,136.7 L234.8,137.4 L234.8,138.1   L234.9,138.9 L234.9,139.6 L234.9,140.4 L235.0,141.3 L235.0,142.1 L235.1,143.0 L235.1,143.9 L235.1,144.8   L235.2,145.8 L235.2,146.8 L235.3,147.8 L235.3,148.9 L235.3,149.9 L235.4,151.0 L235.4,152.2 L235.5,153.3   L235.5,154.5 L235.5,155.7 L235.6,156.9 L235.6,158.1 L235.6,159.4 L235.7,160.7 L235.7,162.0 L235.8,163.3   L235.8,164.6 L235.8,166.0 L235.9,167.4 L235.9,168.8 L236.0,170.2 L236.0,171.6 L236.0,173.1 L236.1,174.5   L236.1,176.0 L236.1,177.5 L236.2,179.0 L236.2,180.5 L236.3,182.0 L236.3,183.6 L236.3,185.1 L236.4,186.7   L236.4,188.2 L236.5,189.8 L236.5,191.4 L236.5,193.0 L236.6,194.6 L236.6,196.2 L236.6,197.8 L236.7,199.4   L236.7,201.0 L236.8,202.6 L236.8,204.3 L236.8,205.9 L236.9,207.5 L236.9,209.1 L237.0,210.7 L237.0,212.4   L237.0,214.0 L237.1,215.6 L237.1,217.2 L237.1,218.8 L237.2,220.4 L237.2,222.0 L237.3,223.6 L237.3,225.2   L237.3,226.8 L237.4,228.3 L237.4,229.9 L237.5,231.4 L237.5,233.0 L237.5,234.5 L237.6,236.0 L237.6,237.5   L237.7,239.0 L237.7,240.5 L237.7,241.9 L237.8,243.4 L237.8,244.8 L237.8,246.2 L237.9,247.6 L237.9,249.0   L238.0,250.4 L238.0,251.7 L238.0,253.0 L238.1,254.3 L238.1,255.6 L238.2,256.9 L238.2,258.1 L238.2,259.3   L238.3,260.5 L238.3,261.7 L238.3,262.8 L238.4,264.0 L238.4,265.1 L238.5,266.1 L238.5,267.2 L238.5,268.2   L238.6,269.2 L238.6,270.2 L238.7,271.1 L238.7,272.0 L238.7,272.9 L238.8,273.7 L238.8,274.6 L238.8,275.4   L238.9,276.1 L238.9,276.9 L239.0,277.6 L239.0,278.3 L239.0,278.9 L239.1,279.5 L239.1,280.1 L239.2,280.6   L239.2,281.2 L239.2,281.6 L239.3,282.1 L239.3,282.5 L239.3,282.9 L239.4,283.3 L239.4,283.6 L239.5,283.9   L239.5,284.1 L239.5,284.3 L239.6,284.5 L239.6,284.7 L239.7,284.8 L239.7,284.9 L239.8,284.9 L239.9,284.9   L239.9,284.8 L239.9,284.7 L240.0,284.5 L240.0,284.3 L240.0,284.1 L240.1,283.9 L240.1,283.6 L240.2,283.3   L240.2,282.9 L240.2,282.5 L240.3,282.1 L240.3,281.6 L240.4,281.2 L240.4,280.6 L240.4,280.1 L240.5,279.5   L240.5,278.9 L240.5,278.3 L240.6,277.6 L240.6,276.9 L240.7,276.1 L240.7,275.4 L240.7,274.6 L240.8,273.7   L240.8,272.9 L240.9,272.0 L240.9,271.1 L240.9,270.2 L241.0,269.2 L241.0,268.2 L241.0,267.2 L241.1,266.1   L241.1,265.1 L241.2,264.0 L241.2,262.8 L241.2,261.7 L241.3,260.5 L241.3,259.3 L241.4,258.1 L241.4,256.9   L241.4,255.6 L241.5,254.3 L241.5,253.0 L241.5,251.7 L241.6,250.4 L241.6,249.0 L241.7,247.6 L241.7,246.2   L241.7,244.8 L241.8,243.4 L241.8,241.9 L241.9,240.5 L241.9,239.0 L241.9,237.5 L242.0,236.0 L242.0,234.5   L242.1,233.0 L242.1,231.4 L242.1,229.9 L242.2,228.3 L242.2,226.8 L242.2,225.2 L242.3,223.6 L242.3,222.0   L242.4,220.4 L242.4,218.8 L242.4,217.2 L242.5,215.6 L242.5,214.0 L242.6,212.4 L242.6,210.7 L242.6,209.1   L242.7,207.5 L242.7,205.9 L242.7,204.3 L242.8,202.6 L242.8,201.0 L242.9,199.4 L242.9,197.8 L242.9,196.2   L243.0,194.6 L243.0,193.0 L243.1,191.4 L243.1,189.8 L243.1,188.2 L243.2,186.7 L243.2,185.1 L243.2,183.6   L243.3,182.0 L243.3,180.5 L243.4,179.0 L243.4,177.5 L243.4,176.0 L243.5,174.5 L243.5,173.1 L243.6,171.6   L243.6,170.2 L243.6,168.8 L243.7,167.4 L243.7,166.0 L243.7,164.6 L243.8,163.3 L243.8,162.0 L243.9,160.7   L243.9,159.4 L243.9,158.1 L244.0,156.9 L244.0,155.7 L244.1,154.5 L244.1,153.3 L244.1,152.2 L244.2,151.0   L244.2,149.9 L244.3,148.9 L244.3,147.8 L244.3,146.8 L244.4,145.8 L244.4,144.8 L244.4,143.9 L244.5,143.0   L244.5,142.1 L244.6,141.3 L244.6,140.4 L244.6,139.6 L244.7,138.9 L244.7,138.1 L244.8,137.4 L244.8,136.7   L244.8,136.1 L244.9,135.5 L244.9,134.9 L244.9,134.4 L245.0,133.8 L245.0,133.4 L245.1,132.9 L245.1,132.5   L245.1,132.1 L245.2,131.7 L245.2,131.4 L245.3,131.1 L245.3,130.9 L245.3,130.7 L245.4,130.5 L245.4,130.3   L245.4,130.2 L245.5,130.1 L245.6,130.0 L245.6,130.1 L245.7,130.2 L245.7,130.3 L245.8,130.5 L245.8,130.7   L245.8,130.9 L245.9,131.1 L245.9,131.4 L245.9,131.7 L246.0,132.1 L246.0,132.5 L246.1,132.9 L246.1,133.4   L246.1,133.8 L246.2,134.4 L246.2,134.9 L246.3,135.5 L246.3,136.1 L246.3,136.7 L246.4,137.4 L246.4,138.1   L246.5,138.9 L246.5,139.6 L246.5,140.4 L246.6,141.3 L246.6,142.1 L246.6,143.0 L246.7,143.9 L246.7,144.8   L246.8,145.8 L246.8,146.8 L246.8,147.8 L246.9,148.9 L246.9,149.9 L247.0,151.0 L247.0,152.2 L247.0,153.3   L247.1,154.5 L247.1,155.7 L247.1,156.9 L247.2,158.1 L247.2,159.4 L247.3,160.7 L247.3,162.0 L247.3,163.3   L247.4,164.6 L247.4,166.0 L247.5,167.4 L247.5,168.8 L247.5,170.2 L247.6,171.6 L247.6,173.1 L247.6,174.5   L247.7,176.0 L247.7,177.5 L247.8,179.0 L247.8,180.5 L247.8,182.0 L247.9,183.6 L247.9,185.1 L248.0,186.7   L248.0,188.2 L248.0,189.8 L248.1,191.4 L248.1,193.0 L248.1,194.6 L248.2,196.2 L248.2,197.8 L248.3,199.4   L248.3,201.0 L248.3,202.6 L248.4,204.3 L248.4,205.9 L248.5,207.5 L248.5,209.1 L248.5,210.7 L248.6,212.4   L248.6,214.0 L248.6,215.6 L248.7,217.2 L248.7,218.8 L248.8,220.4 L248.8,222.0 L248.8,223.6 L248.9,225.2   L248.9,226.8 L249.0,228.3 L249.0,229.9 L249.0,231.4 L249.1,233.0 L249.1,234.5 L249.2,236.0 L249.2,237.5   L249.2,239.0 L249.3,240.5 L249.3,241.9 L249.3,243.4 L249.4,244.8 L249.4,246.2 L249.5,247.6 L249.5,249.0   L249.5,250.4 L249.6,251.7 L249.6,253.0 L249.7,254.3 L249.7,255.6 L249.7,256.9 L249.8,258.1 L249.8,259.3   L249.8,260.5 L249.9,261.7 L249.9,262.8 L250.0,264.0 L250.0,265.1 L250.0,266.1 L250.1,267.2 L250.1,268.2   L250.2,269.2 L250.2,270.2 L250.2,271.1 L250.3,272.0 L250.3,272.9 L250.3,273.7 L250.4,274.6 L250.4,275.4   L250.5,276.1 L250.5,276.9 L250.5,277.6 L250.6,278.3 L250.6,278.9 L250.7,279.5 L250.7,280.1 L250.7,280.6   L250.8,281.2 L250.8,281.6 L250.8,282.1 L250.9,282.5 L250.9,282.9 L251.0,283.3 L251.0,283.6 L251.0,283.9   L251.1,284.1 L251.1,284.3 L251.2,284.5 L251.2,284.7 L251.2,284.8 L251.3,284.9 L251.4,284.9 L251.5,284.8   L251.5,284.7 L251.5,284.5 L251.6,284.3 L251.6,284.1 L251.7,283.9 L251.7,283.6 L251.7,283.3 L251.8,282.9   L251.8,282.5 L251.9,282.1 L251.9,281.6 L251.9,281.2 L252.0,280.6 L252.0,280.1 L252.0,279.5 L252.1,278.9   L252.1,278.3 L252.2,277.6 L252.2,276.9 L252.2,276.1 L252.3,275.4 L252.3,274.6 L252.4,273.7 L252.4,272.9   L252.4,272.0 L252.5,271.1 L252.5,270.2 L252.5,269.2 L252.6,268.2 L252.6,267.2 L252.7,266.1 L252.7,265.1   L252.7,264.0 L252.8,262.8 L252.8,261.7 L252.9,260.5 L252.9,259.3 L252.9,258.1 L253.0,256.9 L253.0,255.6   L253.0,254.3 L253.1,253.0 L253.1,251.7 L253.2,250.4 L253.2,249.0 L253.2,247.6 L253.3,246.2 L253.3,244.8   L253.4,243.4 L253.4,241.9 L253.4,240.5 L253.5,239.0 L253.5,237.5 L253.6,236.0 L253.6,234.5 L253.6,233.0   L253.7,231.4 L253.7,229.9 L253.7,228.3 L253.8,226.8 L253.8,225.2 L253.9,223.6 L253.9,222.0 L253.9,220.4   L254.0,218.8 L254.0,217.2 L254.1,215.6 L254.1,214.0 L254.1,212.4 L254.2,210.7 L254.2,209.1 L254.2,207.5   L254.3,205.9 L254.3,204.3 L254.4,202.6 L254.4,201.0 L254.4,199.4 L254.5,197.8 L254.5,196.2 L254.6,194.6   L254.6,193.0 L254.6,191.4 L254.7,189.8 L254.7,188.2 L254.7,186.7 L254.8,185.1 L254.8,183.6 L254.9,182.0   L254.9,180.5 L254.9,179.0 L255.0,177.5 L255.0,176.0 L255.1,174.5 L255.1,173.1 L255.1,171.6 L255.2,170.2   L255.2,168.8 L255.2,167.4 L255.3,166.0 L255.3,164.6 L255.4,163.3 L255.4,162.0 L255.4,160.7 L255.5,159.4   L255.5,158.1 L255.6,156.9 L255.6,155.7 L255.6,154.5 L255.7,153.3 L255.7,152.2 L255.8,151.0 L255.8,149.9   L255.8,148.9 L255.9,147.8 L255.9,146.8 L255.9,145.8 L256.0,144.8 L256.0,143.9 L256.1,143.0 L256.1,142.1   L256.1,141.3 L256.2,140.4 L256.2,139.6 L256.3,138.9 L256.3,138.1 L256.3,137.4 L256.4,136.7 L256.4,136.1   L256.4,135.5 L256.5,134.9 L256.5,134.4 L256.6,133.8 L256.6,133.4 L256.6,132.9 L256.7,132.5 L256.7,132.1   L256.8,131.7 L256.8,131.4 L256.8,131.1 L256.9,130.9 L256.9,130.7 L256.9,130.5 L257.0,130.3 L257.0,130.2   L257.1,130.1 L257.1,130.0 L257.2,130.1 L257.3,130.2 L257.3,130.3 L257.3,130.5 L257.4,130.7 L257.4,130.9   L257.4,131.1 L257.5,131.4 L257.5,131.7 L257.6,132.1 L257.6,132.5 L257.6,132.9 L257.7,133.4 L257.7,133.8   L257.8,134.4 L257.8,134.9 L257.8,135.5 L257.9,136.1 L257.9,136.7 L258.0,137.4 L258.0,138.1 L258.0,138.9   L258.1,139.6 L258.1,140.4 L258.1,141.3 L258.2,142.1 L258.2,143.0 L258.3,143.9 L258.3,144.8 L258.3,145.8   L258.4,146.8 L258.4,147.8 L258.5,148.9 L258.5,149.9 L258.5,151.0 L258.6,152.2 L258.6,153.3 L258.6,154.5   L258.7,155.7 L258.7,156.9 L258.8,158.1 L258.8,159.4 L258.8,160.7 L258.9,162.0 L258.9,163.3 L259.0,164.6   L259.0,166.0 L259.0,167.4 L259.1,168.8 L259.1,170.2 L259.1,171.6 L259.2,173.1 L259.2,174.5 L259.3,176.0   L259.3,177.5 L259.3,179.0 L259.4,180.5 L259.4,182.0 L259.5,183.6 L259.5,185.1 L259.5,186.7 L259.6,188.2   L259.6,189.8 L259.6,191.4 L259.7,193.0 L259.7,194.6 L259.8,196.2 L259.8,197.8 L259.8,199.4 L259.9,201.0   L259.9,202.6 L260.0,204.3 L260.0,205.9 L260.0,207.5 L260.1,209.1 L260.1,210.7 L260.2,212.4 L260.2,214.0   L260.2,215.6 L260.3,217.2 L260.3,218.8 L260.3,220.4 L260.4,222.0 L260.4,223.6 L260.5,225.2 L260.5,226.8   L260.5,228.3 L260.6,229.9 L260.6,231.4 L260.7,233.0 L260.7,234.5 L260.7,236.0 L260.8,237.5 L260.8,239.0   L260.8,240.5 L260.9,241.9 L260.9,243.4 L261.0,244.8 L261.0,246.2 L261.0,247.6 L261.1,249.0 L261.1,250.4   L261.2,251.7 L261.2,253.0 L261.2,254.3 L261.3,255.6 L261.3,256.9 L261.3,258.1 L261.4,259.3 L261.4,260.5   L261.5,261.7 L261.5,262.8 L261.5,264.0 L261.6,265.1 L261.6,266.1 L261.7,267.2 L261.7,268.2 L261.7,269.2   L261.8,270.2 L261.8,271.1 L261.8,272.0 L261.9,272.9 L261.9,273.7 L262.0,274.6 L262.0,275.4 L262.0,276.1   L262.1,276.9 L262.1,277.6 L262.2,278.3 L262.2,278.9 L262.2,279.5 L262.3,280.1 L262.3,280.6 L262.3,281.2   L262.4,281.6 L262.4,282.1 L262.5,282.5 L262.5,282.9 L262.5,283.3 L262.6,283.6 L262.6,283.9 L262.7,284.1   L262.7,284.3 L262.7,284.5 L262.8,284.7 L262.8,284.8 L262.9,284.9 L263.0,284.9 L263.0,284.8 L263.1,284.7   L263.1,284.5 L263.2,284.3 L263.2,284.1 L263.2,283.9 L263.3,283.6 L263.3,283.3 L263.4,282.9 L263.4,282.5   L263.4,282.1 L263.5,281.6 L263.5,281.2 L263.5,280.6 L263.6,280.1 L263.6,279.5 L263.7,278.9 L263.7,278.3   L263.7,277.6 L263.8,276.9 L263.8,276.1 L263.9,275.4 L263.9,274.6 L263.9,273.7 L264.0,272.9 L264.0,272.0   L264.0,271.1 L264.1,270.2 L264.1,269.2 L264.2,268.2 L264.2,267.2 L264.2,266.1 L264.3,265.1 L264.3,264.0   L264.4,262.8 L264.4,261.7 L264.4,260.5 L264.5,259.3 L264.5,258.1 L264.5,256.9 L264.6,255.6 L264.6,254.3   L264.7,253.0 L264.7,251.7 L264.7,250.4 L264.8,249.0 L264.8,247.6 L264.9,246.2 L264.9,244.8 L264.9,243.4   L265.0,241.9 L265.0,240.5 L265.1,239.0 L265.1,237.5 L265.1,236.0 L265.2,234.5 L265.2,233.0 L265.2,231.4   L265.3,229.9 L265.3,228.3 L265.4,226.8 L265.4,225.2 L265.4,223.6 L265.5,222.0 L265.5,220.4 L265.6,218.8   L265.6,217.2 L265.6,215.6 L265.7,214.0 L265.7,212.4 L265.7,210.7 L265.8,209.1 L265.8,207.5 L265.9,205.9   L265.9,204.3 L265.9,202.6 L266.0,201.0 L266.0,199.4 L266.1,197.8 L266.1,196.2 L266.1,194.6 L266.2,193.0   L266.2,191.4 L266.2,189.8 L266.3,188.2 L266.3,186.7 L266.4,185.1 L266.4,183.6 L266.4,182.0 L266.5,180.5   L266.5,179.0 L266.6,177.5 L266.6,176.0 L266.6,174.5 L266.7,173.1 L266.7,171.6 L266.7,170.2 L266.8,168.8   L266.8,167.4 L266.9,166.0 L266.9,164.6 L266.9,163.3 L267.0,162.0 L267.0,160.7 L267.1,159.4 L267.1,158.1   L267.1,156.9 L267.2,155.7 L267.2,154.5 L267.3,153.3 L267.3,152.2 L267.3,151.0 L267.4,149.9 L267.4,148.9   L267.4,147.8 L267.5,146.8 L267.5,145.8 L267.6,144.8 L267.6,143.9 L267.6,143.0 L267.7,142.1 L267.7,141.3   L267.8,140.4 L267.8,139.6 L267.8,138.9 L267.9,138.1 L267.9,137.4 L267.9,136.7 L268.0,136.1 L268.0,135.5   L268.1,134.9 L268.1,134.4 L268.1,133.8 L268.2,133.4 L268.2,132.9 L268.3,132.5 L268.3,132.1 L268.3,131.7   L268.4,131.4 L268.4,131.1 L268.4,130.9 L268.5,130.7 L268.5,130.5 L268.6,130.3 L268.6,130.2 L268.6,130.1   L268.7,130.1 L268.7,130.0 L268.8,130.1 L268.8,130.2 L268.9,130.3 L268.9,130.5 L268.9,130.7 L269.0,130.9   L269.0,131.1 L269.1,131.4 L269.1,131.7 L269.1,132.1 L269.2,132.5 L269.2,132.9 L269.3,133.4 L269.3,133.8   L269.3,134.4 L269.4,134.9 L269.4,135.5 L269.5,136.1 L269.5,136.7 L269.5,137.4 L269.6,138.1 L269.6,138.9   L269.6,139.6 L269.7,140.4 L269.7,141.3 L269.8,142.1 L269.8,143.0 L269.8,143.9 L269.9,144.8 L269.9,145.8   L270.0,146.8 L270.0,147.8 L270.0,148.9 L270.1,149.9 L270.1,151.0 L270.1,152.2 L270.2,153.3 L270.2,154.5   L270.3,155.7 L270.3,156.9 L270.3,158.1 L270.4,159.4 L270.4,160.7 L270.5,162.0 L270.5,163.3 L270.5,164.6   L270.6,166.0 L270.6,167.4 L270.6,168.8 L270.7,170.2 L270.7,171.6 L270.8,173.1 L270.8,174.5 L270.8,176.0   L270.9,177.5 L270.9,179.0 L271.0,180.5 L271.0,182.0 L271.0,183.6 L271.1,185.1 L271.1,186.7 L271.1,188.2   L271.2,189.8 L271.2,191.4 L271.3,193.0 L271.3,194.6 L271.3,196.2 L271.4,197.8 L271.4,199.4 L271.5,201.0   L271.5,202.6 L271.5,204.3 L271.6,205.9 L271.6,207.5 L271.7,209.1 L271.7,210.7 L271.7,212.4 L271.8,214.0   L271.8,215.6 L271.8,217.2 L271.9,218.8 L271.9,220.4 L272.0,222.0 L272.0,223.6 L272.0,225.2 L272.1,226.8   L272.1,228.3 L272.2,229.9 L272.2,231.4 L272.2,233.0 L272.3,234.5 L272.3,236.0 L272.3,237.5 L272.4,239.0   L272.4,240.5 L272.5,241.9 L272.5,243.4 L272.5,244.8 L272.6,246.2 L272.6,247.6 L272.7,249.0 L272.7,250.4   L272.7,251.7 L272.8,253.0 L272.8,254.3 L272.8,255.6 L272.9,256.9 L272.9,258.1 L273.0,259.3 L273.0,260.5   L273.0,261.7 L273.1,262.8 L273.1,264.0 L273.2,265.1 L273.2,266.1 L273.2,267.2 L273.3,268.2 L273.3,269.2   L273.3,270.2 L273.4,271.1 L273.4,272.0 L273.5,272.9 L273.5,273.7 L273.5,274.6 L273.6,275.4 L273.6,276.1   L273.7,276.9 L273.7,277.6 L273.7,278.3 L273.8,278.9 L273.8,279.5 L273.9,280.1 L273.9,280.6 L273.9,281.2   L274.0,281.6 L274.0,282.1 L274.0,282.5 L274.1,282.9 L274.1,283.3 L274.2,283.6 L274.2,283.9 L274.2,284.1   L274.3,284.3 L274.3,284.5 L274.4,284.7 L274.4,284.8 L274.4,284.9 L274.5,284.9 L274.6,284.9 L274.6,284.8   L274.7,284.7 L274.7,284.5 L274.7,284.3 L274.8,284.1 L274.8,283.9 L274.9,283.6 L274.9,283.3 L274.9,282.9   L275.0,282.5 L275.0,282.1 L275.0,281.6 L275.1,281.2 L275.1,280.6 L275.2,280.1 L275.2,279.5 L275.2,278.9   L275.3,278.3 L275.3,277.6 L275.4,276.9 L275.4,276.1 L275.4,275.4 L275.5,274.6 L275.5,273.7 L275.5,272.9   L275.6,272.0 L275.6,271.1 L275.7,270.2 L275.7,269.2 L275.7,268.2 L275.8,267.2 L275.8,266.1 L275.9,265.1   L275.9,264.0 L275.9,262.8 L276.0,261.7 L276.0,260.5 L276.0,259.3 L276.1,258.1 L276.1,256.9 L276.2,255.6   L276.2,254.3 L276.2,253.0 L276.3,251.7 L276.3,250.4 L276.4,249.0 L276.4,247.6 L276.4,246.2 L276.5,244.8   L276.5,243.4 L276.6,241.9 L276.6,240.5 L276.6,239.0 L276.7,237.5 L276.7,236.0 L276.7,234.5 L276.8,233.0   L276.8,231.4 L276.9,229.9 L276.9,228.3 L276.9,226.8 L277.0,225.2 L277.0,223.6 L277.1,222.0 L277.1,220.4   L277.1,218.8 L277.2,217.2 L277.2,215.6 L277.2,214.0 L277.3,212.4 L277.3,210.7 L277.4,209.1 L277.4,207.5   L277.4,205.9 L277.5,204.3 L277.5,202.6 L277.6,201.0 L277.6,199.4 L277.6,197.8 L277.7,196.2 L277.7,194.6   L277.7,193.0 L277.8,191.4 L277.8,189.8 L277.9,188.2 L277.9,186.7 L277.9,185.1 L278.0,183.6 L278.0,182.0   L278.1,180.5 L278.1,179.0 L278.1,177.5 L278.2,176.0 L278.2,174.5 L278.2,173.1 L278.3,171.6 L278.3,170.2   L278.4,168.8 L278.4,167.4 L278.4,166.0 L278.5,164.6 L278.5,163.3 L278.6,162.0 L278.6,160.7 L278.6,159.4   L278.7,158.1 L278.7,156.9 L278.8,155.7 L278.8,154.5 L278.8,153.3 L278.9,152.2 L278.9,151.0 L278.9,149.9   L279.0,148.9 L279.0,147.8 L279.1,146.8 L279.1,145.8 L279.1,144.8 L279.2,143.9 L279.2,143.0 L279.3,142.1   L279.3,141.3 L279.3,140.4 L279.4,139.6 L279.4,138.9 L279.4,138.1 L279.5,137.4 L279.5,136.7 L279.6,136.1   L279.6,135.5 L279.6,134.9 L279.7,134.4 L279.7,133.8 L279.8,133.4 L279.8,132.9 L279.8,132.5 L279.9,132.1   L279.9,131.7 L279.9,131.4 L280.0,131.1 L280.0,130.9 L280.1,130.7 L280.1,130.5 L280.1,130.3 L280.2,130.2   L280.2,130.1 L280.3,130.1 L280.3,130.0 L280.3,130.1 L280.4,130.1 L280.4,130.2 L280.4,130.3 L280.5,130.5   L280.5,130.7 L280.6,130.9 L280.6,131.1 L280.6,131.4 L280.7,131.7 L280.7,132.1 L280.8,132.5 L280.8,132.9   L280.8,133.4 L280.9,133.8 L280.9,134.4 L281.0,134.9 L281.0,135.5 L281.0,136.1 L281.1,136.7 L281.1,137.4   L281.1,138.1 L281.2,138.9 L281.2,139.6 L281.3,140.4 L281.3,141.3 L281.3,142.1 L281.4,143.0 L281.4,143.9   L281.5,144.8 L281.5,145.8 L281.5,146.8 L281.6,147.8 L281.6,148.9 L281.6,149.9 L281.7,151.0 L281.7,152.2   L281.8,153.3 L281.8,154.5 L281.8,155.7 L281.9,156.9 L281.9,158.1 L282.0,159.4 L282.0,160.7 L282.0,162.0   L282.1,163.3 L282.1,164.6 L282.1,166.0 L282.2,167.4 L282.2,168.8 L282.3,170.2 L282.3,171.6 L282.3,173.1   L282.4,174.5 L282.4,176.0 L282.5,177.5 L282.5,179.0 L282.5,180.5 L282.6,182.0 L282.6,183.6 L282.6,185.1   L282.7,186.7 L282.7,188.2 L282.8,189.8 L282.8,191.4 L282.8,193.0 L282.9,194.6 L282.9,196.2 L283.0,197.8   L283.0,199.4 L283.0,201.0 L283.1,202.6 L283.1,204.3 L283.2,205.9 L283.2,207.5 L283.2,209.1 L283.3,210.7   L283.3,212.4 L283.3,214.0 L283.4,215.6 L283.4,217.2 L283.5,218.8 L283.5,220.4 L283.5,222.0 L283.6,223.6   L283.6,225.2 L283.7,226.8 L283.7,228.3 L283.7,229.9 L283.8,231.4 L283.8,233.0 L283.8,234.5 L283.9,236.0   L283.9,237.5 L284.0,239.0 L284.0,240.5 L284.0,241.9 L284.1,243.4 L284.1,244.8 L284.2,246.2 L284.2,247.6   L284.2,249.0 L284.3,250.4 L284.3,251.7 L284.3,253.0 L284.4,254.3 L284.4,255.6 L284.5,256.9 L284.5,258.1   L284.5,259.3 L284.6,260.5 L284.6,261.7 L284.7,262.8 L284.7,264.0 L284.7,265.1 L284.8,266.1 L284.8,267.2   L284.8,268.2 L284.9,269.2 L284.9,270.2 L285.0,271.1 L285.0,272.0 L285.0,272.9 L285.1,273.7 L285.1,274.6   L285.2,275.4 L285.2,276.1 L285.2,276.9 L285.3,277.6 L285.3,278.3 L285.4,278.9 L285.4,279.5 L285.4,280.1   L285.5,280.6 L285.5,281.2 L285.5,281.6 L285.6,282.1 L285.6,282.5 L285.7,282.9 L285.7,283.3 L285.7,283.6   L285.8,283.9 L285.8,284.1 L285.9,284.3 L285.9,284.5 L285.9,284.7 L286.0,284.8 L286.0,284.9 L286.1,284.9   L286.2,284.9 L286.2,284.8 L286.2,284.7 L286.3,284.5 L286.3,284.3 L286.4,284.1 L286.4,283.9 L286.4,283.6   L286.5,283.3 L286.5,282.9 L286.5,282.5 L286.6,282.1 L286.6,281.6 L286.7,281.2 L286.7,280.6 L286.7,280.1   L286.8,279.5 L286.8,278.9 L286.9,278.3 L286.9,277.6 L286.9,276.9 L287.0,276.1 L287.0,275.4 L287.0,274.6   L287.1,273.7 L287.1,272.9 L287.2,272.0 L287.2,271.1 L287.2,270.2 L287.3,269.2 L287.3,268.2 L287.4,267.2   L287.4,266.1 L287.4,265.1 L287.5,264.0 L287.5,262.8 L287.6,261.7 L287.6,260.5 L287.6,259.3 L287.7,258.1   L287.7,256.9 L287.7,255.6 L287.8,254.3 L287.8,253.0 L287.9,251.7 L287.9,250.4 L287.9,249.0 L288.0,247.6   L288.0,246.2 L288.1,244.8 L288.1,243.4 L288.1,241.9 L288.2,240.5 L288.2,239.0 L288.2,237.5 L288.3,236.0   L288.3,234.5 L288.4,233.0 L288.4,231.4 L288.4,229.9 L288.5,228.3 L288.5,226.8 L288.6,225.2 L288.6,223.6   L288.6,222.0 L288.7,220.4 L288.7,218.8 L288.7,217.2 L288.8,215.6 L288.8,214.0 L288.9,212.4 L288.9,210.7   L288.9,209.1 L289.0,207.5 L289.0,205.9 L289.1,204.3 L289.1,202.6 L289.1,201.0 L289.2,199.4 L289.2,197.8   L289.2,196.2 L289.3,194.6 L289.3,193.0 L289.4,191.4 L289.4,189.8 L289.4,188.2 L289.5,186.7 L289.5,185.1   L289.6,183.6 L289.6,182.0 L289.6,180.5 L289.7,179.0 L289.7,177.5 L289.7,176.0 L289.8,174.5 L289.8,173.1   L289.9,171.6 L289.9,170.2 L289.9,168.8 L290.0,167.4 L290.0,166.0 L290.1,164.6 L290.1,163.3 L290.1,162.0   L290.2,160.7 L290.2,159.4 L290.3,158.1 L290.3,156.9 L290.3,155.7 L290.4,154.5 L290.4,153.3 L290.4,152.2   L290.5,151.0 L290.5,149.9 L290.6,148.9 L290.6,147.8 L290.6,146.8 L290.7,145.8 L290.7,144.8 L290.8,143.9   L290.8,143.0 L290.8,142.1 L290.9,141.3 L290.9,140.4 L290.9,139.6 L291.0,138.9 L291.0,138.1 L291.1,137.4   L291.1,136.7 L291.1,136.1 L291.2,135.5 L291.2,134.9 L291.3,134.4 L291.3,133.8 L291.3,133.4 L291.4,132.9   L291.4,132.5 L291.4,132.1 L291.5,131.7 L291.5,131.4 L291.6,131.1 L291.6,130.9 L291.6,130.7 L291.7,130.5   L291.7,130.3 L291.8,130.2 L291.8,130.1 L291.9,130.0 L291.9,130.1 L292.0,130.2 L292.0,130.3 L292.1,130.5   L292.1,130.7 L292.1,130.9 L292.2,131.1 L292.2,131.4 L292.3,131.7 L292.3,132.1 L292.3,132.5 L292.4,132.9   L292.4,133.4 L292.5,133.8 L292.5,134.4 L292.5,134.9 L292.6,135.5 L292.6,136.1 L292.6,136.7 L292.7,137.4   L292.7,138.1 L292.8,138.9 L292.8,139.6 L292.8,140.4 L292.9,141.3 L292.9,142.1 L293.0,143.0 L293.0,143.9   L293.0,144.8 L293.1,145.8 L293.1,146.8 L293.1,147.8 L293.2,148.9 L293.2,149.9 L293.3,151.0 L293.3,152.2   L293.3,153.3 L293.4,154.5 L293.4,155.7 L293.5,156.9 L293.5,158.1 L293.5,159.4 L293.6,160.7 L293.6,162.0   L293.6,163.3 L293.7,164.6 L293.7,166.0 L293.8,167.4 L293.8,168.8 L293.8,170.2 L293.9,171.6 L293.9,173.1   L294.0,174.5 L294.0,176.0 L294.0,177.5 L294.1,179.0 L294.1,180.5 L294.1,182.0 L294.2,183.6 L294.2,185.1   L294.3,186.7 L294.3,188.2 L294.3,189.8 L294.4,191.4 L294.4,193.0 L294.5,194.6 L294.5,196.2 L294.5,197.8   L294.6,199.4 L294.6,201.0 L294.7,202.6 L294.7,204.3 L294.7,205.9 L294.8,207.5 L294.8,209.1 L294.8,210.7   L294.9,212.4 L294.9,214.0 L295.0,215.6 L295.0,217.2 L295.0,218.8 L295.1,220.4 L295.1,222.0 L295.2,223.6   L295.2,225.2 L295.2,226.8 L295.3,228.3 L295.3,229.9 L295.3,231.4 L295.4,233.0 L295.4,234.5 L295.5,236.0   L295.5,237.5 L295.5,239.0 L295.6,240.5 L295.6,241.9 L295.7,243.4 L295.7,244.8 L295.7,246.2 L295.8,247.6   L295.8,249.0 L295.8,250.4 L295.9,251.7 L295.9,253.0 L296.0,254.3 L296.0,255.6 L296.0,256.9 L296.1,258.1   L296.1,259.3 L296.2,260.5 L296.2,261.7 L296.2,262.8 L296.3,264.0 L296.3,265.1 L296.3,266.1 L296.4,267.2   L296.4,268.2 L296.5,269.2 L296.5,270.2 L296.5,271.1 L296.6,272.0 L296.6,272.9 L296.7,273.7 L296.7,274.6   L296.7,275.4 L296.8,276.1 L296.8,276.9 L296.9,277.6 L296.9,278.3 L296.9,278.9 L297.0,279.5 L297.0,280.1   L297.0,280.6 L297.1,281.2 L297.1,281.6 L297.2,282.1 L297.2,282.5 L297.2,282.9 L297.3,283.3 L297.3,283.6   L297.4,283.9 L297.4,284.1 L297.4,284.3 L297.5,284.5 L297.5,284.7 L297.5,284.8 L297.6,284.9 L297.7,284.9   L297.8,284.8 L297.8,284.7 L297.9,284.5 L297.9,284.3 L297.9,284.1 L298.0,283.9 L298.0,283.6 L298.0,283.3   L298.1,282.9 L298.1,282.5 L298.2,282.1 L298.2,281.6 L298.2,281.2 L298.3,280.6 L298.3,280.1 L298.4,279.5   L298.4,278.9 L298.4,278.3 L298.5,277.6 L298.5,276.9 L298.5,276.1 L298.6,275.4 L298.6,274.6 L298.7,273.7   L298.7,272.9 L298.7,272.0 L298.8,271.1 L298.8,270.2 L298.9,269.2 L298.9,268.2 L298.9,267.2 L299.0,266.1   L299.0,265.1 L299.1,264.0 L299.1,262.8 L299.1,261.7 L299.2,260.5 L299.2,259.3 L299.2,258.1 L299.3,256.9   L299.3,255.6 L299.4,254.3 L299.4,253.0 L299.4,251.7 L299.5,250.4 L299.5,249.0 L299.6,247.6 L299.6,246.2   L299.6,244.8 L299.7,243.4 L299.7,241.9 L299.7,240.5 L299.8,239.0 L299.8,237.5 L299.9,236.0 L299.9,234.5   L299.9,233.0 L300.0,231.4 L300.0,229.9 L300.1,228.3 L300.1,226.8 L300.1,225.2 L300.2,223.6 L300.2,222.0   L300.2,220.4 L300.3,218.8 L300.3,217.2 L300.4,215.6 L300.4,214.0 L300.4,212.4 L300.5,210.7 L300.5,209.1   L300.6,207.5 L300.6,205.9 L300.6,204.3 L300.7,202.6 L300.7,201.0 L300.7,199.4 L300.8,197.8 L300.8,196.2   L300.9,194.6 L300.9,193.0 L300.9,191.4 L301.0,189.8 L301.0,188.2 L301.1,186.7 L301.1,185.1 L301.1,183.6   L301.2,182.0 L301.2,180.5 L301.3,179.0 L301.3,177.5 L301.3,176.0 L301.4,174.5 L301.4,173.1 L301.4,171.6   L301.5,170.2 L301.5,168.8 L301.6,167.4 L301.6,166.0 L301.6,164.6 L301.7,163.3 L301.7,162.0 L301.8,160.7   L301.8,159.4 L301.8,158.1 L301.9,156.9 L301.9,155.7 L301.9,154.5 L302.0,153.3 L302.0,152.2 L302.1,151.0   L302.1,149.9 L302.1,148.9 L302.2,147.8 L302.2,146.8 L302.3,145.8 L302.3,144.8 L302.3,143.9 L302.4,143.0   L302.4,142.1 L302.4,141.3 L302.5,140.4 L302.5,139.6 L302.6,138.9 L302.6,138.1 L302.6,137.4 L302.7,136.7   L302.7,136.1 L302.8,135.5 L302.8,134.9 L302.8,134.4 L302.9,133.8 L302.9,133.4 L302.9,132.9 L303.0,132.5   L303.0,132.1 L303.1,131.7 L303.1,131.4 L303.1,131.1 L303.2,130.9 L303.2,130.7 L303.3,130.5 L303.3,130.3   L303.3,130.2 L303.4,130.1 L303.5,130.0 L303.5,130.1 L303.6,130.2 L303.6,130.3 L303.6,130.5 L303.7,130.7   L303.7,130.9 L303.8,131.1 L303.8,131.4 L303.8,131.7 L303.9,132.1 L303.9,132.5 L304.0,132.9 L304.0,133.4   L304.0,133.8 L304.1,134.4 L304.1,134.9 L304.1,135.5 L304.2,136.1 L304.2,136.7 L304.3,137.4 L304.3,138.1   L304.3,138.9 L304.4,139.6 L304.4,140.4 L304.5,141.3 L304.5,142.1 L304.5,143.0 L304.6,143.9 L304.6,144.8   L304.6,145.8 L304.7,146.8 L304.7,147.8 L304.8,148.9 L304.8,149.9 L304.8,151.0 L304.9,152.2 L304.9,153.3   L305.0,154.5 L305.0,155.7 L305.0,156.9 L305.1,158.1 L305.1,159.4 L305.1,160.7 L305.2,162.0 L305.2,163.3   L305.3,164.6 L305.3,166.0 L305.3,167.4 L305.4,168.8 L305.4,170.2 L305.5,171.6 L305.5,173.1 L305.5,174.5   L305.6,176.0 L305.6,177.5 L305.6,179.0 L305.7,180.5 L305.7,182.0 L305.8,183.6 L305.8,185.1 L305.8,186.7   L305.9,188.2 L305.9,189.8 L306.0,191.4 L306.0,193.0 L306.0,194.6 L306.1,196.2 L306.1,197.8 L306.2,199.4   L306.2,201.0 L306.2,202.6 L306.3,204.3 L306.3,205.9 L306.3,207.5 L306.4,209.1 L306.4,210.7 L306.5,212.4   L306.5,214.0 L306.5,215.6 L306.6,217.2 L306.6,218.8 L306.7,220.4 L306.7,222.0 L306.7,223.6 L306.8,225.2   L306.8,226.8 L306.8,228.3 L306.9,229.9 L306.9,231.4 L307.0,233.0 L307.0,234.5 L307.0,236.0 L307.1,237.5   L307.1,239.0 L307.2,240.5 L307.2,241.9 L307.2,243.4 L307.3,244.8 L307.3,246.2 L307.3,247.6 L307.4,249.0   L307.4,250.4 L307.5,251.7 L307.5,253.0 L307.5,254.3 L307.6,255.6 L307.6,256.9 L307.7,258.1 L307.7,259.3   L307.7,260.5 L307.8,261.7 L307.8,262.8 L307.8,264.0 L307.9,265.1 L307.9,266.1 L308.0,267.2 L308.0,268.2   L308.0,269.2 L308.1,270.2 L308.1,271.1 L308.2,272.0 L308.2,272.9 L308.2,273.7 L308.3,274.6 L308.3,275.4   L308.4,276.1 L308.4,276.9 L308.4,277.6 L308.5,278.3 L308.5,278.9 L308.5,279.5 L308.6,280.1 L308.6,280.6   L308.7,281.2 L308.7,281.6 L308.7,282.1 L308.8,282.5 L308.8,282.9 L308.9,283.3 L308.9,283.6 L308.9,283.9   L309.0,284.1 L309.0,284.3 L309.0,284.5 L309.1,284.7 L309.1,284.8 L309.2,284.9 L309.3,284.9 L309.4,284.8   L309.4,284.7 L309.4,284.5 L309.5,284.3 L309.5,284.1 L309.5,283.9 L309.6,283.6 L309.6,283.3 L309.7,282.9   L309.7,282.5 L309.7,282.1 L309.8,281.6 L309.8,281.2 L309.9,280.6 L309.9,280.1 L309.9,279.5 L310.0,278.9   L310.0,278.3 L310.0,277.6 L310.1,276.9 L310.1,276.1 L310.2,275.4 L310.2,274.6 L310.2,273.7 L310.3,272.9   L310.3,272.0 L310.4,271.1 L310.4,270.2 L310.4,269.2 L310.5,268.2 L310.5,267.2 L310.6,266.1 L310.6,265.1   L310.6,264.0 L310.7,262.8 L310.7,261.7 L310.7,260.5 L310.8,259.3 L310.8,258.1 L310.9,256.9 L310.9,255.6   L310.9,254.3 L311.0,253.0 L311.0,251.7 L311.1,250.4 L311.1,249.0 L311.1,247.6 L311.2,246.2 L311.2,244.8   L311.2,243.4 L311.3,241.9 L311.3,240.5 L311.4,239.0 L311.4,237.5 L311.4,236.0 L311.5,234.5 L311.5,233.0   L311.6,231.4 L311.6,229.9 L311.6,228.3 L311.7,226.8 L311.7,225.2 L311.7,223.6 L311.8,222.0 L311.8,220.4   L311.9,218.8 L311.9,217.2 L311.9,215.6 L312.0,214.0 L312.0,212.4 L312.1,210.7 L312.1,209.1 L312.1,207.5   L312.2,205.9 L312.2,204.3 L312.2,202.6 L312.3,201.0 L312.3,199.4 L312.4,197.8 L312.4,196.2 L312.4,194.6   L312.5,193.0 L312.5,191.4 L312.6,189.8 L312.6,188.2 L312.6,186.7 L312.7,185.1 L312.7,183.6 L312.8,182.0   L312.8,180.5 L312.8,179.0 L312.9,177.5 L312.9,176.0 L312.9,174.5 L313.0,173.1 L313.0,171.6 L313.1,170.2   L313.1,168.8 L313.1,167.4 L313.2,166.0 L313.2,164.6 L313.3,163.3 L313.3,162.0 L313.3,160.7 L313.4,159.4   L313.4,158.1 L313.4,156.9 L313.5,155.7 L313.5,154.5 L313.6,153.3 L313.6,152.2 L313.6,151.0 L313.7,149.9   L313.7,148.9 L313.8,147.8 L313.8,146.8 L313.8,145.8 L313.9,144.8 L313.9,143.9 L313.9,143.0 L314.0,142.1   L314.0,141.3 L314.1,140.4 L314.1,139.6 L314.1,138.9 L314.2,138.1 L314.2,137.4 L314.3,136.7 L314.3,136.1   L314.3,135.5 L314.4,134.9 L314.4,134.4 L314.4,133.8 L314.5,133.4 L314.5,132.9 L314.6,132.5 L314.6,132.1   L314.6,131.7 L314.7,131.4 L314.7,131.1 L314.8,130.9 L314.8,130.7 L314.8,130.5 L314.9,130.3 L314.9,130.2   L315.0,130.1 L315.0,130.0 L315.1,130.1 L315.1,130.2 L315.2,130.3 L315.2,130.5 L315.3,130.7 L315.3,130.9   L315.3,131.1 L315.4,131.4 L315.4,131.7 L315.5,132.1 L315.5,132.5 L315.5,132.9 L315.6,133.4 L315.6,133.8   L315.6,134.4 L315.7,134.9 L315.7,135.5 L315.8,136.1 L315.8,136.7 L315.8,137.4 L315.9,138.1 L315.9,138.9   L316.0,139.6 L316.0,140.4 L316.0,141.3 L316.1,142.1 L316.1,143.0 L316.1,143.9 L316.2,144.8 L316.2,145.8   L316.3,146.8 L316.3,147.8 L316.3,148.9 L316.4,149.9 L316.4,151.0 L316.5,152.2 L316.5,153.3 L316.5,154.5   L316.6,155.7 L316.6,156.9 L316.6,158.1 L316.7,159.4 L316.7,160.7 L316.8,162.0 L316.8,163.3 L316.8,164.6   L316.9,166.0 L316.9,167.4 L317.0,168.8 L317.0,170.2 L317.0,171.6 L317.1,173.1 L317.1,174.5 L317.2,176.0   L317.2,177.5 L317.2,179.0 L317.3,180.5 L317.3,182.0 L317.3,183.6 L317.4,185.1 L317.4,186.7 L317.5,188.2   L317.5,189.8 L317.5,191.4 L317.6,193.0 L317.6,194.6 L317.7,196.2 L317.7,197.8 L317.7,199.4 L317.8,201.0   L317.8,202.6 L317.8,204.3 L317.9,205.9 L317.9,207.5 L318.0,209.1 L318.0,210.7 L318.0,212.4 L318.1,214.0   L318.1,215.6 L318.2,217.2 L318.2,218.8 L318.2,220.4 L318.3,222.0 L318.3,223.6 L318.3,225.2 L318.4,226.8   L318.4,228.3 L318.5,229.9 L318.5,231.4 L318.5,233.0 L318.6,234.5 L318.6,236.0 L318.7,237.5 L318.7,239.0   L318.7,240.5 L318.8,241.9 L318.8,243.4 L318.8,244.8 L318.9,246.2 L318.9,247.6 L319.0,249.0 L319.0,250.4   L319.0,251.7 L319.1,253.0 L319.1,254.3 L319.2,255.6 L319.2,256.9 L319.2,258.1 L319.3,259.3 L319.3,260.5   L319.3,261.7 L319.4,262.8 L319.4,264.0 L319.5,265.1 L319.5,266.1 L319.5,267.2 L319.6,268.2 L319.6,269.2   L319.7,270.2 L319.7,271.1 L319.7,272.0 L319.8,272.9 L319.8,273.7 L319.9,274.6 L319.9,275.4 L319.9,276.1   L320.0,276.9 L320.0,277.6 L320.0,278.3 L320.1,278.9 L320.1,279.5 L320.2,280.1 L320.2,280.6 L320.2,281.2   L320.3,281.6 L320.3,282.1 L320.4,282.5 L320.4,282.9 L320.4,283.3 L320.5,283.6 L320.5,283.9 L320.5,284.1   L320.6,284.3 L320.6,284.5 L320.7,284.7 L320.7,284.8 L320.7,284.9 L320.8,284.9 L320.9,284.9 L320.9,284.8   L321.0,284.7 L321.0,284.5 L321.0,284.3 L321.1,284.1 L321.1,283.9 L321.2,283.6 L321.2,283.3 L321.2,282.9   L321.3,282.5 L321.3,282.1 L321.4,281.6 L321.4,281.2 L321.4,280.6 L321.5,280.1 L321.5,279.5 L321.5,278.9   L321.6,278.3 L321.6,277.6 L321.7,276.9 L321.7,276.1 L321.7,275.4 L321.8,274.6 L321.8,273.7 L321.9,272.9   L321.9,272.0 L321.9,271.1 L322.0,270.2 L322.0,269.2 L322.1,268.2 L322.1,267.2 L322.1,266.1 L322.2,265.1   L322.2,264.0 L322.2,262.8 L322.3,261.7 L322.3,260.5 L322.4,259.3 L322.4,258.1 L322.4,256.9 L322.5,255.6   L322.5,254.3 L322.6,253.0 L322.6,251.7 L322.6,250.4 L322.7,249.0 L322.7,247.6 L322.7,246.2 L322.8,244.8   L322.8,243.4 L322.9,241.9 L322.9,240.5 L322.9,239.0 L323.0,237.5 L323.0,236.0 L323.1,234.5 L323.1,233.0   L323.1,231.4 L323.2,229.9 L323.2,228.3 L323.2,226.8 L323.3,225.2 L323.3,223.6 L323.4,222.0 L323.4,220.4   L323.4,218.8 L323.5,217.2 L323.5,215.6 L323.6,214.0 L323.6,212.4 L323.6,210.7 L323.7,209.1 L323.7,207.5   L323.7,205.9 L323.8,204.3 L323.8,202.6 L323.9,201.0 L323.9,199.4 L323.9,197.8 L324.0,196.2 L324.0,194.6   L324.1,193.0 L324.1,191.4 L324.1,189.8 L324.2,188.2 L324.2,186.7 L324.3,185.1 L324.3,183.6 L324.3,182.0   L324.4,180.5 L324.4,179.0 L324.4,177.5 L324.5,176.0 L324.5,174.5 L324.6,173.1 L324.6,171.6 L324.6,170.2   L324.7,168.8 L324.7,167.4 L324.8,166.0 L324.8,164.6 L324.8,163.3 L324.9,162.0 L324.9,160.7 L324.9,159.4   L325.0,158.1 L325.0,156.9 L325.1,155.7 L325.1,154.5 L325.1,153.3 L325.2,152.2 L325.2,151.0 L325.3,149.9   L325.3,148.9 L325.3,147.8 L325.4,146.8 L325.4,145.8 L325.4,144.8 L325.5,143.9 L325.5,143.0 L325.6,142.1   L325.6,141.3 L325.6,140.4 L325.7,139.6 L325.7,138.9 L325.8,138.1 L325.8,137.4 L325.8,136.7 L325.9,136.1   L325.9,135.5 L325.9,134.9 L326.0,134.4 L326.0,133.8 L326.1,133.4 L326.1,132.9 L326.1,132.5 L326.2,132.1   L326.2,131.7 L326.3,131.4 L326.3,131.1 L326.3,130.9 L326.4,130.7 L326.4,130.5 L326.5,130.3 L326.5,130.2   L326.5,130.1 L326.6,130.1 L326.6,130.0 L326.6,130.1 L326.7,130.1 L326.7,130.2 L326.8,130.3 L326.8,130.5   L326.8,130.7 L326.9,130.9 L326.9,131.1 L327.0,131.4 L327.0,131.7 L327.0,132.1 L327.1,132.5 L327.1,132.9   L327.1,133.4 L327.2,133.8 L327.2,134.4 L327.3,134.9 L327.3,135.5 L327.3,136.1 L327.4,136.7 L327.4,137.4   L327.5,138.1 L327.5,138.9 L327.5,139.6 L327.6,140.4 L327.6,141.3 L327.6,142.1 L327.7,143.0 L327.7,143.9   L327.8,144.8 L327.8,145.8 L327.8,146.8 L327.9,147.8 L327.9,148.9 L328.0,149.9 L328.0,151.0 L328.0,152.2   L328.1,153.3 L328.1,154.5 L328.1,155.7 L328.2,156.9 L328.2,158.1 L328.3,159.4 L328.3,160.7 L328.3,162.0   L328.4,163.3 L328.4,164.6 L328.5,166.0 L328.5,167.4 L328.5,168.8 L328.6,170.2 L328.6,171.6 L328.7,173.1   L328.7,174.5 L328.7,176.0 L328.8,177.5 L328.8,179.0 L328.8,180.5 L328.9,182.0 L328.9,183.6 L329.0,185.1   L329.0,186.7 L329.0,188.2 L329.1,189.8 L329.1,191.4 L329.2,193.0 L329.2,194.6 L329.2,196.2 L329.3,197.8   L329.3,199.4 L329.3,201.0 L329.4,202.6 L329.4,204.3 L329.5,205.9 L329.5,207.5 L329.5,209.1 L329.6,210.7   L329.6,212.4 L329.7,214.0 L329.7,215.6 L329.7,217.2 L329.8,218.8 L329.8,220.4 L329.8,222.0 L329.9,223.6   L329.9,225.2 L330.0,226.8 L330.0,228.3 L330.0,229.9 L330.1,231.4 L330.1,233.0 L330.2,234.5 L330.2,236.0   L330.2,237.5 L330.3,239.0 L330.3,240.5 L330.3,241.9 L330.4,243.4 L330.4,244.8 L330.5,246.2 L330.5,247.6   L330.5,249.0 L330.6,250.4 L330.6,251.7 L330.7,253.0 L330.7,254.3 L330.7,255.6 L330.8,256.9 L330.8,258.1   L330.9,259.3 L330.9,260.5 L330.9,261.7 L331.0,262.8 L331.0,264.0 L331.0,265.1 L331.1,266.1 L331.1,267.2   L331.2,268.2 L331.2,269.2 L331.2,270.2 L331.3,271.1 L331.3,272.0 L331.4,272.9 L331.4,273.7 L331.4,274.6   L331.5,275.4 L331.5,276.1 L331.5,276.9 L331.6,277.6 L331.6,278.3 L331.7,278.9 L331.7,279.5 L331.7,280.1   L331.8,280.6 L331.8,281.2 L331.9,281.6 L331.9,282.1 L331.9,282.5 L332.0,282.9 L332.0,283.3 L332.0,283.6   L332.1,283.9 L332.1,284.1 L332.2,284.3 L332.2,284.5 L332.2,284.7 L332.3,284.8 L332.3,284.9 L332.4,284.9   L332.5,284.9 L332.5,284.8 L332.5,284.7 L332.6,284.5 L332.6,284.3 L332.7,284.1 L332.7,283.9 L332.7,283.6   L332.8,283.3 L332.8,282.9 L332.9,282.5 L332.9,282.1 L332.9,281.6 L333.0,281.2 L333.0,280.6 L333.0,280.1   L333.1,279.5 L333.1,278.9 L333.2,278.3 L333.2,277.6 L333.2,276.9 L333.3,276.1 L333.3,275.4 L333.4,274.6   L333.4,273.7 L333.4,272.9 L333.5,272.0 L333.5,271.1 L333.6,270.2 L333.6,269.2 L333.6,268.2 L333.7,267.2   L333.7,266.1 L333.7,265.1 L333.8,264.0 L333.8,262.8 L333.9,261.7 L333.9,260.5 L333.9,259.3 L334.0,258.1   L334.0,256.9 L334.1,255.6 L334.1,254.3 L334.1,253.0 L334.2,251.7 L334.2,250.4 L334.2,249.0 L334.3,247.6   L334.3,246.2 L334.4,244.8 L334.4,243.4 L334.4,241.9 L334.5,240.5 L334.5,239.0 L334.6,237.5 L334.6,236.0   L334.6,234.5 L334.7,233.0 L334.7,231.4 L334.7,229.9 L334.8,228.3 L334.8,226.8 L334.9,225.2 L334.9,223.6   L334.9,222.0 L335.0,220.4 L335.0,218.8 L335.1,217.2 L335.1,215.6 L335.1,214.0 L335.2,212.4 L335.2,210.7   L335.2,209.1 L335.3,207.5 L335.3,205.9 L335.4,204.3 L335.4,202.6 L335.4,201.0 L335.5,199.4 L335.5,197.8   L335.6,196.2 L335.6,194.6 L335.6,193.0 L335.7,191.4 L335.7,189.8 L335.8,188.2 L335.8,186.7 L335.8,185.1   L335.9,183.6 L335.9,182.0 L335.9,180.5 L336.0,179.0 L336.0,177.5 L336.1,176.0 L336.1,174.5 L336.1,173.1   L336.2,171.6 L336.2,170.2 L336.3,168.8 L336.3,167.4 L336.3,166.0 L336.4,164.6 L336.4,163.3 L336.4,162.0   L336.5,160.7 L336.5,159.4 L336.6,158.1 L336.6,156.9 L336.6,155.7 L336.7,154.5 L336.7,153.3 L336.8,152.2   L336.8,151.0 L336.8,149.9 L336.9,148.9 L336.9,147.8 L336.9,146.8 L337.0,145.8 L337.0,144.8 L337.1,143.9   L337.1,143.0 L337.1,142.1 L337.2,141.3 L337.2,140.4 L337.3,139.6 L337.3,138.9 L337.3,138.1 L337.4,137.4   L337.4,136.7 L337.4,136.1 L337.5,135.5 L337.5,134.9 L337.6,134.4 L337.6,133.8 L337.6,133.4 L337.7,132.9   L337.7,132.5 L337.8,132.1 L337.8,131.7 L337.8,131.4 L337.9,131.1 L337.9,130.9 L338.0,130.7 L338.0,130.5   L338.0,130.3 L338.1,130.2 L338.1,130.1 L338.2,130.0 L338.2,130.1 L338.3,130.1 L338.3,130.2 L338.3,130.3   L338.4,130.5 L338.4,130.7 L338.5,130.9 L338.5,131.1 L338.5,131.4 L338.6,131.7 L338.6,132.1 L338.6,132.5   L338.7,132.9 L338.7,133.4 L338.8,133.8 L338.8,134.4 L338.8,134.9 L338.9,135.5 L338.9,136.1 L339.0,136.7   L339.0,137.4 L339.0,138.1 L339.1,138.9 L339.1,139.6 L339.1,140.4 L339.2,141.3 L339.2,142.1 L339.3,143.0   L339.3,143.9 L339.3,144.8 L339.4,145.8 L339.4,146.8 L339.5,147.8 L339.5,148.9 L339.5,149.9 L339.6,151.0   L339.6,152.2 L339.6,153.3 L339.7,154.5 L339.7,155.7 L339.8,156.9 L339.8,158.1 L339.8,159.4 L339.9,160.7   L339.9,162.0 L340.0,163.3 L340.0,164.6 L340.0,166.0 L340.1,167.4 L340.1,168.8 L340.2,170.2 L340.2,171.6   L340.2,173.1 L340.3,174.5 L340.3,176.0 L340.3,177.5 L340.4,179.0 L340.4,180.5 L340.5,182.0 L340.5,183.6   L340.5,185.1 L340.6,186.7 L340.6,188.2 L340.7,189.8 L340.7,191.4 L340.7,193.0 L340.8,194.6 L340.8,196.2   L340.8,197.8 L340.9,199.4 L340.9,201.0 L341.0,202.6 L341.0,204.3 L341.0,205.9 L341.1,207.5 L341.1,209.1   L341.2,210.7 L341.2,212.4 L341.2,214.0 L341.3,215.6 L341.3,217.2 L341.3,218.8 L341.4,220.4 L341.4,222.0   L341.5,223.6 L341.5,225.2 L341.5,226.8 L341.6,228.3 L341.6,229.9 L341.7,231.4 L341.7,233.0 L341.7,234.5   L341.8,236.0 L341.8,237.5 L341.8,239.0 L341.9,240.5 L341.9,241.9 L342.0,243.4 L342.0,244.8 L342.0,246.2   L342.1,247.6 L342.1,249.0 L342.2,250.4 L342.2,251.7 L342.2,253.0 L342.3,254.3 L342.3,255.6 L342.4,256.9   L342.4,258.1 L342.4,259.3 L342.5,260.5 L342.5,261.7 L342.5,262.8 L342.6,264.0 L342.6,265.1 L342.7,266.1   L342.7,267.2 L342.7,268.2 L342.8,269.2 L342.8,270.2 L342.9,271.1 L342.9,272.0 L342.9,272.9 L343.0,273.7   L343.0,274.6 L343.0,275.4 L343.1,276.1 L343.1,276.9 L343.2,277.6 L343.2,278.3 L343.2,278.9 L343.3,279.5   L343.3,280.1 L343.4,280.6 L343.4,281.2 L343.4,281.6 L343.5,282.1 L343.5,282.5 L343.5,282.9 L343.6,283.3   L343.6,283.6 L343.7,283.9 L343.7,284.1 L343.7,284.3 L343.8,284.5 L343.8,284.7 L343.9,284.8 L343.9,284.9   L344.0,284.9 L344.1,284.8 L344.1,284.7 L344.2,284.5 L344.2,284.3 L344.2,284.1 L344.3,283.9 L344.3,283.6   L344.4,283.3 L344.4,282.9 L344.4,282.5 L344.5,282.1 L344.5,281.6 L344.6,281.2 L344.6,280.6 L344.6,280.1   L344.7,279.5 L344.7,278.9 L344.7,278.3 L344.8,277.6 L344.8,276.9 L344.9,276.1 L344.9,275.4 L344.9,274.6   L345.0,273.7 L345.0,272.9 L345.1,272.0 L345.1,271.1 L345.1,270.2 L345.2,269.2 L345.2,268.2 L345.2,267.2   L345.3,266.1 L345.3,265.1 L345.4,264.0 L345.4,262.8 L345.4,261.7 L345.5,260.5 L345.5,259.3 L345.6,258.1   L345.6,256.9 L345.6,255.6 L345.7,254.3 L345.7,253.0 L345.7,251.7 L345.8,250.4 L345.8,249.0 L345.9,247.6   L345.9,246.2 L345.9,244.8 L346.0,243.4 L346.0,241.9 L346.1,240.5 L346.1,239.0 L346.1,237.5 L346.2,236.0   L346.2,234.5 L346.2,233.0 L346.3,231.4 L346.3,229.9 L346.4,228.3 L346.4,226.8 L346.4,225.2 L346.5,223.6   L346.5,222.0 L346.6,220.4 L346.6,218.8 L346.6,217.2 L346.7,215.6 L346.7,214.0 L346.7,212.4 L346.8,210.7   L346.8,209.1 L346.9,207.5 L346.9,205.9 L346.9,204.3 L347.0,202.6 L347.0,201.0 L347.1,199.4 L347.1,197.8   L347.1,196.2 L347.2,194.6 L347.2,193.0 L347.3,191.4 L347.3,189.8 L347.3,188.2 L347.4,186.7 L347.4,185.1   L347.4,183.6 L347.5,182.0 L347.5,180.5 L347.6,179.0 L347.6,177.5 L347.6,176.0 L347.7,174.5 L347.7,173.1   L347.8,171.6 L347.8,170.2 L347.8,168.8 L347.9,167.4 L347.9,166.0 L347.9,164.6 L348.0,163.3 L348.0,162.0   L348.1,160.7 L348.1,159.4 L348.1,158.1 L348.2,156.9 L348.2,155.7 L348.3,154.5 L348.3,153.3 L348.3,152.2   L348.4,151.0 L348.4,149.9 L348.4,148.9 L348.5,147.8 L348.5,146.8 L348.6,145.8 L348.6,144.8 L348.6,143.9   L348.7,143.0 L348.7,142.1 L348.8,141.3 L348.8,140.4 L348.8,139.6 L348.9,138.9 L348.9,138.1 L348.9,137.4   L349.0,136.7 L349.0,136.1 L349.1,135.5 L349.1,134.9 L349.1,134.4 L349.2,133.8 L349.2,133.4 L349.3,132.9   L349.3,132.5 L349.3,132.1 L349.4,131.7 L349.4,131.4 L349.5,131.1 L349.5,130.9 L349.5,130.7 L349.6,130.5   L349.6,130.3 L349.6,130.2 L349.7,130.1 L349.8,130.0 L349.8,130.1 L349.9,130.2 L349.9,130.3 L350.0,130.5   L350.0,130.7 L350.0,130.9 L350.1,131.1 L350.1,131.4 L350.1,131.7 L350.2,132.1 L350.2,132.5 L350.3,132.9   L350.3,133.4 L350.3,133.8 L350.4,134.4 L350.4,134.9 L350.5,135.5 L350.5,136.1 L350.5,136.7 L350.6,137.4   L350.6,138.1 L350.6,138.9 L350.7,139.6 L350.7,140.4 L350.8,141.3 L350.8,142.1 L350.8,143.0 L350.9,143.9   L350.9,144.8 L351.0,145.8 L351.0,146.8 L351.0,147.8 L351.1,148.9 L351.1,149.9 L351.1,151.0 L351.2,152.2   L351.2,153.3 L351.3,154.5 L351.3,155.7 L351.3,156.9 L351.4,158.1 L351.4,159.4 L351.5,160.7 L351.5,162.0   L351.5,163.3 L351.6,164.6 L351.6,166.0 L351.7,167.4 L351.7,168.8 L351.7,170.2 L351.8,171.6 L351.8,173.1   L351.8,174.5 L351.9,176.0 L351.9,177.5 L352.0,179.0 L352.0,180.5 L352.0,182.0 L352.1,183.6 L352.1,185.1   L352.2,186.7 L352.2,188.2 L352.2,189.8 L352.3,191.4 L352.3,193.0 L352.3,194.6 L352.4,196.2 L352.4,197.8   L352.5,199.4 L352.5,201.0 L352.5,202.6 L352.6,204.3 L352.6,205.9 L352.7,207.5 L352.7,209.1 L352.7,210.7   L352.8,212.4 L352.8,214.0 L352.8,215.6 L352.9,217.2 L352.9,218.8 L353.0,220.4 L353.0,222.0 L353.0,223.6   L353.1,225.2 L353.1,226.8 L353.2,228.3 L353.2,229.9 L353.2,231.4 L353.3,233.0 L353.3,234.5 L353.3,236.0   L353.4,237.5 L353.4,239.0 L353.5,240.5 L353.5,241.9 L353.5,243.4 L353.6,244.8 L353.6,246.2 L353.7,247.6   L353.7,249.0 L353.7,250.4 L353.8,251.7 L353.8,253.0 L353.9,254.3 L353.9,255.6 L353.9,256.9 L354.0,258.1   L354.0,259.3 L354.0,260.5 L354.1,261.7 L354.1,262.8 L354.2,264.0 L354.2,265.1 L354.2,266.1 L354.3,267.2   L354.3,268.2 L354.4,269.2 L354.4,270.2 L354.4,271.1 L354.5,272.0 L354.5,272.9 L354.5,273.7 L354.6,274.6   L354.6,275.4 L354.7,276.1 L354.7,276.9 L354.7,277.6 L354.8,278.3 L354.8,278.9 L354.9,279.5 L354.9,280.1   L354.9,280.6 L355.0,281.2 L355.0,281.6 L355.0,282.1 L355.1,282.5 L355.1,282.9 L355.2,283.3 L355.2,283.6   L355.2,283.9 L355.3,284.1 L355.3,284.3 L355.4,284.5 L355.4,284.7 L355.4,284.8 L355.5,284.9 L355.6,284.9   L355.7,284.8 L355.7,284.7 L355.7,284.5 L355.8,284.3 L355.8,284.1 L355.9,283.9 L355.9,283.6 L355.9,283.3   L356.0,282.9 L356.0,282.5 L356.1,282.1 L356.1,281.6 L356.1,281.2 L356.2,280.6 L356.2,280.1 L356.2,279.5   L356.3,278.9 L356.3,278.3 L356.4,277.6 L356.4,276.9 L356.4,276.1 L356.5,275.4 L356.5,274.6 L356.6,273.7   L356.6,272.9 L356.6,272.0 L356.7,271.1 L356.7,270.2 L356.7,269.2 L356.8,268.2 L356.8,267.2 L356.9,266.1   L356.9,265.1 L356.9,264.0 L357.0,262.8 L357.0,261.7 L357.1,260.5 L357.1,259.3 L357.1,258.1 L357.2,256.9   L357.2,255.6 L357.2,254.3 L357.3,253.0 L357.3,251.7 L357.4,250.4 L357.4,249.0 L357.4,247.6 L357.5,246.2   L357.5,244.8 L357.6,243.4 L357.6,241.9 L357.6,240.5 L357.7,239.0 L357.7,237.5 L357.7,236.0 L357.8,234.5   L357.8,233.0 L357.9,231.4 L357.9,229.9 L357.9,228.3 L358.0,226.8 L358.0,225.2 L358.1,223.6 L358.1,222.0   L358.1,220.4 L358.2,218.8 L358.2,217.2 L358.3,215.6 L358.3,214.0 L358.3,212.4 L358.4,210.7 L358.4,209.1   L358.4,207.5 L358.5,205.9 L358.5,204.3 L358.6,202.6 L358.6,201.0 L358.6,199.4 L358.7,197.8 L358.7,196.2   L358.8,194.6 L358.8,193.0 L358.8,191.4 L358.9,189.8 L358.9,188.2 L358.9,186.7 L359.0,185.1 L359.0,183.6   L359.1,182.0 L359.1,180.5 L359.1,179.0 L359.2,177.5 L359.2,176.0 L359.3,174.5 L359.3,173.1 L359.3,171.6   L359.4,170.2 L359.4,168.8 L359.4,167.4 L359.5,166.0 L359.5,164.6 L359.6,163.3 L359.6,162.0 L359.6,160.7   L359.7,159.4 L359.7,158.1 L359.8,156.9 L359.8,155.7 L359.8,154.5 L359.9,153.3 L359.9,152.2 L359.9,151.0   L360.0,149.9 L360.0,148.9 L360.1,147.8 L360.1,146.8 L360.1,145.8 L360.2,144.8 L360.2,143.9 L360.3,143.0   L360.3,142.1 L360.3,141.3 L360.4,140.4 L360.4,139.6 L360.4,138.9 L360.5,138.1 L360.5,137.4 L360.6,136.7   L360.6,136.1 L360.6,135.5 L360.7,134.9 L360.7,134.4 L360.8,133.8 L360.8,133.4 L360.8,132.9 L360.9,132.5   L360.9,132.1 L361.0,131.7 L361.0,131.4 L361.0,131.1 L361.1,130.9 L361.1,130.7 L361.1,130.5 L361.2,130.3   L361.2,130.2 L361.3,130.1 L361.3,130.0 L361.4,130.1 L361.5,130.2 L361.5,130.3 L361.5,130.5 L361.6,130.7   L361.6,130.9 L361.6,131.1 L361.7,131.4 L361.7,131.7 L361.8,132.1 L361.8,132.5 L361.8,132.9 L361.9,133.4   L361.9,133.8 L362.0,134.4 L362.0,134.9 L362.0,135.5 L362.1,136.1 L362.1,136.7 L362.1,137.4 L362.2,138.1   L362.2,138.9 L362.3,139.6 L362.3,140.4 L362.3,141.3 L362.4,142.1 L362.4,143.0 L362.5,143.9 L362.5,144.8   L362.5,145.8 L362.6,146.8 L362.6,147.8 L362.6,148.9 L362.7,149.9 L362.7,151.0 L362.8,152.2 L362.8,153.3   L362.8,154.5 L362.9,155.7 L362.9,156.9 L363.0,158.1 L363.0,159.4 L363.0,160.7 L363.1,162.0 L363.1,163.3   L363.2,164.6 L363.2,166.0 L363.2,167.4 L363.3,168.8 L363.3,170.2 L363.3,171.6 L363.4,173.1 L363.4,174.5   L363.5,176.0 L363.5,177.5 L363.5,179.0 L363.6,180.5 L363.6,182.0 L363.7,183.6 L363.7,185.1 L363.7,186.7   L363.8,188.2 L363.8,189.8 L363.8,191.4 L363.9,193.0 L363.9,194.6 L364.0,196.2 L364.0,197.8 L364.0,199.4   L364.1,201.0 L364.1,202.6 L364.2,204.3 L364.2,205.9 L364.2,207.5 L364.3,209.1 L364.3,210.7 L364.3,212.4   L364.4,214.0 L364.4,215.6 L364.5,217.2 L364.5,218.8 L364.5,220.4 L364.6,222.0 L364.6,223.6 L364.7,225.2   L364.7,226.8 L364.7,228.3 L364.8,229.9 L364.8,231.4 L364.8,233.0 L364.9,234.5 L364.9,236.0 L365.0,237.5   L365.0,239.0 L365.0,240.5 L365.1,241.9 L365.1,243.4 L365.2,244.8 L365.2,246.2 L365.2,247.6 L365.3,249.0   L365.3,250.4 L365.4,251.7 L365.4,253.0 L365.4,254.3 L365.5,255.6 L365.5,256.9 L365.5,258.1 L365.6,259.3   L365.6,260.5 L365.7,261.7 L365.7,262.8 L365.7,264.0 L365.8,265.1 L365.8,266.1 L365.9,267.2 L365.9,268.2   L365.9,269.2 L366.0,270.2 L366.0,271.1 L366.0,272.0 L366.1,272.9 L366.1,273.7 L366.2,274.6 L366.2,275.4   L366.2,276.1 L366.3,276.9 L366.3,277.6 L366.4,278.3 L366.4,278.9 L366.4,279.5 L366.5,280.1 L366.5,280.6   L366.5,281.2 L366.6,281.6 L366.6,282.1 L366.7,282.5 L366.7,282.9 L366.7,283.3 L366.8,283.6 L366.8,283.9   L366.9,284.1 L366.9,284.3 L366.9,284.5 L367.0,284.7 L367.0,284.8 L367.0,284.9 L367.1,284.9 L367.2,284.9   L367.2,284.8 L367.3,284.7 L367.3,284.5 L367.4,284.3 L367.4,284.1 L367.4,283.9 L367.5,283.6 L367.5,283.3   L367.6,282.9 L367.6,282.5 L367.6,282.1 L367.7,281.6 L367.7,281.2 L367.7,280.6 L367.8,280.1 L367.8,279.5   L367.9,278.9 L367.9,278.3 L367.9,277.6 L368.0,276.9 L368.0,276.1 L368.1,275.4 L368.1,274.6 L368.1,273.7   L368.2,272.9 L368.2,272.0 L368.2,271.1 L368.3,270.2 L368.3,269.2 L368.4,268.2 L368.4,267.2 L368.4,266.1   L368.5,265.1 L368.5,264.0 L368.6,262.8 L368.6,261.7 L368.6,260.5 L368.7,259.3 L368.7,258.1 L368.7,256.9   L368.8,255.6 L368.8,254.3 L368.9,253.0 L368.9,251.7 L368.9,250.4 L369.0,249.0 L369.0,247.6 L369.1,246.2   L369.1,244.8 L369.1,243.4 L369.2,241.9 L369.2,240.5 L369.2,239.0 L369.3,237.5 L369.3,236.0 L369.4,234.5   L369.4,233.0 L369.4,231.4 L369.5,229.9 L369.5,228.3 L369.6,226.8 L369.6,225.2 L369.6,223.6 L369.7,222.0   L369.7,220.4 L369.8,218.8 L369.8,217.2 L369.8,215.6 L369.9,214.0 L369.9,212.4 L369.9,210.7 L370.0,209.1   L370.0,207.5 L370.1,205.9 L370.1,204.3 L370.1,202.6 L370.2,201.0 L370.2,199.4 L370.3,197.8 L370.3,196.2   L370.3,194.6 L370.4,193.0 L370.4,191.4 L370.4,189.8 L370.5,188.2 L370.5,186.7 L370.6,185.1 L370.6,183.6   L370.6,182.0 L370.7,180.5 L370.7,179.0 L370.8,177.5 L370.8,176.0 L370.8,174.5 L370.9,173.1 L370.9,171.6   L370.9,170.2 L371.0,168.8 L371.0,167.4 L371.1,166.0 L371.1,164.6 L371.1,163.3 L371.2,162.0 L371.2,160.7   L371.3,159.4 L371.3,158.1 L371.3,156.9 L371.4,155.7 L371.4,154.5 L371.4,153.3 L371.5,152.2 L371.5,151.0   L371.6,149.9 L371.6,148.9 L371.6,147.8 L371.7,146.8 L371.7,145.8 L371.8,144.8 L371.8,143.9 L371.8,143.0   L371.9,142.1 L371.9,141.3 L372.0,140.4 L372.0,139.6 L372.0,138.9 L372.1,138.1 L372.1,137.4 L372.1,136.7   L372.2,136.1 L372.2,135.5 L372.3,134.9 L372.3,134.4 L372.3,133.8 L372.4,133.4 L372.4,132.9 L372.5,132.5   L372.5,132.1 L372.5,131.7 L372.6,131.4 L372.6,131.1 L372.6,130.9 L372.7,130.7 L372.7,130.5 L372.8,130.3   L372.8,130.2 L372.8,130.1 L372.9,130.1 L372.9,130.0 L373.0,130.1 L373.0,130.2 L373.1,130.3 L373.1,130.5   L373.1,130.7 L373.2,130.9 L373.2,131.1 L373.3,131.4 L373.3,131.7 L373.3,132.1 L373.4,132.5 L373.4,132.9   L373.5,133.4 L373.5,133.8 L373.5,134.4 L373.6,134.9 L373.6,135.5 L373.6,136.1 L373.7,136.7 L373.7,137.4   L373.8,138.1 L373.8,138.9 L373.8,139.6 L373.9,140.4 L373.9,141.3 L374.0,142.1 L374.0,143.0 L374.0,143.9   L374.1,144.8 L374.1,145.8 L374.1,146.8 L374.2,147.8 L374.2,148.9 L374.3,149.9 L374.3,151.0 L374.3,152.2   L374.4,153.3 L374.4,154.5 L374.5,155.7 L374.5,156.9 L374.5,158.1 L374.6,159.4 L374.6,160.7 L374.7,162.0   L374.7,163.3 L374.7,164.6 L374.8,166.0 L374.8,167.4 L374.8,168.8 L374.9,170.2 L374.9,171.6 L375.0,173.1   L375.0,174.5 L375.0,176.0 L375.1,177.5 L375.1,179.0 L375.2,180.5 L375.2,182.0 L375.2,183.6 L375.3,185.1   L375.3,186.7 L375.3,188.2 L375.4,189.8 L375.4,191.4 L375.5,193.0 L375.5,194.6 L375.5,196.2 L375.6,197.8   L375.6,199.4 L375.7,201.0 L375.7,202.6 L375.7,204.3 L375.8,205.9 L375.8,207.5 L375.8,209.1 L375.9,210.7   L375.9,212.4 L376.0,214.0 L376.0,215.6 L376.0,217.2 L376.1,218.8 L376.1,220.4 L376.2,222.0 L376.2,223.6   L376.2,225.2 L376.3,226.8 L376.3,228.3 L376.3,229.9 L376.4,231.4 L376.4,233.0 L376.5,234.5 L376.5,236.0   L376.5,237.5 L376.6,239.0 L376.6,240.5 L376.7,241.9 L376.7,243.4 L376.7,244.8 L376.8,246.2 L376.8,247.6   L376.9,249.0 L376.9,250.4 L376.9,251.7 L377.0,253.0 L377.0,254.3 L377.0,255.6 L377.1,256.9 L377.1,258.1   L377.2,259.3 L377.2,260.5 L377.2,261.7 L377.3,262.8 L377.3,264.0 L377.4,265.1 L377.4,266.1 L377.4,267.2   L377.5,268.2 L377.5,269.2 L377.5,270.2 L377.6,271.1 L377.6,272.0 L377.7,272.9 L377.7,273.7 L377.7,274.6   L377.8,275.4 L377.8,276.1 L377.9,276.9 L377.9,277.6 L377.9,278.3 L378.0,278.9 L378.0,279.5 L378.0,280.1   L378.1,280.6 L378.1,281.2 L378.2,281.6 L378.2,282.1 L378.2,282.5 L378.3,282.9 L378.3,283.3 L378.4,283.6   L378.4,283.9 L378.4,284.1 L378.5,284.3 L378.5,284.5 L378.5,284.7 L378.6,284.8 L378.6,284.9 L378.7,284.9   L378.8,284.9 L378.8,284.8 L378.9,284.7 L378.9,284.5 L378.9,284.3 L379.0,284.1 L379.0,283.9 L379.1,283.6   L379.1,283.3 L379.1,282.9 L379.2,282.5 L379.2,282.1 L379.2,281.6 L379.3,281.2 L379.3,280.6 L379.4,280.1   L379.4,279.5 L379.4,278.9 L379.5,278.3 L379.5,277.6 L379.6,276.9 L379.6,276.1 L379.6,275.4 L379.7,274.6   L379.7,273.7 L379.7,272.9 L379.8,272.0 L379.8,271.1 L379.9,270.2 L379.9,269.2 L379.9,268.2 L380.0,267.2   L380.0,266.1 L380.1,265.1 L380.1,264.0 L380.1,262.8 L380.2,261.7 L380.2,260.5 L380.2,259.3 L380.3,258.1   L380.3,256.9 L380.4,255.6 L380.4,254.3 L380.4,253.0 L380.5,251.7 L380.5,250.4 L380.6,249.0 L380.6,247.6   L380.6,246.2 L380.7,244.8 L380.7,243.4 L380.7,241.9 L380.8,240.5 L380.8,239.0 L380.9,237.5 L380.9,236.0   L380.9,234.5 L381.0,233.0 L381.0,231.4 L381.1,229.9 L381.1,228.3 L381.1,226.8 L381.2,225.2 L381.2,223.6   L381.3,222.0 L381.3,220.4 L381.3,218.8 L381.4,217.2 L381.4,215.6 L381.4,214.0 L381.5,212.4 L381.5,210.7   L381.6,209.1 L381.6,207.5 L381.6,205.9 L381.7,204.3 L381.7,202.6 L381.8,201.0 L381.8,199.4 L381.8,197.8   L381.9,196.2 L381.9,194.6 L381.9,193.0 L382.0,191.4 L382.0,189.8 L382.1,188.2 L382.1,186.7 L382.1,185.1   L382.2,183.6 L382.2,182.0 L382.3,180.5 L382.3,179.0 L382.3,177.5 L382.4,176.0 L382.4,174.5 L382.4,173.1   L382.5,171.6 L382.5,170.2 L382.6,168.8 L382.6,167.4 L382.6,166.0 L382.7,164.6 L382.7,163.3 L382.8,162.0   L382.8,160.7 L382.8,159.4 L382.9,158.1 L382.9,156.9 L382.9,155.7 L383.0,154.5 L383.0,153.3 L383.1,152.2   L383.1,151.0 L383.1,149.9 L383.2,148.9 L383.2,147.8 L383.3,146.8 L383.3,145.8 L383.3,144.8 L383.4,143.9   L383.4,143.0 L383.5,142.1 L383.5,141.3 L383.5,140.4 L383.6,139.6 L383.6,138.9 L383.6,138.1 L383.7,137.4   L383.7,136.7 L383.8,136.1 L383.8,135.5 L383.8,134.9 L383.9,134.4 L383.9,133.8 L384.0,133.4 L384.0,132.9   L384.0,132.5 L384.1,132.1 L384.1,131.7 L384.1,131.4 L384.2,131.1 L384.2,130.9 L384.3,130.7 L384.3,130.5   L384.3,130.3 L384.4,130.2 L384.4,130.1 L384.5,130.1 L384.5,130.0 L384.5,130.1 L384.6,130.1 L384.6,130.2   L384.6,130.3 L384.7,130.5 L384.7,130.7 L384.8,130.9 L384.8,131.1 L384.8,131.4 L384.9,131.7 L384.9,132.1   L385.0,132.5 L385.0,132.9 L385.0,133.4 L385.1,133.8 L385.1,134.4 L385.1,134.9 L385.2,135.5 L385.2,136.1   L385.3,136.7 L385.3,137.4 L385.3,138.1 L385.4,138.9 L385.4,139.6 L385.5,140.4 L385.5,141.3 L385.5,142.1   L385.6,143.0 L385.6,143.9 L385.7,144.8 L385.7,145.8 L385.7,146.8 L385.8,147.8 L385.8,148.9 L385.8,149.9   L385.9,151.0 L385.9,152.2 L386.0,153.3 L386.0,154.5 L386.0,155.7 L386.1,156.9 L386.1,158.1 L386.2,159.4   L386.2,160.7 L386.2,162.0 L386.3,163.3 L386.3,164.6 L386.3,166.0 L386.4,167.4 L386.4,168.8 L386.5,170.2   L386.5,171.6 L386.5,173.1 L386.6,174.5 L386.6,176.0 L386.7,177.5 L386.7,179.0 L386.7,180.5 L386.8,182.0   L386.8,183.6 L386.8,185.1 L386.9,186.7 L386.9,188.2 L387.0,189.8 L387.0,191.4 L387.0,193.0 L387.1,194.6   L387.1,196.2 L387.2,197.8 L387.2,199.4 L387.2,201.0 L387.3,202.6 L387.3,204.3 L387.3,205.9 L387.4,207.5   L387.4,209.1 L387.5,210.7 L387.5,212.4 L387.5,214.0 L387.6,215.6 L387.6,217.2 L387.7,218.8 L387.7,220.4   L387.7,222.0 L387.8,223.6 L387.8,225.2 L387.8,226.8 L387.9,228.3 L387.9,229.9 L388.0,231.4 L388.0,233.0   L388.0,234.5 L388.1,236.0 L388.1,237.5 L388.2,239.0 L388.2,240.5 L388.2,241.9 L388.3,243.4 L388.3,244.8   L388.4,246.2 L388.4,247.6 L388.4,249.0 L388.5,250.4 L388.5,251.7 L388.5,253.0 L388.6,254.3 L388.6,255.6   L388.7,256.9 L388.7,258.1 L388.7,259.3 L388.8,260.5 L388.8,261.7 L388.9,262.8 L388.9,264.0 L388.9,265.1   L389.0,266.1 L389.0,267.2 L389.0,268.2 L389.1,269.2 L389.1,270.2 L389.2,271.1 L389.2,272.0 L389.2,272.9   L389.3,273.7 L389.3,274.6 L389.4,275.4 L389.4,276.1 L389.4,276.9 L389.5,277.6 L389.5,278.3 L389.5,278.9   L389.6,279.5 L389.6,280.1 L389.7,280.6 L389.7,281.2 L389.7,281.6 L389.8,282.1 L389.8,282.5 L389.9,282.9   L389.9,283.3 L389.9,283.6 L390.0,283.9 L390.0,284.1 L390.0,284.3 L390.1,284.5 L390.1,284.7 L390.2,284.8   L390.2,284.9 L390.3,284.9 L390.4,284.9 L390.4,284.8 L390.4,284.7 L390.5,284.5 L390.5,284.3 L390.6,284.1   L390.6,283.9 L390.6,283.6 L390.7,283.3 L390.7,282.9 L390.7,282.5 L390.8,282.1 L390.8,281.6 L390.9,281.2   L390.9,280.6 L390.9,280.1 L391.0,279.5 L391.0,278.9 L391.1,278.3 L391.1,277.6 L391.1,276.9 L391.2,276.1   L391.2,275.4 L391.2,274.6 L391.3,273.7 L391.3,272.9 L391.4,272.0 L391.4,271.1 L391.4,270.2 L391.5,269.2   L391.5,268.2 L391.6,267.2 L391.6,266.1 L391.6,265.1 L391.7,264.0 L391.7,262.8 L391.7,261.7 L391.8,260.5   L391.8,259.3 L391.9,258.1 L391.9,256.9 L391.9,255.6 L392.0,254.3 L392.0,253.0 L392.1,251.7 L392.1,250.4   L392.1,249.0 L392.2,247.6 L392.2,246.2 L392.2,244.8 L392.3,243.4 L392.3,241.9 L392.4,240.5 L392.4,239.0   L392.4,237.5 L392.5,236.0 L392.5,234.5 L392.6,233.0 L392.6,231.4 L392.6,229.9 L392.7,228.3 L392.7,226.8   L392.8,225.2 L392.8,223.6 L392.8,222.0 L392.9,220.4 L392.9,218.8 L392.9,217.2 L393.0,215.6 L393.0,214.0   L393.1,212.4 L393.1,210.7 L393.1,209.1 L393.2,207.5 L393.2,205.9 L393.3,204.3 L393.3,202.6 L393.3,201.0   L393.4,199.4 L393.4,197.8 L393.4,196.2 L393.5,194.6 L393.5,193.0 L393.6,191.4 L393.6,189.8 L393.6,188.2   L393.7,186.7 L393.7,185.1 L393.8,183.6 L393.8,182.0 L393.8,180.5 L393.9,179.0 L393.9,177.5 L393.9,176.0   L394.0,174.5 L394.0,173.1 L394.1,171.6 L394.1,170.2 L394.1,168.8 L394.2,167.4 L394.2,166.0 L394.3,164.6   L394.3,163.3 L394.3,162.0 L394.4,160.7 L394.4,159.4 L394.4,158.1 L394.5,156.9 L394.5,155.7 L394.6,154.5   L394.6,153.3 L394.6,152.2 L394.7,151.0 L394.7,149.9 L394.8,148.9 L394.8,147.8 L394.8,146.8 L394.9,145.8   L394.9,144.8 L395.0,143.9 L395.0,143.0 L395.0,142.1 L395.1,141.3 L395.1,140.4 L395.1,139.6 L395.2,138.9   L395.2,138.1 L395.3,137.4 L395.3,136.7 L395.3,136.1 L395.4,135.5 L395.4,134.9 L395.5,134.4 L395.5,133.8   L395.5,133.4 L395.6,132.9 L395.6,132.5 L395.6,132.1 L395.7,131.7 L395.7,131.4 L395.8,131.1 L395.8,130.9   L395.8,130.7 L395.9,130.5 L395.9,130.3 L396.0,130.2 L396.0,130.1 L396.1,130.0 L396.1,130.1 L396.2,130.2   L396.2,130.3 L396.3,130.5 L396.3,130.7 L396.3,130.9 L396.4,131.1 L396.4,131.4 L396.5,131.7 L396.5,132.1   L396.5,132.5 L396.6,132.9 L396.6,133.4 L396.6,133.8 L396.7,134.4 L396.7,134.9 L396.8,135.5 L396.8,136.1   L396.8,136.7 L396.9,137.4 L396.9,138.1 L397.0,138.9 L397.0,139.6 L397.0,140.4 L397.1,141.3 L397.1,142.1   L397.2,143.0 L397.2,143.9 L397.2,144.8 L397.3,145.8 L397.3,146.8 L397.3,147.8 L397.4,148.9 L397.4,149.9   L397.5,151.0 L397.5,152.2 L397.5,153.3 L397.6,154.5 L397.6,155.7 L397.7,156.9 L397.7,158.1 L397.7,159.4   L397.8,160.7 L397.8,162.0 L397.8,163.3 L397.9,164.6 L397.9,166.0 L398.0,167.4 L398.0,168.8 L398.0,170.2   L398.1,171.6 L398.1,173.1 L398.2,174.5 L398.2,176.0 L398.2,177.5 L398.3,179.0 L398.3,180.5 L398.3,182.0   L398.4,183.6 L398.4,185.1 L398.5,186.7 L398.5,188.2 L398.5,189.8 L398.6,191.4 L398.6,193.0 L398.7,194.6   L398.7,196.2 L398.7,197.8 L398.8,199.4 L398.8,201.0 L398.8,202.6 L398.9,204.3 L398.9,205.9 L399.0,207.5   L399.0,209.1 L399.0,210.7 L399.1,212.4 L399.1,214.0 L399.2,215.6 L399.2,217.2 L399.2,218.8 L399.3,220.4   L399.3,222.0 L399.4,223.6 L399.4,225.2 L399.4,226.8 L399.5,228.3 L399.5,229.9 L399.5,231.4 L399.6,233.0   L399.6,234.5 L399.7,236.0 L399.7,237.5 L399.7,239.0 L399.8,240.5 L399.8,241.9 L399.9,243.4 L399.9,244.8   L399.9,246.2 L400.0,247.6 L400.0,249.0 L400.0,250.4 L400.1,251.7 L400.1,253.0 L400.2,254.3 L400.2,255.6   L400.2,256.9 L400.3,258.1 L400.3,259.3 L400.4,260.5 L400.4,261.7 L400.4,262.8 L400.5,264.0 L400.5,265.1   L400.5,266.1 L400.6,267.2 L400.6,268.2 L400.7,269.2 L400.7,270.2 L400.7,271.1 L400.8,272.0 L400.8,272.9   L400.9,273.7 L400.9,274.6 L400.9,275.4 L401.0,276.1 L401.0,276.9 L401.0,277.6 L401.1,278.3 L401.1,278.9   L401.2,279.5 L401.2,280.1 L401.2,280.6 L401.3,281.2 L401.3,281.6 L401.4,282.1 L401.4,282.5 L401.4,282.9   L401.5,283.3 L401.5,283.6 L401.6,283.9 L401.6,284.1 L401.6,284.3 L401.7,284.5 L401.7,284.7 L401.7,284.8   L401.8,284.9 L401.9,284.9 L402.0,284.8 L402.0,284.7 L402.1,284.5 L402.1,284.3 L402.1,284.1 L402.2,283.9   L402.2,283.6 L402.2,283.3 L402.3,282.9 L402.3,282.5 L402.4,282.1 L402.4,281.6 L402.4,281.2 L402.5,280.6   L402.5,280.1 L402.6,279.5 L402.6,278.9 L402.6,278.3 L402.7,277.6 L402.7,276.9 L402.7,276.1 L402.8,275.4   L402.8,274.6 L402.9,273.7 L402.9,272.9 L402.9,272.0 L403.0,271.1 L403.0,270.2 L403.1,269.2 L403.1,268.2   L403.1,267.2 L403.2,266.1 L403.2,265.1 L403.2,264.0 L403.3,262.8 L403.3,261.7 L403.4,260.5 L403.4,259.3   L403.4,258.1 L403.5,256.9 L403.5,255.6 L403.6,254.3 L403.6,253.0 L403.6,251.7 L403.7,250.4 L403.7,249.0   L403.7,247.6 L403.8,246.2 L403.8,244.8 L403.9,243.4 L403.9,241.9 L403.9,240.5 L404.0,239.0 L404.0,237.5   L404.1,236.0 L404.1,234.5 L404.1,233.0 L404.2,231.4 L404.2,229.9 L404.3,228.3 L404.3,226.8 L404.3,225.2   L404.4,223.6 L404.4,222.0 L404.4,220.4 L404.5,218.8 L404.5,217.2 L404.6,215.6 L404.6,214.0 L404.6,212.4   L404.7,210.7 L404.7,209.1 L404.8,207.5 L404.8,205.9 L404.8,204.3 L404.9,202.6 L404.9,201.0 L404.9,199.4   L405.0,197.8 L405.0,196.2 L405.1,194.6 L405.1,193.0 L405.1,191.4 L405.2,189.8 L405.2,188.2 L405.3,186.7   L405.3,185.1 L405.3,183.6 L405.4,182.0 L405.4,180.5 L405.4,179.0 L405.5,177.5 L405.5,176.0 L405.6,174.5   L405.6,173.1 L405.6,171.6 L405.7,170.2 L405.7,168.8 L405.8,167.4 L405.8,166.0 L405.8,164.6 L405.9,163.3   L405.9,162.0 L405.9,160.7 L406.0,159.4 L406.0,158.1 L406.1,156.9 L406.1,155.7 L406.1,154.5 L406.2,153.3   L406.2,152.2 L406.3,151.0 L406.3,149.9 L406.3,148.9 L406.4,147.8 L406.4,146.8 L406.5,145.8 L406.5,144.8   L406.5,143.9 L406.6,143.0 L406.6,142.1 L406.6,141.3 L406.7,140.4 L406.7,139.6 L406.8,138.9 L406.8,138.1   L406.8,137.4 L406.9,136.7 L406.9,136.1 L407.0,135.5 L407.0,134.9 L407.0,134.4 L407.1,133.8 L407.1,133.4   L407.1,132.9 L407.2,132.5 L407.2,132.1 L407.3,131.7 L407.3,131.4 L407.3,131.1 L407.4,130.9 L407.4,130.7   L407.5,130.5 L407.5,130.3 L407.5,130.2 L407.6,130.1 L407.6,130.0 L407.7,130.1 L407.8,130.2 L407.8,130.3   L407.8,130.5 L407.9,130.7 L407.9,130.9 L408.0,131.1 L408.0,131.4 L408.0,131.7 L408.1,132.1 L408.1,132.5   L408.1,132.9 L408.2,133.4 L408.2,133.8 L408.3,134.4 L408.3,134.9 L408.3,135.5 L408.4,136.1 L408.4,136.7   L408.5,137.4 L408.5,138.1 L408.5,138.9 L408.6,139.6 L408.6,140.4 L408.7,141.3 L408.7,142.1 L408.7,143.0   L408.8,143.9 L408.8,144.8 L408.8,145.8 L408.9,146.8 L408.9,147.8 L409.0,148.9 L409.0,149.9 L409.0,151.0   L409.1,152.2 L409.1,153.3 L409.2,154.5 L409.2,155.7 L409.2,156.9 L409.3,158.1 L409.3,159.4 L409.3,160.7   L409.4,162.0 L409.4,163.3 L409.5,164.6 L409.5,166.0 L409.5,167.4 L409.6,168.8 L409.6,170.2 L409.7,171.6   L409.7,173.1 L409.7,174.5 L409.8,176.0 L409.8,177.5 L409.8,179.0 L409.9,180.5 L409.9,182.0 L410.0,183.6   L410.0,185.1 L410.0,186.7 L410.1,188.2 L410.1,189.8 L410.2,191.4 L410.2,193.0 L410.2,194.6 L410.3,196.2   L410.3,197.8 L410.3,199.4 L410.4,201.0 L410.4,202.6 L410.5,204.3 L410.5,205.9 L410.5,207.5 L410.6,209.1   L410.6,210.7 L410.7,212.4 L410.7,214.0 L410.7,215.6 L410.8,217.2 L410.8,218.8 L410.9,220.4 L410.9,222.0   L410.9,223.6 L411.0,225.2 L411.0,226.8 L411.0,228.3 L411.1,229.9 L411.1,231.4 L411.2,233.0 L411.2,234.5   L411.2,236.0 L411.3,237.5 L411.3,239.0 L411.4,240.5 L411.4,241.9 L411.4,243.4 L411.5,244.8 L411.5,246.2   L411.5,247.6 L411.6,249.0 L411.6,250.4 L411.7,251.7 L411.7,253.0 L411.7,254.3 L411.8,255.6 L411.8,256.9   L411.9,258.1 L411.9,259.3 L411.9,260.5 L412.0,261.7 L412.0,262.8 L412.0,264.0 L412.1,265.1 L412.1,266.1   L412.2,267.2 L412.2,268.2 L412.2,269.2 L412.3,270.2 L412.3,271.1 L412.4,272.0 L412.4,272.9 L412.4,273.7   L412.5,274.6 L412.5,275.4 L412.5,276.1 L412.6,276.9 L412.6,277.6 L412.7,278.3 L412.7,278.9 L412.7,279.5   L412.8,280.1 L412.8,280.6 L412.9,281.2 L412.9,281.6 L412.9,282.1 L413.0,282.5 L413.0,282.9 L413.1,283.3   L413.1,283.6 L413.1,283.9 L413.2,284.1 L413.2,284.3 L413.2,284.5 L413.3,284.7 L413.3,284.8 L413.4,284.9   L413.5,284.9 L413.6,284.8 L413.6,284.7 L413.6,284.5 L413.7,284.3 L413.7,284.1 L413.7,283.9 L413.8,283.6   L413.8,283.3 L413.9,282.9 L413.9,282.5 L413.9,282.1 L414.0,281.6 L414.0,281.2 L414.1,280.6 L414.1,280.1   L414.1,279.5 L414.2,278.9 L414.2,278.3 L414.2,277.6 L414.3,276.9 L414.3,276.1 L414.4,275.4 L414.4,274.6   L414.4,273.7 L414.5,272.9 L414.5,272.0 L414.6,271.1 L414.6,270.2 L414.6,269.2 L414.7,268.2 L414.7,267.2   L414.7,266.1 L414.8,265.1 L414.8,264.0 L414.9,262.8 L414.9,261.7 L414.9,260.5 L415.0,259.3 L415.0,258.1   L415.1,256.9 L415.1,255.6 L415.1,254.3 L415.2,253.0 L415.2,251.7 L415.3,250.4 L415.3,249.0 L415.3,247.6   L415.4,246.2 L415.4,244.8 L415.4,243.4 L415.5,241.9 L415.5,240.5 L415.6,239.0 L415.6,237.5 L415.6,236.0   L415.7,234.5 L415.7,233.0 L415.8,231.4 L415.8,229.9 L415.8,228.3 L415.9,226.8 L415.9,225.2 L415.9,223.6   L416.0,222.0 L416.0,220.4 L416.1,218.8 L416.1,217.2 L416.1,215.6 L416.2,214.0 L416.2,212.4 L416.3,210.7   L416.3,209.1 L416.3,207.5 L416.4,205.9 L416.4,204.3 L416.4,202.6 L416.5,201.0 L416.5,199.4 L416.6,197.8   L416.6,196.2 L416.6,194.6 L416.7,193.0 L416.7,191.4 L416.8,189.8 L416.8,188.2 L416.8,186.7 L416.9,185.1   L416.9,183.6 L416.9,182.0 L417.0,180.5 L417.0,179.0 L417.1,177.5 L417.1,176.0 L417.1,174.5 L417.2,173.1   L417.2,171.6 L417.3,170.2 L417.3,168.8 L417.3,167.4 L417.4,166.0 L417.4,164.6 L417.4,163.3 L417.5,162.0   L417.5,160.7 L417.6,159.4 L417.6,158.1 L417.6,156.9 L417.7,155.7 L417.7,154.5 L417.8,153.3 L417.8,152.2   L417.8,151.0 L417.9,149.9 L417.9,148.9 L418.0,147.8 L418.0,146.8 L418.0,145.8 L418.1,144.8 L418.1,143.9   L418.1,143.0 L418.2,142.1 L418.2,141.3 L418.3,140.4 L418.3,139.6 L418.3,138.9 L418.4,138.1 L418.4,137.4   L418.5,136.7 L418.5,136.1 L418.5,135.5 L418.6,134.9 L418.6,134.4 L418.6,133.8 L418.7,133.4 L418.7,132.9   L418.8,132.5 L418.8,132.1 L418.8,131.7 L418.9,131.4 L418.9,131.1 L419.0,130.9 L419.0,130.7 L419.0,130.5   L419.1,130.3 L419.1,130.2 L419.1,130.1 L419.2,130.1 L419.2,130.0  \" stroke=\"rgb(  0, 114, 189)\"/></g>\n",
       "\t</g>\n",
       "<g color=\"white\" fill=\"none\" stroke=\"rgb(  0, 114, 189)\" stroke-linecap=\"butt\" stroke-linejoin=\"miter\" stroke-width=\"2.00\">\n",
       "</g>\n",
       "<g color=\"black\" fill=\"none\" stroke=\"currentColor\" stroke-linecap=\"butt\" stroke-linejoin=\"miter\" stroke-width=\"2.00\">\n",
       "</g>\n",
       "<g color=\"black\" fill=\"none\" stroke=\"black\" stroke-linecap=\"butt\" stroke-linejoin=\"miter\" stroke-width=\"0.50\">\n",
       "\t<path d=\"M71.9,362.4 L535.0,362.4 M71.9,52.6 L535.0,52.6 M71.9,362.4 L71.9,52.6 M535.0,362.4 L535.0,52.6    \" stroke=\"rgb( 38,  38,  38)\"/></g>\n",
       "<g color=\"black\" fill=\"none\" stroke=\"rgb( 38,  38,  38)\" stroke-linecap=\"butt\" stroke-linejoin=\"miter\" stroke-width=\"1.00\">\n",
       "</g>\n",
       "<g color=\"black\" fill=\"none\" stroke=\"currentColor\" stroke-linecap=\"butt\" stroke-linejoin=\"miter\" stroke-width=\"1.00\">\n",
       "</g>\n",
       "</g>\n",
       "</svg>"
      ],
      "text/plain": [
       "<IPython.core.display.SVG object>"
      ]
     },
     "metadata": {},
     "output_type": "display_data"
    }
   ],
   "source": [
    "T_base = [0: 1/sample_rate: 1]; # The time base, sampling at 6 kHz\n",
    "V_cos_pulse = cos(2*pi*20*T_base);\n",
    "\n",
    "plot(T_base, V_cos_pulse)\n",
    "ylabel(\"Amplitude (V)\")\n",
    "xlabel(\"Time (s)\")\n",
    "title(\"Figure 6: Cosine Pulse - Time domain\")\n",
    "axis([-0.5 1.5 -2 2])"
   ]
  },
  {
   "cell_type": "markdown",
   "metadata": {},
   "source": [
    "Now we use a fast-fourier-transform (FFT) to determine the frequency components of the signal (Figure 6).\n",
    "\n",
    "Use `fft` to do an analysis of the time signal in the \n",
    "frequency domain. Use `fftshift` to shift 0 Hz to the \n",
    "centre of the vector."
   ]
  },
  {
   "cell_type": "code",
   "execution_count": 38,
   "metadata": {},
   "outputs": [
    {
     "data": {
      "image/svg+xml": [
       "<svg height=\"420px\" viewBox=\"0 0 560 420\" width=\"560px\" xmlns=\"http://www.w3.org/2000/svg\" xmlns:xlink=\"http://www.w3.org/1999/xlink\">\n",
       "\n",
       "<title>Gnuplot</title>\n",
       "<desc>Produced by GNUPLOT 5.2 patchlevel 2 </desc>\n",
       "\n",
       "<g id=\"gnuplot_canvas\">\n",
       "\n",
       "<rect fill=\"none\" height=\"420\" width=\"560\" x=\"0\" y=\"0\"/>\n",
       "<defs>\n",
       "\n",
       "\t<circle id=\"gpDot\" r=\"0.5\" stroke-width=\"0.5\"/>\n",
       "\t<path d=\"M-1,0 h2 M0,-1 v2\" id=\"gpPt0\" stroke=\"currentColor\" stroke-width=\"0.222\"/>\n",
       "\t<path d=\"M-1,-1 L1,1 M1,-1 L-1,1\" id=\"gpPt1\" stroke=\"currentColor\" stroke-width=\"0.222\"/>\n",
       "\t<path d=\"M-1,0 L1,0 M0,-1 L0,1 M-1,-1 L1,1 M-1,1 L1,-1\" id=\"gpPt2\" stroke=\"currentColor\" stroke-width=\"0.222\"/>\n",
       "\t<rect height=\"2\" id=\"gpPt3\" stroke=\"currentColor\" stroke-width=\"0.222\" width=\"2\" x=\"-1\" y=\"-1\"/>\n",
       "\t<rect fill=\"currentColor\" height=\"2\" id=\"gpPt4\" stroke=\"currentColor\" stroke-width=\"0.222\" width=\"2\" x=\"-1\" y=\"-1\"/>\n",
       "\t<circle cx=\"0\" cy=\"0\" id=\"gpPt5\" r=\"1\" stroke=\"currentColor\" stroke-width=\"0.222\"/>\n",
       "\t<use fill=\"currentColor\" id=\"gpPt6\" stroke=\"none\" xlink:href=\"#gpPt5\"/>\n",
       "\t<path d=\"M0,-1.33 L-1.33,0.67 L1.33,0.67 z\" id=\"gpPt7\" stroke=\"currentColor\" stroke-width=\"0.222\"/>\n",
       "\t<use fill=\"currentColor\" id=\"gpPt8\" stroke=\"none\" xlink:href=\"#gpPt7\"/>\n",
       "\t<use id=\"gpPt9\" stroke=\"currentColor\" transform=\"rotate(180)\" xlink:href=\"#gpPt7\"/>\n",
       "\t<use fill=\"currentColor\" id=\"gpPt10\" stroke=\"none\" xlink:href=\"#gpPt9\"/>\n",
       "\t<use id=\"gpPt11\" stroke=\"currentColor\" transform=\"rotate(45)\" xlink:href=\"#gpPt3\"/>\n",
       "\t<use fill=\"currentColor\" id=\"gpPt12\" stroke=\"none\" xlink:href=\"#gpPt11\"/>\n",
       "\t<path d=\"M0,1.330 L1.265,0.411 L0.782,-1.067 L-0.782,-1.076 L-1.265,0.411 z\" id=\"gpPt13\" stroke=\"currentColor\" stroke-width=\"0.222\"/>\n",
       "\t<use fill=\"currentColor\" id=\"gpPt14\" stroke=\"none\" xlink:href=\"#gpPt13\"/>\n",
       "\t<filter filterUnits=\"objectBoundingBox\" height=\"1\" id=\"textbox\" width=\"1\" x=\"0\" y=\"0\">\n",
       "\t  <feFlood flood-color=\"white\" flood-opacity=\"1\" result=\"bgnd\"/>\n",
       "\t  <feComposite in=\"SourceGraphic\" in2=\"bgnd\" operator=\"atop\"/>\n",
       "\t</filter>\n",
       "\t<filter filterUnits=\"objectBoundingBox\" height=\"1\" id=\"greybox\" width=\"1\" x=\"0\" y=\"0\">\n",
       "\t  <feFlood flood-color=\"lightgrey\" flood-opacity=\"1\" result=\"grey\"/>\n",
       "\t  <feComposite in=\"SourceGraphic\" in2=\"grey\" operator=\"atop\"/>\n",
       "\t</filter>\n",
       "</defs>\n",
       "<g color=\"white\" fill=\"none\" stroke=\"currentColor\" stroke-linecap=\"butt\" stroke-linejoin=\"miter\" stroke-width=\"1.00\">\n",
       "</g>\n",
       "<g color=\"black\" fill=\"none\" stroke=\"currentColor\" stroke-linecap=\"butt\" stroke-linejoin=\"miter\" stroke-width=\"1.00\">\n",
       "\t<g shape-rendering=\"crispEdges\" stroke=\"none\">\n",
       "\t\t<polygon fill=\"rgb(255, 255, 255)\" points=\"62.2,384.0 534.9,384.0 534.9,18.2 62.2,18.2 \"/>\n",
       "\t</g>\n",
       "</g>\n",
       "<g color=\"black\" fill=\"none\" stroke=\"currentColor\" stroke-linecap=\"butt\" stroke-linejoin=\"miter\" stroke-width=\"1.00\">\n",
       "\t<path d=\"M62.2,384.0 L74.7,384.0 M535.0,384.0 L522.5,384.0  \" stroke=\"rgb(  0,   0,   0)\"/>\t<g fill=\"rgb(38,38,38)\" font-family=\"Arial\" font-size=\"10.00\" stroke=\"none\" text-anchor=\"end\" transform=\"translate(53.9,387.3)\">\n",
       "\t\t<text><tspan font-family=\"Arial\">-1000</tspan></text>\n",
       "\t</g>\n",
       "</g>\n",
       "<g color=\"black\" fill=\"none\" stroke=\"currentColor\" stroke-linecap=\"butt\" stroke-linejoin=\"miter\" stroke-width=\"1.00\">\n",
       "\t<path d=\"M62.2,310.8 L74.7,310.8 M535.0,310.8 L522.5,310.8  \" stroke=\"rgb(  0,   0,   0)\"/>\t<g fill=\"rgb(38,38,38)\" font-family=\"Arial\" font-size=\"10.00\" stroke=\"none\" text-anchor=\"end\" transform=\"translate(53.9,314.1)\">\n",
       "\t\t<text><tspan font-family=\"Arial\">0</tspan></text>\n",
       "\t</g>\n",
       "</g>\n",
       "<g color=\"black\" fill=\"none\" stroke=\"currentColor\" stroke-linecap=\"butt\" stroke-linejoin=\"miter\" stroke-width=\"1.00\">\n",
       "\t<path d=\"M62.2,237.6 L74.7,237.6 M535.0,237.6 L522.5,237.6  \" stroke=\"rgb(  0,   0,   0)\"/>\t<g fill=\"rgb(38,38,38)\" font-family=\"Arial\" font-size=\"10.00\" stroke=\"none\" text-anchor=\"end\" transform=\"translate(53.9,240.9)\">\n",
       "\t\t<text><tspan font-family=\"Arial\">1000</tspan></text>\n",
       "\t</g>\n",
       "</g>\n",
       "<g color=\"black\" fill=\"none\" stroke=\"currentColor\" stroke-linecap=\"butt\" stroke-linejoin=\"miter\" stroke-width=\"1.00\">\n",
       "\t<path d=\"M62.2,164.5 L74.7,164.5 M535.0,164.5 L522.5,164.5  \" stroke=\"rgb(  0,   0,   0)\"/>\t<g fill=\"rgb(38,38,38)\" font-family=\"Arial\" font-size=\"10.00\" stroke=\"none\" text-anchor=\"end\" transform=\"translate(53.9,167.8)\">\n",
       "\t\t<text><tspan font-family=\"Arial\">2000</tspan></text>\n",
       "\t</g>\n",
       "</g>\n",
       "<g color=\"black\" fill=\"none\" stroke=\"currentColor\" stroke-linecap=\"butt\" stroke-linejoin=\"miter\" stroke-width=\"1.00\">\n",
       "\t<path d=\"M62.2,91.3 L74.7,91.3 M535.0,91.3 L522.5,91.3  \" stroke=\"rgb(  0,   0,   0)\"/>\t<g fill=\"rgb(38,38,38)\" font-family=\"Arial\" font-size=\"10.00\" stroke=\"none\" text-anchor=\"end\" transform=\"translate(53.9,94.6)\">\n",
       "\t\t<text><tspan font-family=\"Arial\">3000</tspan></text>\n",
       "\t</g>\n",
       "</g>\n",
       "<g color=\"black\" fill=\"none\" stroke=\"currentColor\" stroke-linecap=\"butt\" stroke-linejoin=\"miter\" stroke-width=\"1.00\">\n",
       "\t<path d=\"M62.2,18.1 L74.7,18.1 M535.0,18.1 L522.5,18.1  \" stroke=\"rgb(  0,   0,   0)\"/>\t<g fill=\"rgb(38,38,38)\" font-family=\"Arial\" font-size=\"10.00\" stroke=\"none\" text-anchor=\"end\" transform=\"translate(53.9,21.4)\">\n",
       "\t\t<text><tspan font-family=\"Arial\">4000</tspan></text>\n",
       "\t</g>\n",
       "</g>\n",
       "<g color=\"black\" fill=\"none\" stroke=\"currentColor\" stroke-linecap=\"butt\" stroke-linejoin=\"miter\" stroke-width=\"1.00\">\n",
       "\t<path d=\"M109.5,384.0 L109.5,371.5 M109.5,18.1 L109.5,30.6  \" stroke=\"rgb(  0,   0,   0)\"/>\t<g fill=\"rgb(38,38,38)\" font-family=\"Arial\" font-size=\"10.00\" stroke=\"none\" text-anchor=\"middle\" transform=\"translate(109.5,405.3)\">\n",
       "\t\t<text><tspan font-family=\"Arial\">-20</tspan></text>\n",
       "\t</g>\n",
       "</g>\n",
       "<g color=\"black\" fill=\"none\" stroke=\"currentColor\" stroke-linecap=\"butt\" stroke-linejoin=\"miter\" stroke-width=\"1.00\">\n",
       "\t<path d=\"M204.0,384.0 L204.0,371.5 M204.0,18.1 L204.0,30.6  \" stroke=\"rgb(  0,   0,   0)\"/>\t<g fill=\"rgb(38,38,38)\" font-family=\"Arial\" font-size=\"10.00\" stroke=\"none\" text-anchor=\"middle\" transform=\"translate(204.0,405.3)\">\n",
       "\t\t<text><tspan font-family=\"Arial\">-10</tspan></text>\n",
       "\t</g>\n",
       "</g>\n",
       "<g color=\"black\" fill=\"none\" stroke=\"currentColor\" stroke-linecap=\"butt\" stroke-linejoin=\"miter\" stroke-width=\"1.00\">\n",
       "\t<path d=\"M298.6,384.0 L298.6,371.5 M298.6,18.1 L298.6,30.6  \" stroke=\"rgb(  0,   0,   0)\"/>\t<g fill=\"rgb(38,38,38)\" font-family=\"Arial\" font-size=\"10.00\" stroke=\"none\" text-anchor=\"middle\" transform=\"translate(298.6,405.3)\">\n",
       "\t\t<text><tspan font-family=\"Arial\">0</tspan></text>\n",
       "\t</g>\n",
       "</g>\n",
       "<g color=\"black\" fill=\"none\" stroke=\"currentColor\" stroke-linecap=\"butt\" stroke-linejoin=\"miter\" stroke-width=\"1.00\">\n",
       "\t<path d=\"M393.2,384.0 L393.2,371.5 M393.2,18.1 L393.2,30.6  \" stroke=\"rgb(  0,   0,   0)\"/>\t<g fill=\"rgb(38,38,38)\" font-family=\"Arial\" font-size=\"10.00\" stroke=\"none\" text-anchor=\"middle\" transform=\"translate(393.2,405.3)\">\n",
       "\t\t<text><tspan font-family=\"Arial\">10</tspan></text>\n",
       "\t</g>\n",
       "</g>\n",
       "<g color=\"black\" fill=\"none\" stroke=\"currentColor\" stroke-linecap=\"butt\" stroke-linejoin=\"miter\" stroke-width=\"1.00\">\n",
       "\t<path d=\"M487.7,384.0 L487.7,371.5 M487.7,18.1 L487.7,30.6  \" stroke=\"rgb(  0,   0,   0)\"/>\t<g fill=\"rgb(38,38,38)\" font-family=\"Arial\" font-size=\"10.00\" stroke=\"none\" text-anchor=\"middle\" transform=\"translate(487.7,405.3)\">\n",
       "\t\t<text><tspan font-family=\"Arial\">20</tspan></text>\n",
       "\t</g>\n",
       "</g>\n",
       "<g color=\"black\" fill=\"none\" stroke=\"currentColor\" stroke-linecap=\"butt\" stroke-linejoin=\"miter\" stroke-width=\"1.00\">\n",
       "</g>\n",
       "<g color=\"black\" fill=\"none\" stroke=\"currentColor\" stroke-linecap=\"butt\" stroke-linejoin=\"miter\" stroke-width=\"1.00\">\n",
       "</g>\n",
       "\t<g id=\"gnuplot_plot_1a\"><title>gnuplot_plot_1a</title>\n",
       "<g color=\"white\" fill=\"none\" stroke=\"rgb(  0,   0,   0)\" stroke-linecap=\"butt\" stroke-linejoin=\"miter\" stroke-width=\"0.50\">\n",
       "</g>\n",
       "<g color=\"black\" fill=\"none\" stroke=\"currentColor\" stroke-linecap=\"butt\" stroke-linejoin=\"miter\" stroke-width=\"0.50\">\n",
       "\t<path d=\"M62.2,311.0 L71.7,311.0 L81.1,311.0 L90.6,311.2 L100.0,311.5 L109.5,91.2 L118.9,310.1 L128.4,310.4   L137.8,310.6 L147.3,310.6 L156.8,310.7 L166.2,310.7 L175.7,310.7 L185.1,310.7 L194.6,310.7 L204.0,310.7   L213.5,310.7 L223.0,310.7 L232.4,310.7 L241.9,310.7 L251.3,310.7 L260.8,310.7 L270.2,310.7 L279.7,310.7   L289.1,310.7 L298.6,310.7 L308.1,310.7 L317.5,310.7 L327.0,310.7 L336.4,310.7 L345.9,310.7 L355.3,310.7   L364.8,310.7 L374.2,310.7 L383.7,310.7 L393.2,310.7 L402.6,310.7 L412.1,310.7 L421.5,310.7 L431.0,310.7   L440.4,310.7 L449.9,310.6 L459.4,310.6 L468.8,310.4 L478.3,310.1 L487.7,91.2 L497.2,311.5 L506.6,311.2   L516.1,311.0 L525.5,311.0 L535.0,311.0  \" stroke=\"rgb(  0, 114, 189)\"/></g>\n",
       "\t</g>\n",
       "<g color=\"white\" fill=\"none\" stroke=\"rgb(  0, 114, 189)\" stroke-linecap=\"butt\" stroke-linejoin=\"miter\" stroke-width=\"2.00\">\n",
       "</g>\n",
       "<g color=\"black\" fill=\"none\" stroke=\"currentColor\" stroke-linecap=\"butt\" stroke-linejoin=\"miter\" stroke-width=\"2.00\">\n",
       "</g>\n",
       "<g color=\"black\" fill=\"none\" stroke=\"black\" stroke-linecap=\"butt\" stroke-linejoin=\"miter\" stroke-width=\"0.50\">\n",
       "\t<path d=\"M62.2,384.0 L535.0,384.0 M62.2,18.1 L535.0,18.1 M62.2,384.0 L62.2,18.1 M535.0,384.0 L535.0,18.1    \" stroke=\"rgb( 38,  38,  38)\"/></g>\n",
       "<g color=\"black\" fill=\"none\" stroke=\"rgb( 38,  38,  38)\" stroke-linecap=\"butt\" stroke-linejoin=\"miter\" stroke-width=\"1.00\">\n",
       "</g>\n",
       "<g color=\"black\" fill=\"none\" stroke=\"currentColor\" stroke-linecap=\"butt\" stroke-linejoin=\"miter\" stroke-width=\"1.00\">\n",
       "</g>\n",
       "</g>\n",
       "</svg>"
      ],
      "text/plain": [
       "<IPython.core.display.SVG object>"
      ]
     },
     "metadata": {},
     "output_type": "display_data"
    }
   ],
   "source": [
    "V_of_f = fftshift(fft(V_cos_pulse));\n",
    "F_base = [-sample_rate/2: 1: sample_rate/2];\n",
    "plot(F_base, V_of_f)\n",
    "axis([-25 25])"
   ]
  },
  {
   "cell_type": "markdown",
   "metadata": {},
   "source": [
    "The energy at +/- 20 Hz can be seen, although the resolution is lacking. To increase the resolution, the time sample can be extended. If the resolution was only 1 Hz when the sample was only 1s long, it will be 0.1 Hz when the sample is 10s long."
   ]
  },
  {
   "cell_type": "code",
   "execution_count": 45,
   "metadata": {},
   "outputs": [
    {
     "data": {
      "image/svg+xml": [
       "<svg height=\"420px\" viewBox=\"0 0 560 420\" width=\"560px\" xmlns=\"http://www.w3.org/2000/svg\" xmlns:xlink=\"http://www.w3.org/1999/xlink\">\n",
       "\n",
       "<title>Gnuplot</title>\n",
       "<desc>Produced by GNUPLOT 5.2 patchlevel 2 </desc>\n",
       "\n",
       "<g id=\"gnuplot_canvas\">\n",
       "\n",
       "<rect fill=\"none\" height=\"420\" width=\"560\" x=\"0\" y=\"0\"/>\n",
       "<defs>\n",
       "\n",
       "\t<circle id=\"gpDot\" r=\"0.5\" stroke-width=\"0.5\"/>\n",
       "\t<path d=\"M-1,0 h2 M0,-1 v2\" id=\"gpPt0\" stroke=\"currentColor\" stroke-width=\"0.222\"/>\n",
       "\t<path d=\"M-1,-1 L1,1 M1,-1 L-1,1\" id=\"gpPt1\" stroke=\"currentColor\" stroke-width=\"0.222\"/>\n",
       "\t<path d=\"M-1,0 L1,0 M0,-1 L0,1 M-1,-1 L1,1 M-1,1 L1,-1\" id=\"gpPt2\" stroke=\"currentColor\" stroke-width=\"0.222\"/>\n",
       "\t<rect height=\"2\" id=\"gpPt3\" stroke=\"currentColor\" stroke-width=\"0.222\" width=\"2\" x=\"-1\" y=\"-1\"/>\n",
       "\t<rect fill=\"currentColor\" height=\"2\" id=\"gpPt4\" stroke=\"currentColor\" stroke-width=\"0.222\" width=\"2\" x=\"-1\" y=\"-1\"/>\n",
       "\t<circle cx=\"0\" cy=\"0\" id=\"gpPt5\" r=\"1\" stroke=\"currentColor\" stroke-width=\"0.222\"/>\n",
       "\t<use fill=\"currentColor\" id=\"gpPt6\" stroke=\"none\" xlink:href=\"#gpPt5\"/>\n",
       "\t<path d=\"M0,-1.33 L-1.33,0.67 L1.33,0.67 z\" id=\"gpPt7\" stroke=\"currentColor\" stroke-width=\"0.222\"/>\n",
       "\t<use fill=\"currentColor\" id=\"gpPt8\" stroke=\"none\" xlink:href=\"#gpPt7\"/>\n",
       "\t<use id=\"gpPt9\" stroke=\"currentColor\" transform=\"rotate(180)\" xlink:href=\"#gpPt7\"/>\n",
       "\t<use fill=\"currentColor\" id=\"gpPt10\" stroke=\"none\" xlink:href=\"#gpPt9\"/>\n",
       "\t<use id=\"gpPt11\" stroke=\"currentColor\" transform=\"rotate(45)\" xlink:href=\"#gpPt3\"/>\n",
       "\t<use fill=\"currentColor\" id=\"gpPt12\" stroke=\"none\" xlink:href=\"#gpPt11\"/>\n",
       "\t<path d=\"M0,1.330 L1.265,0.411 L0.782,-1.067 L-0.782,-1.076 L-1.265,0.411 z\" id=\"gpPt13\" stroke=\"currentColor\" stroke-width=\"0.222\"/>\n",
       "\t<use fill=\"currentColor\" id=\"gpPt14\" stroke=\"none\" xlink:href=\"#gpPt13\"/>\n",
       "\t<filter filterUnits=\"objectBoundingBox\" height=\"1\" id=\"textbox\" width=\"1\" x=\"0\" y=\"0\">\n",
       "\t  <feFlood flood-color=\"white\" flood-opacity=\"1\" result=\"bgnd\"/>\n",
       "\t  <feComposite in=\"SourceGraphic\" in2=\"bgnd\" operator=\"atop\"/>\n",
       "\t</filter>\n",
       "\t<filter filterUnits=\"objectBoundingBox\" height=\"1\" id=\"greybox\" width=\"1\" x=\"0\" y=\"0\">\n",
       "\t  <feFlood flood-color=\"lightgrey\" flood-opacity=\"1\" result=\"grey\"/>\n",
       "\t  <feComposite in=\"SourceGraphic\" in2=\"grey\" operator=\"atop\"/>\n",
       "\t</filter>\n",
       "</defs>\n",
       "<g color=\"white\" fill=\"none\" stroke=\"currentColor\" stroke-linecap=\"butt\" stroke-linejoin=\"miter\" stroke-width=\"1.00\">\n",
       "</g>\n",
       "<g color=\"black\" fill=\"none\" stroke=\"currentColor\" stroke-linecap=\"butt\" stroke-linejoin=\"miter\" stroke-width=\"1.00\">\n",
       "\t<g shape-rendering=\"crispEdges\" stroke=\"none\">\n",
       "\t\t<polygon fill=\"rgb(255, 255, 255)\" points=\"62.2,384.0 534.9,384.0 534.9,18.2 62.2,18.2 \"/>\n",
       "\t</g>\n",
       "</g>\n",
       "<g color=\"black\" fill=\"none\" stroke=\"currentColor\" stroke-linecap=\"butt\" stroke-linejoin=\"miter\" stroke-width=\"1.00\">\n",
       "\t<path d=\"M62.2,384.0 L74.7,384.0 M535.0,384.0 L522.5,384.0  \" stroke=\"rgb(  0,   0,   0)\"/>\t<g fill=\"rgb(38,38,38)\" font-family=\"Arial\" font-size=\"10.00\" stroke=\"none\" text-anchor=\"end\" transform=\"translate(53.9,387.3)\">\n",
       "\t\t<text><tspan font-family=\"Arial\">-1000</tspan></text>\n",
       "\t</g>\n",
       "</g>\n",
       "<g color=\"black\" fill=\"none\" stroke=\"currentColor\" stroke-linecap=\"butt\" stroke-linejoin=\"miter\" stroke-width=\"1.00\">\n",
       "\t<path d=\"M62.2,310.8 L74.7,310.8 M535.0,310.8 L522.5,310.8  \" stroke=\"rgb(  0,   0,   0)\"/>\t<g fill=\"rgb(38,38,38)\" font-family=\"Arial\" font-size=\"10.00\" stroke=\"none\" text-anchor=\"end\" transform=\"translate(53.9,314.1)\">\n",
       "\t\t<text><tspan font-family=\"Arial\">0</tspan></text>\n",
       "\t</g>\n",
       "</g>\n",
       "<g color=\"black\" fill=\"none\" stroke=\"currentColor\" stroke-linecap=\"butt\" stroke-linejoin=\"miter\" stroke-width=\"1.00\">\n",
       "\t<path d=\"M62.2,237.6 L74.7,237.6 M535.0,237.6 L522.5,237.6  \" stroke=\"rgb(  0,   0,   0)\"/>\t<g fill=\"rgb(38,38,38)\" font-family=\"Arial\" font-size=\"10.00\" stroke=\"none\" text-anchor=\"end\" transform=\"translate(53.9,240.9)\">\n",
       "\t\t<text><tspan font-family=\"Arial\">1000</tspan></text>\n",
       "\t</g>\n",
       "</g>\n",
       "<g color=\"black\" fill=\"none\" stroke=\"currentColor\" stroke-linecap=\"butt\" stroke-linejoin=\"miter\" stroke-width=\"1.00\">\n",
       "\t<path d=\"M62.2,164.5 L74.7,164.5 M535.0,164.5 L522.5,164.5  \" stroke=\"rgb(  0,   0,   0)\"/>\t<g fill=\"rgb(38,38,38)\" font-family=\"Arial\" font-size=\"10.00\" stroke=\"none\" text-anchor=\"end\" transform=\"translate(53.9,167.8)\">\n",
       "\t\t<text><tspan font-family=\"Arial\">2000</tspan></text>\n",
       "\t</g>\n",
       "</g>\n",
       "<g color=\"black\" fill=\"none\" stroke=\"currentColor\" stroke-linecap=\"butt\" stroke-linejoin=\"miter\" stroke-width=\"1.00\">\n",
       "\t<path d=\"M62.2,91.3 L74.7,91.3 M535.0,91.3 L522.5,91.3  \" stroke=\"rgb(  0,   0,   0)\"/>\t<g fill=\"rgb(38,38,38)\" font-family=\"Arial\" font-size=\"10.00\" stroke=\"none\" text-anchor=\"end\" transform=\"translate(53.9,94.6)\">\n",
       "\t\t<text><tspan font-family=\"Arial\">3000</tspan></text>\n",
       "\t</g>\n",
       "</g>\n",
       "<g color=\"black\" fill=\"none\" stroke=\"currentColor\" stroke-linecap=\"butt\" stroke-linejoin=\"miter\" stroke-width=\"1.00\">\n",
       "\t<path d=\"M62.2,18.1 L74.7,18.1 M535.0,18.1 L522.5,18.1  \" stroke=\"rgb(  0,   0,   0)\"/>\t<g fill=\"rgb(38,38,38)\" font-family=\"Arial\" font-size=\"10.00\" stroke=\"none\" text-anchor=\"end\" transform=\"translate(53.9,21.4)\">\n",
       "\t\t<text><tspan font-family=\"Arial\">4000</tspan></text>\n",
       "\t</g>\n",
       "</g>\n",
       "<g color=\"black\" fill=\"none\" stroke=\"currentColor\" stroke-linecap=\"butt\" stroke-linejoin=\"miter\" stroke-width=\"1.00\">\n",
       "\t<path d=\"M96.0,384.0 L96.0,371.5 M96.0,18.1 L96.0,30.6  \" stroke=\"rgb(  0,   0,   0)\"/>\t<g fill=\"rgb(38,38,38)\" font-family=\"Arial\" font-size=\"10.00\" stroke=\"none\" text-anchor=\"middle\" transform=\"translate(96.0,405.3)\">\n",
       "\t\t<text><tspan font-family=\"Arial\">-30</tspan></text>\n",
       "\t</g>\n",
       "</g>\n",
       "<g color=\"black\" fill=\"none\" stroke=\"currentColor\" stroke-linecap=\"butt\" stroke-linejoin=\"miter\" stroke-width=\"1.00\">\n",
       "\t<path d=\"M163.5,384.0 L163.5,371.5 M163.5,18.1 L163.5,30.6  \" stroke=\"rgb(  0,   0,   0)\"/>\t<g fill=\"rgb(38,38,38)\" font-family=\"Arial\" font-size=\"10.00\" stroke=\"none\" text-anchor=\"middle\" transform=\"translate(163.5,405.3)\">\n",
       "\t\t<text><tspan font-family=\"Arial\">-20</tspan></text>\n",
       "\t</g>\n",
       "</g>\n",
       "<g color=\"black\" fill=\"none\" stroke=\"currentColor\" stroke-linecap=\"butt\" stroke-linejoin=\"miter\" stroke-width=\"1.00\">\n",
       "\t<path d=\"M231.1,384.0 L231.1,371.5 M231.1,18.1 L231.1,30.6  \" stroke=\"rgb(  0,   0,   0)\"/>\t<g fill=\"rgb(38,38,38)\" font-family=\"Arial\" font-size=\"10.00\" stroke=\"none\" text-anchor=\"middle\" transform=\"translate(231.1,405.3)\">\n",
       "\t\t<text><tspan font-family=\"Arial\">-10</tspan></text>\n",
       "\t</g>\n",
       "</g>\n",
       "<g color=\"black\" fill=\"none\" stroke=\"currentColor\" stroke-linecap=\"butt\" stroke-linejoin=\"miter\" stroke-width=\"1.00\">\n",
       "\t<path d=\"M298.6,384.0 L298.6,371.5 M298.6,18.1 L298.6,30.6  \" stroke=\"rgb(  0,   0,   0)\"/>\t<g fill=\"rgb(38,38,38)\" font-family=\"Arial\" font-size=\"10.00\" stroke=\"none\" text-anchor=\"middle\" transform=\"translate(298.6,405.3)\">\n",
       "\t\t<text><tspan font-family=\"Arial\">0</tspan></text>\n",
       "\t</g>\n",
       "</g>\n",
       "<g color=\"black\" fill=\"none\" stroke=\"currentColor\" stroke-linecap=\"butt\" stroke-linejoin=\"miter\" stroke-width=\"1.00\">\n",
       "\t<path d=\"M366.1,384.0 L366.1,371.5 M366.1,18.1 L366.1,30.6  \" stroke=\"rgb(  0,   0,   0)\"/>\t<g fill=\"rgb(38,38,38)\" font-family=\"Arial\" font-size=\"10.00\" stroke=\"none\" text-anchor=\"middle\" transform=\"translate(366.1,405.3)\">\n",
       "\t\t<text><tspan font-family=\"Arial\">10</tspan></text>\n",
       "\t</g>\n",
       "</g>\n",
       "<g color=\"black\" fill=\"none\" stroke=\"currentColor\" stroke-linecap=\"butt\" stroke-linejoin=\"miter\" stroke-width=\"1.00\">\n",
       "\t<path d=\"M433.7,384.0 L433.7,371.5 M433.7,18.1 L433.7,30.6  \" stroke=\"rgb(  0,   0,   0)\"/>\t<g fill=\"rgb(38,38,38)\" font-family=\"Arial\" font-size=\"10.00\" stroke=\"none\" text-anchor=\"middle\" transform=\"translate(433.7,405.3)\">\n",
       "\t\t<text><tspan font-family=\"Arial\">20</tspan></text>\n",
       "\t</g>\n",
       "</g>\n",
       "<g color=\"black\" fill=\"none\" stroke=\"currentColor\" stroke-linecap=\"butt\" stroke-linejoin=\"miter\" stroke-width=\"1.00\">\n",
       "\t<path d=\"M501.2,384.0 L501.2,371.5 M501.2,18.1 L501.2,30.6  \" stroke=\"rgb(  0,   0,   0)\"/>\t<g fill=\"rgb(38,38,38)\" font-family=\"Arial\" font-size=\"10.00\" stroke=\"none\" text-anchor=\"middle\" transform=\"translate(501.2,405.3)\">\n",
       "\t\t<text><tspan font-family=\"Arial\">30</tspan></text>\n",
       "\t</g>\n",
       "</g>\n",
       "<g color=\"black\" fill=\"none\" stroke=\"currentColor\" stroke-linecap=\"butt\" stroke-linejoin=\"miter\" stroke-width=\"1.00\">\n",
       "</g>\n",
       "<g color=\"black\" fill=\"none\" stroke=\"currentColor\" stroke-linecap=\"butt\" stroke-linejoin=\"miter\" stroke-width=\"1.00\">\n",
       "</g>\n",
       "\t<g id=\"gnuplot_plot_1a\"><title>gnuplot_plot_1a</title>\n",
       "<g color=\"white\" fill=\"none\" stroke=\"rgb(  0,   0,   0)\" stroke-linecap=\"butt\" stroke-linejoin=\"miter\" stroke-width=\"0.50\">\n",
       "</g>\n",
       "<g color=\"black\" fill=\"none\" stroke=\"currentColor\" stroke-linecap=\"butt\" stroke-linejoin=\"miter\" stroke-width=\"0.50\">\n",
       "\t<path d=\"M62.2,310.8 L62.9,312.5 L63.6,313.6 L64.2,313.7 L64.9,312.6 L65.6,310.8 L66.3,309.0 L66.9,307.9   L67.6,307.8 L68.3,308.9 L69.0,310.8 L69.6,312.6 L70.3,313.8 L71.0,313.8 L71.7,312.7 L72.3,310.8   L73.0,308.9 L73.7,307.7 L74.4,307.6 L75.0,308.8 L75.7,310.8 L76.4,312.7 L77.1,314.0 L77.7,314.0   L78.4,312.8 L79.1,310.8 L79.8,308.8 L80.4,307.5 L81.1,307.4 L81.8,308.7 L82.5,310.8 L83.1,312.9   L83.8,314.2 L84.5,314.3 L85.2,313.0 L85.8,310.8 L86.5,308.6 L87.2,307.2 L87.9,307.2 L88.5,308.5   L89.2,310.8 L89.9,313.1 L90.6,314.5 L91.2,314.6 L91.9,313.1 L92.6,310.8 L93.3,308.4 L93.9,306.9   L94.6,306.9 L95.3,308.3 L96.0,310.8 L96.6,313.3 L97.3,314.8 L98.0,314.9 L98.7,313.4 L99.3,310.8   L100.0,308.2 L100.7,306.5 L101.4,306.5 L102.1,308.1 L102.7,310.8 L103.4,313.5 L104.1,315.2 L104.8,315.3   L105.4,313.6 L106.1,310.8 L106.8,307.9 L107.5,306.1 L108.1,306.0 L108.8,307.8 L109.5,310.8 L110.2,313.8   L110.8,315.7 L111.5,315.8 L112.2,313.9 L112.9,310.8 L113.5,307.6 L114.2,305.5 L114.9,305.5 L115.6,307.4   L116.2,310.8 L116.9,314.2 L117.6,316.4 L118.3,316.5 L118.9,314.4 L119.6,310.8 L120.3,307.1 L121.0,304.8   L121.6,304.7 L122.3,307.0 L123.0,310.8 L123.7,314.7 L124.3,317.2 L125.0,317.3 L125.7,314.9 L126.4,310.8   L127.0,306.5 L127.7,303.8 L128.4,303.7 L129.1,306.3 L129.7,310.8 L130.4,315.4 L131.1,318.4 L131.8,318.6   L132.4,315.7 L133.1,310.8 L133.8,305.7 L134.5,302.3 L135.1,302.1 L135.8,305.3 L136.5,310.8 L137.2,316.5   L137.8,320.3 L138.5,320.5 L139.2,317.0 L139.9,310.8 L140.5,304.3 L141.2,299.9 L141.9,299.6 L142.6,303.7   L143.3,310.8 L143.9,318.3 L144.6,323.4 L145.3,323.9 L146.0,319.2 L146.6,310.8 L147.3,301.7 L148.0,295.5   L148.7,294.9 L149.3,300.5 L150.0,310.8 L150.7,322.1 L151.4,330.0 L152.0,331.1 L152.7,324.1 L153.4,310.8   L154.1,295.6 L154.7,284.4 L155.4,282.3 L156.1,291.6 L156.8,310.8 L157.4,334.2 L158.1,353.2 L158.8,359.1   L159.5,345.5 L160.1,310.7 L160.8,258.8 L161.5,199.0 L162.2,143.6 L162.8,104.8 L163.5,91.2 L164.2,106.0   L164.9,145.6 L165.5,201.1 L166.2,260.2 L166.9,311.0 L167.6,344.6 L168.2,357.4 L168.9,351.4 L169.6,333.0   L170.3,310.7 L170.9,292.6 L171.6,283.9 L172.3,286.1 L173.0,296.7 L173.6,310.9 L174.3,323.1 L175.0,329.5   L175.7,328.3 L176.3,321.0 L177.0,310.7 L177.7,301.5 L178.4,296.5 L179.0,297.2 L179.7,302.8 L180.4,310.8   L181.1,318.2 L181.8,322.2 L182.4,321.7 L183.1,317.3 L183.8,310.7 L184.5,304.7 L185.1,301.3 L185.8,301.6   L186.5,305.3 L187.2,310.8 L187.8,316.0 L188.5,318.9 L189.2,318.6 L189.9,315.4 L190.5,310.7 L191.2,306.3   L191.9,303.8 L192.6,304.0 L193.2,306.7 L193.9,310.8 L194.6,314.7 L195.3,316.9 L195.9,316.7 L196.6,314.4   L197.3,310.7 L198.0,307.3 L198.6,305.3 L199.3,305.5 L200.0,307.6 L200.7,310.8 L201.3,313.9 L202.0,315.7   L202.7,315.5 L203.4,313.6 L204.0,310.7 L204.7,308.0 L205.4,306.4 L206.1,306.5 L206.7,308.2 L207.4,310.8   L208.1,313.3 L208.8,314.8 L209.4,314.7 L210.1,313.1 L210.8,310.7 L211.5,308.5 L212.1,307.2 L212.8,307.3   L213.5,308.7 L214.2,310.8 L214.8,312.9 L215.5,314.1 L216.2,314.0 L216.9,312.7 L217.5,310.7 L218.2,308.9   L218.9,307.8 L219.6,307.8 L220.3,309.0 L220.9,310.8 L221.6,312.5 L222.3,313.6 L223.0,313.5 L223.6,312.4   L224.3,310.7 L225.0,309.2 L225.7,308.2 L226.3,308.3 L227.0,309.3 L227.7,310.8 L228.4,312.3 L229.0,313.1   L229.7,313.1 L230.4,312.1 L231.1,310.7 L231.7,309.4 L232.4,308.6 L233.1,308.7 L233.8,309.5 L234.4,310.8   L235.1,312.1 L235.8,312.8 L236.5,312.7 L237.1,311.9 L237.8,310.7 L238.5,309.6 L239.2,309.0 L239.8,309.0   L240.5,309.7 L241.2,310.8 L241.9,311.9 L242.5,312.5 L243.2,312.4 L243.9,311.7 L244.6,310.7 L245.2,309.8   L245.9,309.2 L246.6,309.3 L247.3,309.9 L247.9,310.8 L248.6,311.7 L249.3,312.2 L250.0,312.1 L250.6,311.6   L251.3,310.7 L252.0,309.9 L252.7,309.5 L253.3,309.5 L254.0,310.1 L254.7,310.8 L255.4,311.5 L256.0,312.0   L256.7,311.9 L257.4,311.4 L258.1,310.7 L258.7,310.1 L259.4,309.7 L260.1,309.8 L260.8,310.2 L261.5,310.8   L262.1,311.4 L262.8,311.7 L263.5,311.7 L264.2,311.3 L264.8,310.7 L265.5,310.2 L266.2,309.9 L266.9,310.0   L267.5,310.3 L268.2,310.8 L268.9,311.3 L269.6,311.5 L270.2,311.5 L270.9,311.2 L271.6,310.7 L272.3,310.3   L272.9,310.1 L273.6,310.2 L274.3,310.4 L275.0,310.8 L275.6,311.2 L276.3,311.4 L277.0,311.3 L277.7,311.1   L278.3,310.7 L279.0,310.4 L279.7,310.3 L280.4,310.3 L281.0,310.5 L281.7,310.8 L282.4,311.1 L283.1,311.2   L283.7,311.1 L284.4,311.0 L285.1,310.7 L285.8,310.6 L286.4,310.5 L287.1,310.5 L287.8,310.6 L288.5,310.8   L289.1,311.0 L289.8,311.0 L290.5,311.0 L291.2,310.9 L291.8,310.7 L292.5,310.7 L293.2,310.6 L293.9,310.7   L294.5,310.8 L295.2,310.8 L295.9,310.9 L296.6,310.8 L297.2,310.8 L297.9,310.8 L298.6,310.7 L299.3,310.8   L300.0,310.8 L300.6,310.8 L301.3,310.9 L302.0,310.8 L302.7,310.8 L303.3,310.7 L304.0,310.6 L304.7,310.7   L305.4,310.7 L306.0,310.9 L306.7,311.0 L307.4,311.0 L308.1,311.0 L308.7,310.8 L309.4,310.6 L310.1,310.5   L310.8,310.5 L311.4,310.6 L312.1,310.7 L312.8,311.0 L313.5,311.1 L314.1,311.2 L314.8,311.1 L315.5,310.8   L316.2,310.5 L316.8,310.3 L317.5,310.3 L318.2,310.4 L318.9,310.7 L319.5,311.1 L320.2,311.3 L320.9,311.4   L321.6,311.2 L322.2,310.8 L322.9,310.4 L323.6,310.2 L324.3,310.1 L324.9,310.3 L325.6,310.7 L326.3,311.2   L327.0,311.5 L327.6,311.5 L328.3,311.3 L329.0,310.8 L329.7,310.3 L330.3,310.0 L331.0,309.9 L331.7,310.2   L332.4,310.7 L333.0,311.3 L333.7,311.7 L334.4,311.7 L335.1,311.4 L335.7,310.8 L336.4,310.2 L337.1,309.8   L337.8,309.7 L338.5,310.1 L339.1,310.7 L339.8,311.4 L340.5,311.9 L341.2,312.0 L341.8,311.5 L342.5,310.8   L343.2,310.1 L343.9,309.5 L344.5,309.5 L345.2,309.9 L345.9,310.7 L346.6,311.6 L347.2,312.1 L347.9,312.2   L348.6,311.7 L349.3,310.8 L349.9,309.9 L350.6,309.3 L351.3,309.2 L352.0,309.8 L352.6,310.7 L353.3,311.7   L354.0,312.4 L354.7,312.5 L355.3,311.9 L356.0,310.8 L356.7,309.7 L357.4,309.0 L358.0,309.0 L358.7,309.6   L359.4,310.7 L360.1,311.9 L360.7,312.7 L361.4,312.8 L362.1,312.1 L362.8,310.8 L363.4,309.5 L364.1,308.7   L364.8,308.6 L365.5,309.4 L366.1,310.7 L366.8,312.1 L367.5,313.1 L368.2,313.1 L368.8,312.3 L369.5,310.8   L370.2,309.3 L370.9,308.3 L371.5,308.2 L372.2,309.2 L372.9,310.7 L373.6,312.4 L374.2,313.5 L374.9,313.6   L375.6,312.5 L376.3,310.8 L376.9,309.0 L377.6,307.8 L378.3,307.8 L379.0,308.9 L379.7,310.7 L380.3,312.7   L381.0,314.0 L381.7,314.1 L382.4,312.9 L383.0,310.8 L383.7,308.7 L384.4,307.3 L385.1,307.2 L385.7,308.5   L386.4,310.7 L387.1,313.1 L387.8,314.7 L388.4,314.8 L389.1,313.3 L389.8,310.8 L390.5,308.2 L391.1,306.5   L391.8,306.4 L392.5,308.0 L393.2,310.7 L393.8,313.6 L394.5,315.5 L395.2,315.7 L395.9,313.9 L396.5,310.8   L397.2,307.6 L397.9,305.5 L398.6,305.3 L399.2,307.3 L399.9,310.7 L400.6,314.4 L401.3,316.7 L401.9,316.9   L402.6,314.7 L403.3,310.8 L404.0,306.7 L404.6,304.0 L405.3,303.8 L406.0,306.3 L406.7,310.7 L407.3,315.4   L408.0,318.6 L408.7,318.9 L409.4,316.0 L410.0,310.8 L410.7,305.3 L411.4,301.6 L412.1,301.3 L412.7,304.7   L413.4,310.7 L414.1,317.3 L414.8,321.7 L415.4,322.2 L416.1,318.2 L416.8,310.8 L417.5,302.8 L418.2,297.2   L418.8,296.5 L419.5,301.5 L420.2,310.7 L420.9,321.0 L421.5,328.3 L422.2,329.5 L422.9,323.1 L423.6,310.9   L424.2,296.7 L424.9,286.1 L425.6,283.9 L426.3,292.6 L426.9,310.7 L427.6,333.0 L428.3,351.4 L429.0,357.4   L429.6,344.6 L430.3,311.0 L431.0,260.2 L431.7,201.1 L432.3,145.6 L433.0,106.0 L433.7,91.2 L434.4,104.8   L435.0,143.6 L435.7,199.0 L436.4,258.8 L437.1,310.7 L437.7,345.5 L438.4,359.1 L439.1,353.2 L439.8,334.2   L440.4,310.8 L441.1,291.6 L441.8,282.3 L442.5,284.4 L443.1,295.6 L443.8,310.8 L444.5,324.1 L445.2,331.1   L445.8,330.0 L446.5,322.1 L447.2,310.8 L447.9,300.5 L448.5,294.9 L449.2,295.5 L449.9,301.7 L450.6,310.8   L451.2,319.2 L451.9,323.9 L452.6,323.4 L453.3,318.3 L453.9,310.8 L454.6,303.7 L455.3,299.6 L456.0,299.9   L456.7,304.3 L457.3,310.8 L458.0,317.0 L458.7,320.5 L459.4,320.3 L460.0,316.5 L460.7,310.8 L461.4,305.3   L462.1,302.1 L462.7,302.3 L463.4,305.7 L464.1,310.8 L464.8,315.7 L465.4,318.6 L466.1,318.4 L466.8,315.4   L467.5,310.8 L468.1,306.3 L468.8,303.7 L469.5,303.8 L470.2,306.5 L470.8,310.8 L471.5,314.9 L472.2,317.3   L472.9,317.2 L473.5,314.7 L474.2,310.8 L474.9,307.0 L475.6,304.7 L476.2,304.8 L476.9,307.1 L477.6,310.8   L478.3,314.4 L478.9,316.5 L479.6,316.4 L480.3,314.2 L481.0,310.8 L481.6,307.4 L482.3,305.5 L483.0,305.5   L483.7,307.6 L484.3,310.8 L485.0,313.9 L485.7,315.8 L486.4,315.7 L487.0,313.8 L487.7,310.8 L488.4,307.8   L489.1,306.0 L489.7,306.1 L490.4,307.9 L491.1,310.8 L491.8,313.6 L492.4,315.3 L493.1,315.2 L493.8,313.5   L494.5,310.8 L495.1,308.1 L495.8,306.5 L496.5,306.5 L497.2,308.2 L497.9,310.8 L498.5,313.4 L499.2,314.9   L499.9,314.8 L500.6,313.3 L501.2,310.8 L501.9,308.3 L502.6,306.9 L503.3,306.9 L503.9,308.4 L504.6,310.8   L505.3,313.1 L506.0,314.6 L506.6,314.5 L507.3,313.1 L508.0,310.8 L508.7,308.5 L509.3,307.2 L510.0,307.2   L510.7,308.6 L511.4,310.8 L512.0,313.0 L512.7,314.3 L513.4,314.2 L514.1,312.9 L514.7,310.8 L515.4,308.7   L516.1,307.4 L516.8,307.5 L517.4,308.8 L518.1,310.8 L518.8,312.8 L519.5,314.0 L520.1,314.0 L520.8,312.7   L521.5,310.8 L522.2,308.8 L522.8,307.6 L523.5,307.7 L524.2,308.9 L524.9,310.8 L525.5,312.7 L526.2,313.8   L526.9,313.8 L527.6,312.6 L528.2,310.8 L528.9,308.9 L529.6,307.8 L530.3,307.9 L530.9,309.0 L531.6,310.8   L532.3,312.6 L533.0,313.7 L533.6,313.6 L534.3,312.5 L535.0,310.8  \" stroke=\"rgb(  0, 114, 189)\"/></g>\n",
       "\t</g>\n",
       "<g color=\"white\" fill=\"none\" stroke=\"rgb(  0, 114, 189)\" stroke-linecap=\"butt\" stroke-linejoin=\"miter\" stroke-width=\"2.00\">\n",
       "</g>\n",
       "<g color=\"black\" fill=\"none\" stroke=\"currentColor\" stroke-linecap=\"butt\" stroke-linejoin=\"miter\" stroke-width=\"2.00\">\n",
       "</g>\n",
       "<g color=\"black\" fill=\"none\" stroke=\"black\" stroke-linecap=\"butt\" stroke-linejoin=\"miter\" stroke-width=\"0.50\">\n",
       "\t<path d=\"M62.2,384.0 L535.0,384.0 M62.2,18.1 L535.0,18.1 M62.2,384.0 L62.2,18.1 M535.0,384.0 L535.0,18.1    \" stroke=\"rgb( 38,  38,  38)\"/></g>\n",
       "<g color=\"black\" fill=\"none\" stroke=\"rgb( 38,  38,  38)\" stroke-linecap=\"butt\" stroke-linejoin=\"miter\" stroke-width=\"1.00\">\n",
       "</g>\n",
       "<g color=\"black\" fill=\"none\" stroke=\"currentColor\" stroke-linecap=\"butt\" stroke-linejoin=\"miter\" stroke-width=\"1.00\">\n",
       "</g>\n",
       "</g>\n",
       "</svg>"
      ],
      "text/plain": [
       "<IPython.core.display.SVG object>"
      ]
     },
     "metadata": {},
     "output_type": "display_data"
    }
   ],
   "source": [
    "V_9s_silence = zeros(1, sample_rate*9);\n",
    "V_of_f = fftshift(fft(horzcat(V_cos_pulse, V_9s_silence)));\n",
    "F_base = [-sample_rate/2: 1/10: sample_rate/2];\n",
    "plot(F_base, V_of_f)\n",
    "axis([-35 35])"
   ]
  },
  {
   "cell_type": "markdown",
   "metadata": {},
   "source": [
    "Create a vector of frequencies for plotting"
   ]
  },
  {
   "cell_type": "code",
   "execution_count": null,
   "metadata": {},
   "outputs": [],
   "source": [
    "F = [-24000: 1/10: 24000];"
   ]
  },
  {
   "cell_type": "markdown",
   "metadata": {},
   "source": [
    "...and then plot the voltage in the frequency domain"
   ]
  },
  {
   "cell_type": "code",
   "execution_count": null,
   "metadata": {},
   "outputs": [],
   "source": [
    "plot(F, V_of_f)\n",
    "ylabel(\"Amplitude (V)\");\n",
    "xlabel(\"Frequency (Hz)\");\n",
    "title(\"Figure 2: Modulating Triangular Pulse - Frequency domain\")\n",
    "axis([-25 25 -1.01 1.01])"
   ]
  },
  {
   "cell_type": "markdown",
   "metadata": {},
   "source": [
    "It can be seen from the graph that the primary components consist of\n",
    "frequencies at and around +20 Hz and -20 Hz."
   ]
  },
  {
   "cell_type": "markdown",
   "metadata": {},
   "source": [
    "Note that real value signals\n",
    "will have +ve and -ve frequency components."
   ]
  },
  {
   "cell_type": "markdown",
   "metadata": {},
   "source": [
    "The same process can be used\n",
    "with complex phasors by using `exp(i*2*pi*20*T)` or `exp(-i*2*pi*20*T)` in \n",
    "place of `cos(2*pi*20*T)`. For the +ve phasor the time signal looks the \n",
    "same (Figure 3).\n",
    "\n",
    "Create a vector of voltages for those times"
   ]
  },
  {
   "cell_type": "code",
   "execution_count": null,
   "metadata": {},
   "outputs": [],
   "source": [
    "V_of_t = 2 * exp(i*2*pi*20*T) .* (0.5 - abs(T));"
   ]
  },
  {
   "cell_type": "code",
   "execution_count": null,
   "metadata": {},
   "outputs": [],
   "source": [
    "plot(T, V_of_t)\n",
    "ylabel(\"Amplitude (V)\")\n",
    "xlabel(\"Time (s)\")\n",
    "title(\"Figure 3: Modulating Triangular Pulse (exp(i*2*pi*20*T)) - Time domain\")\n",
    "axis('square')\n",
    "axis([-0.51 0.51 -1.01 1.01])"
   ]
  },
  {
   "cell_type": "markdown",
   "metadata": {},
   "source": [
    "The FFT is calculated again (Figure 4)."
   ]
  },
  {
   "cell_type": "code",
   "execution_count": null,
   "metadata": {},
   "outputs": [],
   "source": [
    "V_of_f = fftshift(fft(V_of_t, (size(V_of_t,2)-1)*10+1)/(size(V_of_t,2)/2));"
   ]
  },
  {
   "cell_type": "code",
   "execution_count": null,
   "metadata": {},
   "outputs": [],
   "source": [
    "plot(F, V_of_f)\n",
    "ylabel(\"Amplitude (V)\");\n",
    "xlabel(\"Frequency (Hz)\");\n",
    "title(\"Figure 4: Modulating Triangular Pulse (exp(i*2*pi*20*T)) - Frequency domain\")\n",
    "axis('square')\n",
    "axis([-25 25 -1.01 1.01])"
   ]
  },
  {
   "cell_type": "markdown",
   "metadata": {},
   "source": [
    "Looking at the FFT there is only one sideband, the USB. Also, the\n",
    "component has twice the energy of the previos two, representing conservation\n",
    "of energy.\n",
    "\n",
    "Now for `exp(-i*2*pi*20*T)` (Figure 5). \n",
    "\n",
    "Create a vector of voltages for those times"
   ]
  },
  {
   "cell_type": "code",
   "execution_count": null,
   "metadata": {},
   "outputs": [],
   "source": [
    "V_of_t = 2 * exp(-i*2*pi*20*T) .* (0.5 - abs(T));"
   ]
  },
  {
   "cell_type": "code",
   "execution_count": null,
   "metadata": {},
   "outputs": [],
   "source": [
    "plot(T, V_of_t)\n",
    "ylabel(\"Amplitude (V)\")\n",
    "xlabel(\"Time (s)\")\n",
    "title(\"Figure 5: Modulating Triangular Pulse (exp(-i*2*pi*20*T)) - Time domain\")\n",
    "axis('square')\n",
    "axis([-0.51 0.51 -1.01 1.01])"
   ]
  },
  {
   "cell_type": "markdown",
   "metadata": {},
   "source": [
    "The FFT is calculated (Figure 6)."
   ]
  },
  {
   "cell_type": "code",
   "execution_count": null,
   "metadata": {},
   "outputs": [],
   "source": [
    "V_of_f = fftshift(fft(V_of_t, (size(V_of_t,2)-1)*10+1)/(size(V_of_t,2)/2));"
   ]
  },
  {
   "cell_type": "code",
   "execution_count": null,
   "metadata": {},
   "outputs": [],
   "source": [
    "F = [-24000: 1/10: 24000];"
   ]
  },
  {
   "cell_type": "code",
   "execution_count": null,
   "metadata": {},
   "outputs": [],
   "source": [
    "plot(F, V_of_f)\n",
    "ylabel(\"Amplitude (V)\");\n",
    "xlabel(\"Frequency (Hz)\");\n",
    "title(\"Figure 6: Modulating Triangular Pulse (exp(-i*2*pi*20*T)) - Frequency domain\")\n",
    "axis('square')\n",
    "axis([-25 25 -1.01 1.01])"
   ]
  },
  {
   "cell_type": "markdown",
   "metadata": {},
   "source": [
    "Looking at the FFT there is only one sideband, the LSB."
   ]
  },
  {
   "cell_type": "markdown",
   "metadata": {},
   "source": [
    "So far in the examples a matched filter is shown working in the time domain.\n",
    "Matched filters can also be used in the frequency domain. In this case it\n",
    "is possible to determine the frequency offset of the signal. The process\n",
    "is the following:\n",
    "* RF pulse -> FFT -> flip in frequency = matched filter\n",
    "* input signal -> FFT -> convolve with matched filter = matched filter output\n",
    "\n",
    "There is a property in time/frequency analysis that can be brought to bear,\n",
    "specifically convolution of two signals in one domain is multiplication in\n",
    "the other. So now the process becomes:\n",
    "* RF pulse -> FFT -> flip in frequency -> reverse FFT -> matched filter in time domain\n",
    "* input signal -> multiply by matched filter in time domain -> FFT = matched filter output"
   ]
  },
  {
   "cell_type": "markdown",
   "metadata": {},
   "source": [
    "For the example we are going to use the 20 Hz RF pulse, but just the USB.\n",
    "Examine first the matched filter in the time domain (Figure 11)."
   ]
  },
  {
   "cell_type": "code",
   "execution_count": null,
   "metadata": {},
   "outputs": [],
   "source": [
    "T = [0: 1/48000: 1];\n",
    "V_of_t = exp(2*i*pi*20*T);\n",
    "V_input = horzcat(V_of_t, zeros(1, 48000*4));\n",
    "MatchedFilter_of_t = ifft(flip(fft(V_input)));\n",
    "plot([0: 1/48000: (size(MatchedFilter_of_t,2)-1)/48000], MatchedFilter_of_t)\n",
    "ylabel(\"Amplitude (V)\")\n",
    "xlabel(\"Time (s)\")\n",
    "title(\"Figure 11: Matched Filter - Time Domain\")\n",
    "axis('square')"
   ]
  },
  {
   "cell_type": "code",
   "execution_count": null,
   "metadata": {},
   "outputs": [],
   "source": [
    "snr = -20; # dB\n",
    "# Linearize the SNR\n",
    "snr_lin = 10^(snr/10);\n",
    "# Determine the original signal power\n",
    "e_sig = sum(abs(V_of_t).^2)/size(V_of_t,2);\n",
    "# And then get noise spectral density\n",
    "n_0 = e_sig/snr_lin;\n",
    "n_sigma = sqrt(n_0);\n",
    "\n",
    "V_noise = n_sigma * randn(1,size(V_input,2));\n",
    "\n",
    "V_signal = V_input .+ V_noise; # Use the same noise from the other example\n",
    "V_signal_2 = V_signal .* MatchedFilter_of_t;\n",
    "V_of_f = fft(V_signal_2)/(size(V_signal_2,2)/2);\n",
    "F = [0: 1/5: (size(V_signal,2)-1)/5]; # 5 comes from length of sample in time\n",
    "plot(F, V_of_f)\n",
    "ylabel(\"Amplitude (V)\");\n",
    "xlabel(\"Frequency (Hz)\");\n",
    "title(\"Figure 12: Modulating Triangular Pulse (exp(-i*2*pi*20*T)) - Frequency domain\")"
   ]
  },
  {
   "cell_type": "code",
   "execution_count": null,
   "metadata": {},
   "outputs": [],
   "source": [
    "So now lets use the same pulse, but shift its frequency to 120 Hz and\n",
    "add some noise, multiply by the matched filter, then look at a plot of the\n",
    "FFT."
   ]
  },
  {
   "cell_type": "code",
   "execution_count": null,
   "metadata": {},
   "outputs": [],
   "source": [
    "V_of_t = exp(2*i*pi*120*T);\n",
    "V_input = horzcat(V_of_t, zeros(1, 48000*4));\n",
    "\n",
    "\n",
    "snr = -20; # dB\n",
    "# Linearize the SNR\n",
    "snr_lin = 10^(snr/10);\n",
    "# Determine the original signal power\n",
    "e_sig = sum(abs(V_of_t).^2)/size(V_of_t,2);\n",
    "# And then get noise spectral density\n",
    "n_0 = e_sig/snr_lin;\n",
    "n_sigma = sqrt(n_0);\n",
    "\n",
    "V_noise = n_sigma * randn(1,size(V_input,2));\n",
    "V_signal = V_input .+ V_noise; # Use the same noise from the other example\n",
    "V_signal_2 = V_signal .* MatchedFilter_of_t;\n",
    "V_of_f = fft(V_signal_2)/(size(V_signal_2,2)/2);"
   ]
  },
  {
   "cell_type": "code",
   "execution_count": null,
   "metadata": {},
   "outputs": [],
   "source": [
    "F = [0: 1/5: (size(V_signal_2,2)-1)/5]; # 5 comes from length of sample in time"
   ]
  },
  {
   "cell_type": "code",
   "execution_count": null,
   "metadata": {},
   "outputs": [],
   "source": [
    "plot(F, V_of_f)\n",
    "ylabel(\"Amplitude (V)\");\n",
    "xlabel(\"Frequency (Hz)\");\n",
    "title(\"Figure 12: Modulating Triangular Pulse (exp(-i*2*pi*20*T)) - Frequency domain\")\n",
    "axis('square')"
   ]
  },
  {
   "cell_type": "code",
   "execution_count": null,
   "metadata": {},
   "outputs": [],
   "source": []
  }
 ],
 "metadata": {
  "kernelspec": {
   "display_name": "Octave",
   "language": "octave",
   "name": "octave"
  },
  "language_info": {
   "file_extension": ".m",
   "help_links": [
    {
     "text": "GNU Octave",
     "url": "https://www.gnu.org/software/octave/support.html"
    },
    {
     "text": "Octave Kernel",
     "url": "https://github.com/Calysto/octave_kernel"
    },
    {
     "text": "MetaKernel Magics",
     "url": "https://metakernel.readthedocs.io/en/latest/source/README.html"
    }
   ],
   "mimetype": "text/x-octave",
   "name": "octave",
   "version": "4.2.2"
  }
 },
 "nbformat": 4,
 "nbformat_minor": 2
}
