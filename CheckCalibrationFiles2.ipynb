{
 "cells": [
  {
   "cell_type": "markdown",
   "metadata": {},
   "source": [
    "# Make Calibration WAV Files\n",
    "## By Terry Bondy, VA3TYB"
   ]
  },
  {
   "cell_type": "code",
   "execution_count": 14,
   "metadata": {},
   "outputs": [
    {
     "name": "stdout",
     "output_type": "stream",
     "text": [
      "Last updated: Tuesday 31 December 2019 UTC"
     ]
    }
   ],
   "source": [
    "printf(strftime (\"Last updated: %A %e %B %Y %Z\", localtime (time())))\n",
    "%plot --format svg\n",
    "# format long"
   ]
  },
  {
   "cell_type": "code",
   "execution_count": 15,
   "metadata": {},
   "outputs": [],
   "source": [
    "sampleRate = 16000;\n",
    "numPeriods = 15;\n",
    "period = numPeriods;\n",
    "Tshort = 0:1/sampleRate:1;\n",
    "T = 0:1/sampleRate:period;"
   ]
  },
  {
   "cell_type": "code",
   "execution_count": 16,
   "metadata": {},
   "outputs": [],
   "source": [
    "TestFreq = 721;\n",
    "TestPhi = [ 0 ];\n",
    "cosArg = 2*pi*TestFreq * Tshort + TestPhi;\n",
    "Pilot = cos(cosArg);"
   ]
  },
  {
   "cell_type": "code",
   "execution_count": 17,
   "metadata": {},
   "outputs": [],
   "source": [
    "Pilot = [(Pilot(1:end-1)' * ones(1, numPeriods))(:)', Pilot(1)];"
   ]
  },
  {
   "cell_type": "code",
   "execution_count": 18,
   "metadata": {},
   "outputs": [],
   "source": [
    "RC = (1 - cos(2*pi*T/period))/2;"
   ]
  },
  {
   "cell_type": "code",
   "execution_count": 19,
   "metadata": {},
   "outputs": [
    {
     "data": {
      "image/png": "[encoded data removed]",
      "text/plain": [
       "<IPython.core.display.Image object>"
      ]
     },
     "metadata": {},
     "output_type": "display_data"
    }
   ],
   "source": [
    "plot(T, Pilot)"
   ]
  },
  {
   "cell_type": "code",
   "execution_count": 20,
   "metadata": {},
   "outputs": [
    {
     "name": "stdout",
     "output_type": "stream",
     "text": [
      "iter: 1\n",
      "calibrateFilename = calibrateNew_1.wav\n",
      "ans =  5.0877\n",
      "iter: 2\n",
      "calibrateFilename = calibrateNew_2.wav\n",
      "ans =  8.4277\n",
      "iter: 3\n",
      "calibrateFilename = calibrateNew_3.wav\n",
      "ans =  10.994\n",
      "iter: 4\n",
      "calibrateFilename = calibrateNew_4.wav\n",
      "ans =  12.808\n",
      "iter: 5\n",
      "calibrateFilename = calibrateNew_5.wav\n",
      "ans =  14.850\n",
      "iter: 6\n",
      "calibrateFilename = calibrateNew_6.wav\n",
      "ans =  16.778\n",
      "iter: 7\n",
      "calibrateFilename = calibrateNew_7.wav\n",
      "ans =  19.419\n",
      "iter: 8\n",
      "calibrateFilename = calibrateNew_8.wav\n",
      "ans =  20.937\n",
      "iter: 9\n",
      "calibrateFilename = calibrateNew_9.wav\n",
      "ans =  22.375\n",
      "iter: 10\n",
      "calibrateFilename = calibrateNew_10.wav\n",
      "ans =  23.670\n",
      "iter: 11\n",
      "calibrateFilename = calibrateNew_11.wav\n",
      "ans =  24.814\n",
      "iter: 12\n",
      "calibrateFilename = calibrateNew_12.wav\n",
      "ans =  26.770\n",
      "iter: 13\n",
      "calibrateFilename = calibrateNew_13.wav\n",
      "ans =  27.543\n",
      "iter: 14\n",
      "calibrateFilename = calibrateNew_14.wav\n",
      "ans =  29.035\n",
      "iter: 15\n",
      "calibrateFilename = calibrateNew_15.wav\n",
      "ans =  30.518\n",
      "iter: 16\n",
      "calibrateFilename = calibrateNew_16.wav\n",
      "ans =  31.677\n",
      "iter: 17\n",
      "calibrateFilename = calibrateNew_17.wav\n",
      "ans =  32.956\n",
      "iter: 18\n",
      "calibrateFilename = calibrateNew_18.wav\n",
      "ans =  34.508\n",
      "iter: 19\n",
      "calibrateFilename = calibrateNew_19.wav\n",
      "ans =  35.707\n",
      "iter: 20\n",
      "calibrateFilename = calibrateNew_20.wav\n",
      "ans =  37.020\n",
      "iter: 21\n",
      "calibrateFilename = calibrateNew_21.wav\n",
      "ans =  38.759\n",
      "iter: 22\n",
      "calibrateFilename = calibrateNew_22.wav\n",
      "ans =  39.394\n",
      "iter: 23\n",
      "calibrateFilename = calibrateNew_23.wav\n",
      "ans =  40.426\n",
      "iter: 24\n",
      "calibrateFilename = calibrateNew_24.wav\n",
      "ans =  41.574\n",
      "iter: 25\n",
      "calibrateFilename = calibrateNew_25.wav\n",
      "ans =  42.075\n",
      "iter: 26\n",
      "calibrateFilename = calibrateNew_26.wav\n",
      "ans =  42.473\n",
      "iter: 27\n",
      "calibrateFilename = calibrateNew_27.wav\n",
      "ans =  43.253\n",
      "iter: 28\n",
      "calibrateFilename = calibrateNew_28.wav\n",
      "ans =  44.580\n",
      "iter: 29\n",
      "calibrateFilename = calibrateNew_29.wav\n",
      "ans =  44.637\n",
      "iter: 30\n",
      "calibrateFilename = calibrateNew_30.wav\n",
      "ans =  45.795\n",
      "iter: 31\n",
      "calibrateFilename = calibrateNew_31.wav\n",
      "ans =  47.249\n",
      "iter: 32\n",
      "calibrateFilename = calibrateNew_32.wav\n",
      "ans =  48.572\n",
      "iter: 33\n",
      "calibrateFilename = calibrateNew_33.wav\n",
      "ans =  49.655\n",
      "iter: 34\n",
      "calibrateFilename = calibrateNew_34.wav\n",
      "ans =  50.318\n",
      "iter: 35\n",
      "calibrateFilename = calibrateNew_35.wav\n",
      "ans =  51.131\n",
      "iter: 36\n",
      "calibrateFilename = calibrateNew_36.wav\n",
      "ans =  52.149\n",
      "iter: 37\n",
      "calibrateFilename = calibrateNew_37.wav\n",
      "ans =  52.874\n",
      "iter: 38\n",
      "calibrateFilename = calibrateNew_38.wav\n",
      "ans =  53.951\n",
      "iter: 39\n",
      "calibrateFilename = calibrateNew_39.wav\n",
      "ans =  55.227\n",
      "iter: 40\n",
      "calibrateFilename = calibrateNew_40.wav\n",
      "ans =  55.664\n",
      "iter: 41\n",
      "calibrateFilename = calibrateNew_41.wav\n",
      "ans =  56.903\n",
      "iter: 42\n",
      "calibrateFilename = calibrateNew_42.wav\n",
      "ans =  58.439\n",
      "iter: 43\n",
      "calibrateFilename = calibrateNew_43.wav\n",
      "ans =  58.788\n",
      "iter: 44\n",
      "calibrateFilename = calibrateNew_44.wav\n",
      "ans =  59.697\n",
      "iter: 45\n",
      "calibrateFilename = calibrateNew_45.wav\n",
      "ans =  61.038\n",
      "iter: 46\n",
      "calibrateFilename = calibrateNew_46.wav\n",
      "ans =  62.423\n",
      "iter: 47\n",
      "calibrateFilename = calibrateNew_47.wav\n",
      "ans =  63.457\n",
      "iter: 48\n",
      "calibrateFilename = calibrateNew_48.wav\n",
      "ans =  64.161\n",
      "iter: 49\n",
      "calibrateFilename = calibrateNew_49.wav\n",
      "ans =  65.370\n",
      "iter: 50\n",
      "calibrateFilename = calibrateNew_50.wav\n",
      "ans =  65.376\n",
      "iter: 51\n",
      "calibrateFilename = calibrateNew_51.wav\n",
      "ans =  66.645\n",
      "iter: 52\n",
      "calibrateFilename = calibrateNew_52.wav\n",
      "ans =  67.083\n",
      "iter: 53\n",
      "calibrateFilename = calibrateNew_53.wav\n",
      "ans =  68.137\n",
      "iter: 54\n",
      "calibrateFilename = calibrateNew_54.wav\n",
      "ans =  68.528\n",
      "iter: 55\n",
      "calibrateFilename = calibrateNew_55.wav\n",
      "ans =  68.650\n",
      "iter: 56\n",
      "calibrateFilename = calibrateNew_56.wav\n",
      "ans =  68.969\n",
      "iter: 57\n",
      "calibrateFilename = calibrateNew_57.wav\n",
      "ans =  69.590\n",
      "iter: 58\n",
      "calibrateFilename = calibrateNew_58.wav\n",
      "ans =  69.682\n",
      "iter: 59\n",
      "calibrateFilename = calibrateNew_59.wav\n",
      "ans =  70.907\n",
      "iter: 60\n",
      "calibrateFilename = calibrateNew_60.wav\n",
      "ans =  71.627\n",
      "iter: 61\n"
     ]
    }
   ],
   "source": [
    "for iter = 1:1:150\n",
    "  printf(\"iter: %d\\n\", iter);\n",
    "  Sigfilename = sprintf(\"Sig_%d.mat\", iter);\n",
    "  if (2 != exist (Sigfilename, \"file\"))\n",
    "    break\n",
    "  else\n",
    "    load(Sigfilename)\n",
    "    calibrateFilename = sprintf(\"calibrateNew_%d.wav\", iter)\n",
    "  endif\n",
    "  \n",
    "  max(abs(Sig))\n",
    "  iter++;\n",
    "endfor"
   ]
  },
  {
   "cell_type": "code",
   "execution_count": 21,
   "metadata": {},
   "outputs": [],
   "source": [
    "# Repeat Sig to expand it to numPeriods\n",
    "Sig = [(Sig(1:end-1)' * ones(1, numPeriods))(:)', Sig(1)];"
   ]
  },
  {
   "cell_type": "code",
   "execution_count": 22,
   "metadata": {},
   "outputs": [
    {
     "data": {
      "image/png": "[encoded data removed]",
      "text/plain": [
       "<IPython.core.display.Image object>"
      ]
     },
     "metadata": {},
     "output_type": "display_data"
    }
   ],
   "source": [
    "plot(T, Sig)"
   ]
  },
  {
   "cell_type": "code",
   "execution_count": 23,
   "metadata": {},
   "outputs": [
    {
     "name": "stdout",
     "output_type": "stream",
     "text": [
      "calibrateFilename = calibrateNew_60.wav\r\n"
     ]
    }
   ],
   "source": [
    "calibrateFilename\n",
    "audiowrite(calibrateFilename, [[Pilot .* RC](1:end-1), [Sig .* RC ./ max(abs(Sig))](1:end-1), Pilot .* RC], sampleRate, \n",
    "\"Title\", \"Calibration file for Yaesu radioes.\",\n",
    "\"Artist\", \"Terry Bondy, VA3TYB\")"
   ]
  },
  {
   "cell_type": "code",
   "execution_count": 24,
   "metadata": {},
   "outputs": [
    {
     "name": "stdout",
     "output_type": "stream",
     "text": [
      "ans =\r\n",
      "\r\n",
      "  scalar structure containing the fields:\r\n",
      "\r\n",
      "    Filename = calibrateNew_60.wav\r\n",
      "    CompressionMethod = \r\n",
      "    NumChannels =  1\r\n",
      "    SampleRate =  16000\r\n",
      "    TotalSamples =  720001\r\n",
      "    Duration =  45.000\r\n",
      "    BitsPerSample =  16\r\n",
      "    BitRate = -1\r\n",
      "    Title = Calibration file for Yaesu radioes.\r\n",
      "    Artist = Terry Bondy, VA3TYB\r\n",
      "    Comment = \r\n",
      "\r\n"
     ]
    }
   ],
   "source": [
    "audioinfo(calibrateFilename)"
   ]
  },
  {
   "cell_type": "code",
   "execution_count": 25,
   "metadata": {},
   "outputs": [
    {
     "name": "stdout",
     "output_type": "stream",
     "text": [
      "ans =\r\n",
      "\r\n",
      "   720001        1\r\n",
      "\r\n"
     ]
    }
   ],
   "source": [
    "[y, fs] = audioread(calibrateFilename);\n",
    "size(y)"
   ]
  },
  {
   "cell_type": "code",
   "execution_count": 26,
   "metadata": {},
   "outputs": [
    {
     "data": {
      "image/png": "[encoded data removed]",
      "text/plain": [
       "<IPython.core.display.Image object>"
      ]
     },
     "metadata": {},
     "output_type": "display_data"
    }
   ],
   "source": [
    "plot(y)"
   ]
  },
  {
   "cell_type": "code",
   "execution_count": null,
   "metadata": {},
   "outputs": [],
   "source": []
  }
 ],
 "metadata": {
  "kernelspec": {
   "display_name": "Octave",
   "language": "octave",
   "name": "octave"
  },
  "language_info": {
   "file_extension": ".m",
   "help_links": [
    {
     "text": "GNU Octave",
     "url": "https://www.gnu.org/software/octave/support.html"
    },
    {
     "text": "Octave Kernel",
     "url": "https://github.com/Calysto/octave_kernel"
    },
    {
     "text": "MetaKernel Magics",
     "url": "https://metakernel.readthedocs.io/en/latest/source/README.html"
    }
   ],
   "mimetype": "text/x-octave",
   "name": "octave",
   "version": "4.2.2"
  }
 },
 "nbformat": 4,
 "nbformat_minor": 2
}
