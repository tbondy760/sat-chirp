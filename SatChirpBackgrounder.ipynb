{
 "cells": [
  {
   "cell_type": "markdown",
   "metadata": {},
   "source": [
    "# Sat Chirp Backgrounder\n",
    "## By Terry Bondy, VA3TYB"
   ]
  },
  {
   "cell_type": "code",
   "execution_count": 94,
   "metadata": {},
   "outputs": [
    {
     "name": "stdout",
     "output_type": "stream",
     "text": [
      "Last updated: Saturday 26 October 2019"
     ]
    }
   ],
   "source": [
    "printf(strftime (\"Last updated: %A %e %B %Y\", localtime (time ())))"
   ]
  },
  {
   "cell_type": "markdown",
   "metadata": {},
   "source": [
    "# Scope\n",
    "What is described here is some background for a means of determining the \n",
    "instantaneous translating properties of a linear satellite by sending \n",
    "a single brief 'chirp' in the uplink and listening across the downlink satellite band \n",
    "with an SDR and doing some processing on the received signal. These translation \n",
    "properties include:\n",
    "* The instantaneous translation frequency,\n",
    "* Whether the received downlink signal is received USB or LSB."
   ]
  },
  {
   "cell_type": "markdown",
   "metadata": {},
   "source": [
    "# Producing This Document\n",
    "This document is produced using [Octave](https://www.gnu.org/software/octave/), an open source tool very similar to\n",
    "*Matlab*. The lines in the boxes are *Octave* commands used to create the \n",
    "mathematical examples that are used. Octave is being run in a [Jupyter](https://jupyterlab.readthedocs.io/en/stable/) notebook which can be accessed and run from the internet at [this link](https://mybinder.org/v2/gh/tbondy760/sat-chirp-notebooks/master?filepath=SatChirpBackgrounder.ipynb)."
   ]
  },
  {
   "cell_type": "markdown",
   "metadata": {},
   "source": [
    "But first a bit of bookkeeping to make the plots look nice."
   ]
  },
  {
   "cell_type": "code",
   "execution_count": null,
   "metadata": {},
   "outputs": [],
   "source": [
    "%plot --format svg"
   ]
  },
  {
   "cell_type": "markdown",
   "metadata": {},
   "source": [
    "# Matched Filter - Time Domain\n",
    "As described in a previous section, an SDR will receive the complete satellite downlink\n",
    "band and do processing on it while a 'chirp' is sent on the uplink. It will look at the \n",
    "_frequency_ representation of the received chirp and determine its frequency offset from the satellite downlink\n",
    "band edge.\n",
    "\n",
    "In order to determine the frequency offset, the process will use a \n",
    "[matched filter](https://en.wikipedia.org/wiki/Matched_filter). Some examples\n",
    "of a matched filter will demonstrate the two properties that will make it \n",
    "useful for this process:\n",
    "* It is easy to determine whether the expected signal used to create the matched filter is present,\n",
    "* It is easy to determine _when_ the expected used to create the matched filter has completed."
   ]
  },
  {
   "cell_type": "markdown",
   "metadata": {},
   "source": [
    "For this example the expected signal to detect will be a 20 Hz cosine pulse 1s long (Figure 1)."
   ]
  },
  {
   "cell_type": "code",
   "execution_count": null,
   "metadata": {},
   "outputs": [],
   "source": [
    "sample_rate = 6000; # Sampling at 6 kHz\n",
    "T_base = [0: 1/sample_rate: 1]; # The time base, sampling at 6 kHz\n",
    "V_expected = cos(2*pi*20*T_base);\n",
    "\n",
    "plot(T_base, V_expected)\n",
    "ylabel(\"Amplitude (V)\")\n",
    "xlabel(\"Time (s)\")\n",
    "title(\"Figure 1: Cosine Pulse - Time Domain\")\n",
    "grid on\n",
    "grid minor\n",
    "axis([-0.5 1.5 -2 2], \"tic\")"
   ]
  },
  {
   "cell_type": "markdown",
   "metadata": {},
   "source": [
    "In the time domain, a matched filter is created by time reversing the signal to match or expected signal:\n",
    "$$\n",
    "f_{matching}(t) = f_{expected}(-t)\\;\\;\\;...(1)\n",
    "$$\n",
    "In this case the matched filter is the signal itself because $cos(2\\pi20t) = cos(-2\\pi20t)$.\n",
    "\n",
    "The output of the filter is determined by convolving the input signal with the matched filter.\n",
    "\n",
    "For the first part of the example, the received signal is the expected signal itself followed by 4 sec of silence, three times (Figure 2)."
   ]
  },
  {
   "cell_type": "code",
   "execution_count": null,
   "metadata": {},
   "outputs": [],
   "source": [
    "V_4s_silence = zeros(1, sample_rate*4);\n",
    "V_received = horzcat(V_expected, V_4s_silence, V_expected, V_4s_silence, V_expected, V_4s_silence);\n",
    "T_base = [0: 1/sample_rate: (size(V_received,2)-1)/sample_rate]; # The time base\n",
    "\n",
    "plot(T_base, V_received)\n",
    "ylabel(\"Amplitude (V)\")\n",
    "xlabel(\"Time (s)\")\n",
    "title(\"Figure 2: Received Signal - Time Domain\")\n",
    "grid on\n",
    "grid minor\n",
    "axis([-0.5 15.5 -2 2], \"tic\")"
   ]
  },
  {
   "cell_type": "markdown",
   "metadata": {},
   "source": [
    "To do the matching the matching filter, the expected signal time reversed, is convolved with the received signal. The maximal peaks of the output indicates (Figure 3):\n",
    "* Where the expected signal was detected,\n",
    "* When the expected signal was completely received."
   ]
  },
  {
   "cell_type": "code",
   "execution_count": null,
   "metadata": {},
   "outputs": [],
   "source": [
    "V_matching = flip(V_expected); # 'flip' does the time reversing, not really necessary for this signal\n",
    "V_matched = conv(V_matching, V_received);\n",
    "T_base = [0: 1/sample_rate: (size(V_matched,2)-1)/sample_rate]; # The time base, sampling at 6 kHz\n",
    "\n",
    "plot(T_base, V_matched)\n",
    "ylabel(\"Energy (V^2)\")\n",
    "xlabel(\"Time (s)\")\n",
    "title(\"Figure 3: Matched Filter Output - Time Domain\")\n",
    "grid on\n",
    "grid minor\n",
    "axis([-0.5 15.5], \"tic\")"
   ]
  },
  {
   "cell_type": "markdown",
   "metadata": {},
   "source": [
    "For the next part of the example, it will be shown that the expected signal\n",
    "can be detected in the presence of a large amount of noise (i.e. SNR = -20 dB)."
   ]
  },
  {
   "cell_type": "code",
   "execution_count": null,
   "metadata": {},
   "outputs": [],
   "source": [
    "# Begin credited work\n",
    "# The following work derives from work done and presented by Mathuranathan Viswanathan at \n",
    "# https://www.gaussianwaves.com/2015/06/how-to-generate-awgn-noise-in-matlaboctave-without-using-in-built-awgn-function/\n",
    "snr = -20; # dB\n",
    "# dB is logarithmic, linearize the SNR\n",
    "snr_lin = 10^(snr/10);\n",
    "# Determine the signal power\n",
    "e_sig = sum(abs(V_expected).^2)/size(V_expected,2);\n",
    "# And then get the noise spectral density\n",
    "n_0 = e_sig/snr_lin;\n",
    "# For real valued vectors\n",
    "n_sigma = sqrt(n_0);\n",
    "V_noise = n_sigma * randn(1,size(V_received,2));\n",
    "# End credited work\n",
    "\n",
    "V_noisy_received = V_received .+ V_noise;\n",
    "T_base = [0: 1/sample_rate: (size(V_received,2)-1)/sample_rate]; # The time base\n",
    "\n",
    "plot(T_base, V_noisy_received)\n",
    "ylabel(\"Amplitude (V)\")\n",
    "xlabel(\"Time (s)\")\n",
    "title(\"Figure 4: Received Signal with Noise - Time Domain\")\n",
    "grid on\n",
    "grid minor\n",
    "axis([-0.5 15.5], \"tic\")"
   ]
  },
  {
   "cell_type": "markdown",
   "metadata": {},
   "source": [
    "Can the pulses bee seen amongst the noise? A plot is shown with the original received signal superimposed for magnitude comparision (Figure 5)."
   ]
  },
  {
   "cell_type": "code",
   "execution_count": null,
   "metadata": {},
   "outputs": [],
   "source": [
    "plot(T_base, V_noisy_received, T_base, V_received)\n",
    "ylabel(\"Amplitude (V)\")\n",
    "xlabel(\"Time (s)\")\n",
    "title(\"Figure 5: Magnitude Comparision of Cosine Pulses and Noise - Time Domain\")\n",
    "grid on\n",
    "grid minor\n",
    "axis([-0.5 15.5], \"tic\")"
   ]
  },
  {
   "cell_type": "markdown",
   "metadata": {},
   "source": [
    "Examine the matched filter output (Figure 6)."
   ]
  },
  {
   "cell_type": "code",
   "execution_count": null,
   "metadata": {},
   "outputs": [],
   "source": [
    "V_matched = conv(V_matching, V_noisy_received);\n",
    "T_base = [0: 1/sample_rate: (size(V_matched,2)-1)/sample_rate]; # The time base, sampling at 6 kHz\n",
    "plot(T_base, V_matched)\n",
    "ylabel(\"Energy (V^2)\")\n",
    "xlabel(\"Time (s)\")\n",
    "title(\"Figure 6: Matched Filter Output of Noisy Received Signal - Time Domain\")\n",
    "grid on\n",
    "grid minor\n",
    "axis([-0.5 15.5], \"tic\")"
   ]
  },
  {
   "cell_type": "markdown",
   "metadata": {},
   "source": [
    "So even though the cosine pulses are 20 dB less than the noise, the matched filter\n",
    "is still able to detect them."
   ]
  },
  {
   "cell_type": "markdown",
   "metadata": {},
   "source": [
    "# A Brief Review of Signal Analysis In The Time and Frequency Domains \n",
    "Before taking on using a matched filter in the _frequency_ domain, a short review of signal analysis in both the time and frequency domains is presented.\n",
    "\n",
    "Consider again a 20 Hz cosine pulse lasting 1s (Figure 7)."
   ]
  },
  {
   "cell_type": "code",
   "execution_count": null,
   "metadata": {},
   "outputs": [],
   "source": [
    "T_base = [0: 1/sample_rate: 1]; # The time base, sampling at 6 kHz\n",
    "V_cos_pulse = cos(2*pi*20*T_base);\n",
    "\n",
    "plot(T_base, V_cos_pulse)\n",
    "ylabel(\"Amplitude (V)\")\n",
    "xlabel(\"Time (s)\")\n",
    "title(\"Figure 7: Cosine Pulse - Time Domain\")\n",
    "grid on\n",
    "grid minor\n",
    "axis([-0.5 1.5 -2.5 2.5], \"tic\")"
   ]
  },
  {
   "cell_type": "markdown",
   "metadata": {},
   "source": [
    "A fast-fourier-transform (FFT) is used to determine the frequency components of the signal (Figure 8).\n",
    "\n",
    "The Octave function `fft` is used to do the FFT. The Octave function `fftshift` is used to shift 0 Hz to the \n",
    "centre of the resulting vector of results."
   ]
  },
  {
   "cell_type": "code",
   "execution_count": null,
   "metadata": {},
   "outputs": [],
   "source": [
    "V_of_f = fftshift(fft(V_cos_pulse));\n",
    "F_base = [-sample_rate/2: 1: sample_rate/2];\n",
    "plot(F_base, V_of_f)\n",
    "ylabel(\"Relative Energy (V^2)\")\n",
    "xlabel(\"Frequency (Hz)\")\n",
    "title(\"Figure 8: Cosine Pulse - Frequency Domain\")\n",
    "grid on\n",
    "grid minor\n",
    "axis([-25 25], \"tic\")"
   ]
  },
  {
   "cell_type": "markdown",
   "metadata": {},
   "source": [
    "The energy at +/- 20 Hz can be seen, although the resolution is lacking. To increase the resolution, the time sample can be extended. If the frequency resolution was only 1 Hz when the sample was only 1s long, it will be 0.1 Hz when the sample is 10s long."
   ]
  },
  {
   "cell_type": "code",
   "execution_count": null,
   "metadata": {},
   "outputs": [],
   "source": [
    "V_9s_silence = zeros(1, sample_rate*9);\n",
    "V_of_f = fftshift(fft(horzcat(V_cos_pulse, V_9s_silence)));\n",
    "F_base = [-sample_rate/2: 1/10: sample_rate/2];\n",
    "plot(F_base, V_of_f)\n",
    "ylabel(\"Relative Energy (V^2)\")\n",
    "xlabel(\"Frequency (Hz)\")\n",
    "title(\"Figure 9: Cosine Pulse - Frequency Domain\")\n",
    "grid on\n",
    "grid minor\n",
    "axis([-35 35], \"tic\")"
   ]
  },
  {
   "cell_type": "markdown",
   "metadata": {},
   "source": [
    "It can be seen from the graph:\n",
    "* That the primary components consist of frequencies at and around +20 Hz and -20 Hz,\n",
    "* There is \"splatter\" approx 15 Hz on either side of the primary +/- 20 Hz components,\n",
    "* Real value signals will have +ve and -ve frequency components.\n",
    "\n",
    "The appearance of splatter can be reasoned by considering the cosine pulse as being modulated by an square pulse 1s long. To reduce the splatter, we \"soften\" our cosine pulse by modulating instead with a [raised cosine pulse](https://en.wikipedia.org/wiki/Raised-cosine_filter)."
   ]
  },
  {
   "cell_type": "code",
   "execution_count": null,
   "metadata": {},
   "outputs": [],
   "source": [
    "T_base = [0: 1/sample_rate: 1]; # The time base, sampling at 6 kHz\n",
    "V_cos_pulse = cos(2*pi*20*T_base) .* (cos(2*pi*(T_base - 0.5)) + 1)/2;\n",
    "\n",
    "plot(T_base, V_cos_pulse)\n",
    "ylabel(\"Amplitude (V)\")\n",
    "xlabel(\"Time (s)\")\n",
    "title(\"Figure 10: Cosine Pulse with Raised Cosine Modulation - Time Domain\")\n",
    "grid on\n",
    "grid minor\n",
    "axis([-0.5 1.5 -2.5 2.5], \"tic\")"
   ]
  },
  {
   "cell_type": "markdown",
   "metadata": {},
   "source": [
    "So let's examine this in the frequency domain."
   ]
  },
  {
   "cell_type": "code",
   "execution_count": null,
   "metadata": {},
   "outputs": [],
   "source": [
    "V_9s_silence = zeros(1, sample_rate*9);\n",
    "V_of_f = fftshift(fft(horzcat(V_cos_pulse, V_9s_silence)));\n",
    "F_base = [-sample_rate/2: 1/10: sample_rate/2];\n",
    "plot(F_base, V_of_f)\n",
    "ylabel(\"Relative Energy (V^2)\")\n",
    "xlabel(\"Frequency (Hz)\")\n",
    "title(\"Figure 11: Cosine Pulse with Raised Cosine Modulation - Frequency Domain\")\n",
    "grid on\n",
    "grid minor\n",
    "axis([-35 35], \"tic\")"
   ]
  },
  {
   "cell_type": "markdown",
   "metadata": {},
   "source": [
    "The same process can be used\n",
    "with complex phasors by using `exp(i*2*pi*20*T)` or `exp(-i*2*pi*20*T)` in \n",
    "place of `cos(2*pi*20*T)`. For the +ve phasor the time signal looks the \n",
    "same (Figure 12)."
   ]
  },
  {
   "cell_type": "code",
   "execution_count": null,
   "metadata": {},
   "outputs": [],
   "source": [
    "T_base = [0: 1/sample_rate: 1]; # The time base, sampling at 6 kHz\n",
    "V_cos_pulse = exp(i*2*pi*20*T_base) .* (cos(2*pi*(T_base - 0.5)) + 1)/2;\n",
    "\n",
    "plot(T_base, V_cos_pulse)\n",
    "ylabel(\"Amplitude (V)\")\n",
    "xlabel(\"Time (s)\")\n",
    "title(\"Figure 13: exp(i*2*pi*20*t) Pulse with Raised Cosine Modulation - Time Domain\")\n",
    "grid on\n",
    "grid minor\n",
    "axis([-0.5 1.5 -2.5 2.5], \"tic\")"
   ]
  },
  {
   "cell_type": "markdown",
   "metadata": {},
   "source": [
    "And in the frequency domain (Figure 14)."
   ]
  },
  {
   "cell_type": "code",
   "execution_count": null,
   "metadata": {},
   "outputs": [],
   "source": [
    "V_9s_silence = zeros(1, sample_rate*9);\n",
    "V_of_f = fftshift(fft(horzcat(V_cos_pulse, V_9s_silence)));\n",
    "F_base = [-sample_rate/2: 1/10: sample_rate/2];\n",
    "plot(F_base, V_of_f)\n",
    "ylabel(\"Relative Energy (V^2)\")\n",
    "xlabel(\"Frequency (Hz)\")\n",
    "title(\"Figure 14: exp(i*2*pi*20*t) Pulse with Raised Cosine Modulation - Frequency Domain\")\n",
    "grid on\n",
    "grid minor\n",
    "axis([-35 35], \"tic\")"
   ]
  },
  {
   "cell_type": "markdown",
   "metadata": {},
   "source": [
    "Looking at the figure it is very similar to Figure 11 except:\n",
    "* That there is only one sideband, the USB,\n",
    "* That the sideband has twice the energy.\n",
    "\n",
    "Now for `exp(-i*2*pi*20*T)` (Figure 15). "
   ]
  },
  {
   "cell_type": "code",
   "execution_count": null,
   "metadata": {},
   "outputs": [],
   "source": [
    "T_base = [0: 1/sample_rate: 1]; # The time base, sampling at 6 kHz\n",
    "V_cos_pulse = exp(-i*2*pi*20*T_base) .* (cos(2*pi*(T_base - 0.5)) + 1)/2;\n",
    "\n",
    "plot(T_base, V_cos_pulse)\n",
    "ylabel(\"Amplitude (V)\")\n",
    "xlabel(\"Time (s)\")\n",
    "title(\"Figure 16: exp(-i*2*pi*20*t) Pulse with Raised Cosine Modulation - Time Domain\")\n",
    "grid on\n",
    "grid minor\n",
    "axis([-0.5 1.5 -2.5 2.5], \"tic\")"
   ]
  },
  {
   "cell_type": "markdown",
   "metadata": {},
   "source": [
    "It looks identical to Figure 13. And in the frequency domain (Figure 17)."
   ]
  },
  {
   "cell_type": "code",
   "execution_count": null,
   "metadata": {},
   "outputs": [],
   "source": [
    "V_9s_silence = zeros(1, sample_rate*9);\n",
    "V_of_f = fftshift(fft(horzcat(V_cos_pulse, V_9s_silence)));\n",
    "F_base = [-sample_rate/2: 1/10: sample_rate/2];\n",
    "plot(F_base, V_of_f)\n",
    "ylabel(\"Relative Energy (V^2)\")\n",
    "xlabel(\"Frequency (Hz)\")\n",
    "title(\"Figure 17: exp(i*2*pi*20*t) Pulse with Raised Cosine Modulation - Frequency Domain\")\n",
    "grid on\n",
    "grid minor\n",
    "axis([-35 35], \"tic\")"
   ]
  },
  {
   "cell_type": "markdown",
   "metadata": {},
   "source": [
    "Looking at the figure it is very similar to Figure 11 except:\n",
    "* That there is only one sideband, the LSB,\n",
    "* That the sideband has twice the energy.\n",
    "\n",
    "We have also indirectly demonstrated the trig identity\n",
    "$$\n",
    "cos(x) = \\frac{e^{ix} + e^{-ix}}{2}\n",
    "$$"
   ]
  },
  {
   "cell_type": "markdown",
   "metadata": {},
   "source": [
    "# Matched Filter In The Frequency Domain\n",
    "So far in the examples a matched filter is shown working in the time domain.\n",
    "Matched filters can also be used in the frequency domain. In this case it\n",
    "is possible to determine the frequency offset of the signal. The process\n",
    "is the following:\n",
    "* RF pulse $\t\\rightarrow$ FFT $\t\\rightarrow$ flip in frequency = matched filter\n",
    "* input signal $\t\\rightarrow$ FFT $\t\\rightarrow$ convolve with matched filter = matched filter output\n",
    "\n",
    "There is a property in time/frequency analysis that can be brought to bear,\n",
    "specifically convolution of two signals in one domain is multiplication in\n",
    "the other. So now the process becomes:\n",
    "* RF pulse $\t\\rightarrow$ FFT $\t\\rightarrow$ flip in frequency $\t\\rightarrow$ reverse FFT $\t\\rightarrow$ matched filter in time domain\n",
    "* input signal $\t\\rightarrow$ multiply by matched filter in time domain $\t\\rightarrow$ FFT = matched filter output"
   ]
  },
  {
   "cell_type": "markdown",
   "metadata": {},
   "source": [
    "For this example we are going to use the pulse from Figure 13, namely\n",
    "\n",
    "`V_cos_pulse = exp(i*2*pi*20*T_base) .* (cos(2*pi*(T_base - 0.5)) + 1)/2`\n",
    "\n",
    "And when it occurs, we want to read a 0 offset from the frequency graph. In order for it to do this, the input signal should be proportional to:\n",
    "$$\\frac{cos(2\\pi (t-0.5))+1}{2}, -0.5 <= t <= 0.5$$\n",
    "\n",
    "Let's look at that function and its frequency response (Figure 18 & Figure 19)"
   ]
  },
  {
   "cell_type": "code",
   "execution_count": null,
   "metadata": {},
   "outputs": [],
   "source": [
    "T_base = [0: 1/sample_rate: 1]; # The time base, sampling at 6 kHz\n",
    "V_cos_pulse = (cos(2*pi*(T_base - 0.5)) + 1)/2;\n",
    "\n",
    "plot(T_base, V_cos_pulse)\n",
    "ylabel(\"Amplitude (V)\")\n",
    "xlabel(\"Time (s)\")\n",
    "title(\"Figure 18: DC Raised Cosine Pulse - Time Domain\")\n",
    "grid on\n",
    "grid minor\n",
    "axis([-0.5 1.5 -2.5 2.5], \"tic\")"
   ]
  },
  {
   "cell_type": "code",
   "execution_count": null,
   "metadata": {},
   "outputs": [],
   "source": [
    "V_9s_silence = zeros(1, sample_rate*9);\n",
    "V_of_f = fftshift(fft(horzcat(V_cos_pulse, V_9s_silence)));\n",
    "F_base = [-sample_rate/2: 1/10: sample_rate/2];\n",
    "plot(F_base, V_of_f)\n",
    "ylabel(\"Relative Energy (V^2)\")\n",
    "xlabel(\"Frequency (Hz)\")\n",
    "title(\"Figure 19: DC Raised Cosine Pulse - Frequency Domain\")\n",
    "grid on\n",
    "grid minor\n",
    "axis([-35 35], \"tic\")"
   ]
  },
  {
   "cell_type": "markdown",
   "metadata": {},
   "source": [
    "But the DC raised cosine pulse is what we want to end up with _after_ the multiplication of the expected input signal with the sampling function, or:\n",
    "$$\n",
    "V_{matched}(t) = \\frac{cos(2\\pi (t-0.5))+1}{2} = V_{expected input}(t) V_{sampling}(t)\n",
    "$$\n",
    "If\n",
    "$$\n",
    "V_{sampling}(t) = \\frac{cos(2\\pi (t-0.5))+1}{2} V'_{sampling}(t)\n",
    "$$\n",
    "then\n",
    "$$\n",
    "1 = V_{expected input}(t) V'_{sampling}(t) \n",
    "$$\n",
    "or\n",
    "$$\n",
    "V'_{sampling}(t) = \\frac{1}{V_{expected input}(t)}\n",
    "$$\n",
    "\n",
    "If we are going to use the pulse from Figure 13 as the expected input, or\n",
    "\n",
    "`V_cos_pulse = exp(i*2*pi*20*T_base) .* (cos(2*pi*(T_base - 0.5)) + 1)/2`\n",
    "\n",
    "then\n",
    "\n",
    "`V_matching = 1/(exp(i*2*pi*20*T_base)) .* (cos(2*pi*(T_base - 0.5)) + 1)/2`"
   ]
  },
  {
   "cell_type": "markdown",
   "metadata": {},
   "source": [
    "So let's try this with a signal at 120 Hz, or the same as our expected input signal but shifted up 100 Hz, and see what the time and frequency graphs indicate (Figure 20 and Figure 21 respectively)."
   ]
  },
  {
   "cell_type": "code",
   "execution_count": null,
   "metadata": {},
   "outputs": [],
   "source": [
    "V_matching = 1 ./ (exp(i*2*pi*20*T_base)) .* (cos(2*pi*(T_base - 0.5)) + 1)/2;\n",
    "V_new_signal = exp(i*2*pi*120*T_base); # Notice the 120 term\n",
    "V_matched = V_matching .* V_new_signal;\n",
    "\n",
    "plot(T_base, V_matched)\n",
    "ylabel(\"Amplitude (V)\")\n",
    "xlabel(\"Time (s)\")\n",
    "title(\"Figure 20: Matched Signal When Expected Signal 100 Hz Up - Time Domain\")\n",
    "grid on\n",
    "grid minor\n",
    "axis([-0.5 1.5 -2.5 2.5], \"tic\")"
   ]
  },
  {
   "cell_type": "code",
   "execution_count": null,
   "metadata": {},
   "outputs": [],
   "source": [
    "V_9s_silence = zeros(1, sample_rate*9);\n",
    "V_of_f = fftshift(fft(horzcat(V_matched, V_9s_silence)));\n",
    "F_base = [-sample_rate/2: 1/10: sample_rate/2];\n",
    "plot(F_base, V_of_f)\n",
    "ylabel(\"Relative Energy (V^2)\")\n",
    "xlabel(\"Frequency (Hz)\")\n",
    "title(\"Figure 21: Matched Signal When Expected Signal 100 Hz Up - Frequency Domain\")\n",
    "grid on\n",
    "grid minor\n",
    "axis([-15 115], \"tic\")"
   ]
  },
  {
   "cell_type": "markdown",
   "metadata": {},
   "source": [
    "Let's see the performance in the face of noise using an SNR of -20 dB again."
   ]
  },
  {
   "cell_type": "code",
   "execution_count": null,
   "metadata": {},
   "outputs": [],
   "source": [
    "snr = -20; # dB\n",
    "# Linearize the SNR\n",
    "snr_lin = 10^(snr/10);\n",
    "# Determine the original signal power\n",
    "e_sig = sum(abs(V_new_signal).^2)/size(V_new_signal,2);\n",
    "# And then get noise spectral density\n",
    "n_0 = e_sig/snr_lin;\n",
    "n_sigma = sqrt(n_0);\n",
    "\n",
    "# This time the noise has to have both real and complex components because the input signal does\n",
    "V_noise = n_sigma * (randn(1,size(V_new_signal,2)) .+ i * randn(1,size(V_new_signal,2)));\n",
    "\n",
    "V_matched = V_matching .* (V_new_signal .+ V_noise);\n",
    "\n",
    "plot(T_base, V_matched)\n",
    "ylabel(\"Amplitude (V)\")\n",
    "xlabel(\"Time (s)\")\n",
    "title(\"Figure 22: Noisy Matched Signal When Expected Signal 100 Hz Up - Time Domain\")\n",
    "grid on\n",
    "grid minor\n",
    "axis([-0.5 1.5 ], \"tic\")"
   ]
  },
  {
   "cell_type": "code",
   "execution_count": null,
   "metadata": {},
   "outputs": [],
   "source": [
    "V_9s_silence = zeros(1, sample_rate*9);\n",
    "V_of_f = fftshift(fft(horzcat(V_matched, V_9s_silence)));\n",
    "F_base = [-sample_rate/2: 1/10: sample_rate/2];\n",
    "plot(F_base, V_of_f)\n",
    "ylabel(\"Relative Energy (V^2)\")\n",
    "xlabel(\"Frequency (Hz)\")\n",
    "title(\"Figure 23: Noisy Matched Signal When Expected Signal 100 Hz Up - Frequency Domain\")\n",
    "grid on\n",
    "grid minor\n",
    "axis([-15 115], \"tic\")"
   ]
  },
  {
   "cell_type": "markdown",
   "metadata": {},
   "source": [
    "It can be seen that the offset of the expected signal can read off the frequency graph even when the expected signal is swamped with noise."
   ]
  },
  {
   "cell_type": "markdown",
   "metadata": {},
   "source": [
    "# Summary\n",
    "In this lab book I have:\n",
    "* Introduced the matched filter, how it works in the time domain, and shown how well it works in the face of noise,\n",
    "* Refreshed how frequency domain analysis of a time domain signal can be done using the fast fourier transform (FFT),\n",
    "* Shown how the matched filter in the _frequency_ domain can be used to determine the frequency offset of an expected signal.\n",
    "\n",
    "In an upcoming lab book I'll determine what makes a good expected signal to be used for the matching filter and how it can be generated."
   ]
  },
  {
   "cell_type": "code",
   "execution_count": null,
   "metadata": {},
   "outputs": [],
   "source": []
  }
 ],
 "metadata": {
  "kernelspec": {
   "display_name": "Octave",
   "language": "octave",
   "name": "octave"
  },
  "language_info": {
   "file_extension": ".m",
   "help_links": [
    {
     "text": "GNU Octave",
     "url": "https://www.gnu.org/software/octave/support.html"
    },
    {
     "text": "Octave Kernel",
     "url": "https://github.com/Calysto/octave_kernel"
    },
    {
     "text": "MetaKernel Magics",
     "url": "https://metakernel.readthedocs.io/en/latest/source/README.html"
    }
   ],
   "mimetype": "text/x-octave",
   "name": "octave",
   "version": "4.2.2"
  }
 },
 "nbformat": 4,
 "nbformat_minor": 2
}
