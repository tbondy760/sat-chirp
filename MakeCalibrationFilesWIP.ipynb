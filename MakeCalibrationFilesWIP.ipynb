{
 "cells": [
  {
   "cell_type": "markdown",
   "metadata": {},
   "source": [
    "# Make Calibration WAV Files\n",
    "## By Terry Bondy, VA3TYB"
   ]
  },
  {
   "cell_type": "code",
   "execution_count": null,
   "metadata": {},
   "outputs": [],
   "source": [
    "printf(strftime (\"Last updated: %A %e %B %Y %Z\", localtime (time())))"
   ]
  },
  {
   "cell_type": "code",
   "execution_count": null,
   "metadata": {},
   "outputs": [],
   "source": [
    "load \"VA3TYB_A_s.mat\""
   ]
  },
  {
   "cell_type": "code",
   "execution_count": null,
   "metadata": {},
   "outputs": [],
   "source": [
    "rows(VA3TYB_A_s)"
   ]
  },
  {
   "cell_type": "code",
   "execution_count": 18,
   "metadata": {},
   "outputs": [],
   "source": [
    "# Freq = 400:4:400+4*(rows(VA3TYB_A_s)-1);\n",
    "fcLow = 200;\n",
    "fcHigh = 2600;\n",
    "period = 10;\n",
    "Freq = 200/2:1/period:2600*2;\n",
    "T = 0:1/16000:period;"
   ]
  },
  {
   "cell_type": "code",
   "execution_count": 22,
   "metadata": {},
   "outputs": [
    {
     "data": {
      "image/png": "[encoded data removed]",
      "text/plain": [
       "<IPython.core.display.Image object>"
      ]
     },
     "metadata": {},
     "output_type": "display_data"
    }
   ],
   "source": [
    "plot(T, (1 - cos(2*pi*T/period))/2);"
   ]
  },
  {
   "cell_type": "code",
   "execution_count": 23,
   "metadata": {},
   "outputs": [
    {
     "name": "stdout",
     "output_type": "stream",
     "text": [
      "toc: 202.504 seconds"
     ]
    }
   ],
   "source": [
    "rc = @(t) (1 - cos(2*pi*t/period))/2;\n",
    "cosArg = 2*pi*Freq';\n",
    "tic = time();\n",
    "Sig = arrayfun(@(t) rc(t) * sum(cos(cosArg*t)), T);\n",
    "printf(\"toc: %d seconds\", time() - tic)"
   ]
  },
  {
   "cell_type": "code",
   "execution_count": 24,
   "metadata": {},
   "outputs": [
    {
     "name": "stdout",
     "output_type": "stream",
     "text": [
      "name: AIFF (Apple/SGI)\n",
      "extension: aiff\n",
      "id: 131072\n",
      "subformats:\n",
      "  Signed 8 bit PCM\n",
      "  Signed 16 bit PCM\n",
      "  Signed 24 bit PCM\n",
      "  Signed 32 bit PCM\n",
      "  Unsigned 8 bit PCM\n",
      "  32 bit float\n",
      "  64 bit float\n",
      "  U-Law\n",
      "  A-Law\n",
      "  IMA ADPCM\n",
      "  GSM 6.10\n",
      "  12 bit DWVW\n",
      "  16 bit DWVW\n",
      "  24 bit DWVW\n",
      "name: AU (Sun/NeXT)\n",
      "extension: au\n",
      "id: 196608\n",
      "subformats:\n",
      "  Signed 8 bit PCM\n",
      "  Signed 16 bit PCM\n",
      "  Signed 24 bit PCM\n",
      "  Signed 32 bit PCM\n",
      "  32 bit float\n",
      "  64 bit float\n",
      "  U-Law\n",
      "  A-Law\n",
      "  32kbs G721 ADPCM\n",
      "  24kbs G723 ADPCM\n",
      "name: AVR (Audio Visual Research)\n",
      "extension: avr\n",
      "id: 1179648\n",
      "subformats:\n",
      "  Signed 8 bit PCM\n",
      "  Signed 16 bit PCM\n",
      "  Unsigned 8 bit PCM\n",
      "name: CAF (Apple Core Audio File)\n",
      "extension: caf\n",
      "id: 1572864\n",
      "subformats:\n",
      "  Signed 8 bit PCM\n",
      "  Signed 16 bit PCM\n",
      "  Signed 24 bit PCM\n",
      "  Signed 32 bit PCM\n",
      "  32 bit float\n",
      "  64 bit float\n",
      "  U-Law\n",
      "  A-Law\n",
      "  16 bit ALAC\n",
      "  20 bit ALAC\n",
      "  24 bit ALAC\n",
      "  32 bit ALAC\n",
      "name: FLAC (Free Lossless Audio Codec)\n",
      "extension: flac\n",
      "id: 1507328\n",
      "subformats:\n",
      "  Signed 8 bit PCM\n",
      "  Signed 16 bit PCM\n",
      "  Signed 24 bit PCM\n",
      "name: HTK (HMM Tool Kit)\n",
      "extension: htk\n",
      "id: 1048576\n",
      "subformats:\n",
      "  Signed 16 bit PCM\n",
      "name: IFF (Amiga IFF/SVX8/SV16)\n",
      "extension: iff\n",
      "id: 393216\n",
      "subformats:\n",
      "  Signed 8 bit PCM\n",
      "  Signed 16 bit PCM\n",
      "name: MAT4 (GNU Octave 2.0 / Matlab 4.2)\n",
      "extension: mat\n",
      "id: 786432\n",
      "subformats:\n",
      "  Signed 16 bit PCM\n",
      "  Signed 32 bit PCM\n",
      "  32 bit float\n",
      "  64 bit float\n",
      "name: MAT5 (GNU Octave 2.1 / Matlab 5.0)\n",
      "extension: mat\n",
      "id: 851968\n",
      "subformats:\n",
      "  Signed 16 bit PCM\n",
      "  Signed 32 bit PCM\n",
      "  Unsigned 8 bit PCM\n",
      "  32 bit float\n",
      "  64 bit float\n",
      "name: MPC (Akai MPC 2k)\n",
      "extension: mpc\n",
      "id: 2162688\n",
      "subformats:\n",
      "  Signed 16 bit PCM\n",
      "name: OGG (OGG Container format)\n",
      "extension: oga\n",
      "id: 2097152\n",
      "subformats:\n",
      "  Vorbis\n",
      "name: PAF (Ensoniq PARIS)\n",
      "extension: paf\n",
      "id: 327680\n",
      "subformats:\n",
      "  Signed 8 bit PCM\n",
      "  Signed 16 bit PCM\n",
      "  Signed 24 bit PCM\n",
      "name: PVF (Portable Voice Format)\n",
      "extension: pvf\n",
      "id: 917504\n",
      "subformats:\n",
      "  Signed 8 bit PCM\n",
      "  Signed 16 bit PCM\n",
      "  Signed 32 bit PCM\n",
      "name: RAW (header-less)\n",
      "extension: raw\n",
      "id: 262144\n",
      "subformats:\n",
      "  Signed 8 bit PCM\n",
      "  Signed 16 bit PCM\n",
      "  Signed 24 bit PCM\n",
      "  Signed 32 bit PCM\n",
      "  Unsigned 8 bit PCM\n",
      "  32 bit float\n",
      "  64 bit float\n",
      "  U-Law\n",
      "  A-Law\n",
      "  GSM 6.10\n",
      "  12 bit DWVW\n",
      "  16 bit DWVW\n",
      "  24 bit DWVW\n",
      "  VOX ADPCM\n",
      "name: RF64 (RIFF 64)\n",
      "extension: rf64\n",
      "id: 2228224\n",
      "subformats:\n",
      "  Signed 16 bit PCM\n",
      "  Signed 24 bit PCM\n",
      "  Signed 32 bit PCM\n",
      "  Unsigned 8 bit PCM\n",
      "  32 bit float\n",
      "  64 bit float\n",
      "  U-Law\n",
      "  A-Law\n",
      "name: SD2 (Sound Designer II)\n",
      "extension: sd2\n",
      "id: 1441792\n",
      "subformats:\n",
      "  Signed 8 bit PCM\n",
      "  Signed 16 bit PCM\n",
      "  Signed 24 bit PCM\n",
      "  Signed 32 bit PCM\n",
      "name: SDS (Midi Sample Dump Standard)\n",
      "extension: sds\n",
      "id: 1114112\n",
      "subformats:\n",
      "  Signed 8 bit PCM\n",
      "  Signed 16 bit PCM\n",
      "  Signed 24 bit PCM\n",
      "name: SF (Berkeley/IRCAM/CARL)\n",
      "extension: sf\n",
      "id: 655360\n",
      "subformats:\n",
      "  Signed 16 bit PCM\n",
      "  Signed 32 bit PCM\n",
      "  32 bit float\n",
      "  U-Law\n",
      "  A-Law\n",
      "name: VOC (Creative Labs)\n",
      "extension: voc\n",
      "id: 524288\n",
      "subformats:\n",
      "  Signed 16 bit PCM\n",
      "  Unsigned 8 bit PCM\n",
      "  U-Law\n",
      "  A-Law\n",
      "name: W64 (SoundFoundry WAVE 64)\n",
      "extension: w64\n",
      "id: 720896\n",
      "subformats:\n",
      "  Signed 16 bit PCM\n",
      "  Signed 24 bit PCM\n",
      "  Signed 32 bit PCM\n",
      "  Unsigned 8 bit PCM\n",
      "  32 bit float\n",
      "  64 bit float\n",
      "  U-Law\n",
      "  A-Law\n",
      "  IMA ADPCM\n",
      "  Microsoft ADPCM\n",
      "  GSM 6.10\n",
      "name: WAV (Microsoft)\n",
      "extension: wav\n",
      "id: 65536\n",
      "subformats:\n",
      "  Signed 16 bit PCM\n",
      "  Signed 24 bit PCM\n",
      "  Signed 32 bit PCM\n",
      "  Unsigned 8 bit PCM\n",
      "  32 bit float\n",
      "  64 bit float\n",
      "  U-Law\n",
      "  A-Law\n",
      "  IMA ADPCM\n",
      "  Microsoft ADPCM\n",
      "  GSM 6.10\n",
      "  32kbs G721 ADPCM\n",
      "name: WAV (NIST Sphere)\n",
      "extension: wav\n",
      "id: 458752\n",
      "subformats:\n",
      "  Signed 8 bit PCM\n",
      "  Signed 16 bit PCM\n",
      "  Signed 24 bit PCM\n",
      "  Signed 32 bit PCM\n",
      "  U-Law\n",
      "  A-Law\n",
      "name: WAVEX (Microsoft)\n",
      "extension: wav\n",
      "id: 1245184\n",
      "subformats:\n",
      "  Signed 16 bit PCM\n",
      "  Signed 24 bit PCM\n",
      "  Signed 32 bit PCM\n",
      "  Unsigned 8 bit PCM\n",
      "  32 bit float\n",
      "  64 bit float\n",
      "  U-Law\n",
      "  A-Law\n",
      "name: WVE (Psion Series 3)\n",
      "extension: wve\n",
      "id: 1638400\n",
      "subformats:\n",
      "  A-Law\n",
      "name: XI (FastTracker 2)\n",
      "extension: xi\n",
      "id: 983040\n",
      "subformats:\n",
      "  16 bit DPCM\n",
      "  8 bit DPCM\n"
     ]
    }
   ],
   "source": [
    "audioformats()\n"
   ]
  },
  {
   "cell_type": "code",
   "execution_count": 16,
   "metadata": {},
   "outputs": [
    {
     "name": "stdout",
     "output_type": "stream",
     "text": [
      "toc: 79.792"
     ]
    }
   ],
   "source": [
    "cosArg = 2*pi*Freq';\n",
    "tic = time();\n",
    "Sig = arrayfun(@(t) sum(cos(cosArg*t)), T);\n",
    "printf(\"toc: %d\", time() - tic)"
   ]
  },
  {
   "cell_type": "code",
   "execution_count": null,
   "metadata": {},
   "outputs": [],
   "source": [
    "arg = 2*pi*Freq'*T;"
   ]
  },
  {
   "cell_type": "code",
   "execution_count": null,
   "metadata": {},
   "outputs": [],
   "source": [
    "arg = cos(arg);"
   ]
  },
  {
   "cell_type": "code",
   "execution_count": null,
   "metadata": {},
   "outputs": [],
   "source": [
    "arg = sum(arg);\n",
    "# # Sig = sum(A_s .* cos(2*pi*Freq'*T));\n",
    "# # sq3 = sqrt(3);\n",
    "# # Sig = sum(A_s .* cos(2*pi*Freq'*T + pi/2 - atan(Freq' .* sq3/2600) - atan(Freq' .* 1/(sq3 * 200))));"
   ]
  },
  {
   "cell_type": "code",
   "execution_count": 25,
   "metadata": {},
   "outputs": [
    {
     "name": "stdout",
     "output_type": "stream",
     "text": [
      "ans =  1\n"
     ]
    },
    {
     "data": {
      "image/png": "[encoded data removed]",
      "text/plain": [
       "<IPython.core.display.Image object>"
      ]
     },
     "metadata": {},
     "output_type": "display_data"
    }
   ],
   "source": [
    "max(abs(Sig))\n",
    "# A_s' * A_s\n",
    "plot(T, Sig)"
   ]
  },
  {
   "cell_type": "code",
   "execution_count": null,
   "metadata": {},
   "outputs": [],
   "source": [
    "Freq = 1:1:1000000;\n",
    "sq3 = sqrt(3);\n",
    "semilogx(Freq, pi/2 - atan(Freq .* sq3/2600) - atan(Freq .* 1/(sq3 * 200)));"
   ]
  },
  {
   "cell_type": "code",
   "execution_count": 26,
   "metadata": {},
   "outputs": [
    {
     "name": "stdout",
     "output_type": "stream",
     "text": [
      "warning: wavwrite is obsolete and will be removed from a future version of Octave, please use audiowrite instead\n",
      "warning: called from\n",
      "    wavwrite at line 51 column 5\n"
     ]
    }
   ],
   "source": [
    "wavwrite(Sig, 16000, \"calibrate.wav\")"
   ]
  },
  {
   "cell_type": "code",
   "execution_count": null,
   "metadata": {},
   "outputs": [],
   "source": [
    "audiowrite(\"\")"
   ]
  }
 ],
 "metadata": {
  "kernelspec": {
   "display_name": "Octave",
   "language": "octave",
   "name": "octave"
  },
  "language_info": {
   "file_extension": ".m",
   "help_links": [
    {
     "text": "GNU Octave",
     "url": "https://www.gnu.org/software/octave/support.html"
    },
    {
     "text": "Octave Kernel",
     "url": "https://github.com/Calysto/octave_kernel"
    },
    {
     "text": "MetaKernel Magics",
     "url": "https://metakernel.readthedocs.io/en/latest/source/README.html"
    }
   ],
   "mimetype": "text/x-octave",
   "name": "octave",
   "version": "4.2.2"
  }
 },
 "nbformat": 4,
 "nbformat_minor": 2
}
