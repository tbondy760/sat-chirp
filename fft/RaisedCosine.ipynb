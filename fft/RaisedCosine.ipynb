{
 "cells": [
  {
   "cell_type": "markdown",
   "metadata": {},
   "source": [
    "# Determine Equation For Raised Cosine From Number of Samples\n",
    "## By Terry Bondy, VA3TYB"
   ]
  },
  {
   "cell_type": "code",
   "execution_count": 1,
   "metadata": {},
   "outputs": [],
   "source": [
    "%plot --format svg"
   ]
  },
  {
   "cell_type": "code",
   "execution_count": 2,
   "metadata": {},
   "outputs": [
    {
     "name": "stdout",
     "output_type": "stream",
     "text": [
      "numSamples =  1024\n"
     ]
    }
   ],
   "source": [
    "numSamples = 1024"
   ]
  },
  {
   "cell_type": "code",
   "execution_count": 3,
   "metadata": {},
   "outputs": [
    {
     "name": "stdout",
     "output_type": "stream",
     "text": [
      "ans =\n",
      "\n",
      "   1024      1\n",
      "\n"
     ]
    }
   ],
   "source": [
    "RaisedCosineCv = (1 - cos(2*pi*([0:1:numSamples-1](:))/numSamples))/2;\n",
    "size(RaisedCosineCv)"
   ]
  },
  {
   "cell_type": "code",
   "execution_count": 4,
   "metadata": {},
   "outputs": [
    {
     "data": {
      "image/svg+xml": [
       "<svg height=\"420px\" viewBox=\"0 0 560 420\" width=\"560px\" xmlns=\"http://www.w3.org/2000/svg\" xmlns:xlink=\"http://www.w3.org/1999/xlink\">\n",
       "\n",
       "<title>Gnuplot</title>\n",
       "<desc>Produced by GNUPLOT 5.2 patchlevel 2 </desc>\n",
       "\n",
       "<g id=\"gnuplot_canvas\">\n",
       "\n",
       "<rect fill=\"none\" height=\"420\" width=\"560\" x=\"0\" y=\"0\"/>\n",
       "<defs>\n",
       "\n",
       "\t<circle id=\"gpDot\" r=\"0.5\" stroke-width=\"0.5\"/>\n",
       "\t<path d=\"M-1,0 h2 M0,-1 v2\" id=\"gpPt0\" stroke=\"currentColor\" stroke-width=\"0.222\"/>\n",
       "\t<path d=\"M-1,-1 L1,1 M1,-1 L-1,1\" id=\"gpPt1\" stroke=\"currentColor\" stroke-width=\"0.222\"/>\n",
       "\t<path d=\"M-1,0 L1,0 M0,-1 L0,1 M-1,-1 L1,1 M-1,1 L1,-1\" id=\"gpPt2\" stroke=\"currentColor\" stroke-width=\"0.222\"/>\n",
       "\t<rect height=\"2\" id=\"gpPt3\" stroke=\"currentColor\" stroke-width=\"0.222\" width=\"2\" x=\"-1\" y=\"-1\"/>\n",
       "\t<rect fill=\"currentColor\" height=\"2\" id=\"gpPt4\" stroke=\"currentColor\" stroke-width=\"0.222\" width=\"2\" x=\"-1\" y=\"-1\"/>\n",
       "\t<circle cx=\"0\" cy=\"0\" id=\"gpPt5\" r=\"1\" stroke=\"currentColor\" stroke-width=\"0.222\"/>\n",
       "\t<use fill=\"currentColor\" id=\"gpPt6\" stroke=\"none\" xlink:href=\"#gpPt5\"/>\n",
       "\t<path d=\"M0,-1.33 L-1.33,0.67 L1.33,0.67 z\" id=\"gpPt7\" stroke=\"currentColor\" stroke-width=\"0.222\"/>\n",
       "\t<use fill=\"currentColor\" id=\"gpPt8\" stroke=\"none\" xlink:href=\"#gpPt7\"/>\n",
       "\t<use id=\"gpPt9\" stroke=\"currentColor\" transform=\"rotate(180)\" xlink:href=\"#gpPt7\"/>\n",
       "\t<use fill=\"currentColor\" id=\"gpPt10\" stroke=\"none\" xlink:href=\"#gpPt9\"/>\n",
       "\t<use id=\"gpPt11\" stroke=\"currentColor\" transform=\"rotate(45)\" xlink:href=\"#gpPt3\"/>\n",
       "\t<use fill=\"currentColor\" id=\"gpPt12\" stroke=\"none\" xlink:href=\"#gpPt11\"/>\n",
       "\t<path d=\"M0,1.330 L1.265,0.411 L0.782,-1.067 L-0.782,-1.076 L-1.265,0.411 z\" id=\"gpPt13\" stroke=\"currentColor\" stroke-width=\"0.222\"/>\n",
       "\t<use fill=\"currentColor\" id=\"gpPt14\" stroke=\"none\" xlink:href=\"#gpPt13\"/>\n",
       "\t<filter filterUnits=\"objectBoundingBox\" height=\"1\" id=\"textbox\" width=\"1\" x=\"0\" y=\"0\">\n",
       "\t  <feFlood flood-color=\"white\" flood-opacity=\"1\" result=\"bgnd\"/>\n",
       "\t  <feComposite in=\"SourceGraphic\" in2=\"bgnd\" operator=\"atop\"/>\n",
       "\t</filter>\n",
       "\t<filter filterUnits=\"objectBoundingBox\" height=\"1\" id=\"greybox\" width=\"1\" x=\"0\" y=\"0\">\n",
       "\t  <feFlood flood-color=\"lightgrey\" flood-opacity=\"1\" result=\"grey\"/>\n",
       "\t  <feComposite in=\"SourceGraphic\" in2=\"grey\" operator=\"atop\"/>\n",
       "\t</filter>\n",
       "</defs>\n",
       "<g color=\"white\" fill=\"none\" stroke=\"currentColor\" stroke-linecap=\"butt\" stroke-linejoin=\"miter\" stroke-width=\"1.00\">\n",
       "</g>\n",
       "<g color=\"black\" fill=\"none\" stroke=\"currentColor\" stroke-linecap=\"butt\" stroke-linejoin=\"miter\" stroke-width=\"1.00\">\n",
       "\t<g shape-rendering=\"crispEdges\" stroke=\"none\">\n",
       "\t\t<polygon fill=\"rgb(255, 255, 255)\" points=\"45.6,384.0 534.9,384.0 534.9,18.2 45.6,18.2 \"/>\n",
       "\t</g>\n",
       "</g>\n",
       "<g color=\"black\" fill=\"none\" stroke=\"currentColor\" stroke-linecap=\"butt\" stroke-linejoin=\"miter\" stroke-width=\"1.00\">\n",
       "\t<path d=\"M45.6,384.0 L58.1,384.0 M535.0,384.0 L522.5,384.0  \" stroke=\"rgb(  0,   0,   0)\"/>\t<g fill=\"rgb(38,38,38)\" font-family=\"Arial\" font-size=\"10.00\" stroke=\"none\" text-anchor=\"end\" transform=\"translate(37.3,387.3)\">\n",
       "\t\t<text><tspan font-family=\"Arial\">0</tspan></text>\n",
       "\t</g>\n",
       "</g>\n",
       "<g color=\"black\" fill=\"none\" stroke=\"currentColor\" stroke-linecap=\"butt\" stroke-linejoin=\"miter\" stroke-width=\"1.00\">\n",
       "\t<path d=\"M45.6,310.8 L58.1,310.8 M535.0,310.8 L522.5,310.8  \" stroke=\"rgb(  0,   0,   0)\"/>\t<g fill=\"rgb(38,38,38)\" font-family=\"Arial\" font-size=\"10.00\" stroke=\"none\" text-anchor=\"end\" transform=\"translate(37.3,314.1)\">\n",
       "\t\t<text><tspan font-family=\"Arial\">0.2</tspan></text>\n",
       "\t</g>\n",
       "</g>\n",
       "<g color=\"black\" fill=\"none\" stroke=\"currentColor\" stroke-linecap=\"butt\" stroke-linejoin=\"miter\" stroke-width=\"1.00\">\n",
       "\t<path d=\"M45.6,237.6 L58.1,237.6 M535.0,237.6 L522.5,237.6  \" stroke=\"rgb(  0,   0,   0)\"/>\t<g fill=\"rgb(38,38,38)\" font-family=\"Arial\" font-size=\"10.00\" stroke=\"none\" text-anchor=\"end\" transform=\"translate(37.3,240.9)\">\n",
       "\t\t<text><tspan font-family=\"Arial\">0.4</tspan></text>\n",
       "\t</g>\n",
       "</g>\n",
       "<g color=\"black\" fill=\"none\" stroke=\"currentColor\" stroke-linecap=\"butt\" stroke-linejoin=\"miter\" stroke-width=\"1.00\">\n",
       "\t<path d=\"M45.6,164.5 L58.1,164.5 M535.0,164.5 L522.5,164.5  \" stroke=\"rgb(  0,   0,   0)\"/>\t<g fill=\"rgb(38,38,38)\" font-family=\"Arial\" font-size=\"10.00\" stroke=\"none\" text-anchor=\"end\" transform=\"translate(37.3,167.8)\">\n",
       "\t\t<text><tspan font-family=\"Arial\">0.6</tspan></text>\n",
       "\t</g>\n",
       "</g>\n",
       "<g color=\"black\" fill=\"none\" stroke=\"currentColor\" stroke-linecap=\"butt\" stroke-linejoin=\"miter\" stroke-width=\"1.00\">\n",
       "\t<path d=\"M45.6,91.3 L58.1,91.3 M535.0,91.3 L522.5,91.3  \" stroke=\"rgb(  0,   0,   0)\"/>\t<g fill=\"rgb(38,38,38)\" font-family=\"Arial\" font-size=\"10.00\" stroke=\"none\" text-anchor=\"end\" transform=\"translate(37.3,94.6)\">\n",
       "\t\t<text><tspan font-family=\"Arial\">0.8</tspan></text>\n",
       "\t</g>\n",
       "</g>\n",
       "<g color=\"black\" fill=\"none\" stroke=\"currentColor\" stroke-linecap=\"butt\" stroke-linejoin=\"miter\" stroke-width=\"1.00\">\n",
       "\t<path d=\"M45.6,18.1 L58.1,18.1 M535.0,18.1 L522.5,18.1  \" stroke=\"rgb(  0,   0,   0)\"/>\t<g fill=\"rgb(38,38,38)\" font-family=\"Arial\" font-size=\"10.00\" stroke=\"none\" text-anchor=\"end\" transform=\"translate(37.3,21.4)\">\n",
       "\t\t<text><tspan font-family=\"Arial\">1</tspan></text>\n",
       "\t</g>\n",
       "</g>\n",
       "<g color=\"black\" fill=\"none\" stroke=\"currentColor\" stroke-linecap=\"butt\" stroke-linejoin=\"miter\" stroke-width=\"1.00\">\n",
       "\t<path d=\"M45.6,384.0 L45.6,371.5 M45.6,18.1 L45.6,30.6  \" stroke=\"rgb(  0,   0,   0)\"/>\t<g fill=\"rgb(38,38,38)\" font-family=\"Arial\" font-size=\"10.00\" stroke=\"none\" text-anchor=\"middle\" transform=\"translate(45.6,405.3)\">\n",
       "\t\t<text><tspan font-family=\"Arial\">0</tspan></text>\n",
       "\t</g>\n",
       "</g>\n",
       "<g color=\"black\" fill=\"none\" stroke=\"currentColor\" stroke-linecap=\"butt\" stroke-linejoin=\"miter\" stroke-width=\"1.00\">\n",
       "\t<path d=\"M127.2,384.0 L127.2,371.5 M127.2,18.1 L127.2,30.6  \" stroke=\"rgb(  0,   0,   0)\"/>\t<g fill=\"rgb(38,38,38)\" font-family=\"Arial\" font-size=\"10.00\" stroke=\"none\" text-anchor=\"middle\" transform=\"translate(127.2,405.3)\">\n",
       "\t\t<text><tspan font-family=\"Arial\">200</tspan></text>\n",
       "\t</g>\n",
       "</g>\n",
       "<g color=\"black\" fill=\"none\" stroke=\"currentColor\" stroke-linecap=\"butt\" stroke-linejoin=\"miter\" stroke-width=\"1.00\">\n",
       "\t<path d=\"M208.7,384.0 L208.7,371.5 M208.7,18.1 L208.7,30.6  \" stroke=\"rgb(  0,   0,   0)\"/>\t<g fill=\"rgb(38,38,38)\" font-family=\"Arial\" font-size=\"10.00\" stroke=\"none\" text-anchor=\"middle\" transform=\"translate(208.7,405.3)\">\n",
       "\t\t<text><tspan font-family=\"Arial\">400</tspan></text>\n",
       "\t</g>\n",
       "</g>\n",
       "<g color=\"black\" fill=\"none\" stroke=\"currentColor\" stroke-linecap=\"butt\" stroke-linejoin=\"miter\" stroke-width=\"1.00\">\n",
       "\t<path d=\"M290.3,384.0 L290.3,371.5 M290.3,18.1 L290.3,30.6  \" stroke=\"rgb(  0,   0,   0)\"/>\t<g fill=\"rgb(38,38,38)\" font-family=\"Arial\" font-size=\"10.00\" stroke=\"none\" text-anchor=\"middle\" transform=\"translate(290.3,405.3)\">\n",
       "\t\t<text><tspan font-family=\"Arial\">600</tspan></text>\n",
       "\t</g>\n",
       "</g>\n",
       "<g color=\"black\" fill=\"none\" stroke=\"currentColor\" stroke-linecap=\"butt\" stroke-linejoin=\"miter\" stroke-width=\"1.00\">\n",
       "\t<path d=\"M371.9,384.0 L371.9,371.5 M371.9,18.1 L371.9,30.6  \" stroke=\"rgb(  0,   0,   0)\"/>\t<g fill=\"rgb(38,38,38)\" font-family=\"Arial\" font-size=\"10.00\" stroke=\"none\" text-anchor=\"middle\" transform=\"translate(371.9,405.3)\">\n",
       "\t\t<text><tspan font-family=\"Arial\">800</tspan></text>\n",
       "\t</g>\n",
       "</g>\n",
       "<g color=\"black\" fill=\"none\" stroke=\"currentColor\" stroke-linecap=\"butt\" stroke-linejoin=\"miter\" stroke-width=\"1.00\">\n",
       "\t<path d=\"M453.4,384.0 L453.4,371.5 M453.4,18.1 L453.4,30.6  \" stroke=\"rgb(  0,   0,   0)\"/>\t<g fill=\"rgb(38,38,38)\" font-family=\"Arial\" font-size=\"10.00\" stroke=\"none\" text-anchor=\"middle\" transform=\"translate(453.4,405.3)\">\n",
       "\t\t<text><tspan font-family=\"Arial\">1000</tspan></text>\n",
       "\t</g>\n",
       "</g>\n",
       "<g color=\"black\" fill=\"none\" stroke=\"currentColor\" stroke-linecap=\"butt\" stroke-linejoin=\"miter\" stroke-width=\"1.00\">\n",
       "\t<path d=\"M535.0,384.0 L535.0,371.5 M535.0,18.1 L535.0,30.6  \" stroke=\"rgb(  0,   0,   0)\"/>\t<g fill=\"rgb(38,38,38)\" font-family=\"Arial\" font-size=\"10.00\" stroke=\"none\" text-anchor=\"middle\" transform=\"translate(535.0,405.3)\">\n",
       "\t\t<text><tspan font-family=\"Arial\">1200</tspan></text>\n",
       "\t</g>\n",
       "</g>\n",
       "<g color=\"black\" fill=\"none\" stroke=\"currentColor\" stroke-linecap=\"butt\" stroke-linejoin=\"miter\" stroke-width=\"1.00\">\n",
       "</g>\n",
       "<g color=\"black\" fill=\"none\" stroke=\"currentColor\" stroke-linecap=\"butt\" stroke-linejoin=\"miter\" stroke-width=\"1.00\">\n",
       "</g>\n",
       "\t<g id=\"gnuplot_plot_1a\"><title>gnuplot_plot_1a</title>\n",
       "<g color=\"white\" fill=\"none\" stroke=\"rgb(  0,   0,   0)\" stroke-linecap=\"butt\" stroke-linejoin=\"miter\" stroke-width=\"0.50\">\n",
       "</g>\n",
       "<g color=\"black\" fill=\"none\" stroke=\"currentColor\" stroke-linecap=\"butt\" stroke-linejoin=\"miter\" stroke-width=\"0.50\">\n",
       "\t<path d=\"M46.0,384.0 L46.4,384.0 L46.8,384.0 L47.2,384.0 L47.6,383.9 L48.0,383.9 L48.5,383.9 L48.9,383.8   L49.3,383.8 L49.7,383.7 L50.1,383.7 L50.5,383.6 L50.9,383.5 L51.3,383.4 L51.7,383.3 L52.1,383.2   L52.5,383.1 L52.9,383.0 L53.3,382.9 L53.8,382.8 L54.2,382.6 L54.6,382.5 L55.0,382.3 L55.4,382.2   L55.8,382.0 L56.2,381.9 L56.6,381.7 L57.0,381.5 L57.4,381.3 L57.8,381.1 L58.2,380.9 L58.7,380.7   L59.1,380.5 L59.5,380.3 L59.9,380.0 L60.3,379.8 L60.7,379.6 L61.1,379.3 L61.5,379.0 L61.9,378.8   L62.3,378.5 L62.7,378.2 L63.1,378.0 L63.5,377.7 L64.0,377.4 L64.4,377.1 L64.8,376.8 L65.2,376.4   L65.6,376.1 L66.0,375.8 L66.4,375.5 L66.8,375.1 L67.2,374.8 L67.6,374.4 L68.0,374.0 L68.4,373.7   L68.8,373.3 L69.3,372.9 L69.7,372.5 L70.1,372.1 L70.5,371.7 L70.9,371.3 L71.3,370.9 L71.7,370.5   L72.1,370.1 L72.5,369.6 L72.9,369.2 L73.3,368.8 L73.7,368.3 L74.1,367.8 L74.6,367.4 L75.0,366.9   L75.4,366.4 L75.8,366.0 L76.2,365.5 L76.6,365.0 L77.0,364.5 L77.4,364.0 L77.8,363.4 L78.2,362.9   L78.6,362.4 L79.0,361.9 L79.5,361.3 L79.9,360.8 L80.3,360.2 L80.7,359.7 L81.1,359.1 L81.5,358.5   L81.9,358.0 L82.3,357.4 L82.7,356.8 L83.1,356.2 L83.5,355.6 L83.9,355.0 L84.3,354.4 L84.8,353.8   L85.2,353.2 L85.6,352.5 L86.0,351.9 L86.4,351.3 L86.8,350.6 L87.2,350.0 L87.6,349.3 L88.0,348.7   L88.4,348.0 L88.8,347.3 L89.2,346.6 L89.6,346.0 L90.1,345.3 L90.5,344.6 L90.9,343.9 L91.3,343.2   L91.7,342.5 L92.1,341.8 L92.5,341.0 L92.9,340.3 L93.3,339.6 L93.7,338.8 L94.1,338.1 L94.5,337.4   L94.9,336.6 L95.4,335.9 L95.8,335.1 L96.2,334.3 L96.6,333.6 L97.0,332.8 L97.4,332.0 L97.8,331.2   L98.2,330.4 L98.6,329.6 L99.0,328.8 L99.4,328.0 L99.8,327.2 L100.2,326.4 L100.7,325.6 L101.1,324.7   L101.5,323.9 L101.9,323.1 L102.3,322.2 L102.7,321.4 L103.1,320.5 L103.5,319.7 L103.9,318.8 L104.3,318.0   L104.7,317.1 L105.1,316.2 L105.6,315.4 L106.0,314.5 L106.4,313.6 L106.8,312.7 L107.2,311.8 L107.6,310.9   L108.0,310.0 L108.4,309.1 L108.8,308.2 L109.2,307.3 L109.6,306.4 L110.0,305.5 L110.4,304.6 L110.9,303.6   L111.3,302.7 L111.7,301.8 L112.1,300.8 L112.5,299.9 L112.9,298.9 L113.3,298.0 L113.7,297.0 L114.1,296.1   L114.5,295.1 L114.9,294.1 L115.3,293.2 L115.7,292.2 L116.2,291.2 L116.6,290.2 L117.0,289.3 L117.4,288.3   L117.8,287.3 L118.2,286.3 L118.6,285.3 L119.0,284.3 L119.4,283.3 L119.8,282.3 L120.2,281.3 L120.6,280.3   L121.0,279.3 L121.5,278.3 L121.9,277.2 L122.3,276.2 L122.7,275.2 L123.1,274.2 L123.5,273.1 L123.9,272.1   L124.3,271.1 L124.7,270.0 L125.1,269.0 L125.5,267.9 L125.9,266.9 L126.4,265.8 L126.8,264.8 L127.2,263.7   L127.6,262.7 L128.0,261.6 L128.4,260.6 L128.8,259.5 L129.2,258.4 L129.6,257.4 L130.0,256.3 L130.4,255.2   L130.8,254.2 L131.2,253.1 L131.7,252.0 L132.1,250.9 L132.5,249.8 L132.9,248.8 L133.3,247.7 L133.7,246.6   L134.1,245.5 L134.5,244.4 L134.9,243.3 L135.3,242.2 L135.7,241.1 L136.1,240.0 L136.5,238.9 L137.0,237.8   L137.4,236.7 L137.8,235.6 L138.2,234.5 L138.6,233.4 L139.0,232.3 L139.4,231.2 L139.8,230.1 L140.2,229.0   L140.6,227.9 L141.0,226.8 L141.4,225.7 L141.8,224.6 L142.3,223.4 L142.7,222.3 L143.1,221.2 L143.5,220.1   L143.9,219.0 L144.3,217.9 L144.7,216.7 L145.1,215.6 L145.5,214.5 L145.9,213.4 L146.3,212.3 L146.7,211.1   L147.2,210.0 L147.6,208.9 L148.0,207.8 L148.4,206.7 L148.8,205.5 L149.2,204.4 L149.6,203.3 L150.0,202.2   L150.4,201.0 L150.8,199.9 L151.2,198.8 L151.6,197.7 L152.0,196.6 L152.5,195.4 L152.9,194.3 L153.3,193.2   L153.7,192.1 L154.1,191.0 L154.5,189.8 L154.9,188.7 L155.3,187.6 L155.7,186.5 L156.1,185.4 L156.5,184.2   L156.9,183.1 L157.3,182.0 L157.8,180.9 L158.2,179.8 L158.6,178.7 L159.0,177.5 L159.4,176.4 L159.8,175.3   L160.2,174.2 L160.6,173.1 L161.0,172.0 L161.4,170.9 L161.8,169.8 L162.2,168.7 L162.6,167.6 L163.1,166.5   L163.5,165.4 L163.9,164.3 L164.3,163.2 L164.7,162.1 L165.1,161.0 L165.5,159.9 L165.9,158.8 L166.3,157.7   L166.7,156.6 L167.1,155.5 L167.5,154.4 L168.0,153.3 L168.4,152.3 L168.8,151.2 L169.2,150.1 L169.6,149.0   L170.0,147.9 L170.4,146.9 L170.8,145.8 L171.2,144.7 L171.6,143.7 L172.0,142.6 L172.4,141.5 L172.8,140.5   L173.3,139.4 L173.7,138.4 L174.1,137.3 L174.5,136.3 L174.9,135.2 L175.3,134.2 L175.7,133.1 L176.1,132.1   L176.5,131.0 L176.9,130.0 L177.3,129.0 L177.7,127.9 L178.1,126.9 L178.6,125.9 L179.0,124.9 L179.4,123.8   L179.8,122.8 L180.2,121.8 L180.6,120.8 L181.0,119.8 L181.4,118.8 L181.8,117.8 L182.2,116.8 L182.6,115.8   L183.0,114.8 L183.4,113.8 L183.9,112.8 L184.3,111.9 L184.7,110.9 L185.1,109.9 L185.5,108.9 L185.9,108.0   L186.3,107.0 L186.7,106.0 L187.1,105.1 L187.5,104.1 L187.9,103.2 L188.3,102.2 L188.7,101.3 L189.2,100.3   L189.6,99.4 L190.0,98.5 L190.4,97.5 L190.8,96.6 L191.2,95.7 L191.6,94.8 L192.0,93.9 L192.4,93.0   L192.8,92.1 L193.2,91.2 L193.6,90.3 L194.1,89.4 L194.5,88.5 L194.9,87.6 L195.3,86.7 L195.7,85.9   L196.1,85.0 L196.5,84.1 L196.9,83.3 L197.3,82.4 L197.7,81.6 L198.1,80.7 L198.5,79.9 L198.9,79.0   L199.4,78.2 L199.8,77.4 L200.2,76.5 L200.6,75.7 L201.0,74.9 L201.4,74.1 L201.8,73.3 L202.2,72.5   L202.6,71.7 L203.0,70.9 L203.4,70.1 L203.8,69.3 L204.2,68.5 L204.7,67.8 L205.1,67.0 L205.5,66.2   L205.9,65.5 L206.3,64.7 L206.7,64.0 L207.1,63.3 L207.5,62.5 L207.9,61.8 L208.3,61.1 L208.7,60.3   L209.1,59.6 L209.5,58.9 L210.0,58.2 L210.4,57.5 L210.8,56.8 L211.2,56.1 L211.6,55.5 L212.0,54.8   L212.4,54.1 L212.8,53.4 L213.2,52.8 L213.6,52.1 L214.0,51.5 L214.4,50.8 L214.9,50.2 L215.3,49.6   L215.7,48.9 L216.1,48.3 L216.5,47.7 L216.9,47.1 L217.3,46.5 L217.7,45.9 L218.1,45.3 L218.5,44.7   L218.9,44.1 L219.3,43.6 L219.7,43.0 L220.2,42.4 L220.6,41.9 L221.0,41.3 L221.4,40.8 L221.8,40.2   L222.2,39.7 L222.6,39.2 L223.0,38.7 L223.4,38.1 L223.8,37.6 L224.2,37.1 L224.6,36.6 L225.0,36.1   L225.5,35.7 L225.9,35.2 L226.3,34.7 L226.7,34.3 L227.1,33.8 L227.5,33.3 L227.9,32.9 L228.3,32.5   L228.7,32.0 L229.1,31.6 L229.5,31.2 L229.9,30.8 L230.3,30.4 L230.8,30.0 L231.2,29.6 L231.6,29.2   L232.0,28.8 L232.4,28.4 L232.8,28.1 L233.2,27.7 L233.6,27.3 L234.0,27.0 L234.4,26.6 L234.8,26.3   L235.2,26.0 L235.7,25.7 L236.1,25.3 L236.5,25.0 L236.9,24.7 L237.3,24.4 L237.7,24.1 L238.1,23.9   L238.5,23.6 L238.9,23.3 L239.3,23.1 L239.7,22.8 L240.1,22.5 L240.5,22.3 L241.0,22.1 L241.4,21.8   L241.8,21.6 L242.2,21.4 L242.6,21.2 L243.0,21.0 L243.4,20.8 L243.8,20.6 L244.2,20.4 L244.6,20.2   L245.0,20.1 L245.4,19.9 L245.8,19.8 L246.3,19.6 L246.7,19.5 L247.1,19.3 L247.5,19.2 L247.9,19.1   L248.3,19.0 L248.7,18.9 L249.1,18.8 L249.5,18.7 L249.9,18.6 L250.3,18.5 L250.7,18.4 L251.1,18.4   L251.6,18.3 L252.0,18.3 L252.4,18.2 L252.8,18.2 L253.2,18.2 L253.6,18.1 L254.0,18.1 L254.4,18.1   L254.8,18.1 L255.2,18.1 L255.6,18.1 L256.0,18.1 L256.4,18.2 L256.9,18.2 L257.3,18.2 L257.7,18.3   L258.1,18.3 L258.5,18.4 L258.9,18.4 L259.3,18.5 L259.7,18.6 L260.1,18.7 L260.5,18.8 L260.9,18.9   L261.3,19.0 L261.8,19.1 L262.2,19.2 L262.6,19.3 L263.0,19.5 L263.4,19.6 L263.8,19.8 L264.2,19.9   L264.6,20.1 L265.0,20.2 L265.4,20.4 L265.8,20.6 L266.2,20.8 L266.6,21.0 L267.1,21.2 L267.5,21.4   L267.9,21.6 L268.3,21.8 L268.7,22.1 L269.1,22.3 L269.5,22.5 L269.9,22.8 L270.3,23.1 L270.7,23.3   L271.1,23.6 L271.5,23.9 L271.9,24.1 L272.4,24.4 L272.8,24.7 L273.2,25.0 L273.6,25.3 L274.0,25.7   L274.4,26.0 L274.8,26.3 L275.2,26.6 L275.6,27.0 L276.0,27.3 L276.4,27.7 L276.8,28.1 L277.2,28.4   L277.7,28.8 L278.1,29.2 L278.5,29.6 L278.9,30.0 L279.3,30.4 L279.7,30.8 L280.1,31.2 L280.5,31.6   L280.9,32.0 L281.3,32.5 L281.7,32.9 L282.1,33.3 L282.6,33.8 L283.0,34.3 L283.4,34.7 L283.8,35.2   L284.2,35.7 L284.6,36.1 L285.0,36.6 L285.4,37.1 L285.8,37.6 L286.2,38.1 L286.6,38.7 L287.0,39.2   L287.4,39.7 L287.9,40.2 L288.3,40.8 L288.7,41.3 L289.1,41.9 L289.5,42.4 L289.9,43.0 L290.3,43.6   L290.7,44.1 L291.1,44.7 L291.5,45.3 L291.9,45.9 L292.3,46.5 L292.7,47.1 L293.2,47.7 L293.6,48.3   L294.0,48.9 L294.4,49.6 L294.8,50.2 L295.2,50.8 L295.6,51.5 L296.0,52.1 L296.4,52.8 L296.8,53.4   L297.2,54.1 L297.6,54.8 L298.0,55.5 L298.5,56.1 L298.9,56.8 L299.3,57.5 L299.7,58.2 L300.1,58.9   L300.5,59.6 L300.9,60.3 L301.3,61.1 L301.7,61.8 L302.1,62.5 L302.5,63.3 L302.9,64.0 L303.4,64.7   L303.8,65.5 L304.2,66.2 L304.6,67.0 L305.0,67.8 L305.4,68.5 L305.8,69.3 L306.2,70.1 L306.6,70.9   L307.0,71.7 L307.4,72.5 L307.8,73.3 L308.2,74.1 L308.7,74.9 L309.1,75.7 L309.5,76.5 L309.9,77.4   L310.3,78.2 L310.7,79.0 L311.1,79.9 L311.5,80.7 L311.9,81.6 L312.3,82.4 L312.7,83.3 L313.1,84.1   L313.5,85.0 L314.0,85.9 L314.4,86.7 L314.8,87.6 L315.2,88.5 L315.6,89.4 L316.0,90.3 L316.4,91.2   L316.8,92.1 L317.2,93.0 L317.6,93.9 L318.0,94.8 L318.4,95.7 L318.8,96.6 L319.3,97.5 L319.7,98.5   L320.1,99.4 L320.5,100.3 L320.9,101.3 L321.3,102.2 L321.7,103.2 L322.1,104.1 L322.5,105.1 L322.9,106.0   L323.3,107.0 L323.7,108.0 L324.2,108.9 L324.6,109.9 L325.0,110.9 L325.4,111.9 L325.8,112.8 L326.2,113.8   L326.6,114.8 L327.0,115.8 L327.4,116.8 L327.8,117.8 L328.2,118.8 L328.6,119.8 L329.0,120.8 L329.5,121.8   L329.9,122.8 L330.3,123.8 L330.7,124.9 L331.1,125.9 L331.5,126.9 L331.9,127.9 L332.3,129.0 L332.7,130.0   L333.1,131.0 L333.5,132.1 L333.9,133.1 L334.3,134.2 L334.8,135.2 L335.2,136.3 L335.6,137.3 L336.0,138.4   L336.4,139.4 L336.8,140.5 L337.2,141.5 L337.6,142.6 L338.0,143.7 L338.4,144.7 L338.8,145.8 L339.2,146.9   L339.6,147.9 L340.1,149.0 L340.5,150.1 L340.9,151.2 L341.3,152.3 L341.7,153.3 L342.1,154.4 L342.5,155.5   L342.9,156.6 L343.3,157.7 L343.7,158.8 L344.1,159.9 L344.5,161.0 L344.9,162.1 L345.4,163.2 L345.8,164.3   L346.2,165.4 L346.6,166.5 L347.0,167.6 L347.4,168.7 L347.8,169.8 L348.2,170.9 L348.6,172.0 L349.0,173.1   L349.4,174.2 L349.8,175.3 L350.3,176.4 L350.7,177.5 L351.1,178.7 L351.5,179.8 L351.9,180.9 L352.3,182.0   L352.7,183.1 L353.1,184.2 L353.5,185.4 L353.9,186.5 L354.3,187.6 L354.7,188.7 L355.1,189.8 L355.6,191.0   L356.0,192.1 L356.4,193.2 L356.8,194.3 L357.2,195.4 L357.6,196.6 L358.0,197.7 L358.4,198.8 L358.8,199.9   L359.2,201.0 L359.6,202.2 L360.0,203.3 L360.4,204.4 L360.9,205.5 L361.3,206.7 L361.7,207.8 L362.1,208.9   L362.5,210.0 L362.9,211.1 L363.3,212.3 L363.7,213.4 L364.1,214.5 L364.5,215.6 L364.9,216.7 L365.3,217.9   L365.7,219.0 L366.2,220.1 L366.6,221.2 L367.0,222.3 L367.4,223.4 L367.8,224.6 L368.2,225.7 L368.6,226.8   L369.0,227.9 L369.4,229.0 L369.8,230.1 L370.2,231.2 L370.6,232.3 L371.1,233.4 L371.5,234.5 L371.9,235.6   L372.3,236.7 L372.7,237.8 L373.1,238.9 L373.5,240.0 L373.9,241.1 L374.3,242.2 L374.7,243.3 L375.1,244.4   L375.5,245.5 L375.9,246.6 L376.4,247.7 L376.8,248.8 L377.2,249.8 L377.6,250.9 L378.0,252.0 L378.4,253.1   L378.8,254.2 L379.2,255.2 L379.6,256.3 L380.0,257.4 L380.4,258.4 L380.8,259.5 L381.2,260.6 L381.7,261.6   L382.1,262.7 L382.5,263.7 L382.9,264.8 L383.3,265.8 L383.7,266.9 L384.1,267.9 L384.5,269.0 L384.9,270.0   L385.3,271.1 L385.7,272.1 L386.1,273.1 L386.5,274.2 L387.0,275.2 L387.4,276.2 L387.8,277.2 L388.2,278.3   L388.6,279.3 L389.0,280.3 L389.4,281.3 L389.8,282.3 L390.2,283.3 L390.6,284.3 L391.0,285.3 L391.4,286.3   L391.9,287.3 L392.3,288.3 L392.7,289.3 L393.1,290.2 L393.5,291.2 L393.9,292.2 L394.3,293.2 L394.7,294.1   L395.1,295.1 L395.5,296.1 L395.9,297.0 L396.3,298.0 L396.7,298.9 L397.2,299.9 L397.6,300.8 L398.0,301.8   L398.4,302.7 L398.8,303.6 L399.2,304.6 L399.6,305.5 L400.0,306.4 L400.4,307.3 L400.8,308.2 L401.2,309.1   L401.6,310.0 L402.0,310.9 L402.5,311.8 L402.9,312.7 L403.3,313.6 L403.7,314.5 L404.1,315.4 L404.5,316.2   L404.9,317.1 L405.3,318.0 L405.7,318.8 L406.1,319.7 L406.5,320.5 L406.9,321.4 L407.3,322.2 L407.8,323.1   L408.2,323.9 L408.6,324.7 L409.0,325.6 L409.4,326.4 L409.8,327.2 L410.2,328.0 L410.6,328.8 L411.0,329.6   L411.4,330.4 L411.8,331.2 L412.2,332.0 L412.7,332.8 L413.1,333.6 L413.5,334.3 L413.9,335.1 L414.3,335.9   L414.7,336.6 L415.1,337.4 L415.5,338.1 L415.9,338.8 L416.3,339.6 L416.7,340.3 L417.1,341.0 L417.5,341.8   L418.0,342.5 L418.4,343.2 L418.8,343.9 L419.2,344.6 L419.6,345.3 L420.0,346.0 L420.4,346.6 L420.8,347.3   L421.2,348.0 L421.6,348.7 L422.0,349.3 L422.4,350.0 L422.8,350.6 L423.3,351.3 L423.7,351.9 L424.1,352.5   L424.5,353.2 L424.9,353.8 L425.3,354.4 L425.7,355.0 L426.1,355.6 L426.5,356.2 L426.9,356.8 L427.3,357.4   L427.7,358.0 L428.1,358.5 L428.6,359.1 L429.0,359.7 L429.4,360.2 L429.8,360.8 L430.2,361.3 L430.6,361.9   L431.0,362.4 L431.4,362.9 L431.8,363.4 L432.2,364.0 L432.6,364.5 L433.0,365.0 L433.4,365.5 L433.9,366.0   L434.3,366.4 L434.7,366.9 L435.1,367.4 L435.5,367.8 L435.9,368.3 L436.3,368.8 L436.7,369.2 L437.1,369.6   L437.5,370.1 L437.9,370.5 L438.3,370.9 L438.8,371.3 L439.2,371.7 L439.6,372.1 L440.0,372.5 L440.4,372.9   L440.8,373.3 L441.2,373.7 L441.6,374.0 L442.0,374.4 L442.4,374.8 L442.8,375.1 L443.2,375.5 L443.6,375.8   L444.1,376.1 L444.5,376.4 L444.9,376.8 L445.3,377.1 L445.7,377.4 L446.1,377.7 L446.5,378.0 L446.9,378.2   L447.3,378.5 L447.7,378.8 L448.1,379.0 L448.5,379.3 L448.9,379.6 L449.4,379.8 L449.8,380.0 L450.2,380.3   L450.6,380.5 L451.0,380.7 L451.4,380.9 L451.8,381.1 L452.2,381.3 L452.6,381.5 L453.0,381.7 L453.4,381.9   L453.8,382.0 L454.2,382.2 L454.7,382.3 L455.1,382.5 L455.5,382.6 L455.9,382.8 L456.3,382.9 L456.7,383.0   L457.1,383.1 L457.5,383.2 L457.9,383.3 L458.3,383.4 L458.7,383.5 L459.1,383.6 L459.6,383.7 L460.0,383.7   L460.4,383.8 L460.8,383.8 L461.2,383.9 L461.6,383.9 L462.0,383.9 L462.4,384.0 L462.8,384.0 L463.2,384.0    \" stroke=\"rgb(  0, 114, 189)\"/></g>\n",
       "\t</g>\n",
       "<g color=\"white\" fill=\"none\" stroke=\"rgb(  0, 114, 189)\" stroke-linecap=\"butt\" stroke-linejoin=\"miter\" stroke-width=\"2.00\">\n",
       "</g>\n",
       "<g color=\"black\" fill=\"none\" stroke=\"currentColor\" stroke-linecap=\"butt\" stroke-linejoin=\"miter\" stroke-width=\"2.00\">\n",
       "</g>\n",
       "<g color=\"black\" fill=\"none\" stroke=\"black\" stroke-linecap=\"butt\" stroke-linejoin=\"miter\" stroke-width=\"0.50\">\n",
       "\t<path d=\"M45.6,384.0 L535.0,384.0 M45.6,18.1 L535.0,18.1 M45.6,384.0 L45.6,18.1 M535.0,384.0 L535.0,18.1    \" stroke=\"rgb( 38,  38,  38)\"/></g>\n",
       "<g color=\"black\" fill=\"none\" stroke=\"rgb( 38,  38,  38)\" stroke-linecap=\"butt\" stroke-linejoin=\"miter\" stroke-width=\"1.00\">\n",
       "</g>\n",
       "<g color=\"black\" fill=\"none\" stroke=\"currentColor\" stroke-linecap=\"butt\" stroke-linejoin=\"miter\" stroke-width=\"1.00\">\n",
       "</g>\n",
       "</g>\n",
       "</svg>"
      ],
      "text/plain": [
       "<IPython.core.display.SVG object>"
      ]
     },
     "metadata": {},
     "output_type": "display_data"
    }
   ],
   "source": [
    "plot(RaisedCosineCv)"
   ]
  },
  {
   "cell_type": "code",
   "execution_count": 5,
   "metadata": {},
   "outputs": [
    {
     "name": "stdout",
     "output_type": "stream",
     "text": [
      "ans =    9.4124e-06\n"
     ]
    }
   ],
   "source": [
    "RaisedCosineCv(end)"
   ]
  },
  {
   "cell_type": "code",
   "execution_count": 6,
   "metadata": {},
   "outputs": [
    {
     "name": "stdout",
     "output_type": "stream",
     "text": [
      "ans = 0\n"
     ]
    }
   ],
   "source": [
    "RaisedCosineCv(1)"
   ]
  },
  {
   "cell_type": "code",
   "execution_count": 7,
   "metadata": {},
   "outputs": [
    {
     "data": {
      "image/svg+xml": [
       "<svg height=\"420px\" viewBox=\"0 0 560 420\" width=\"560px\" xmlns=\"http://www.w3.org/2000/svg\" xmlns:xlink=\"http://www.w3.org/1999/xlink\">\n",
       "\n",
       "<title>Gnuplot</title>\n",
       "<desc>Produced by GNUPLOT 5.2 patchlevel 2 </desc>\n",
       "\n",
       "<g id=\"gnuplot_canvas\">\n",
       "\n",
       "<rect fill=\"none\" height=\"420\" width=\"560\" x=\"0\" y=\"0\"/>\n",
       "<defs>\n",
       "\n",
       "\t<circle id=\"gpDot\" r=\"0.5\" stroke-width=\"0.5\"/>\n",
       "\t<path d=\"M-1,0 h2 M0,-1 v2\" id=\"gpPt0\" stroke=\"currentColor\" stroke-width=\"0.222\"/>\n",
       "\t<path d=\"M-1,-1 L1,1 M1,-1 L-1,1\" id=\"gpPt1\" stroke=\"currentColor\" stroke-width=\"0.222\"/>\n",
       "\t<path d=\"M-1,0 L1,0 M0,-1 L0,1 M-1,-1 L1,1 M-1,1 L1,-1\" id=\"gpPt2\" stroke=\"currentColor\" stroke-width=\"0.222\"/>\n",
       "\t<rect height=\"2\" id=\"gpPt3\" stroke=\"currentColor\" stroke-width=\"0.222\" width=\"2\" x=\"-1\" y=\"-1\"/>\n",
       "\t<rect fill=\"currentColor\" height=\"2\" id=\"gpPt4\" stroke=\"currentColor\" stroke-width=\"0.222\" width=\"2\" x=\"-1\" y=\"-1\"/>\n",
       "\t<circle cx=\"0\" cy=\"0\" id=\"gpPt5\" r=\"1\" stroke=\"currentColor\" stroke-width=\"0.222\"/>\n",
       "\t<use fill=\"currentColor\" id=\"gpPt6\" stroke=\"none\" xlink:href=\"#gpPt5\"/>\n",
       "\t<path d=\"M0,-1.33 L-1.33,0.67 L1.33,0.67 z\" id=\"gpPt7\" stroke=\"currentColor\" stroke-width=\"0.222\"/>\n",
       "\t<use fill=\"currentColor\" id=\"gpPt8\" stroke=\"none\" xlink:href=\"#gpPt7\"/>\n",
       "\t<use id=\"gpPt9\" stroke=\"currentColor\" transform=\"rotate(180)\" xlink:href=\"#gpPt7\"/>\n",
       "\t<use fill=\"currentColor\" id=\"gpPt10\" stroke=\"none\" xlink:href=\"#gpPt9\"/>\n",
       "\t<use id=\"gpPt11\" stroke=\"currentColor\" transform=\"rotate(45)\" xlink:href=\"#gpPt3\"/>\n",
       "\t<use fill=\"currentColor\" id=\"gpPt12\" stroke=\"none\" xlink:href=\"#gpPt11\"/>\n",
       "\t<path d=\"M0,1.330 L1.265,0.411 L0.782,-1.067 L-0.782,-1.076 L-1.265,0.411 z\" id=\"gpPt13\" stroke=\"currentColor\" stroke-width=\"0.222\"/>\n",
       "\t<use fill=\"currentColor\" id=\"gpPt14\" stroke=\"none\" xlink:href=\"#gpPt13\"/>\n",
       "\t<filter filterUnits=\"objectBoundingBox\" height=\"1\" id=\"textbox\" width=\"1\" x=\"0\" y=\"0\">\n",
       "\t  <feFlood flood-color=\"white\" flood-opacity=\"1\" result=\"bgnd\"/>\n",
       "\t  <feComposite in=\"SourceGraphic\" in2=\"bgnd\" operator=\"atop\"/>\n",
       "\t</filter>\n",
       "\t<filter filterUnits=\"objectBoundingBox\" height=\"1\" id=\"greybox\" width=\"1\" x=\"0\" y=\"0\">\n",
       "\t  <feFlood flood-color=\"lightgrey\" flood-opacity=\"1\" result=\"grey\"/>\n",
       "\t  <feComposite in=\"SourceGraphic\" in2=\"grey\" operator=\"atop\"/>\n",
       "\t</filter>\n",
       "</defs>\n",
       "<g color=\"white\" fill=\"none\" stroke=\"currentColor\" stroke-linecap=\"butt\" stroke-linejoin=\"miter\" stroke-width=\"1.00\">\n",
       "</g>\n",
       "<g color=\"black\" fill=\"none\" stroke=\"currentColor\" stroke-linecap=\"butt\" stroke-linejoin=\"miter\" stroke-width=\"1.00\">\n",
       "\t<g shape-rendering=\"crispEdges\" stroke=\"none\">\n",
       "\t\t<polygon fill=\"rgb(255, 255, 255)\" points=\"45.6,384.0 534.9,384.0 534.9,18.2 45.6,18.2 \"/>\n",
       "\t</g>\n",
       "</g>\n",
       "<g color=\"black\" fill=\"none\" stroke=\"currentColor\" stroke-linecap=\"butt\" stroke-linejoin=\"miter\" stroke-width=\"1.00\">\n",
       "\t<path d=\"M45.6,384.0 L58.1,384.0 M535.0,384.0 L522.5,384.0  \" stroke=\"rgb(  0,   0,   0)\"/>\t<g fill=\"rgb(38,38,38)\" font-family=\"Arial\" font-size=\"10.00\" stroke=\"none\" text-anchor=\"end\" transform=\"translate(37.3,387.3)\">\n",
       "\t\t<text><tspan font-family=\"Arial\">0</tspan></text>\n",
       "\t</g>\n",
       "</g>\n",
       "<g color=\"black\" fill=\"none\" stroke=\"currentColor\" stroke-linecap=\"butt\" stroke-linejoin=\"miter\" stroke-width=\"1.00\">\n",
       "\t<path d=\"M45.6,310.8 L58.1,310.8 M535.0,310.8 L522.5,310.8  \" stroke=\"rgb(  0,   0,   0)\"/>\t<g fill=\"rgb(38,38,38)\" font-family=\"Arial\" font-size=\"10.00\" stroke=\"none\" text-anchor=\"end\" transform=\"translate(37.3,314.1)\">\n",
       "\t\t<text><tspan font-family=\"Arial\">0.2</tspan></text>\n",
       "\t</g>\n",
       "</g>\n",
       "<g color=\"black\" fill=\"none\" stroke=\"currentColor\" stroke-linecap=\"butt\" stroke-linejoin=\"miter\" stroke-width=\"1.00\">\n",
       "\t<path d=\"M45.6,237.6 L58.1,237.6 M535.0,237.6 L522.5,237.6  \" stroke=\"rgb(  0,   0,   0)\"/>\t<g fill=\"rgb(38,38,38)\" font-family=\"Arial\" font-size=\"10.00\" stroke=\"none\" text-anchor=\"end\" transform=\"translate(37.3,240.9)\">\n",
       "\t\t<text><tspan font-family=\"Arial\">0.4</tspan></text>\n",
       "\t</g>\n",
       "</g>\n",
       "<g color=\"black\" fill=\"none\" stroke=\"currentColor\" stroke-linecap=\"butt\" stroke-linejoin=\"miter\" stroke-width=\"1.00\">\n",
       "\t<path d=\"M45.6,164.5 L58.1,164.5 M535.0,164.5 L522.5,164.5  \" stroke=\"rgb(  0,   0,   0)\"/>\t<g fill=\"rgb(38,38,38)\" font-family=\"Arial\" font-size=\"10.00\" stroke=\"none\" text-anchor=\"end\" transform=\"translate(37.3,167.8)\">\n",
       "\t\t<text><tspan font-family=\"Arial\">0.6</tspan></text>\n",
       "\t</g>\n",
       "</g>\n",
       "<g color=\"black\" fill=\"none\" stroke=\"currentColor\" stroke-linecap=\"butt\" stroke-linejoin=\"miter\" stroke-width=\"1.00\">\n",
       "\t<path d=\"M45.6,91.3 L58.1,91.3 M535.0,91.3 L522.5,91.3  \" stroke=\"rgb(  0,   0,   0)\"/>\t<g fill=\"rgb(38,38,38)\" font-family=\"Arial\" font-size=\"10.00\" stroke=\"none\" text-anchor=\"end\" transform=\"translate(37.3,94.6)\">\n",
       "\t\t<text><tspan font-family=\"Arial\">0.8</tspan></text>\n",
       "\t</g>\n",
       "</g>\n",
       "<g color=\"black\" fill=\"none\" stroke=\"currentColor\" stroke-linecap=\"butt\" stroke-linejoin=\"miter\" stroke-width=\"1.00\">\n",
       "\t<path d=\"M45.6,18.1 L58.1,18.1 M535.0,18.1 L522.5,18.1  \" stroke=\"rgb(  0,   0,   0)\"/>\t<g fill=\"rgb(38,38,38)\" font-family=\"Arial\" font-size=\"10.00\" stroke=\"none\" text-anchor=\"end\" transform=\"translate(37.3,21.4)\">\n",
       "\t\t<text><tspan font-family=\"Arial\">1</tspan></text>\n",
       "\t</g>\n",
       "</g>\n",
       "<g color=\"black\" fill=\"none\" stroke=\"currentColor\" stroke-linecap=\"butt\" stroke-linejoin=\"miter\" stroke-width=\"1.00\">\n",
       "\t<path d=\"M45.6,384.0 L45.6,371.5 M45.6,18.1 L45.6,30.6  \" stroke=\"rgb(  0,   0,   0)\"/>\t<g fill=\"rgb(38,38,38)\" font-family=\"Arial\" font-size=\"10.00\" stroke=\"none\" text-anchor=\"middle\" transform=\"translate(45.6,405.3)\">\n",
       "\t\t<text><tspan font-family=\"Arial\">0</tspan></text>\n",
       "\t</g>\n",
       "</g>\n",
       "<g color=\"black\" fill=\"none\" stroke=\"currentColor\" stroke-linecap=\"butt\" stroke-linejoin=\"miter\" stroke-width=\"1.00\">\n",
       "\t<path d=\"M127.2,384.0 L127.2,371.5 M127.2,18.1 L127.2,30.6  \" stroke=\"rgb(  0,   0,   0)\"/>\t<g fill=\"rgb(38,38,38)\" font-family=\"Arial\" font-size=\"10.00\" stroke=\"none\" text-anchor=\"middle\" transform=\"translate(127.2,405.3)\">\n",
       "\t\t<text><tspan font-family=\"Arial\">200</tspan></text>\n",
       "\t</g>\n",
       "</g>\n",
       "<g color=\"black\" fill=\"none\" stroke=\"currentColor\" stroke-linecap=\"butt\" stroke-linejoin=\"miter\" stroke-width=\"1.00\">\n",
       "\t<path d=\"M208.7,384.0 L208.7,371.5 M208.7,18.1 L208.7,30.6  \" stroke=\"rgb(  0,   0,   0)\"/>\t<g fill=\"rgb(38,38,38)\" font-family=\"Arial\" font-size=\"10.00\" stroke=\"none\" text-anchor=\"middle\" transform=\"translate(208.7,405.3)\">\n",
       "\t\t<text><tspan font-family=\"Arial\">400</tspan></text>\n",
       "\t</g>\n",
       "</g>\n",
       "<g color=\"black\" fill=\"none\" stroke=\"currentColor\" stroke-linecap=\"butt\" stroke-linejoin=\"miter\" stroke-width=\"1.00\">\n",
       "\t<path d=\"M290.3,384.0 L290.3,371.5 M290.3,18.1 L290.3,30.6  \" stroke=\"rgb(  0,   0,   0)\"/>\t<g fill=\"rgb(38,38,38)\" font-family=\"Arial\" font-size=\"10.00\" stroke=\"none\" text-anchor=\"middle\" transform=\"translate(290.3,405.3)\">\n",
       "\t\t<text><tspan font-family=\"Arial\">600</tspan></text>\n",
       "\t</g>\n",
       "</g>\n",
       "<g color=\"black\" fill=\"none\" stroke=\"currentColor\" stroke-linecap=\"butt\" stroke-linejoin=\"miter\" stroke-width=\"1.00\">\n",
       "\t<path d=\"M371.9,384.0 L371.9,371.5 M371.9,18.1 L371.9,30.6  \" stroke=\"rgb(  0,   0,   0)\"/>\t<g fill=\"rgb(38,38,38)\" font-family=\"Arial\" font-size=\"10.00\" stroke=\"none\" text-anchor=\"middle\" transform=\"translate(371.9,405.3)\">\n",
       "\t\t<text><tspan font-family=\"Arial\">800</tspan></text>\n",
       "\t</g>\n",
       "</g>\n",
       "<g color=\"black\" fill=\"none\" stroke=\"currentColor\" stroke-linecap=\"butt\" stroke-linejoin=\"miter\" stroke-width=\"1.00\">\n",
       "\t<path d=\"M453.4,384.0 L453.4,371.5 M453.4,18.1 L453.4,30.6  \" stroke=\"rgb(  0,   0,   0)\"/>\t<g fill=\"rgb(38,38,38)\" font-family=\"Arial\" font-size=\"10.00\" stroke=\"none\" text-anchor=\"middle\" transform=\"translate(453.4,405.3)\">\n",
       "\t\t<text><tspan font-family=\"Arial\">1000</tspan></text>\n",
       "\t</g>\n",
       "</g>\n",
       "<g color=\"black\" fill=\"none\" stroke=\"currentColor\" stroke-linecap=\"butt\" stroke-linejoin=\"miter\" stroke-width=\"1.00\">\n",
       "\t<path d=\"M535.0,384.0 L535.0,371.5 M535.0,18.1 L535.0,30.6  \" stroke=\"rgb(  0,   0,   0)\"/>\t<g fill=\"rgb(38,38,38)\" font-family=\"Arial\" font-size=\"10.00\" stroke=\"none\" text-anchor=\"middle\" transform=\"translate(535.0,405.3)\">\n",
       "\t\t<text><tspan font-family=\"Arial\">1200</tspan></text>\n",
       "\t</g>\n",
       "</g>\n",
       "<g color=\"black\" fill=\"none\" stroke=\"currentColor\" stroke-linecap=\"butt\" stroke-linejoin=\"miter\" stroke-width=\"1.00\">\n",
       "</g>\n",
       "<g color=\"black\" fill=\"none\" stroke=\"currentColor\" stroke-linecap=\"butt\" stroke-linejoin=\"miter\" stroke-width=\"1.00\">\n",
       "</g>\n",
       "\t<g id=\"gnuplot_plot_1a\"><title>gnuplot_plot_1a</title>\n",
       "<g color=\"white\" fill=\"none\" stroke=\"rgb(  0,   0,   0)\" stroke-linecap=\"butt\" stroke-linejoin=\"miter\" stroke-width=\"0.50\">\n",
       "</g>\n",
       "<g color=\"black\" fill=\"none\" stroke=\"currentColor\" stroke-linecap=\"butt\" stroke-linejoin=\"miter\" stroke-width=\"0.50\">\n",
       "\t<path d=\"M46.0,384.0 L46.4,384.0 L46.8,384.0 L47.2,384.0 L47.6,383.9 L48.0,383.9 L48.5,383.9 L48.9,383.8   L49.3,383.8 L49.7,383.7 L50.1,383.7 L50.5,383.6 L50.9,383.5 L51.3,383.4 L51.7,383.3 L52.1,383.2   L52.5,383.1 L52.9,383.0 L53.3,382.9 L53.8,382.8 L54.2,382.6 L54.6,382.5 L55.0,382.3 L55.4,382.2   L55.8,382.0 L56.2,381.9 L56.6,381.7 L57.0,381.5 L57.4,381.3 L57.8,381.1 L58.2,380.9 L58.7,380.7   L59.1,380.5 L59.5,380.3 L59.9,380.0 L60.3,379.8 L60.7,379.6 L61.1,379.3 L61.5,379.0 L61.9,378.8   L62.3,378.5 L62.7,378.2 L63.1,378.0 L63.5,377.7 L64.0,377.4 L64.4,377.1 L64.8,376.8 L65.2,376.4   L65.6,376.1 L66.0,375.8 L66.4,375.5 L66.8,375.1 L67.2,374.8 L67.6,374.4 L68.0,374.0 L68.4,373.7   L68.8,373.3 L69.3,372.9 L69.7,372.5 L70.1,372.1 L70.5,371.7 L70.9,371.3 L71.3,370.9 L71.7,370.5   L72.1,370.1 L72.5,369.6 L72.9,369.2 L73.3,368.8 L73.7,368.3 L74.1,367.8 L74.6,367.4 L75.0,366.9   L75.4,366.4 L75.8,366.0 L76.2,365.5 L76.6,365.0 L77.0,364.5 L77.4,364.0 L77.8,363.4 L78.2,362.9   L78.6,362.4 L79.0,361.9 L79.5,361.3 L79.9,360.8 L80.3,360.2 L80.7,359.7 L81.1,359.1 L81.5,358.5   L81.9,358.0 L82.3,357.4 L82.7,356.8 L83.1,356.2 L83.5,355.6 L83.9,355.0 L84.3,354.4 L84.8,353.8   L85.2,353.2 L85.6,352.5 L86.0,351.9 L86.4,351.3 L86.8,350.6 L87.2,350.0 L87.6,349.3 L88.0,348.7   L88.4,348.0 L88.8,347.3 L89.2,346.6 L89.6,346.0 L90.1,345.3 L90.5,344.6 L90.9,343.9 L91.3,343.2   L91.7,342.5 L92.1,341.8 L92.5,341.0 L92.9,340.3 L93.3,339.6 L93.7,338.8 L94.1,338.1 L94.5,337.4   L94.9,336.6 L95.4,335.9 L95.8,335.1 L96.2,334.3 L96.6,333.6 L97.0,332.8 L97.4,332.0 L97.8,331.2   L98.2,330.4 L98.6,329.6 L99.0,328.8 L99.4,328.0 L99.8,327.2 L100.2,326.4 L100.7,325.6 L101.1,324.7   L101.5,323.9 L101.9,323.1 L102.3,322.2 L102.7,321.4 L103.1,320.5 L103.5,319.7 L103.9,318.8 L104.3,318.0   L104.7,317.1 L105.1,316.2 L105.6,315.4 L106.0,314.5 L106.4,313.6 L106.8,312.7 L107.2,311.8 L107.6,310.9   L108.0,310.0 L108.4,309.1 L108.8,308.2 L109.2,307.3 L109.6,306.4 L110.0,305.5 L110.4,304.6 L110.9,303.6   L111.3,302.7 L111.7,301.8 L112.1,300.8 L112.5,299.9 L112.9,298.9 L113.3,298.0 L113.7,297.0 L114.1,296.1   L114.5,295.1 L114.9,294.1 L115.3,293.2 L115.7,292.2 L116.2,291.2 L116.6,290.2 L117.0,289.3 L117.4,288.3   L117.8,287.3 L118.2,286.3 L118.6,285.3 L119.0,284.3 L119.4,283.3 L119.8,282.3 L120.2,281.3 L120.6,280.3   L121.0,279.3 L121.5,278.3 L121.9,277.2 L122.3,276.2 L122.7,275.2 L123.1,274.2 L123.5,273.1 L123.9,272.1   L124.3,271.1 L124.7,270.0 L125.1,269.0 L125.5,267.9 L125.9,266.9 L126.4,265.8 L126.8,264.8 L127.2,263.7   L127.6,262.7 L128.0,261.6 L128.4,260.6 L128.8,259.5 L129.2,258.4 L129.6,257.4 L130.0,256.3 L130.4,255.2   L130.8,254.2 L131.2,253.1 L131.7,252.0 L132.1,250.9 L132.5,249.8 L132.9,248.8 L133.3,247.7 L133.7,246.6   L134.1,245.5 L134.5,244.4 L134.9,243.3 L135.3,242.2 L135.7,241.1 L136.1,240.0 L136.5,238.9 L137.0,237.8   L137.4,236.7 L137.8,235.6 L138.2,234.5 L138.6,233.4 L139.0,232.3 L139.4,231.2 L139.8,230.1 L140.2,229.0   L140.6,227.9 L141.0,226.8 L141.4,225.7 L141.8,224.6 L142.3,223.4 L142.7,222.3 L143.1,221.2 L143.5,220.1   L143.9,219.0 L144.3,217.9 L144.7,216.7 L145.1,215.6 L145.5,214.5 L145.9,213.4 L146.3,212.3 L146.7,211.1   L147.2,210.0 L147.6,208.9 L148.0,207.8 L148.4,206.7 L148.8,205.5 L149.2,204.4 L149.6,203.3 L150.0,202.2   L150.4,201.0 L150.8,199.9 L151.2,198.8 L151.6,197.7 L152.0,196.6 L152.5,195.4 L152.9,194.3 L153.3,193.2   L153.7,192.1 L154.1,191.0 L154.5,189.8 L154.9,188.7 L155.3,187.6 L155.7,186.5 L156.1,185.4 L156.5,184.2   L156.9,183.1 L157.3,182.0 L157.8,180.9 L158.2,179.8 L158.6,178.7 L159.0,177.5 L159.4,176.4 L159.8,175.3   L160.2,174.2 L160.6,173.1 L161.0,172.0 L161.4,170.9 L161.8,169.8 L162.2,168.7 L162.6,167.6 L163.1,166.5   L163.5,165.4 L163.9,164.3 L164.3,163.2 L164.7,162.1 L165.1,161.0 L165.5,159.9 L165.9,158.8 L166.3,157.7   L166.7,156.6 L167.1,155.5 L167.5,154.4 L168.0,153.3 L168.4,152.3 L168.8,151.2 L169.2,150.1 L169.6,149.0   L170.0,147.9 L170.4,146.9 L170.8,145.8 L171.2,144.7 L171.6,143.7 L172.0,142.6 L172.4,141.5 L172.8,140.5   L173.3,139.4 L173.7,138.4 L174.1,137.3 L174.5,136.3 L174.9,135.2 L175.3,134.2 L175.7,133.1 L176.1,132.1   L176.5,131.0 L176.9,130.0 L177.3,129.0 L177.7,127.9 L178.1,126.9 L178.6,125.9 L179.0,124.9 L179.4,123.8   L179.8,122.8 L180.2,121.8 L180.6,120.8 L181.0,119.8 L181.4,118.8 L181.8,117.8 L182.2,116.8 L182.6,115.8   L183.0,114.8 L183.4,113.8 L183.9,112.8 L184.3,111.9 L184.7,110.9 L185.1,109.9 L185.5,108.9 L185.9,108.0   L186.3,107.0 L186.7,106.0 L187.1,105.1 L187.5,104.1 L187.9,103.2 L188.3,102.2 L188.7,101.3 L189.2,100.3   L189.6,99.4 L190.0,98.5 L190.4,97.5 L190.8,96.6 L191.2,95.7 L191.6,94.8 L192.0,93.9 L192.4,93.0   L192.8,92.1 L193.2,91.2 L193.6,90.3 L194.1,89.4 L194.5,88.5 L194.9,87.6 L195.3,86.7 L195.7,85.9   L196.1,85.0 L196.5,84.1 L196.9,83.3 L197.3,82.4 L197.7,81.6 L198.1,80.7 L198.5,79.9 L198.9,79.0   L199.4,78.2 L199.8,77.4 L200.2,76.5 L200.6,75.7 L201.0,74.9 L201.4,74.1 L201.8,73.3 L202.2,72.5   L202.6,71.7 L203.0,70.9 L203.4,70.1 L203.8,69.3 L204.2,68.5 L204.7,67.8 L205.1,67.0 L205.5,66.2   L205.9,65.5 L206.3,64.7 L206.7,64.0 L207.1,63.3 L207.5,62.5 L207.9,61.8 L208.3,61.1 L208.7,60.3   L209.1,59.6 L209.5,58.9 L210.0,58.2 L210.4,57.5 L210.8,56.8 L211.2,56.1 L211.6,55.5 L212.0,54.8   L212.4,54.1 L212.8,53.4 L213.2,52.8 L213.6,52.1 L214.0,51.5 L214.4,50.8 L214.9,50.2 L215.3,49.6   L215.7,48.9 L216.1,48.3 L216.5,47.7 L216.9,47.1 L217.3,46.5 L217.7,45.9 L218.1,45.3 L218.5,44.7   L218.9,44.1 L219.3,43.6 L219.7,43.0 L220.2,42.4 L220.6,41.9 L221.0,41.3 L221.4,40.8 L221.8,40.2   L222.2,39.7 L222.6,39.2 L223.0,38.7 L223.4,38.1 L223.8,37.6 L224.2,37.1 L224.6,36.6 L225.0,36.1   L225.5,35.7 L225.9,35.2 L226.3,34.7 L226.7,34.3 L227.1,33.8 L227.5,33.3 L227.9,32.9 L228.3,32.5   L228.7,32.0 L229.1,31.6 L229.5,31.2 L229.9,30.8 L230.3,30.4 L230.8,30.0 L231.2,29.6 L231.6,29.2   L232.0,28.8 L232.4,28.4 L232.8,28.1 L233.2,27.7 L233.6,27.3 L234.0,27.0 L234.4,26.6 L234.8,26.3   L235.2,26.0 L235.7,25.7 L236.1,25.3 L236.5,25.0 L236.9,24.7 L237.3,24.4 L237.7,24.1 L238.1,23.9   L238.5,23.6 L238.9,23.3 L239.3,23.1 L239.7,22.8 L240.1,22.5 L240.5,22.3 L241.0,22.1 L241.4,21.8   L241.8,21.6 L242.2,21.4 L242.6,21.2 L243.0,21.0 L243.4,20.8 L243.8,20.6 L244.2,20.4 L244.6,20.2   L245.0,20.1 L245.4,19.9 L245.8,19.8 L246.3,19.6 L246.7,19.5 L247.1,19.3 L247.5,19.2 L247.9,19.1   L248.3,19.0 L248.7,18.9 L249.1,18.8 L249.5,18.7 L249.9,18.6 L250.3,18.5 L250.7,18.4 L251.1,18.4   L251.6,18.3 L252.0,18.3 L252.4,18.2 L252.8,18.2 L253.2,18.2 L253.6,18.1 L254.0,18.1 L254.4,18.1   L254.8,18.1 L255.2,18.1 L255.6,18.1 L256.0,18.1 L256.4,18.2 L256.9,18.2 L257.3,18.2 L257.7,18.3   L258.1,18.3 L258.5,18.4 L258.9,18.4 L259.3,18.5 L259.7,18.6 L260.1,18.7 L260.5,18.8 L260.9,18.9   L261.3,19.0 L261.8,19.1 L262.2,19.2 L262.6,19.3 L263.0,19.5 L263.4,19.6 L263.8,19.8 L264.2,19.9   L264.6,20.1 L265.0,20.2 L265.4,20.4 L265.8,20.6 L266.2,20.8 L266.6,21.0 L267.1,21.2 L267.5,21.4   L267.9,21.6 L268.3,21.8 L268.7,22.1 L269.1,22.3 L269.5,22.5 L269.9,22.8 L270.3,23.1 L270.7,23.3   L271.1,23.6 L271.5,23.9 L271.9,24.1 L272.4,24.4 L272.8,24.7 L273.2,25.0 L273.6,25.3 L274.0,25.7   L274.4,26.0 L274.8,26.3 L275.2,26.6 L275.6,27.0 L276.0,27.3 L276.4,27.7 L276.8,28.1 L277.2,28.4   L277.7,28.8 L278.1,29.2 L278.5,29.6 L278.9,30.0 L279.3,30.4 L279.7,30.8 L280.1,31.2 L280.5,31.6   L280.9,32.0 L281.3,32.5 L281.7,32.9 L282.1,33.3 L282.6,33.8 L283.0,34.3 L283.4,34.7 L283.8,35.2   L284.2,35.7 L284.6,36.1 L285.0,36.6 L285.4,37.1 L285.8,37.6 L286.2,38.1 L286.6,38.7 L287.0,39.2   L287.4,39.7 L287.9,40.2 L288.3,40.8 L288.7,41.3 L289.1,41.9 L289.5,42.4 L289.9,43.0 L290.3,43.6   L290.7,44.1 L291.1,44.7 L291.5,45.3 L291.9,45.9 L292.3,46.5 L292.7,47.1 L293.2,47.7 L293.6,48.3   L294.0,48.9 L294.4,49.6 L294.8,50.2 L295.2,50.8 L295.6,51.5 L296.0,52.1 L296.4,52.8 L296.8,53.4   L297.2,54.1 L297.6,54.8 L298.0,55.5 L298.5,56.1 L298.9,56.8 L299.3,57.5 L299.7,58.2 L300.1,58.9   L300.5,59.6 L300.9,60.3 L301.3,61.1 L301.7,61.8 L302.1,62.5 L302.5,63.3 L302.9,64.0 L303.4,64.7   L303.8,65.5 L304.2,66.2 L304.6,67.0 L305.0,67.8 L305.4,68.5 L305.8,69.3 L306.2,70.1 L306.6,70.9   L307.0,71.7 L307.4,72.5 L307.8,73.3 L308.2,74.1 L308.7,74.9 L309.1,75.7 L309.5,76.5 L309.9,77.4   L310.3,78.2 L310.7,79.0 L311.1,79.9 L311.5,80.7 L311.9,81.6 L312.3,82.4 L312.7,83.3 L313.1,84.1   L313.5,85.0 L314.0,85.9 L314.4,86.7 L314.8,87.6 L315.2,88.5 L315.6,89.4 L316.0,90.3 L316.4,91.2   L316.8,92.1 L317.2,93.0 L317.6,93.9 L318.0,94.8 L318.4,95.7 L318.8,96.6 L319.3,97.5 L319.7,98.5   L320.1,99.4 L320.5,100.3 L320.9,101.3 L321.3,102.2 L321.7,103.2 L322.1,104.1 L322.5,105.1 L322.9,106.0   L323.3,107.0 L323.7,108.0 L324.2,108.9 L324.6,109.9 L325.0,110.9 L325.4,111.9 L325.8,112.8 L326.2,113.8   L326.6,114.8 L327.0,115.8 L327.4,116.8 L327.8,117.8 L328.2,118.8 L328.6,119.8 L329.0,120.8 L329.5,121.8   L329.9,122.8 L330.3,123.8 L330.7,124.9 L331.1,125.9 L331.5,126.9 L331.9,127.9 L332.3,129.0 L332.7,130.0   L333.1,131.0 L333.5,132.1 L333.9,133.1 L334.3,134.2 L334.8,135.2 L335.2,136.3 L335.6,137.3 L336.0,138.4   L336.4,139.4 L336.8,140.5 L337.2,141.5 L337.6,142.6 L338.0,143.7 L338.4,144.7 L338.8,145.8 L339.2,146.9   L339.6,147.9 L340.1,149.0 L340.5,150.1 L340.9,151.2 L341.3,152.3 L341.7,153.3 L342.1,154.4 L342.5,155.5   L342.9,156.6 L343.3,157.7 L343.7,158.8 L344.1,159.9 L344.5,161.0 L344.9,162.1 L345.4,163.2 L345.8,164.3   L346.2,165.4 L346.6,166.5 L347.0,167.6 L347.4,168.7 L347.8,169.8 L348.2,170.9 L348.6,172.0 L349.0,173.1   L349.4,174.2 L349.8,175.3 L350.3,176.4 L350.7,177.5 L351.1,178.7 L351.5,179.8 L351.9,180.9 L352.3,182.0   L352.7,183.1 L353.1,184.2 L353.5,185.4 L353.9,186.5 L354.3,187.6 L354.7,188.7 L355.1,189.8 L355.6,191.0   L356.0,192.1 L356.4,193.2 L356.8,194.3 L357.2,195.4 L357.6,196.6 L358.0,197.7 L358.4,198.8 L358.8,199.9   L359.2,201.0 L359.6,202.2 L360.0,203.3 L360.4,204.4 L360.9,205.5 L361.3,206.7 L361.7,207.8 L362.1,208.9   L362.5,210.0 L362.9,211.1 L363.3,212.3 L363.7,213.4 L364.1,214.5 L364.5,215.6 L364.9,216.7 L365.3,217.9   L365.7,219.0 L366.2,220.1 L366.6,221.2 L367.0,222.3 L367.4,223.4 L367.8,224.6 L368.2,225.7 L368.6,226.8   L369.0,227.9 L369.4,229.0 L369.8,230.1 L370.2,231.2 L370.6,232.3 L371.1,233.4 L371.5,234.5 L371.9,235.6   L372.3,236.7 L372.7,237.8 L373.1,238.9 L373.5,240.0 L373.9,241.1 L374.3,242.2 L374.7,243.3 L375.1,244.4   L375.5,245.5 L375.9,246.6 L376.4,247.7 L376.8,248.8 L377.2,249.8 L377.6,250.9 L378.0,252.0 L378.4,253.1   L378.8,254.2 L379.2,255.2 L379.6,256.3 L380.0,257.4 L380.4,258.4 L380.8,259.5 L381.2,260.6 L381.7,261.6   L382.1,262.7 L382.5,263.7 L382.9,264.8 L383.3,265.8 L383.7,266.9 L384.1,267.9 L384.5,269.0 L384.9,270.0   L385.3,271.1 L385.7,272.1 L386.1,273.1 L386.5,274.2 L387.0,275.2 L387.4,276.2 L387.8,277.2 L388.2,278.3   L388.6,279.3 L389.0,280.3 L389.4,281.3 L389.8,282.3 L390.2,283.3 L390.6,284.3 L391.0,285.3 L391.4,286.3   L391.9,287.3 L392.3,288.3 L392.7,289.3 L393.1,290.2 L393.5,291.2 L393.9,292.2 L394.3,293.2 L394.7,294.1   L395.1,295.1 L395.5,296.1 L395.9,297.0 L396.3,298.0 L396.7,298.9 L397.2,299.9 L397.6,300.8 L398.0,301.8   L398.4,302.7 L398.8,303.6 L399.2,304.6 L399.6,305.5 L400.0,306.4 L400.4,307.3 L400.8,308.2 L401.2,309.1   L401.6,310.0 L402.0,310.9 L402.5,311.8 L402.9,312.7 L403.3,313.6 L403.7,314.5 L404.1,315.4 L404.5,316.2   L404.9,317.1 L405.3,318.0 L405.7,318.8 L406.1,319.7 L406.5,320.5 L406.9,321.4 L407.3,322.2 L407.8,323.1   L408.2,323.9 L408.6,324.7 L409.0,325.6 L409.4,326.4 L409.8,327.2 L410.2,328.0 L410.6,328.8 L411.0,329.6   L411.4,330.4 L411.8,331.2 L412.2,332.0 L412.7,332.8 L413.1,333.6 L413.5,334.3 L413.9,335.1 L414.3,335.9   L414.7,336.6 L415.1,337.4 L415.5,338.1 L415.9,338.8 L416.3,339.6 L416.7,340.3 L417.1,341.0 L417.5,341.8   L418.0,342.5 L418.4,343.2 L418.8,343.9 L419.2,344.6 L419.6,345.3 L420.0,346.0 L420.4,346.6 L420.8,347.3   L421.2,348.0 L421.6,348.7 L422.0,349.3 L422.4,350.0 L422.8,350.6 L423.3,351.3 L423.7,351.9 L424.1,352.5   L424.5,353.2 L424.9,353.8 L425.3,354.4 L425.7,355.0 L426.1,355.6 L426.5,356.2 L426.9,356.8 L427.3,357.4   L427.7,358.0 L428.1,358.5 L428.6,359.1 L429.0,359.7 L429.4,360.2 L429.8,360.8 L430.2,361.3 L430.6,361.9   L431.0,362.4 L431.4,362.9 L431.8,363.4 L432.2,364.0 L432.6,364.5 L433.0,365.0 L433.4,365.5 L433.9,366.0   L434.3,366.4 L434.7,366.9 L435.1,367.4 L435.5,367.8 L435.9,368.3 L436.3,368.8 L436.7,369.2 L437.1,369.6   L437.5,370.1 L437.9,370.5 L438.3,370.9 L438.8,371.3 L439.2,371.7 L439.6,372.1 L440.0,372.5 L440.4,372.9   L440.8,373.3 L441.2,373.7 L441.6,374.0 L442.0,374.4 L442.4,374.8 L442.8,375.1 L443.2,375.5 L443.6,375.8   L444.1,376.1 L444.5,376.4 L444.9,376.8 L445.3,377.1 L445.7,377.4 L446.1,377.7 L446.5,378.0 L446.9,378.2   L447.3,378.5 L447.7,378.8 L448.1,379.0 L448.5,379.3 L448.9,379.6 L449.4,379.8 L449.8,380.0 L450.2,380.3   L450.6,380.5 L451.0,380.7 L451.4,380.9 L451.8,381.1 L452.2,381.3 L452.6,381.5 L453.0,381.7 L453.4,381.9   L453.8,382.0 L454.2,382.2 L454.7,382.3 L455.1,382.5 L455.5,382.6 L455.9,382.8 L456.3,382.9 L456.7,383.0   L457.1,383.1 L457.5,383.2 L457.9,383.3 L458.3,383.4 L458.7,383.5 L459.1,383.6 L459.6,383.7 L460.0,383.7   L460.4,383.8 L460.8,383.8 L461.2,383.9 L461.6,383.9 L462.0,383.9 L462.4,384.0 L462.8,384.0 L463.2,384.0    \" stroke=\"rgb(  0, 114, 189)\"/></g>\n",
       "\t</g>\n",
       "<g color=\"white\" fill=\"none\" stroke=\"rgb(  0, 114, 189)\" stroke-linecap=\"butt\" stroke-linejoin=\"miter\" stroke-width=\"2.00\">\n",
       "</g>\n",
       "<g color=\"black\" fill=\"none\" stroke=\"currentColor\" stroke-linecap=\"butt\" stroke-linejoin=\"miter\" stroke-width=\"2.00\">\n",
       "</g>\n",
       "<g color=\"black\" fill=\"none\" stroke=\"black\" stroke-linecap=\"butt\" stroke-linejoin=\"miter\" stroke-width=\"0.50\">\n",
       "\t<path d=\"M45.6,384.0 L535.0,384.0 M45.6,18.1 L535.0,18.1 M45.6,384.0 L45.6,18.1 M535.0,384.0 L535.0,18.1    \" stroke=\"rgb( 38,  38,  38)\"/></g>\n",
       "<g color=\"black\" fill=\"none\" stroke=\"rgb( 38,  38,  38)\" stroke-linecap=\"butt\" stroke-linejoin=\"miter\" stroke-width=\"1.00\">\n",
       "</g>\n",
       "<g color=\"black\" fill=\"none\" stroke=\"currentColor\" stroke-linecap=\"butt\" stroke-linejoin=\"miter\" stroke-width=\"1.00\">\n",
       "</g>\n",
       "</g>\n",
       "</svg>"
      ],
      "text/plain": [
       "<IPython.core.display.SVG object>"
      ]
     },
     "metadata": {},
     "output_type": "display_data"
    }
   ],
   "source": [
    "plot(rcos(numSamples))"
   ]
  },
  {
   "cell_type": "code",
   "execution_count": null,
   "metadata": {},
   "outputs": [],
   "source": []
  }
 ],
 "metadata": {
  "kernelspec": {
   "display_name": "Octave",
   "language": "octave",
   "name": "octave"
  },
  "language_info": {
   "file_extension": ".m",
   "help_links": [
    {
     "text": "GNU Octave",
     "url": "https://www.gnu.org/software/octave/support.html"
    },
    {
     "text": "Octave Kernel",
     "url": "https://github.com/Calysto/octave_kernel"
    },
    {
     "text": "MetaKernel Magics",
     "url": "https://metakernel.readthedocs.io/en/latest/source/README.html"
    }
   ],
   "mimetype": "text/x-octave",
   "name": "octave",
   "version": "4.2.2"
  }
 },
 "nbformat": 4,
 "nbformat_minor": 2
}
