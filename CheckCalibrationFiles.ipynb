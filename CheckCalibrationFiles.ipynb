{
 "cells": [
  {
   "cell_type": "markdown",
   "metadata": {},
   "source": [
    "# Make Calibration WAV Files\n",
    "## By Terry Bondy, VA3TYB"
   ]
  },
  {
   "cell_type": "code",
   "execution_count": 1,
   "metadata": {},
   "outputs": [
    {
     "name": "stdout",
     "output_type": "stream",
     "text": [
      "Last updated: Tuesday 31 December 2019 UTC"
     ]
    }
   ],
   "source": [
    "printf(strftime (\"Last updated: %A %e %B %Y %Z\", localtime (time())))\n",
    "%plot --format svg\n",
    "# format long"
   ]
  },
  {
   "cell_type": "code",
   "execution_count": 2,
   "metadata": {},
   "outputs": [],
   "source": [
    "fcLow = 200;\n",
    "fcHigh = 2600;"
   ]
  },
  {
   "cell_type": "code",
   "execution_count": 3,
   "metadata": {},
   "outputs": [],
   "source": [
    "sampleRate = 16000;\n",
    "numPeriods = 10;\n",
    "period = numPeriods;\n",
    "T = 0:1/sampleRate:period;"
   ]
  },
  {
   "cell_type": "code",
   "execution_count": 4,
   "metadata": {},
   "outputs": [
    {
     "name": "stdout",
     "output_type": "stream",
     "text": [
      "iter: 1\n",
      "ans =  5.0877\n",
      "iter: 2\n",
      "ans =  8.4277\n",
      "iter: 3\n",
      "ans =  10.994\n",
      "iter: 4\n",
      "ans =  12.808\n",
      "iter: 5\n",
      "ans =  14.850\n",
      "iter: 6\n",
      "ans =  16.778\n",
      "iter: 7\n",
      "ans =  19.419\n",
      "iter: 8\n",
      "ans =  20.937\n",
      "iter: 9\n",
      "ans =  22.375\n",
      "iter: 10\n",
      "ans =  23.670\n",
      "iter: 11\n",
      "ans =  24.814\n",
      "iter: 12\n",
      "ans =  26.770\n",
      "iter: 13\n",
      "ans =  27.543\n",
      "iter: 14\n",
      "ans =  29.035\n",
      "iter: 15\n",
      "ans =  30.518\n",
      "iter: 16\n",
      "ans =  31.677\n",
      "iter: 17\n",
      "ans =  32.956\n",
      "iter: 18\n",
      "ans =  34.508\n",
      "iter: 19\n",
      "ans =  35.707\n",
      "iter: 20\n",
      "ans =  37.020\n",
      "iter: 21\n",
      "ans =  38.759\n",
      "iter: 22\n",
      "ans =  39.394\n",
      "iter: 23\n",
      "ans =  40.426\n",
      "iter: 24\n",
      "ans =  41.574\n",
      "iter: 25\n",
      "ans =  42.075\n",
      "iter: 26\n",
      "ans =  42.473\n",
      "iter: 27\n",
      "ans =  43.253\n",
      "iter: 28\n",
      "ans =  44.580\n",
      "iter: 29\n",
      "ans =  44.637\n",
      "iter: 30\n",
      "ans =  45.795\n",
      "iter: 31\n",
      "ans =  47.249\n",
      "iter: 32\n",
      "ans =  48.572\n",
      "iter: 33\n",
      "ans =  49.655\n",
      "iter: 34\n",
      "ans =  50.318\n",
      "iter: 35\n",
      "ans =  51.131\n",
      "iter: 36\n",
      "ans =  52.149\n",
      "iter: 37\n",
      "ans =  52.874\n",
      "iter: 38\n",
      "ans =  53.951\n",
      "iter: 39\n",
      "ans =  55.227\n",
      "iter: 40\n",
      "ans =  55.664\n",
      "iter: 41\n",
      "ans =  56.903\n",
      "iter: 42\n",
      "ans =  58.439\n",
      "iter: 43\n",
      "ans =  58.788\n",
      "iter: 44\n",
      "ans =  59.697\n",
      "iter: 45\n",
      "ans =  61.038\n",
      "iter: 46\n",
      "ans =  62.423\n",
      "iter: 47\n",
      "ans =  63.457\n",
      "iter: 48\n",
      "ans =  64.161\n",
      "iter: 49\n",
      "ans =  65.370\n",
      "iter: 50\n",
      "ans =  65.376\n",
      "iter: 51\n",
      "ans =  66.645\n",
      "iter: 52\n"
     ]
    }
   ],
   "source": [
    "for iter = 1:1:150\n",
    "  printf(\"iter: %d\\n\", iter);\n",
    "  Sigfilename = sprintf(\"Sig_%d.mat\", iter);\n",
    "  if (2 != exist (Sigfilename, \"file\"))\n",
    "    break\n",
    "  else\n",
    "    load(Sigfilename)\n",
    "  endif\n",
    "  \n",
    "  max(abs(Sig))\n",
    "  iter++;\n",
    "endfor"
   ]
  },
  {
   "cell_type": "code",
   "execution_count": 5,
   "metadata": {},
   "outputs": [],
   "source": [
    "# Repeat Sig to expand it to numPeriods\n",
    "Sig = [(Sig(1:end-1)' * ones(1, numPeriods))(:)', Sig(1)];"
   ]
  },
  {
   "cell_type": "code",
   "execution_count": 6,
   "metadata": {},
   "outputs": [
    {
     "data": {
      "image/png": "[encoded data removed]",
      "text/plain": [
       "<IPython.core.display.Image object>"
      ]
     },
     "metadata": {},
     "output_type": "display_data"
    }
   ],
   "source": [
    "plot(T, Sig)"
   ]
  },
  {
   "cell_type": "code",
   "execution_count": 7,
   "metadata": {},
   "outputs": [],
   "source": [
    "RC = (1 - cos(2*pi*T/period))/2;"
   ]
  },
  {
   "cell_type": "code",
   "execution_count": 8,
   "metadata": {},
   "outputs": [],
   "source": [
    "E_cos_pulse = fftshift(fft(RC .* Sig, sampleRate*period*10 + 1));\n",
    "# E_cos_pulse = fftshift(fft(RC .* Sig));\n",
    "F_base = linspace(-sampleRate/2, sampleRate/2, columns(E_cos_pulse));"
   ]
  },
  {
   "cell_type": "code",
   "execution_count": 9,
   "metadata": {},
   "outputs": [
    {
     "data": {
      "image/png": "[encoded data removed]",
      "text/plain": [
       "<IPython.core.display.Image object>"
      ]
     },
     "metadata": {},
     "output_type": "display_data"
    }
   ],
   "source": [
    "plot(F_base, abs(E_cos_pulse))\n",
    "grid on\n",
    "grid minor\n",
    "axis([fcLow-10 fcHigh+10], \"tic\")"
   ]
  },
  {
   "cell_type": "code",
   "execution_count": 10,
   "metadata": {},
   "outputs": [],
   "source": [
    "audiowrite(\"calibrateNew.wav\", RC .* Sig ./ max(abs(Sig)), sampleRate, \n",
    "\"Title\", \"Calibration file for Yaesu radioes.\",\n",
    "\"Artist\", \"Terry Bondy, VA3TYB\")"
   ]
  }
 ],
 "metadata": {
  "kernelspec": {
   "display_name": "Octave",
   "language": "octave",
   "name": "octave"
  },
  "language_info": {
   "file_extension": ".m",
   "help_links": [
    {
     "text": "GNU Octave",
     "url": "https://www.gnu.org/software/octave/support.html"
    },
    {
     "text": "Octave Kernel",
     "url": "https://github.com/Calysto/octave_kernel"
    },
    {
     "text": "MetaKernel Magics",
     "url": "https://metakernel.readthedocs.io/en/latest/source/README.html"
    }
   ],
   "mimetype": "text/x-octave",
   "name": "octave",
   "version": "4.2.2"
  }
 },
 "nbformat": 4,
 "nbformat_minor": 2
}
