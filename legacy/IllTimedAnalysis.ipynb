{
 "cells": [
  {
   "cell_type": "markdown",
   "metadata": {},
   "source": [
    "# Investigation Into Ill timed Analysis\n",
    "## By Terry Bondy, VA3TYB"
   ]
  },
  {
   "cell_type": "code",
   "execution_count": 2,
   "metadata": {},
   "outputs": [
    {
     "name": "stdout",
     "output_type": "stream",
     "text": [
      "Last updated: Tuesday 21 January 2020"
     ]
    }
   ],
   "source": [
    "printf(strftime (\"Last updated: %A %e %B %Y\", localtime (time ())))"
   ]
  },
  {
   "cell_type": "code",
   "execution_count": 3,
   "metadata": {},
   "outputs": [],
   "source": [
    "load \"VA3TYB_A_s.mat\""
   ]
  },
  {
   "cell_type": "code",
   "execution_count": 4,
   "metadata": {},
   "outputs": [],
   "source": [
    "load \"VA3TYB_Phi_d.mat\""
   ]
  },
  {
   "cell_type": "code",
   "execution_count": 5,
   "metadata": {},
   "outputs": [
    {
     "name": "stdout",
     "output_type": "stream",
     "text": [
      "ans =\n",
      "\n",
      "   551     1\n",
      "\n"
     ]
    }
   ],
   "source": [
    "size(VA3TYB_A_s)"
   ]
  },
  {
   "cell_type": "code",
   "execution_count": 6,
   "metadata": {},
   "outputs": [
    {
     "name": "stdout",
     "output_type": "stream",
     "text": [
      "ans =\n",
      "\n",
      "   275     1\n",
      "\n"
     ]
    }
   ],
   "source": [
    "size(VA3TYB_Phi_d)"
   ]
  },
  {
   "cell_type": "code",
   "execution_count": 7,
   "metadata": {},
   "outputs": [
    {
     "name": "stdout",
     "output_type": "stream",
     "text": [
      "sampleRate =  8000\n"
     ]
    }
   ],
   "source": [
    "sampleRate = 8000\n",
    "period = 3;\n",
    "TshortRV = [0:1/sampleRate:1](:);\n",
    "TfullRV = [0:1/sampleRate:period](:);"
   ]
  },
  {
   "cell_type": "code",
   "execution_count": 8,
   "metadata": {},
   "outputs": [
    {
     "name": "stdout",
     "output_type": "stream",
     "text": [
      "ans =\n",
      "\n",
      "   8001      1\n",
      "\n"
     ]
    }
   ],
   "source": [
    "RaisedCosineRV = (1 - cos(2*pi*TshortRV))/2;\n",
    "size(RaisedCosineRV)"
   ]
  },
  {
   "cell_type": "code",
   "execution_count": 9,
   "metadata": {},
   "outputs": [],
   "source": [
    "fcLow = 200;"
   ]
  },
  {
   "cell_type": "code",
   "execution_count": 10,
   "metadata": {},
   "outputs": [
    {
     "name": "stdout",
     "output_type": "stream",
     "text": [
      "freq =  2404\n"
     ]
    }
   ],
   "source": [
    "SigRV = zeros(rows(TfullRV), 1);\n",
    "freq = fcLow;\n",
    "for idx = 1:1:rows(VA3TYB_Phi_d)\n",
    "  if VA3TYB_A_s(idx) != 0\n",
    "    phi = VA3TYB_Phi_d(idx);\n",
    "    SigRV = SigRV .+ exp(j*(2*pi*freq * TfullRV + VA3TYB_Phi_d(idx)));\n",
    "  endif\n",
    "  freq += 4;\n",
    "endfor\n",
    "\n",
    "SigRV = SigRV .+ exp(j*2*pi*freq * TfullRV);\n",
    "freq += 4;\n",
    "\n",
    "for idx = rows(VA3TYB_Phi_d):-1:1\n",
    "  if VA3TYB_A_s(idx) != 0\n",
    "    phi = VA3TYB_Phi_d(idx);\n",
    "    SigRV = SigRV .+ exp(j*(2*pi*freq * TfullRV - VA3TYB_Phi_d(idx)));\n",
    "  endif\n",
    "  freq += 4;\n",
    "endfor\n",
    "freq"
   ]
  },
  {
   "cell_type": "code",
   "execution_count": 11,
   "metadata": {},
   "outputs": [
    {
     "name": "stdout",
     "output_type": "stream",
     "text": [
      "ans =\n",
      "\n",
      "   8001      1\n",
      "\n"
     ]
    }
   ],
   "source": [
    "SigSec0RV = SigRV(1:rows(RaisedCosineRV)) .* RaisedCosineRV;\n",
    "size(SigSec0RV)"
   ]
  },
  {
   "cell_type": "code",
   "execution_count": 12,
   "metadata": {},
   "outputs": [
    {
     "data": {
      "image/png": "[encoded data removed]",
      "text/plain": [
       "<IPython.core.display.Image object>"
      ]
     },
     "metadata": {},
     "output_type": "display_data"
    }
   ],
   "source": [
    "plot(TshortRV, abs(SigSec0RV));"
   ]
  },
  {
   "cell_type": "code",
   "execution_count": 13,
   "metadata": {},
   "outputs": [],
   "source": [
    "FftSec0RV = fftshift(fft(SigSec0RV, sampleRate*10 + 1));\n",
    "AbsFftSec0RV = abs(FftSec0RV);\n",
    "FreqSec0RV = [linspace(-sampleRate/2, sampleRate/2, rows(FftSec0RV))](:);"
   ]
  },
  {
   "cell_type": "code",
   "execution_count": 14,
   "metadata": {},
   "outputs": [
    {
     "data": {
      "image/png": "[encoded data removed]",
      "text/plain": [
       "<IPython.core.display.Image object>"
      ]
     },
     "metadata": {},
     "output_type": "display_data"
    }
   ],
   "source": [
    "plot(FreqSec0RV, AbsFftSec0RV)\n",
    "grid on\n",
    "grid minor\n",
    "axis([410 430], \"tic\")"
   ]
  },
  {
   "cell_type": "code",
   "execution_count": 15,
   "metadata": {},
   "outputs": [],
   "source": [
    "pkg load signal"
   ]
  },
  {
   "cell_type": "code",
   "execution_count": 16,
   "metadata": {},
   "outputs": [],
   "source": [
    "[PeaksCV idxPeaksCV] = findpeaks(AbsFftSec0RV, \"MinPeakHeight\", 500);"
   ]
  },
  {
   "cell_type": "code",
   "execution_count": 17,
   "metadata": {},
   "outputs": [
    {
     "name": "stdout",
     "output_type": "stream",
     "text": [
      "ans =\n",
      "\n",
      "   229     1\n",
      "\n"
     ]
    }
   ],
   "source": [
    "size(idxPeaksCV)"
   ]
  },
  {
   "cell_type": "code",
   "execution_count": 18,
   "metadata": {},
   "outputs": [
    {
     "name": "stdout",
     "output_type": "stream",
     "text": [
      "ans =\n",
      "\n",
      "    412\n",
      "    416\n",
      "    420\n",
      "    428\n",
      "    432\n",
      "    436\n",
      "    444\n",
      "    452\n",
      "    456\n",
      "    460\n",
      "    476\n",
      "    484\n",
      "    488\n",
      "    492\n",
      "    500\n",
      "    516\n",
      "    520\n",
      "    524\n",
      "    532\n",
      "    536\n",
      "    540\n",
      "    548\n",
      "    580\n",
      "    584\n",
      "    588\n",
      "    596\n",
      "    604\n",
      "    620\n",
      "    652\n",
      "    660\n",
      "    668\n",
      "    676\n",
      "    680\n",
      "    684\n",
      "    700\n",
      "    708\n",
      "    712\n",
      "    716\n",
      "    732\n",
      "    740\n",
      "    748\n",
      "    756\n",
      "    760\n",
      "    764\n",
      "    772\n",
      "    776\n",
      "    780\n",
      "    796\n",
      "    800\n",
      "    804\n",
      "    820\n",
      "    824\n",
      "    828\n",
      "    836\n",
      "    844\n",
      "    848\n",
      "    852\n",
      "    860\n",
      "    864\n",
      "    868\n",
      "    884\n",
      "    888\n",
      "    892\n",
      "    900\n",
      "    908\n",
      "    916\n",
      "    948\n",
      "    956\n",
      "    964\n",
      "    972\n",
      "    976\n",
      "    980\n",
      "    996\n",
      "   1004\n",
      "   1008\n",
      "   1012\n",
      "   1028\n",
      "   1036\n",
      "   1044\n",
      "   1052\n",
      "   1056\n",
      "   1060\n",
      "   1068\n",
      "   1072\n",
      "   1076\n",
      "   1092\n",
      "   1096\n",
      "   1100\n",
      "   1116\n",
      "   1120\n",
      "   1124\n",
      "   1132\n",
      "   1140\n",
      "   1144\n",
      "   1148\n",
      "   1156\n",
      "   1160\n",
      "   1164\n",
      "   1180\n",
      "   1184\n",
      "   1188\n",
      "   1196\n",
      "   1204\n",
      "   1212\n",
      "   1228\n",
      "   1236\n",
      "   1244\n",
      "   1248\n",
      "   1252\n",
      "   1260\n",
      "   1264\n",
      "   1268\n",
      "   1276\n",
      "   1284\n",
      "   1300\n",
      "   1316\n",
      "   1324\n",
      "   1332\n",
      "   1336\n",
      "   1340\n",
      "   1348\n",
      "   1352\n",
      "   1356\n",
      "   1364\n",
      "   1372\n",
      "   1388\n",
      "   1396\n",
      "   1404\n",
      "   1412\n",
      "   1416\n",
      "   1420\n",
      "   1436\n",
      "   1440\n",
      "   1444\n",
      "   1452\n",
      "   1456\n",
      "   1460\n",
      "   1468\n",
      "   1476\n",
      "   1480\n",
      "   1484\n",
      "   1500\n",
      "   1504\n",
      "   1508\n",
      "   1524\n",
      "   1528\n",
      "   1532\n",
      "   1540\n",
      "   1544\n",
      "   1548\n",
      "   1556\n",
      "   1564\n",
      "   1572\n",
      "   1588\n",
      "   1592\n",
      "   1596\n",
      "   1604\n",
      "   1620\n",
      "   1624\n",
      "   1628\n",
      "   1636\n",
      "   1644\n",
      "   1652\n",
      "   1684\n",
      "   1692\n",
      "   1700\n",
      "   1708\n",
      "   1712\n",
      "   1716\n",
      "   1732\n",
      "   1736\n",
      "   1740\n",
      "   1748\n",
      "   1752\n",
      "   1756\n",
      "   1764\n",
      "   1772\n",
      "   1776\n",
      "   1780\n",
      "   1796\n",
      "   1800\n",
      "   1804\n",
      "   1820\n",
      "   1824\n",
      "   1828\n",
      "   1836\n",
      "   1840\n",
      "   1844\n",
      "   1852\n",
      "   1860\n",
      "   1868\n",
      "   1884\n",
      "   1888\n",
      "   1892\n",
      "   1900\n",
      "   1916\n",
      "   1920\n",
      "   1924\n",
      "   1932\n",
      "   1940\n",
      "   1948\n",
      "   1980\n",
      "   1996\n",
      "   2004\n",
      "   2012\n",
      "   2016\n",
      "   2020\n",
      "   2052\n",
      "   2060\n",
      "   2064\n",
      "   2068\n",
      "   2076\n",
      "   2080\n",
      "   2084\n",
      "   2100\n",
      "   2108\n",
      "   2112\n",
      "   2116\n",
      "   2124\n",
      "   2140\n",
      "   2144\n",
      "   2148\n",
      "   2156\n",
      "   2164\n",
      "   2168\n",
      "   2172\n",
      "   2180\n",
      "   2184\n",
      "   2188\n",
      "\n"
     ]
    }
   ],
   "source": [
    "FreqSec0RV(idxPeaksCV)"
   ]
  },
  {
   "cell_type": "code",
   "execution_count": 19,
   "metadata": {},
   "outputs": [
    {
     "name": "stdout",
     "output_type": "stream",
     "text": [
      "ans =\n",
      "\n",
      "   3999.242 +   64.398i\n",
      "   1386.641 + 3751.881i\n",
      "   3999.507 +   66.309i\n",
      "   3999.627 +   66.999i\n",
      "  -2981.966 + 2665.950i\n",
      "   3999.063 +   68.728i\n",
      "   3999.291 +   69.787i\n",
      "   3998.939 +   70.886i\n",
      "   3755.974 + 1375.540i\n",
      "   3999.668 +   72.434i\n",
      "   3999.192 +   74.820i\n",
      "    570.831 + 3958.893i\n",
      "   3998.832 +   77.061i\n",
      "   3999.555 +   77.457i\n",
      "   1872.166 + 3534.745i\n",
      "    328.958 + 3986.289i\n",
      "   3998.660 +   82.260i\n",
      "   3999.480 +   82.299i\n",
      "    856.326 + 3906.751i\n",
      "  -1634.898 + 3650.610i\n",
      "   2154.535 + 3370.337i\n",
      "   -715.958 + 3935.343i\n",
      "   2939.886 + 2711.649i\n",
      "   3999.483 +   91.683i\n",
      "  -2633.180 + 3010.393i\n",
      "    579.599 + 3957.677i\n",
      "   3998.738 +   94.943i\n",
      "   -778.099 + 3923.434i\n",
      "   3998.552 +  102.448i\n",
      "  -2227.980 + 3321.737i\n",
      "     16.302 + 3999.823i\n",
      "  -3998.818 -  106.559i\n",
      "   2588.859 + 3047.767i\n",
      "   2758.715 + 2896.925i\n",
      "   3998.326 +  110.302i\n",
      "  -1715.577 + 3612.515i\n",
      "   -494.861 + 3969.573i\n",
      "  -3998.309 -  111.770i\n",
      "   -176.116 + 3995.832i\n",
      "   1219.863 + 3809.213i\n",
      "    821.539 + 3914.531i\n",
      "  -2556.362 + 3075.837i\n",
      "  -3999.011 -  118.882i\n",
      "   3997.290 +  119.994i\n",
      "   -296.595 + 3988.057i\n",
      "  -1253.138 + 3798.376i\n",
      "   -704.861 + 3937.887i\n",
      "  -1460.656 + 3723.720i\n",
      "   3998.179 +  126.426i\n",
      "  -3997.102 -  126.112i\n",
      "    508.717 + 3966.497i\n",
      "     92.045 + 3998.780i\n",
      "  -2281.457 + 3285.889i\n",
      "   -314.318 + 3987.423i\n",
      "  -3997.217 -  132.750i\n",
      "  -1347.244 + 3765.980i\n",
      "  -3997.769 -  133.062i\n",
      "   -819.352 + 3914.293i\n",
      "  -3158.319 + 2454.658i\n",
      "   1244.973 + 3801.324i\n",
      "    474.409 + 3970.738i\n",
      "    954.562 + 3885.053i\n",
      "  -3997.028 -  139.281i\n",
      "   -511.866 + 3966.744i\n",
      "    583.244 + 3957.027i\n",
      "  -3997.065 -  143.684i\n",
      "  -3996.820 -  148.818i\n",
      "  -1735.571 + 3603.372i\n",
      "  -2843.149 + 2813.063i\n",
      "  -1461.952 + 3722.071i\n",
      "   -958.354 + 3883.797i\n",
      "  -3996.885 -  152.991i\n",
      "  -1139.998 + 3833.663i\n",
      "  -3995.615 -  157.532i\n",
      "  -3996.700 -  158.728i\n",
      "  -2948.068 + 2703.879i\n",
      "  -3293.654 + 2268.881i\n",
      "  -3996.300 -  162.547i\n",
      "  -1422.466 + 3738.021i\n",
      "  -3995.549 -  165.787i\n",
      "  -2811.664 + 2844.232i\n",
      "   -988.316 + 3876.216i\n",
      "  -1198.865 + 3815.424i\n",
      "  -3995.941 -  168.095i\n",
      "  -1572.194 + 3678.029i\n",
      "  -2543.971 + 3085.020i\n",
      "  -1141.468 + 3833.828i\n",
      "  -3996.105 -  171.596i\n",
      "  -3995.162 -  176.095i\n",
      "  -1743.689 + 3598.988i\n",
      "  -3701.809 + 1515.980i\n",
      "  -1701.847 + 3619.305i\n",
      "  -2275.072 + 3288.346i\n",
      "  -3269.174 + 2304.234i\n",
      "  -3996.174 -  179.644i\n",
      "  -2158.924 + 3366.131i\n",
      "  -3995.523 -  182.130i\n",
      "  -1502.386 + 3707.011i\n",
      "  -2525.750 + 3099.600i\n",
      "  -2440.586 + 3168.468i\n",
      "  -1963.603 + 3485.419i\n",
      "  -3994.973 -  187.553i\n",
      "  -3994.962 -  188.900i\n",
      "  -3995.002 -  190.251i\n",
      "  -3638.258 + 1660.510i\n",
      "  -2508.564 + 3114.757i\n",
      "  -2840.169 + 2814.385i\n",
      "  -2027.976 + 3447.682i\n",
      "  -3995.038 -  195.644i\n",
      "  -2913.816 + 2738.001i\n",
      "  -3587.370 + 1768.012i\n",
      "  -3016.609 + 2627.409i\n",
      "  -2892.569 + 2761.946i\n",
      "  -3407.973 + 2093.267i\n",
      "   3994.107 +  204.110i\n",
      "  -3176.605 - 2429.447i\n",
      "  -2595.887 - 3042.232i\n",
      "  -2731.198 - 2919.978i\n",
      "  -3388.439 - 2124.361i\n",
      "  -2621.241 - 3021.914i\n",
      "  -3993.241 -  210.623i\n",
      "  -1666.794 - 3634.786i\n",
      "  -2539.483 - 3090.910i\n",
      "  -2177.965 - 3354.254i\n",
      "  -3450.072 - 2022.864i\n",
      "  -3993.144 -  217.909i\n",
      "  -3993.194 -  219.208i\n",
      "  -3993.196 -  220.279i\n",
      "  -1597.047 - 3665.140i\n",
      "  -2104.566 - 3400.679i\n",
      "  -2197.792 - 3342.722i\n",
      "  -1114.363 - 3840.231i\n",
      "  -3992.523 -  226.175i\n",
      "  -1806.373 - 3568.657i\n",
      "  -3991.782 -  227.164i\n",
      "  -3018.200 - 2623.457i\n",
      "  -1929.706 - 3504.016i\n",
      "  -1323.912 - 3773.675i\n",
      "  -3526.811 - 1883.445i\n",
      "  -1367.448 - 3758.591i\n",
      "  -3992.874 -  234.180i\n",
      "  -3991.860 -  234.247i\n",
      "   -745.672 - 3928.109i\n",
      "  -2216.693 - 3329.997i\n",
      "  -1186.792 - 3818.285i\n",
      "  -3991.965 -  239.914i\n",
      "   -805.779 - 3917.337i\n",
      "   -586.532 - 3954.830i\n",
      "  -2504.989 - 3117.634i\n",
      "  -3992.441 -  244.022i\n",
      "  -1033.961 - 3863.099i\n",
      "  -3991.406 -  245.685i\n",
      "  -3045.050 - 2592.424i\n",
      "  -2654.348 - 2989.664i\n",
      "  -3990.750 -  250.845i\n",
      "  -3992.543 -  250.570i\n",
      "   -743.525 - 3929.282i\n",
      "  -3990.624 -  252.763i\n",
      "   -558.973 - 3958.588i\n",
      "  -1075.177 - 3852.989i\n",
      "  -2541.177 - 3087.739i\n",
      "  -1358.950 - 3761.054i\n",
      "  -3990.552 -  259.558i\n",
      "  -3990.153 -  264.115i\n",
      "    983.087 - 3875.908i\n",
      "   -104.619 - 3997.545i\n",
      "  -3990.339 -  266.774i\n",
      "   1342.629 - 3764.827i\n",
      "    876.937 - 3902.916i\n",
      "   1627.190 - 3652.096i\n",
      "  -2889.813 - 2762.989i\n",
      "   -417.200 - 3978.155i\n",
      "  -3988.872 -  273.227i\n",
      "   -956.220 - 3882.778i\n",
      "  -3989.764 -  277.168i\n",
      "     93.504 - 3997.500i\n",
      "  -1934.551 - 3498.345i\n",
      "    497.449 - 3967.491i\n",
      "    910.268 - 3895.434i\n",
      "  -3990.171 -  281.815i\n",
      "   3987.594 +  283.575i\n",
      "  -1071.306 - 3852.010i\n",
      "   -299.308 - 3985.808i\n",
      "   -859.495 - 3905.285i\n",
      "    110.736 - 3998.791i\n",
      "   3989.838 +  288.007i\n",
      "  -3985.831 -  287.344i\n",
      "  -2230.933 - 3319.339i\n",
      "   1215.599 - 3809.277i\n",
      "   1601.334 - 3663.984i\n",
      "    232.136 - 3992.037i\n",
      "  -3987.555 -  293.904i\n",
      "    -89.211 - 3996.275i\n",
      "  -1338.598 - 3769.622i\n",
      "   3987.346 +  297.408i\n",
      "   3037.365 - 2598.298i\n",
      "   2888.881 - 2768.316i\n",
      "  -3985.787 -  302.880i\n",
      "    423.662 - 3975.886i\n",
      "  -1877.427 - 3530.634i\n",
      "   3986.694 +  305.262i\n",
      "   -374.059 - 3980.881i\n",
      "   3986.065 +  313.248i\n",
      "    979.903 - 3876.327i\n",
      "  -2314.016 - 3262.145i\n",
      "   3983.558 +  315.735i\n",
      "   3201.801 - 2397.043i\n",
      "   -311.163 - 3985.950i\n",
      "   2486.357 - 3129.927i\n",
      "  -1253.219 - 3796.475i\n",
      "   1248.680 - 3799.913i\n",
      "   3983.309 +  325.370i\n",
      "   3986.392 +  327.759i\n",
      "    735.661 - 3930.214i\n",
      "   2221.437 - 3324.162i\n",
      "   3982.862 +  330.294i\n",
      "   3985.800 +  332.944i\n",
      "    973.143 - 3878.286i\n",
      "   3984.386 +  332.783i\n",
      "   3982.151 +  335.950i\n",
      "   3874.901 -  985.120i\n",
      "   3985.685 +  336.382i\n",
      "   3983.911 +  338.084i\n",
      "   3984.890 +  340.655i\n",
      "  -2693.410 - 2954.622i\n",
      "   3982.316 +  339.287i\n",
      "   3982.668 +  343.378i\n",
      "   1761.166 - 3589.358i\n",
      "   3984.395 +  341.429i\n",
      "\n"
     ]
    }
   ],
   "source": [
    "FftSec0RV(idxPeaksCV)"
   ]
  },
  {
   "cell_type": "code",
   "execution_count": 20,
   "metadata": {},
   "outputs": [
    {
     "name": "stdout",
     "output_type": "stream",
     "text": [
      "ans =\n",
      "\n",
      "   0.016101\n",
      "   1.216781\n",
      "   0.016578\n",
      "   0.016750\n",
      "   2.412089\n",
      "   0.017184\n",
      "   0.017448\n",
      "   0.017724\n",
      "   0.351057\n",
      "   0.018108\n",
      "   0.018707\n",
      "   1.427594\n",
      "   0.019268\n",
      "   0.019364\n",
      "   1.083714\n",
      "   1.488461\n",
      "   0.020569\n",
      "   0.020574\n",
      "   1.355017\n",
      "   1.991854\n",
      "   1.002006\n",
      "   1.750758\n",
      "   0.745035\n",
      "   0.022920\n",
      "   2.289454\n",
      "   1.425381\n",
      "   0.023739\n",
      "   1.766577\n",
      "   0.025616\n",
      "   2.161605\n",
      "   1.566721\n",
      "  -3.114951\n",
      "   0.866634\n",
      "   0.809831\n",
      "   0.027580\n",
      "   2.014162\n",
      "   1.694820\n",
      "  -3.113646\n",
      "   1.614843\n",
      "   1.260876\n",
      "   1.363929\n",
      "   2.264222\n",
      "  -3.111874\n",
      "   0.030010\n",
      "   1.645031\n",
      "   1.889466\n",
      "   1.747915\n",
      "   1.944610\n",
      "   0.031610\n",
      "  -3.110052\n",
      "   1.443239\n",
      "   1.547782\n",
      "   2.177700\n",
      "   1.649461\n",
      "  -3.108394\n",
      "   1.914350\n",
      "  -3.108321\n",
      "   1.777140\n",
      "   2.480907\n",
      "   1.254296\n",
      "   1.451884\n",
      "   1.329868\n",
      "  -3.106761\n",
      "   1.699126\n",
      "   1.424456\n",
      "  -3.105661\n",
      "  -3.104376\n",
      "   2.019658\n",
      "   2.361514\n",
      "   1.945062\n",
      "   1.812720\n",
      "  -3.103334\n",
      "   1.859834\n",
      "  -3.102187\n",
      "  -3.101899\n",
      "   2.399372\n",
      "   2.538379\n",
      "  -3.100941\n",
      "   1.934415\n",
      "  -3.100124\n",
      "   2.350436\n",
      "   1.820446\n",
      "   1.875243\n",
      "  -3.099551\n",
      "   1.974745\n",
      "   2.260370\n",
      "   1.860175\n",
      "  -3.098678\n",
      "  -3.097544\n",
      "   2.021963\n",
      "   2.752903\n",
      "   2.010332\n",
      "   2.176038\n",
      "   2.527628\n",
      "  -3.096669\n",
      "   2.141078\n",
      "  -3.096041\n",
      "   1.955848\n",
      "   2.254535\n",
      "   2.227147\n",
      "   2.083851\n",
      "  -3.094680\n",
      "  -3.094343\n",
      "  -3.094006\n",
      "   2.713427\n",
      "   2.248809\n",
      "   2.360754\n",
      "   2.102505\n",
      "  -3.092660\n",
      "   2.387292\n",
      "   2.683687\n",
      "   2.425044\n",
      "   2.379291\n",
      "   2.590778\n",
      "   0.051058\n",
      "  -2.488691\n",
      "  -2.277194\n",
      "  -2.322801\n",
      "  -2.581597\n",
      "  -2.285312\n",
      "  -3.088897\n",
      "  -2.000752\n",
      "  -2.258568\n",
      "  -2.146689\n",
      "  -2.611289\n",
      "  -3.087076\n",
      "  -3.086752\n",
      "  -3.086485\n",
      "  -1.981728\n",
      "  -2.124973\n",
      "  -2.152416\n",
      "  -1.853221\n",
      "  -3.085003\n",
      "  -2.039373\n",
      "  -3.084746\n",
      "  -2.426050\n",
      "  -2.074187\n",
      "  -1.908209\n",
      "  -2.651088\n",
      "  -1.919729\n",
      "  -3.083010\n",
      "  -3.082979\n",
      "  -1.758394\n",
      "  -2.158112\n",
      "  -1.872148\n",
      "  -3.081566\n",
      "  -1.773662\n",
      "  -1.718031\n",
      "  -2.247662\n",
      "  -3.080548\n",
      "  -1.832317\n",
      "  -3.080117\n",
      "  -2.436311\n",
      "  -2.296853\n",
      "  -3.078819\n",
      "  -3.078915\n",
      "  -1.757812\n",
      "  -3.078338\n",
      "  -1.711074\n",
      "  -1.842924\n",
      "  -2.259399\n",
      "  -1.917521\n",
      "  -3.076641\n",
      "  -3.075497\n",
      "  -1.322394\n",
      "  -1.596961\n",
      "  -3.074837\n",
      "  -1.228232\n",
      "  -1.349779\n",
      "  -1.151649\n",
      "  -2.378626\n",
      "  -1.675287\n",
      "  -3.073202\n",
      "  -1.812263\n",
      "  -3.072234\n",
      "  -1.547410\n",
      "  -2.075933\n",
      "  -1.446066\n",
      "  -1.341240\n",
      "  -3.071083\n",
      "   0.070995\n",
      "  -1.842057\n",
      "  -1.645749\n",
      "  -1.787428\n",
      "  -1.543111\n",
      "   0.072060\n",
      "  -3.069626\n",
      "  -2.162552\n",
      "  -1.261896\n",
      "  -1.158766\n",
      "  -1.512712\n",
      "  -3.068020\n",
      "  -1.593116\n",
      "  -1.912008\n",
      "   0.074450\n",
      "  -0.707647\n",
      "  -0.764090\n",
      "  -3.065748\n",
      "  -1.464639\n",
      "  -2.059523\n",
      "   0.076421\n",
      "  -1.664485\n",
      "   0.078425\n",
      "  -1.323192\n",
      "  -2.187773\n",
      "   0.079094\n",
      "  -0.642639\n",
      "  -1.648703\n",
      "  -0.899490\n",
      "  -1.889635\n",
      "  -1.253305\n",
      "   0.081502\n",
      "   0.082035\n",
      "  -1.385757\n",
      "  -0.981685\n",
      "   0.082739\n",
      "   0.083339\n",
      "  -1.324951\n",
      "   0.083328\n",
      "   0.084165\n",
      "  -0.248957\n",
      "   0.084198\n",
      "   0.084659\n",
      "   0.085279\n",
      "  -2.309979\n",
      "   0.084993\n",
      "   0.086005\n",
      "  -1.114646\n",
      "   0.085483\n",
      "\n"
     ]
    }
   ],
   "source": [
    "arg(FftSec0RV(idxPeaksCV))"
   ]
  },
  {
   "cell_type": "code",
   "execution_count": 21,
   "metadata": {},
   "outputs": [
    {
     "name": "stdout",
     "output_type": "stream",
     "text": [
      "ans =\n",
      "\n",
      "   8001      1\n",
      "\n"
     ]
    }
   ],
   "source": [
    "SigSec0ConvRV = SigRV(1:rows(SigSec0RV)) .* SigSec0RV;\n",
    "size(SigSec0ConvRV)"
   ]
  },
  {
   "cell_type": "code",
   "execution_count": 22,
   "metadata": {},
   "outputs": [
    {
     "data": {
      "image/png": "[encoded data removed]",
      "text/plain": [
       "<IPython.core.display.Image object>"
      ]
     },
     "metadata": {},
     "output_type": "display_data"
    }
   ],
   "source": [
    "offset = 0;\n",
    "plot(TshortRV, abs(SigRV(1+offset:rows(SigSec0RV)+offset) .* SigSec0RV))"
   ]
  },
  {
   "cell_type": "code",
   "execution_count": 23,
   "metadata": {},
   "outputs": [],
   "source": [
    "fracSeconds = rows(TshortRV)-1;\n",
    "indexIncr = (rows(TshortRV)-1)/fracSeconds;\n",
    "MaxPeakValue = [];\n",
    "for startIndex = 1:1:rows(SigSec0RV)\n",
    "  time = TfullRV(startIndex);\n",
    "  SigLoopRV = SigRV(startIndex:startIndex+rows(SigSec0RV)-1) .* SigSec0RV;\n",
    "  SigLoopAbsRV = abs(SigLoopRV);\n",
    "  maxPeakIdx = find(SigLoopAbsRV(:) == max(SigLoopAbsRV));\n",
    "  MaxPeakValue = [MaxPeakValue; SigLoopAbsRV(maxPeakIdx)];\n",
    "endfor"
   ]
  },
  {
   "cell_type": "code",
   "execution_count": 24,
   "metadata": {},
   "outputs": [
    {
     "data": {
      "image/png": "[encoded data removed]",
      "text/plain": [
       "<IPython.core.display.Image object>"
      ]
     },
     "metadata": {},
     "output_type": "display_data"
    }
   ],
   "source": [
    "plot(MaxPeakValue)"
   ]
  },
  {
   "cell_type": "code",
   "execution_count": 25,
   "metadata": {},
   "outputs": [],
   "source": [
    "FftSec0ConvRV = fftshift(fft(SigSec0ConvRV, sampleRate*10 + 1));\n",
    "AbsFftSec0ConvRV = abs(FftSec0ConvRV);\n",
    "FreqSec0ConvRV = [linspace(-sampleRate/2, sampleRate/2, rows(FftSec0ConvRV))](:);"
   ]
  },
  {
   "cell_type": "code",
   "execution_count": 26,
   "metadata": {},
   "outputs": [
    {
     "data": {
      "image/png": "[encoded data removed]",
      "text/plain": [
       "<IPython.core.display.Image object>"
      ]
     },
     "metadata": {},
     "output_type": "display_data"
    }
   ],
   "source": [
    "plot(FreqSec0ConvRV, AbsFftSec0ConvRV)\n"
   ]
  },
  {
   "cell_type": "code",
   "execution_count": 27,
   "metadata": {},
   "outputs": [
    {
     "name": "stdout",
     "output_type": "stream",
     "text": [
      "ans =  66001\n"
     ]
    }
   ],
   "source": [
    "find(AbsFftSec0ConvRV(:) == max(AbsFftSec0ConvRV))"
   ]
  },
  {
   "cell_type": "code",
   "execution_count": 28,
   "metadata": {},
   "outputs": [
    {
     "name": "stdout",
     "output_type": "stream",
     "text": [
      "ans =  2600\n"
     ]
    }
   ],
   "source": [
    "FreqSec0ConvRV(ans)"
   ]
  },
  {
   "cell_type": "code",
   "execution_count": 29,
   "metadata": {},
   "outputs": [
    {
     "data": {
      "image/png": "[encoded data removed]",
      "text/plain": [
       "<IPython.core.display.Image object>"
      ]
     },
     "metadata": {},
     "output_type": "display_data"
    }
   ],
   "source": [
    "plot(FreqSec0ConvRV, AbsFftSec0ConvRV)\n",
    "grid on\n",
    "grid minor\n",
    "axis([2600-15 2600+15], \"tic\")"
   ]
  },
  {
   "cell_type": "code",
   "execution_count": 30,
   "metadata": {},
   "outputs": [],
   "source": [
    "fracSeconds = rows(TshortRV)-1;\n",
    "indexIncr = (rows(TshortRV)-1)/fracSeconds;\n",
    "FreqMaxPeak = [];\n",
    "MaxPeakValue = [];\n",
    "for startIndex = 1:indexIncr:rows(SigRV)-rows(SigSec0RV)-1\n",
    "  time = TfullRV(startIndex);\n",
    "  SigLoopRV = SigRV(startIndex:startIndex+rows(SigSec0RV)-1) .* SigSec0RV;\n",
    "  FftLoopRV = fftshift(fft(SigLoopRV, sampleRate*10 + 1));\n",
    "  FftLoopAbsRV = abs(FftLoopRV);\n",
    "  FreqLoopRV = linspace(-sampleRate/2, sampleRate/2, rows(FftLoopRV));\n",
    "  maxPeakIdx = find(FftLoopAbsRV(:) == max(FftLoopAbsRV));\n",
    "  FreqMaxPeak = [FreqMaxPeak; FreqLoopRV(maxPeakIdx)];\n",
    "  MaxPeakValue = [MaxPeakValue; FftLoopAbsRV(maxPeakIdx)];\n",
    "endfor"
   ]
  },
  {
   "cell_type": "code",
   "execution_count": 31,
   "metadata": {},
   "outputs": [
    {
     "data": {
      "image/png": "[encoded data removed]",
      "text/plain": [
       "<IPython.core.display.Image object>"
      ]
     },
     "metadata": {},
     "output_type": "display_data"
    }
   ],
   "source": [
    "plot(FreqMaxPeak)"
   ]
  },
  {
   "cell_type": "code",
   "execution_count": 32,
   "metadata": {},
   "outputs": [
    {
     "data": {
      "image/png": "[encoded data removed]",
      "text/plain": [
       "<IPython.core.display.Image object>"
      ]
     },
     "metadata": {},
     "output_type": "display_data"
    }
   ],
   "source": [
    "plot(MaxPeakValue)"
   ]
  },
  {
   "cell_type": "code",
   "execution_count": null,
   "metadata": {},
   "outputs": [],
   "source": []
  }
 ],
 "metadata": {
  "kernelspec": {
   "display_name": "Octave",
   "language": "octave",
   "name": "octave"
  },
  "language_info": {
   "file_extension": ".m",
   "help_links": [
    {
     "text": "GNU Octave",
     "url": "https://www.gnu.org/software/octave/support.html"
    },
    {
     "text": "Octave Kernel",
     "url": "https://github.com/Calysto/octave_kernel"
    },
    {
     "text": "MetaKernel Magics",
     "url": "https://metakernel.readthedocs.io/en/latest/source/README.html"
    }
   ],
   "mimetype": "text/x-octave",
   "name": "octave",
   "version": "4.2.2"
  }
 },
 "nbformat": 4,
 "nbformat_minor": 2
}
