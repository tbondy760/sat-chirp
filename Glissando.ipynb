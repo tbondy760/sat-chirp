{
 "cells": [
  {
   "cell_type": "markdown",
   "metadata": {},
   "source": [
    "# Make Calibration WAV Files, Continuously Moving From One Frequency to Another\n",
    "## By Terry Bondy, VA3TYB"
   ]
  },
  {
   "cell_type": "code",
   "execution_count": 1,
   "metadata": {},
   "outputs": [
    {
     "name": "stdout",
     "output_type": "stream",
     "text": [
      "Last updated: Sunday  5 January 2020 UTC"
     ]
    }
   ],
   "source": [
    "printf(strftime (\"Last updated: %A %e %B %Y %Z\", localtime (time())))\n",
    "%plot --format svg\n",
    "# format long"
   ]
  },
  {
   "cell_type": "code",
   "execution_count": 23,
   "metadata": {},
   "outputs": [],
   "source": [
    "fcLow = 200;\n",
    "fcHigh = 2600;"
   ]
  },
  {
   "cell_type": "code",
   "execution_count": 24,
   "metadata": {},
   "outputs": [
    {
     "name": "stdout",
     "output_type": "stream",
     "text": [
      "ans =  6667.6\n"
     ]
    }
   ],
   "source": [
    "# If want to have 1 Hz per second at its fastest, then how many seconds?\n",
    "(log(fcHigh)-log(fcLow))/(log(fcHigh)-log(fcHigh-1))"
   ]
  },
  {
   "cell_type": "code",
   "execution_count": 25,
   "metadata": {},
   "outputs": [
    {
     "name": "stdout",
     "output_type": "stream",
     "text": [
      "ans =  1.8521\n"
     ]
    }
   ],
   "source": [
    "# hours?\n",
    "ans/(60*60)"
   ]
  },
  {
   "cell_type": "code",
   "execution_count": 26,
   "metadata": {},
   "outputs": [],
   "source": [
    "# too many hours"
   ]
  },
  {
   "cell_type": "code",
   "execution_count": 35,
   "metadata": {},
   "outputs": [
    {
     "name": "stdout",
     "output_type": "stream",
     "text": [
      "numOctaves =  3.7004\n"
     ]
    }
   ],
   "source": [
    "# How many octaves?\n",
    "numOctaves = log(fcHigh/fcLow)/log(2)"
   ]
  },
  {
   "cell_type": "code",
   "execution_count": 36,
   "metadata": {},
   "outputs": [
    {
     "name": "stdout",
     "output_type": "stream",
     "text": [
      "step =  1\n",
      "freq =  200\n",
      "step =  2\n",
      "freq =  214.36\n",
      "step =  3\n",
      "freq =  229.74\n",
      "step =  4\n",
      "freq =  246.23\n",
      "step =  5\n",
      "freq =  263.91\n",
      "step =  6\n",
      "freq =  282.85\n",
      "step =  7\n",
      "freq =  303.16\n",
      "step =  8\n",
      "freq =  324.92\n",
      "step =  9\n",
      "freq =  348.24\n",
      "step =  10\n",
      "freq =  373.24\n",
      "step =  11\n",
      "freq =  400.03\n",
      "step =  12\n",
      "freq =  428.75\n",
      "step =  13\n",
      "freq =  459.52\n",
      "step =  14\n",
      "freq =  492.51\n",
      "step =  15\n",
      "freq =  527.86\n",
      "step =  16\n",
      "freq =  565.76\n",
      "step =  17\n",
      "freq =  606.37\n",
      "step =  18\n",
      "freq =  649.89\n",
      "step =  19\n",
      "freq =  696.54\n",
      "step =  20\n",
      "freq =  746.54\n",
      "step =  21\n",
      "freq =  800.13\n",
      "step =  22\n",
      "freq =  857.57\n",
      "step =  23\n",
      "freq =  919.13\n",
      "step =  24\n",
      "freq =  985.10\n",
      "step =  25\n",
      "freq =  1055.8\n",
      "step =  26\n",
      "freq =  1131.6\n",
      "step =  27\n",
      "freq =  1212.8\n",
      "step =  28\n",
      "freq =  1299.9\n",
      "step =  29\n",
      "freq =  1393.2\n",
      "step =  30\n",
      "freq =  1493.2\n",
      "step =  31\n",
      "freq =  1600.4\n",
      "step =  32\n",
      "freq =  1715.3\n",
      "step =  33\n",
      "freq =  1838.4\n",
      "step =  34\n",
      "freq =  1970.4\n",
      "step =  35\n",
      "freq =  2111.8\n",
      "step =  36\n",
      "freq =  2263.4\n",
      "step =  37\n",
      "freq =  2425.9\n",
      "step =  38\n",
      "freq =  2600.0\n"
     ]
    }
   ],
   "source": [
    "steps = 37; # From ~3.7 octaves, with 10 steps per octave\n",
    "mult = exp(log(fcHigh/fcLow)/steps);\n",
    "freq = fcLow;\n",
    "for step = 1:steps+1\n",
    "  step, freq\n",
    "  freq *= mult;\n",
    "endfor"
   ]
  },
  {
   "cell_type": "code",
   "execution_count": 37,
   "metadata": {},
   "outputs": [
    {
     "name": "stdout",
     "output_type": "stream",
     "text": [
      "ans =  152\n"
     ]
    }
   ],
   "source": [
    "# How many seconds if take 38 steps, 4 sec per?\n",
    "(steps+1)*4"
   ]
  },
  {
   "cell_type": "code",
   "execution_count": 38,
   "metadata": {},
   "outputs": [],
   "source": [
    "# Or approx 2.5 minutes"
   ]
  },
  {
   "cell_type": "code",
   "execution_count": 41,
   "metadata": {},
   "outputs": [
    {
     "name": "stdout",
     "output_type": "stream",
     "text": [
      "stepsPerOctave =  20\n",
      "steps =  74\n",
      "step =  1\n",
      "freq =  200\n",
      "step =  2\n",
      "freq =  207.05\n",
      "step =  3\n",
      "freq =  214.36\n",
      "step =  4\n",
      "freq =  221.92\n",
      "step =  5\n",
      "freq =  229.74\n",
      "step =  6\n",
      "freq =  237.85\n",
      "step =  7\n",
      "freq =  246.23\n",
      "step =  8\n",
      "freq =  254.92\n",
      "step =  9\n",
      "freq =  263.91\n",
      "step =  10\n",
      "freq =  273.22\n",
      "step =  11\n",
      "freq =  282.85\n",
      "step =  12\n",
      "freq =  292.83\n",
      "step =  13\n",
      "freq =  303.16\n",
      "step =  14\n",
      "freq =  313.85\n",
      "step =  15\n",
      "freq =  324.92\n",
      "step =  16\n",
      "freq =  336.38\n",
      "step =  17\n",
      "freq =  348.24\n",
      "step =  18\n",
      "freq =  360.53\n",
      "step =  19\n",
      "freq =  373.24\n",
      "step =  20\n",
      "freq =  386.40\n",
      "step =  21\n",
      "freq =  400.03\n",
      "step =  22\n",
      "freq =  414.14\n",
      "step =  23\n",
      "freq =  428.75\n",
      "step =  24\n",
      "freq =  443.87\n",
      "step =  25\n",
      "freq =  459.52\n",
      "step =  26\n",
      "freq =  475.73\n",
      "step =  27\n",
      "freq =  492.51\n",
      "step =  28\n",
      "freq =  509.88\n",
      "step =  29\n",
      "freq =  527.86\n",
      "step =  30\n",
      "freq =  546.48\n",
      "step =  31\n",
      "freq =  565.76\n",
      "step =  32\n",
      "freq =  585.71\n",
      "step =  33\n",
      "freq =  606.37\n",
      "step =  34\n",
      "freq =  627.75\n",
      "step =  35\n",
      "freq =  649.89\n",
      "step =  36\n",
      "freq =  672.81\n",
      "step =  37\n",
      "freq =  696.54\n",
      "step =  38\n",
      "freq =  721.11\n",
      "step =  39\n",
      "freq =  746.54\n",
      "step =  40\n",
      "freq =  772.87\n",
      "step =  41\n",
      "freq =  800.13\n",
      "step =  42\n",
      "freq =  828.35\n",
      "step =  43\n",
      "freq =  857.57\n",
      "step =  44\n",
      "freq =  887.81\n",
      "step =  45\n",
      "freq =  919.13\n",
      "step =  46\n",
      "freq =  951.54\n",
      "step =  47\n",
      "freq =  985.10\n",
      "step =  48\n",
      "freq =  1019.8\n",
      "step =  49\n",
      "freq =  1055.8\n",
      "step =  50\n",
      "freq =  1093.1\n",
      "step =  51\n",
      "freq =  1131.6\n",
      "step =  52\n",
      "freq =  1171.5\n",
      "step =  53\n",
      "freq =  1212.8\n",
      "step =  54\n",
      "freq =  1255.6\n",
      "step =  55\n",
      "freq =  1299.9\n",
      "step =  56\n",
      "freq =  1345.7\n",
      "step =  57\n",
      "freq =  1393.2\n",
      "step =  58\n",
      "freq =  1442.3\n",
      "step =  59\n",
      "freq =  1493.2\n",
      "step =  60\n",
      "freq =  1545.9\n",
      "step =  61\n",
      "freq =  1600.4\n",
      "step =  62\n",
      "freq =  1656.8\n",
      "step =  63\n",
      "freq =  1715.3\n",
      "step =  64\n",
      "freq =  1775.8\n",
      "step =  65\n",
      "freq =  1838.4\n",
      "step =  66\n",
      "freq =  1903.2\n",
      "step =  67\n",
      "freq =  1970.4\n",
      "step =  68\n",
      "freq =  2039.9\n",
      "step =  69\n",
      "freq =  2111.8\n",
      "step =  70\n",
      "freq =  2186.3\n",
      "step =  71\n",
      "freq =  2263.4\n",
      "step =  72\n",
      "freq =  2343.2\n",
      "step =  73\n",
      "freq =  2425.9\n",
      "step =  74\n",
      "freq =  2511.4\n",
      "step =  75\n",
      "freq =  2600.0\n"
     ]
    }
   ],
   "source": [
    "# Make twice as many steps\n",
    "stepsPerOctave = 20\n",
    "steps = floor(numOctaves*stepsPerOctave)\n",
    "mult = exp(log(fcHigh/fcLow)/steps);\n",
    "freq = fcLow;\n",
    "for step = 1:steps+1\n",
    "  step, freq\n",
    "  freq *= mult;\n",
    "endfor"
   ]
  },
  {
   "cell_type": "code",
   "execution_count": 42,
   "metadata": {},
   "outputs": [
    {
     "name": "stdout",
     "output_type": "stream",
     "text": [
      "ans =  300\n"
     ]
    }
   ],
   "source": [
    "# How many seconds if take steps, 4 sec per?\n",
    "(steps+1)*4"
   ]
  },
  {
   "cell_type": "code",
   "execution_count": 43,
   "metadata": {},
   "outputs": [],
   "source": [
    "# Or 5 minutes"
   ]
  },
  {
   "cell_type": "code",
   "execution_count": 46,
   "metadata": {},
   "outputs": [],
   "source": [
    "sampleRate = 16000;\n",
    "dwellPeriod = 3;\n",
    "transPeriod = 1;"
   ]
  },
  {
   "cell_type": "code",
   "execution_count": 50,
   "metadata": {},
   "outputs": [],
   "source": [
    "Ttrans = 0:1/sampleRate:transPeriod;\n",
    "TransRC = 1 + (mult-1)*(1 - cos(2*pi*Ttrans/(transPeriod*2)))/2;"
   ]
  },
  {
   "cell_type": "code",
   "execution_count": 51,
   "metadata": {},
   "outputs": [
    {
     "data": {
      "image/png": "[encoded data removed]",
      "text/plain": [
       "<IPython.core.display.Image object>"
      ]
     },
     "metadata": {},
     "output_type": "display_data"
    }
   ],
   "source": [
    "plot(Ttrans, TransRC)"
   ]
  },
  {
   "cell_type": "code",
   "execution_count": 66,
   "metadata": {},
   "outputs": [
    {
     "name": "stdout",
     "output_type": "stream",
     "text": [
      "ans =  2600.0\n"
     ]
    }
   ],
   "source": [
    "Freq = fcLow .* ones(1, sampleRate*dwellPeriod+1);\n",
    "for step = 1:steps\n",
    "  Freq = [Freq(1:end-1), Freq(end) .* TransRC];\n",
    "  Freq = [Freq(1:end-1), Freq(end) .* ones(1, sampleRate*dwellPeriod+1)];\n",
    "endfor\n",
    "Freq(end)"
   ]
  },
  {
   "cell_type": "code",
   "execution_count": 67,
   "metadata": {},
   "outputs": [],
   "source": [
    "T = 1:1/sampleRate:1+(columns(Freq)-1)/sampleRate;"
   ]
  },
  {
   "cell_type": "code",
   "execution_count": 68,
   "metadata": {},
   "outputs": [
    {
     "data": {
      "image/png": "[encoded data removed]",
      "text/plain": [
       "<IPython.core.display.Image object>"
      ]
     },
     "metadata": {},
     "output_type": "display_data"
    }
   ],
   "source": [
    "semilogy(T, Freq)"
   ]
  },
  {
   "cell_type": "code",
   "execution_count": null,
   "metadata": {},
   "outputs": [],
   "source": []
  }
 ],
 "metadata": {
  "kernelspec": {
   "display_name": "Octave",
   "language": "octave",
   "name": "octave"
  },
  "language_info": {
   "file_extension": ".m",
   "help_links": [
    {
     "text": "GNU Octave",
     "url": "https://www.gnu.org/software/octave/support.html"
    },
    {
     "text": "Octave Kernel",
     "url": "https://github.com/Calysto/octave_kernel"
    },
    {
     "text": "MetaKernel Magics",
     "url": "https://metakernel.readthedocs.io/en/latest/source/README.html"
    }
   ],
   "mimetype": "text/x-octave",
   "name": "octave",
   "version": "4.2.2"
  }
 },
 "nbformat": 4,
 "nbformat_minor": 2
}
