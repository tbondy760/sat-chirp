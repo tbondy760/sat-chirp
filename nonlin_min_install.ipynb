{
 "cells": [
  {
   "cell_type": "markdown",
   "metadata": {},
   "source": [
    "The following does the install as required to use `nonlin_min`. It produces the following messages:\n",
    "```\n",
    "For information about changes from previous versions of the struct package, run 'news struct'.\n",
    "For information about changes from previous versions of the io package, run 'news io'.\n",
    "warning: doc_cache_create: unusable help text found in file 'gmdistribution'\n",
    "For information about changes from previous versions of the statistics package, run 'news statistics'.\n",
    "For information about changes from previous versions of the optim package, run 'news optim'.\n",
    "```\n",
    "\n",
    "Note that this just needs to be done once for a given Jupyter lab invocation. Subsequent `Octave` kernels only need to invoke the following:\n",
    "```\n",
    "pkg load optim\n",
    "```"
   ]
  },
  {
   "cell_type": "code",
   "execution_count": null,
   "metadata": {},
   "outputs": [],
   "source": [
    "pkg install -forge struct\n",
    "pkg install -forge io\n",
    "pkg install -forge statistics\n",
    "pkg install -forge optim\n"
   ]
  },
  {
   "cell_type": "markdown",
   "metadata": {},
   "source": [
    "See https://octave.sourceforge.io/optim/package_doc/ and https://octave.sourceforge.io/optim/function/nonlin_min.html"
   ]
  }
 ],
 "metadata": {
  "kernelspec": {
   "display_name": "Octave",
   "language": "octave",
   "name": "octave"
  },
  "language_info": {
   "file_extension": ".m",
   "help_links": [
    {
     "text": "GNU Octave",
     "url": "https://www.gnu.org/software/octave/support.html"
    },
    {
     "text": "Octave Kernel",
     "url": "https://github.com/Calysto/octave_kernel"
    },
    {
     "text": "MetaKernel Magics",
     "url": "https://metakernel.readthedocs.io/en/latest/source/README.html"
    }
   ],
   "mimetype": "text/x-octave",
   "name": "octave",
   "version": "4.2.2"
  }
 },
 "nbformat": 4,
 "nbformat_minor": 2
}
