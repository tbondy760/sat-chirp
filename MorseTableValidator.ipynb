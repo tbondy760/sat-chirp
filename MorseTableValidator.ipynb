{
 "cells": [
  {
   "cell_type": "markdown",
   "metadata": {},
   "source": [
    "# MorseTable Validator\n",
    "## By Terry Bondy, VA3TYB"
   ]
  },
  {
   "cell_type": "code",
   "execution_count": 61,
   "metadata": {},
   "outputs": [
    {
     "name": "stdout",
     "output_type": "stream",
     "text": [
      "Last updated: Tuesday 26 November 2019"
     ]
    }
   ],
   "source": [
    "printf(strftime (\"Last updated: %A %e %B %Y\", localtime (time ())))"
   ]
  },
  {
   "cell_type": "markdown",
   "metadata": {},
   "source": [
    "This notebook does simple validation on the contents of `MorseTable`.\n",
    "\n",
    "Input the table"
   ]
  },
  {
   "cell_type": "code",
   "execution_count": 62,
   "metadata": {},
   "outputs": [],
   "source": [
    "MorseTable"
   ]
  },
  {
   "cell_type": "markdown",
   "metadata": {},
   "source": [
    "This length should be 1122"
   ]
  },
  {
   "cell_type": "code",
   "execution_count": 63,
   "metadata": {},
   "outputs": [
    {
     "name": "stdout",
     "output_type": "stream",
     "text": [
      "ans =  1122\n"
     ]
    }
   ],
   "source": [
    "length(Morse_char_to_trinary_map)"
   ]
  },
  {
   "cell_type": "markdown",
   "metadata": {},
   "source": [
    "This is the string we will do lookups on to determine if the table is correct"
   ]
  },
  {
   "cell_type": "code",
   "execution_count": 64,
   "metadata": {},
   "outputs": [
    {
     "name": "stdout",
     "output_type": "stream",
     "text": [
      "Test = ABCDEFGHIJKLMNOPQRSTUVWXYZ0123456789.,?'!/()&:;=+-_\"$@\n"
     ]
    }
   ],
   "source": [
    "Test = toupper(\"abcdefghijklmnopqrstuvwxyz0123456789.,?'!/()&:;=+-_\\\"$@\")"
   ]
  },
  {
   "cell_type": "markdown",
   "metadata": {},
   "source": [
    "Do lookup on Test and create some equi-length trinary numbers \n",
    "1. Mult by 9 to add two '0' to end\n",
    "1. Add 3^19 to get leading 1 way out front"
   ]
  },
  {
   "cell_type": "code",
   "execution_count": 65,
   "metadata": {},
   "outputs": [
    {
     "name": "stdout",
     "output_type": "stream",
     "text": [
      "Trinary_for_test =\n",
      "\n",
      "10000000000000001200\n",
      "10000000000000211100\n",
      "10000000000000212100\n",
      "10000000000000021100\n",
      "10000000000000000100\n",
      "10000000000000112100\n",
      "10000000000000022100\n",
      "10000000000000111100\n",
      "10000000000000001100\n",
      "10000000000000122200\n",
      "10000000000000021200\n",
      "10000000000000121100\n",
      "10000000000000002200\n",
      "10000000000000002100\n",
      "10000000000000022200\n",
      "10000000000000122100\n",
      "10000000000000221200\n",
      "10000000000000012100\n",
      "10000000000000011100\n",
      "10000000000000000200\n",
      "10000000000000011200\n",
      "10000000000000111200\n",
      "10000000000000012200\n",
      "10000000000000211200\n",
      "10000000000000212200\n",
      "10000000000000221100\n",
      "10000000000002222200\n",
      "10000000000001222200\n",
      "10000000000001122200\n",
      "10000000000001112200\n",
      "10000000000001111200\n",
      "10000000000001111100\n",
      "10000000000002111100\n",
      "10000000000002211100\n",
      "10000000000002221100\n",
      "10000000000002222100\n",
      "10000000000012121200\n",
      "10000000000022112200\n",
      "10000000000011221100\n",
      "10000000000012222100\n",
      "10000000000021212200\n",
      "10000000000002112100\n",
      "10000000000002122100\n",
      "10000000000021221200\n",
      "10000000000001211100\n",
      "10000000000022211100\n",
      "10000000000021212100\n",
      "10000000000002111200\n",
      "10000000000001212100\n",
      "10000000000021111200\n",
      "10000000000011221200\n",
      "10000000000012112100\n",
      "10000000000111211200\n",
      "10000000000012212100\n",
      "\n"
     ]
    }
   ],
   "source": [
    "Trinary_for_test = dec2base(arrayfun(@(v) strfind(Morse_char_to_trinary_map, v)-1, Test) .* 9 .+ 3^19, 3)"
   ]
  },
  {
   "cell_type": "markdown",
   "metadata": {},
   "source": [
    "Through string substitution, create di-dahs for each character"
   ]
  },
  {
   "cell_type": "code",
   "execution_count": 66,
   "metadata": {},
   "outputs": [
    {
     "name": "stdout",
     "output_type": "stream",
     "text": [
      "Test_di_dahs = \n",
      "{\n",
      "  [1,1] =  . _ \n",
      "  [2,1] =  _ . . . \n",
      "  [3,1] =  _ . _ . \n",
      "  [4,1] =  _ . . \n",
      "  [5,1] =  . \n",
      "  [6,1] =  . . _ . \n",
      "  [7,1] =  _ _ . \n",
      "  [8,1] =  . . . . \n",
      "  [9,1] =  . . \n",
      "  [10,1] =  . _ _ _ \n",
      "  [11,1] =  _ . _ \n",
      "  [12,1] =  . _ . . \n",
      "  [13,1] =  _ _ \n",
      "  [14,1] =  _ . \n",
      "  [15,1] =  _ _ _ \n",
      "  [16,1] =  . _ _ . \n",
      "  [17,1] =  _ _ . _ \n",
      "  [18,1] =  . _ . \n",
      "  [19,1] =  . . . \n",
      "  [20,1] =  _ \n",
      "  [21,1] =  . . _ \n",
      "  [22,1] =  . . . _ \n",
      "  [23,1] =  . _ _ \n",
      "  [24,1] =  _ . . _ \n",
      "  [25,1] =  _ . _ _ \n",
      "  [26,1] =  _ _ . . \n",
      "  [27,1] =  _ _ _ _ _ \n",
      "  [28,1] =  . _ _ _ _ \n",
      "  [29,1] =  . . _ _ _ \n",
      "  [30,1] =  . . . _ _ \n",
      "  [31,1] =  . . . . _ \n",
      "  [32,1] =  . . . . . \n",
      "  [33,1] =  _ . . . . \n",
      "  [34,1] =  _ _ . . . \n",
      "  [35,1] =  _ _ _ . . \n",
      "  [36,1] =  _ _ _ _ . \n",
      "  [37,1] =  . _ . _ . _ \n",
      "  [38,1] =  _ _ . . _ _ \n",
      "  [39,1] =  . . _ _ . . \n",
      "  [40,1] =  . _ _ _ _ . \n",
      "  [41,1] =  _ . _ . _ _ \n",
      "  [42,1] =  _ . . _ . \n",
      "  [43,1] =  _ . _ _ . \n",
      "  [44,1] =  _ . _ _ . _ \n",
      "  [45,1] =  . _ . . . \n",
      "  [46,1] =  _ _ _ . . . \n",
      "  [47,1] =  _ . _ . _ . \n",
      "  [48,1] =  _ . . . _ \n",
      "  [49,1] =  . _ . _ . \n",
      "  [50,1] =  _ . . . . _ \n",
      "  [51,1] =  . . _ _ . _ \n",
      "  [52,1] =  . _ . . _ . \n",
      "  [53,1] =  . . . _ . . _ \n",
      "  [54,1] =  . _ _ . _ . \n",
      "}\n"
     ]
    }
   ],
   "source": [
    "Test_di_dahs = ...\n",
    "    # Do the processing for each character\n",
    "    arrayfun(@(v) ...\n",
    "        # Replace trailing zeroes with nothing\n",
    "        strrep(\n",
    "                # Replace '2' with dah\n",
    "                strrep(\n",
    "                       # Replace '1' with a dit\n",
    "                       strrep(\n",
    "                              # Replace leading 1 and zeroes with nothing\n",
    "                              regexprep(v, \"10000000000[0]*\", \" \"),\n",
    "                              \"1\", \". \"),\n",
    "                       \"2\", \"_ \"),\n",
    "                \"0\", \"\"),\n",
    "        cellstr(Trinary_for_test)\n",
    "    )"
   ]
  },
  {
   "cell_type": "markdown",
   "metadata": {},
   "source": [
    "Finally, concat these and compare to our expected result. `ans` will be 1 if each row compares equal."
   ]
  },
  {
   "cell_type": "code",
   "execution_count": 68,
   "metadata": {},
   "outputs": [
    {
     "name": "stdout",
     "output_type": "stream",
     "text": [
      "ans = 1\n"
     ]
    }
   ],
   "source": [
    "all(\n",
    "    strcmp(\n",
    "            strcat(cellstr(Test(:)), Test_di_dahs), \n",
    "            {\n",
    "                \"A . _ \"\n",
    "                \"B _ . . . \"\n",
    "                \"C _ . _ . \"\n",
    "                \"D _ . . \"\n",
    "                \"E . \"\n",
    "                \"F . . _ . \"\n",
    "                \"G _ _ . \"\n",
    "                \"H . . . . \"\n",
    "                \"I . . \"\n",
    "                \"J . _ _ _ \"\n",
    "                \"K _ . _ \"\n",
    "                \"L . _ . . \"\n",
    "                \"M _ _ \"\n",
    "                \"N _ . \"\n",
    "                \"O _ _ _ \"\n",
    "                \"P . _ _ . \"\n",
    "                \"Q _ _ . _ \"\n",
    "                \"R . _ . \"\n",
    "                \"S . . . \"\n",
    "                \"T _ \"\n",
    "                \"U . . _ \"\n",
    "                \"V . . . _ \"\n",
    "                \"W . _ _ \"\n",
    "                \"X _ . . _ \"\n",
    "                \"Y _ . _ _ \"\n",
    "                \"Z _ _ . . \"\n",
    "                \"0 _ _ _ _ _ \"\n",
    "                \"1 . _ _ _ _ \"\n",
    "                \"2 . . _ _ _ \"\n",
    "                \"3 . . . _ _ \"\n",
    "                \"4 . . . . _ \"\n",
    "                \"5 . . . . . \"\n",
    "                \"6 _ . . . . \"\n",
    "                \"7 _ _ . . . \"\n",
    "                \"8 _ _ _ . . \"\n",
    "                \"9 _ _ _ _ . \"\n",
    "                \". . _ . _ . _ \"\n",
    "                \", _ _ . . _ _ \"\n",
    "                \"? . . _ _ . . \"\n",
    "                \"' . _ _ _ _ . \"\n",
    "                \"! _ . _ . _ _ \"\n",
    "                \"/ _ . . _ . \"\n",
    "                \"( _ . _ _ . \"\n",
    "                \") _ . _ _ . _ \"\n",
    "                \"& . _ . . . \"\n",
    "                \": _ _ _ . . . \"\n",
    "                \"; _ . _ . _ . \"\n",
    "                \"= _ . . . _ \"\n",
    "                \"+ . _ . _ . \"\n",
    "                \"- _ . . . . _ \"\n",
    "                \"_ . . _ _ . _ \"\n",
    "                \"\\\" . _ . . _ . \"\n",
    "                \"$ . . . _ . . _ \"\n",
    "                \"@ . _ _ . _ . \"\n",
    "            }\n",
    "    )\n",
    ")"
   ]
  },
  {
   "cell_type": "markdown",
   "metadata": {},
   "source": [
    "The above should be `ans = 1` if everything is OK"
   ]
  },
  {
   "cell_type": "code",
   "execution_count": null,
   "metadata": {},
   "outputs": [],
   "source": []
  }
 ],
 "metadata": {
  "kernelspec": {
   "display_name": "Octave",
   "language": "octave",
   "name": "octave"
  },
  "language_info": {
   "file_extension": ".m",
   "help_links": [
    {
     "text": "GNU Octave",
     "url": "https://www.gnu.org/software/octave/support.html"
    },
    {
     "text": "Octave Kernel",
     "url": "https://github.com/Calysto/octave_kernel"
    },
    {
     "text": "MetaKernel Magics",
     "url": "https://metakernel.readthedocs.io/en/latest/source/README.html"
    }
   ],
   "mimetype": "text/x-octave",
   "name": "octave",
   "version": "4.2.2"
  }
 },
 "nbformat": 4,
 "nbformat_minor": 2
}
