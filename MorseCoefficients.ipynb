{
 "cells": [
  {
   "cell_type": "markdown",
   "metadata": {},
   "source": [
    "# Creating The Expected Signal\n",
    "## By Terry Bondy, VA3TYB"
   ]
  },
  {
   "cell_type": "code",
   "execution_count": 1,
   "metadata": {},
   "outputs": [
    {
     "name": "stdout",
     "output_type": "stream",
     "text": [
      "Last updated: Sunday  1 December 2019"
     ]
    }
   ],
   "source": [
    "printf(strftime (\"Last updated: %A %e %B %Y\", localtime (time ())))"
   ]
  },
  {
   "cell_type": "markdown",
   "metadata": {},
   "source": [
    "# Background"
   ]
  },
  {
   "cell_type": "markdown",
   "metadata": {},
   "source": [
    "In choosing an expected signal, we want to:\n",
    "1. Spread the signal across the radio's audio bandwidth as much as is possible,\n",
    "1. Make it identifiable when looking at a waterfall display, whether using LSB or USB, if the signal is visually detectable above the band noise,\n",
    "1. Make it distinguishable from other identifiers used for the same purpose (i.e. VA3TYB, VA3ASE, VE3YRA all being different, visually and for the detector ultimeatly used).\n",
    "1. Optimize properties of the signal for detection (more on this later).\n",
    "\n",
    "To that end a message containing the operator's call sign at least once will be:\n",
    "1. First converted to Morse represented by a row vector where each 1 represents a key down interval for a _dit_ time and each 0 represents a key up interval for a _dit_ time. For example \\[ 1 0 1 1 1 ] represents 'A'.\n",
    "1. The row vector is concatenated with \\[ 0 0 0 0 0 0 0 ] representing a space, and then a left-to-right mirror image of itself. Taking the example for 'A' a bit further = \\[ 1 0 1 1 1 0 0 0 0 0 0 0 1 1 1 0 1 ].\n",
    "1. The resulting row vector is spread evenly across the audio bandwidth of the radio, and if the value is 1, a sinusoidal tone will be produced on that frequency, and if the value is 0, no sinusoidal tone will be produced on that frequency. Taking the example further, if the radio had a bandwidth 200 - 3400 Hz, the message could be spread across the bandwidth at an interval of 200 Hz, so that tones would be sounded at 200 Hz, 600 Hz, 800 Hz, 1000 Hz, 2600 Hz, 2800 Hz, 3000 Hz, and 3400 Hz. No tones would be found on 400 Hz, 1200 Hz, 1400 Hz, 1600 Hz, 1800 Hz, 2000 Hz, 2200 Hz, 2400 Hz, and 3200 Hz."
   ]
  },
  {
   "cell_type": "markdown",
   "metadata": {},
   "source": [
    "The row vector so derived represents sound/silence coefficients for the following signal that is played by the radio:\n",
    "$${played\\ signal}(t) = \\sum\\limits_{i=0}^{bits - 1} a_s(i)\\ a_r(f)\\ cos(2\\pi{tf} + \\phi_r + \\phi_d), where f = (LF+i\\frac{HF-LF}{bits - 1})$$\n",
    "where:\n",
    "* $bits$ is the number of bits required by the message,\n",
    "* $a_s(i)$ is the $i^{th}$ sound/silent coefficient for the message, $a_s(i) \\in [0,1]$\n",
    "* $a_r(f)$ is an amplitude coefficient required for compensating for the audio frequency dependent amplitude attenuation of the SignaLink and the radio, $a_r(f) \\in \\!R, a_r(f) > 0$\n",
    "* $a_d(i)$ is a detection optimizing coefficient for the message, $a_d(i) \\in \\!C, |a_d(i)| = 1$\n",
    "* $\\phi_r$ is a phase value required for compensating for the audio frequency dependent phase delay of the SignaLink and the radio, $\\phi_r \\in \\!R, 0 \\leq a_r(f) < 2\\pi$\n",
    "* $\\phi_d$ is a detection optimizing phase value for the message, $\\phi_d \\in \\!R, 0 \\leq a_r(f) < 2\\pi$\n",
    "* $LF$ is the lower limit on the audio bandwidth of the radio, e.g. 200 Hz\n",
    "* $HF$ is the upper limit on the audio bandwidth of the radio, e.g. 2600 Hz"
   ]
  },
  {
   "cell_type": "markdown",
   "metadata": {},
   "source": [
    "# Radio Bandwidths\n",
    "## Yaesu FT-817\n",
    "The manual of the FT-817 gives the audio SSB bandwidth of the radio as:\n",
    "* 400 Hz-2600 Hz (–6 dB)\n",
    "\n",
    "## Yaesu FT-847\n",
    "The manual of the FT-847 gives the audio SSB bandwidth of the radio as:\n",
    "* 400 Hz - 2600 Hz (-6 dB)\n",
    "\n",
    "## Available Bandwidth\n",
    "So the available bandwidth in Hz is:"
   ]
  },
  {
   "cell_type": "code",
   "execution_count": 4,
   "metadata": {},
   "outputs": [
    {
     "name": "stdout",
     "output_type": "stream",
     "text": [
      "bw =  2200\n"
     ]
    }
   ],
   "source": [
    "bw = 2600 - 400\n"
   ]
  },
  {
   "cell_type": "markdown",
   "metadata": {},
   "source": [
    "# Number of Bits For Various Messages\n",
    "## VA3TYB"
   ]
  },
  {
   "cell_type": "code",
   "execution_count": 8,
   "metadata": {},
   "outputs": [
    {
     "name": "stdout",
     "output_type": "stream",
     "text": [
      "ans =  297\n"
     ]
    }
   ],
   "source": [
    "7 + 2 * size(alphaToMorse(\"QRG DE VA3TYB?\"))(2)"
   ]
  },
  {
   "cell_type": "code",
   "execution_count": 9,
   "metadata": {},
   "outputs": [
    {
     "name": "stdout",
     "output_type": "stream",
     "text": [
      "ans =  445\n"
     ]
    }
   ],
   "source": [
    "7 + 2 * size(alphaToMorse(\"QRG DE VA3TYB VA3TYB?\"))(2)"
   ]
  },
  {
   "cell_type": "code",
   "execution_count": 10,
   "metadata": {},
   "outputs": [
    {
     "name": "stdout",
     "output_type": "stream",
     "text": [
      "ans =  593\n"
     ]
    }
   ],
   "source": [
    "7 + 2 * size(alphaToMorse(\"QRG DE VA3TYB VA3TYB VA3TYB?\"))(2)"
   ]
  },
  {
   "cell_type": "markdown",
   "metadata": {},
   "source": [
    "## VA3ASE"
   ]
  },
  {
   "cell_type": "code",
   "execution_count": 11,
   "metadata": {},
   "outputs": [
    {
     "name": "stdout",
     "output_type": "stream",
     "text": [
      "ans =  269\n"
     ]
    }
   ],
   "source": [
    "7 + 2 * size(alphaToMorse(\"QRG DE VA3ASE?\"))(2)"
   ]
  },
  {
   "cell_type": "code",
   "execution_count": 12,
   "metadata": {},
   "outputs": [
    {
     "name": "stdout",
     "output_type": "stream",
     "text": [
      "ans =  389\n"
     ]
    }
   ],
   "source": [
    "7 + 2 * size(alphaToMorse(\"QRG DE VA3ASE VA3ASE?\"))(2)"
   ]
  },
  {
   "cell_type": "code",
   "execution_count": 13,
   "metadata": {},
   "outputs": [
    {
     "name": "stdout",
     "output_type": "stream",
     "text": [
      "ans =  509\n"
     ]
    }
   ],
   "source": [
    "7 + 2 * size(alphaToMorse(\"QRG DE VA3ASE VA3ASE VA3ASE?\"))(2)"
   ]
  },
  {
   "cell_type": "markdown",
   "metadata": {},
   "source": [
    "## VE3YRC"
   ]
  },
  {
   "cell_type": "code",
   "execution_count": 14,
   "metadata": {},
   "outputs": [
    {
     "name": "stdout",
     "output_type": "stream",
     "text": [
      "ans =  301\n"
     ]
    }
   ],
   "source": [
    "7 + 2 * size(alphaToMorse(\"QRG DE VE3YRC?\"))(2)"
   ]
  },
  {
   "cell_type": "code",
   "execution_count": 16,
   "metadata": {},
   "outputs": [
    {
     "name": "stdout",
     "output_type": "stream",
     "text": [
      "ans =  453\n"
     ]
    }
   ],
   "source": [
    "7 + 2 * size(alphaToMorse(\"QRG DE VE3YRC VE3YRC?\"))(2)"
   ]
  },
  {
   "cell_type": "code",
   "execution_count": 15,
   "metadata": {},
   "outputs": [
    {
     "name": "stdout",
     "output_type": "stream",
     "text": [
      "ans =  605\n"
     ]
    }
   ],
   "source": [
    "7 + 2 * size(alphaToMorse(\"QRG DE VE3YRC VE3YRC VE3YRC?\"))(2)"
   ]
  },
  {
   "cell_type": "markdown",
   "metadata": {},
   "source": [
    "## VY0JJJ\n",
    "Call sign chosen because it represents a maximally long Canadian morse callsign."
   ]
  },
  {
   "cell_type": "code",
   "execution_count": 17,
   "metadata": {},
   "outputs": [
    {
     "name": "stdout",
     "output_type": "stream",
     "text": [
      "ans =  353\n"
     ]
    }
   ],
   "source": [
    "7 + 2 * size(alphaToMorse(\"QRG DE VY0JJJ?\"))(2)"
   ]
  },
  {
   "cell_type": "code",
   "execution_count": 18,
   "metadata": {},
   "outputs": [
    {
     "name": "stdout",
     "output_type": "stream",
     "text": [
      "ans =  557\n"
     ]
    }
   ],
   "source": [
    "7 + 2 * size(alphaToMorse(\"QRG DE VY0JJJ VY0JJJ?\"))(2)"
   ]
  },
  {
   "cell_type": "code",
   "execution_count": 19,
   "metadata": {},
   "outputs": [
    {
     "name": "stdout",
     "output_type": "stream",
     "text": [
      "ans =  761\n"
     ]
    }
   ],
   "source": [
    "7 + 2 * size(alphaToMorse(\"QRG DE VY0JJJ VY0JJJ VY0JJJ?\"))(2)"
   ]
  },
  {
   "cell_type": "code",
   "execution_count": null,
   "metadata": {},
   "outputs": [],
   "source": []
  }
 ],
 "metadata": {
  "kernelspec": {
   "display_name": "Octave",
   "language": "octave",
   "name": "octave"
  },
  "language_info": {
   "file_extension": ".m",
   "help_links": [
    {
     "text": "GNU Octave",
     "url": "https://www.gnu.org/software/octave/support.html"
    },
    {
     "text": "Octave Kernel",
     "url": "https://github.com/Calysto/octave_kernel"
    },
    {
     "text": "MetaKernel Magics",
     "url": "https://metakernel.readthedocs.io/en/latest/source/README.html"
    }
   ],
   "mimetype": "text/x-octave",
   "name": "octave",
   "version": "4.2.2"
  }
 },
 "nbformat": 4,
 "nbformat_minor": 2
}
