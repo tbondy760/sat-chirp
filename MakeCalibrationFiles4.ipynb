{
 "cells": [
  {
   "cell_type": "markdown",
   "metadata": {},
   "source": [
    "# Make Calibration WAV Files\n",
    "## By Terry Bondy, VA3TYB"
   ]
  },
  {
   "cell_type": "code",
   "execution_count": 1,
   "metadata": {},
   "outputs": [
    {
     "name": "stdout",
     "output_type": "stream",
     "text": [
      "Last updated: Sunday 29 December 2019 UTC"
     ]
    }
   ],
   "source": [
    "printf(strftime (\"Last updated: %A %e %B %Y %Z\", localtime (time())))\n",
    "%plot --format svg\n",
    "# format long"
   ]
  },
  {
   "cell_type": "code",
   "execution_count": 2,
   "metadata": {},
   "outputs": [],
   "source": [
    "fcLow = 200;\n",
    "fcHigh = 2600;"
   ]
  },
  {
   "cell_type": "code",
   "execution_count": 3,
   "metadata": {},
   "outputs": [
    {
     "name": "stdout",
     "output_type": "stream",
     "text": [
      "fcMid =  721.11\n"
     ]
    }
   ],
   "source": [
    "fcMid = sqrt(fcHigh/fcLow) * fcLow"
   ]
  },
  {
   "cell_type": "code",
   "execution_count": 4,
   "metadata": {},
   "outputs": [
    {
     "name": "stdout",
     "output_type": "stream",
     "text": [
      "ans =  2401\n",
      "ans =  721.11\n"
     ]
    }
   ],
   "source": [
    "F = fcLow:1:fcHigh;\n",
    "columns(F)\n",
    "sqrt(fcLow*fcHigh)"
   ]
  },
  {
   "cell_type": "code",
   "execution_count": 5,
   "metadata": {},
   "outputs": [
    {
     "name": "stdout",
     "output_type": "stream",
     "text": [
      "jmin =  5.2983\n",
      "jmax =  7.8633\n",
      "jmid =  6.5808\n",
      "hmin =    1.5291e-04\n",
      "hmax =  1.2825\n"
     ]
    }
   ],
   "source": [
    "J = log(F);\n",
    "jmin = min(J)\n",
    "jmax = max(J)\n",
    "jmid = mean([jmin, jmax])\n",
    "H = abs(J - jmid);\n",
    "hmin = min(H)\n",
    "hmax = max(H)"
   ]
  },
  {
   "cell_type": "code",
   "execution_count": 6,
   "metadata": {},
   "outputs": [
    {
     "name": "stdout",
     "output_type": "stream",
     "text": [
      "Possible_Intervals =\n",
      "\n",
      " Columns 1 through 11:\n",
      "\n",
      "      2      3      4      5      6      8     10     12     15     16     20\n",
      "\n",
      " Columns 12 through 22:\n",
      "\n",
      "     24     25     30     32     40     48     50     60     75     80     96\n",
      "\n",
      " Columns 23 through 33:\n",
      "\n",
      "    100    120    150    160    200    240    300    400    480    600    800\n",
      "\n",
      " Columns 34 and 35:\n",
      "\n",
      "   1200   2400\n",
      "\n",
      "intervals =  15\n"
     ]
    }
   ],
   "source": [
    "# What are the factors of the number of frequencies?\n",
    "Factors = factor(columns(F)-1);\n",
    "# Determine the possible intervals by looking at all products of choose\n",
    "Possible_Intervals = unique(cell2mat(arrayfun(@(t) unique(prod(nchoosek(Factors, t), 2))', [1:columns(Factors)], \"UniformOutput\", false)))\n",
    "# Then pick one of them\n",
    "intervals = Possible_Intervals(9)"
   ]
  },
  {
   "cell_type": "markdown",
   "metadata": {},
   "source": [
    "Sort F so that it is in the order log distance from fcMid, and also compute what interval they are in."
   ]
  },
  {
   "cell_type": "code",
   "execution_count": 7,
   "metadata": {},
   "outputs": [],
   "source": [
    "G = sortrows(horzcat(H', ceil(intervals*H'/hmax), F'), [1]);"
   ]
  },
  {
   "cell_type": "markdown",
   "metadata": {},
   "source": [
    "Sample a number of rows"
   ]
  },
  {
   "cell_type": "code",
   "execution_count": 8,
   "metadata": {},
   "outputs": [
    {
     "name": "stdout",
     "output_type": "stream",
     "text": [
      "Sample =\n",
      "\n",
      "  0.000152907993856033                     1                   721\n",
      "     0.111291697227823                     2                   806\n",
      "     0.220490989192815                     3                   899\n",
      "     0.326963233703332                     4                   520\n",
      "     0.430421942071562                     6                  1109\n",
      "     0.529904077700022                     7                  1225\n",
      "     0.624843131131558                     8                  1347\n",
      "     0.714323988345509                     9                   353\n",
      "     0.800048529486476                    10                   324\n",
      "     0.880348471888118                    11                   299\n",
      "     0.956774539091467                    12                   277\n",
      "      1.02907015563475                    13                  2018\n",
      "      1.09753431122808                    13                  2161\n",
      "       1.1624776555502                    14                  2306\n",
      "      1.22420577060679                    15                   212\n",
      "      1.28247467873077                    15                   200\n",
      "      1.28247467873077                    15                   200\n",
      "\n"
     ]
    }
   ],
   "source": [
    "format long g\n",
    "Sample = vertcat(G(1:floor(end/intervals):end,:), G(rows(G),:))\n",
    "format"
   ]
  },
  {
   "cell_type": "code",
   "execution_count": 9,
   "metadata": {},
   "outputs": [
    {
     "name": "stdout",
     "output_type": "stream",
     "text": [
      "ans =\n",
      "\n",
      "   1.5291e-04   1.0000e+00   7.2100e+02\n",
      "\n"
     ]
    }
   ],
   "source": [
    "G(find(G(:,3)==721),:)"
   ]
  },
  {
   "cell_type": "code",
   "execution_count": 10,
   "metadata": {},
   "outputs": [
    {
     "name": "stdout",
     "output_type": "stream",
     "text": [
      "ans =  123\n",
      "ans =\n",
      "\n",
      " Columns 1 through 13:\n",
      "\n",
      "   123   125   126   129   132   138   142   151   156   167   176   188   201\n",
      "\n",
      " Columns 14 and 15:\n",
      "\n",
      "   215   232\n",
      "\n"
     ]
    }
   ],
   "source": [
    "sum(G(:,2) == 1)\n",
    "sum(G(:,2) == 1:1:intervals)"
   ]
  },
  {
   "cell_type": "markdown",
   "metadata": {},
   "source": [
    "Ensure that there are no values of H that are duplicated, meaning that there are a pair of frequencies, one each on each side of fcMid, that are equidistant log-wise, from fcMid. If there are, then we would have to be careful how we subdivide F later on. If there is at least one, then the following result will be zero."
   ]
  },
  {
   "cell_type": "code",
   "execution_count": 11,
   "metadata": {},
   "outputs": [
    {
     "name": "stdout",
     "output_type": "stream",
     "text": [
      "ans =    3.8469e-04\n"
     ]
    }
   ],
   "source": [
    "sort(abs(diff(H)))(1)"
   ]
  },
  {
   "cell_type": "markdown",
   "metadata": {},
   "source": [
    "Helps that fcMid is not integral, like members of F."
   ]
  },
  {
   "cell_type": "code",
   "execution_count": 12,
   "metadata": {},
   "outputs": [],
   "source": [
    "sampleRate = 16000;\n",
    "numPeriods = 10;\n",
    "period = numPeriods;\n",
    "Tshort = 0:1/sampleRate:1;\n",
    "T = 0:1/sampleRate:period;"
   ]
  },
  {
   "cell_type": "code",
   "execution_count": 13,
   "metadata": {},
   "outputs": [
    {
     "name": "stdout",
     "output_type": "stream",
     "text": [
      "ans =\n",
      "\n",
      "       1   16001\n",
      "\n",
      "ans =  1\n",
      "toc: 0.020731 seconds\n",
      "ans =  1\n",
      "toc: 8.01086e-05 seconds\n",
      "ans =  12.047\n",
      "toc: 9.29832e-05 seconds\n",
      "ans =  22.089\n",
      "toc: 8.41618e-05 seconds\n",
      "ans =  33.650\n",
      "toc: 5.19753e-05 seconds\n",
      "ans =  42.645\n",
      "toc: 7.00951e-05 seconds\n",
      "ans =  53.780\n",
      "toc: 4.69685e-05 seconds\n",
      "ans =  64.524\n",
      "toc: 3.8147e-05 seconds\n",
      "ans =  73.533\n",
      "toc: 4.1008e-05 seconds\n",
      "ans =  83.989\n",
      "toc: 3.69549e-05 seconds\n",
      "ans =  93.763\n",
      "toc: 4.00543e-05 seconds\n",
      "ans =  104.11\n",
      "toc: 4.29153e-05 seconds\n",
      "ans =  113.51\n",
      "toc: 8.82149e-05 seconds\n",
      "ans =  124.26\n",
      "toc: 7.70092e-05 seconds\n",
      "ans =  135.64\n",
      "toc: 4.69685e-05 seconds\n",
      "ans =  146.41\n",
      "toc: 4.1008e-05 seconds\n",
      "ans =  157.34\n",
      "toc: 7.89165e-05 seconds\n",
      "ans =  166.51\n",
      "toc: 4.81606e-05 seconds\n",
      "ans =  176.39\n",
      "toc: 9.89437e-05 seconds\n",
      "ans =  185.61\n",
      "toc: 9.89437e-05 seconds\n",
      "ans =  194.79\n",
      "toc: 8.01086e-05 seconds\n",
      "ans =  207.09\n",
      "toc: 8.10623e-05 seconds\n",
      "ans =  217.34\n",
      "toc: 8.10623e-05 seconds\n",
      "ans =  225.68\n",
      "toc: 8.08239e-05 seconds\n",
      "ans =  235.25\n",
      "toc: 7.20024e-05 seconds\n",
      "ans =  246.96\n",
      "toc: 7.41482e-05 seconds\n",
      "ans =  256.23\n",
      "toc: 5.50747e-05 seconds\n",
      "ans =  266.90\n",
      "toc: 6.41346e-05 seconds\n",
      "ans =  274.40\n",
      "toc: 4.81606e-05 seconds\n",
      "ans =  284.05\n",
      "toc: 7.29561e-05 seconds\n",
      "ans =  295.12\n",
      "toc: 8.89301e-05 seconds\n",
      "ans =  305.50\n",
      "toc: 4.69685e-05 seconds\n",
      "ans =  316.15\n",
      "toc: 6.79493e-05 seconds\n",
      "ans =  323.79\n",
      "toc: 5.60284e-05 seconds\n",
      "ans =  333.34\n",
      "toc: 4.69685e-05 seconds\n",
      "ans =  341.83\n",
      "toc: 4.1008e-05 seconds\n",
      "ans =  347.97\n",
      "toc: 6.69956e-05 seconds\n",
      "ans =  357.63\n",
      "toc: 0.000105858 seconds\n",
      "ans =  367.41\n",
      "toc: 6.79493e-05 seconds\n",
      "ans =  375.05\n",
      "toc: 8.08239e-05 seconds\n",
      "ans =  386.20\n",
      "toc: 8.91685e-05 seconds\n",
      "ans =  395.09\n",
      "toc: 4.19617e-05 seconds\n",
      "ans =  405.16\n",
      "toc: 4.60148e-05 seconds\n",
      "ans =  412.95\n",
      "toc: 4.41074e-05 seconds\n",
      "ans =  416.95\n",
      "toc: 5.79357e-05 seconds\n",
      "ans =  426.36\n",
      "toc: 6.10352e-05 seconds\n",
      "ans =  433.08\n",
      "toc: 5.4121e-05 seconds\n",
      "ans =  443.61\n",
      "toc: 5.19753e-05 seconds\n",
      "ans =  452.94\n",
      "toc: 5.19753e-05 seconds\n",
      "ans =  458.98\n",
      "toc: 0.000175953 seconds\n",
      "ans =  467.45\n",
      "toc: 5.19753e-05 seconds\n",
      "ans =  474.84\n",
      "toc: 4.79221e-05 seconds\n",
      "ans =  481.46\n",
      "toc: 5.00679e-05 seconds\n",
      "ans =  489.23\n",
      "toc: 7.39098e-05 seconds\n",
      "ans =  497.24\n",
      "toc: 6.07967e-05 seconds\n",
      "ans =  507.33\n",
      "toc: 6.60419e-05 seconds\n",
      "ans =  518.86\n",
      "toc: 5.88894e-05 seconds\n",
      "ans =  528.45\n",
      "toc: 7.79629e-05 seconds\n",
      "ans =  538.11\n",
      "toc: 5.38826e-05 seconds\n",
      "ans =  547.94\n",
      "toc: 0.000110865 seconds\n",
      "ans =  560.23\n",
      "toc: 6.10352e-05 seconds\n",
      "ans =  567.95\n",
      "toc: 6.69956e-05 seconds\n",
      "ans =  574.75\n",
      "toc: 0.000181198 seconds\n",
      "ans =  584.99\n",
      "toc: 9.20296e-05 seconds\n",
      "ans =  591.02\n",
      "toc: 7.70092e-05 seconds\n",
      "ans =  597.97\n",
      "toc: 7.60555e-05 seconds\n",
      "ans =  609.13\n",
      "toc: 5.91278e-05 seconds\n",
      "ans =  615.60\n",
      "toc: 7.70092e-05 seconds\n",
      "ans =  620.11\n",
      "toc: 6.29425e-05 seconds\n",
      "ans =  627.66\n",
      "toc: 9.48906e-05 seconds\n",
      "ans =  635.48\n",
      "toc: 5.22137e-05 seconds\n",
      "ans =  641.06\n",
      "toc: 6.60419e-05 seconds\n",
      "ans =  646.33\n",
      "toc: 5.6982e-05 seconds\n",
      "ans =  655.05\n",
      "toc: 5.48363e-05 seconds\n",
      "ans =  666.59\n",
      "toc: 8.58307e-05 seconds\n",
      "ans =  674.46\n",
      "toc: 0.000161886 seconds\n",
      "ans =  681.08\n",
      "toc: 5.29289e-05 seconds\n",
      "ans =  691.83\n",
      "toc: 5.48363e-05 seconds\n",
      "ans =  698.68\n",
      "toc: 8.91685e-05 seconds\n",
      "ans =  705.20\n",
      "toc: 4.31538e-05 seconds\n",
      "ans =  707.73\n",
      "toc: 8.79765e-05 seconds\n",
      "ans =  712.79\n",
      "toc: 5.10216e-05 seconds\n",
      "ans =  720.60\n",
      "toc: 8.51154e-05 seconds\n",
      "ans =  726.34\n",
      "toc: 6.50883e-05 seconds\n",
      "ans =  731.36\n",
      "toc: 0.000108004 seconds\n",
      "ans =  734.38\n",
      "toc: 3.98159e-05 seconds\n",
      "ans =  737.22\n",
      "toc: 5.00679e-05 seconds\n",
      "ans =  745.21\n",
      "toc: 9.10759e-05 seconds\n",
      "ans =  749.71\n",
      "toc: 4.79221e-05 seconds\n",
      "ans =  752.74\n",
      "toc: 6.8903e-05 seconds\n",
      "ans =  759.01\n",
      "toc: 0.00026989 seconds\n",
      "ans =  767.67\n",
      "toc: 8.39233e-05 seconds\n",
      "ans =  776.97\n",
      "toc: 0.000118971 seconds\n",
      "ans =  785.50\n",
      "toc: 7.29561e-05 seconds\n",
      "ans =  795.28\n",
      "toc: 7.00951e-05 seconds\n",
      "ans =  802.87\n",
      "toc: 4.29153e-05 seconds\n",
      "ans =  810.85\n",
      "toc: 4.31538e-05 seconds\n",
      "ans =  818.96\n",
      "toc: 6.69956e-05 seconds\n",
      "ans =  827.01\n",
      "toc: 4.22001e-05 seconds\n",
      "ans =  830.88\n",
      "toc: 4.00543e-05 seconds\n",
      "ans =  841.23\n",
      "toc: 0.000102043 seconds\n",
      "ans =  847.90\n",
      "toc: 4.29153e-05 seconds\n",
      "ans =  855.49\n",
      "toc: 5.19753e-05 seconds\n",
      "ans =  865.25\n",
      "toc: 6.79493e-05 seconds\n",
      "ans =  873.67\n",
      "toc: 7.20024e-05 seconds\n",
      "ans =  879.84\n",
      "toc: 4.50611e-05 seconds\n",
      "ans =  888.87\n",
      "toc: 6.00815e-05 seconds\n",
      "ans =  895.48\n",
      "toc: 4.1008e-05 seconds\n",
      "ans =  898.83\n",
      "toc: 0.000108004 seconds\n",
      "ans =  905.79\n",
      "toc: 7.79629e-05 seconds\n",
      "ans =  916.02\n",
      "toc: 5.60284e-05 seconds\n",
      "ans =  921.02\n",
      "toc: 8.39233e-05 seconds\n",
      "ans =  930.73\n",
      "toc: 7.20024e-05 seconds\n",
      "ans =  936.32\n",
      "toc: 4.31538e-05 seconds\n",
      "ans =  941.53\n",
      "toc: 4.29153e-05 seconds\n",
      "ans =  948.05\n",
      "toc: 4.50611e-05 seconds\n",
      "ans =  955.44\n",
      "toc: 8.10623e-05 seconds\n",
      "ans =  966.91\n",
      "toc: 4.88758e-05 seconds\n",
      "ans =  972.72\n",
      "toc: 6.60419e-05 seconds\n",
      "ans =  978.90\n",
      "toc: 6.91414e-05 seconds\n",
      "ans =  985.37\n",
      "toc: 6.41346e-05 seconds\n",
      "ans =  991.99\n",
      "toc: 7.70092e-05 seconds\n",
      "ans =  994.36\n",
      "toc: 4.19617e-05 seconds\n",
      "ans =  1004.2\n",
      "toc: 4.50611e-05 seconds\n",
      "ans =  1003.2\n",
      "toc: 4.31538e-05 seconds\n",
      "ans =  1006.4\n",
      "toc: 3.88622e-05 seconds\n",
      "ans =  1012.0\n",
      "toc: 4.69685e-05 seconds\n",
      "ans =  1015.2\n",
      "toc: 4.98295e-05 seconds\n",
      "ans =  1021.3\n",
      "toc: 0.000111103 seconds\n",
      "ans =  1031.8\n",
      "toc: 4.88758e-05 seconds\n",
      "ans =  1036.1\n",
      "toc: 0.000101089 seconds\n",
      "ans =  1037.7\n",
      "toc: 4.79221e-05 seconds\n",
      "ans =  1043.1\n",
      "toc: 4.3869e-05 seconds\n",
      "ans =  1043.8\n",
      "toc: 0.000116825 seconds\n",
      "ans =  1047.3\n",
      "toc: 0.000105143 seconds\n",
      "ans =  1055.2\n",
      "toc: 6.79493e-05 seconds\n",
      "ans =  1061.5\n",
      "toc: 5.48363e-05 seconds\n",
      "ans =  1066.1\n",
      "toc: 7.29561e-05 seconds\n",
      "ans =  1075.6\n",
      "toc: 8.2016e-05 seconds\n",
      "ans =  1085.5\n",
      "toc: 4.50611e-05 seconds\n",
      "ans =  1093.5\n",
      "toc: 0.00011301 seconds\n",
      "ans =  1100.9\n",
      "toc: 4.60148e-05 seconds\n",
      "ans =  1112.5\n",
      "toc: 6.29425e-05 seconds\n",
      "ans =  1123.1\n",
      "toc: 4.69685e-05 seconds\n",
      "ans =  1132.2\n",
      "toc: 8.2016e-05 seconds\n",
      "ans =  1142.9\n",
      "toc: 5.79357e-05 seconds\n",
      "ans =  1153.3\n",
      "toc: 8.10623e-05 seconds\n",
      "ans =  1164.3\n",
      "toc: 0.000133038 seconds\n",
      "ans =  1175.5\n",
      "toc: 4.00543e-05 seconds\n",
      "ans =  1185.9\n",
      "toc: 6.69956e-05 seconds\n",
      "ans =  1194.8\n",
      "toc: 7.9155e-05 seconds\n",
      "ans =  1202.8\n"
     ]
    }
   ],
   "source": [
    "tic = time();\n",
    "TestFreq = [ G(1,3) ];\n",
    "TestPhi = [ 0 ];\n",
    "cosArg = 2*pi*TestFreq * Tshort + TestPhi;\n",
    "Sig = cos(cosArg);\n",
    "size(Sig)\n",
    "max(abs(Sig))\n",
    "printf(\"toc: %d seconds\\n\", time() - tic)\n",
    "max(abs(Sig))\n",
    "numIndexes = 16;\n",
    "iter=1;\n",
    "for firstIndex = 2:numIndexes:rows(G)\n",
    "  TestFreq = G(firstIndex:firstIndex+numIndexes-1, 3);\n",
    "  CosTerm = 2*pi*TestFreq * Tshort;\n",
    "  tic = time();\n",
    "  TestPhi = pi*rand(rows(TestFreq),1);\n",
    "  printf(\"toc: %d seconds\\n\", time() - tic)\n",
    "  cosArg = 2*pi*TestFreq * Tshort + TestPhi;\n",
    "  Sig = sum(cos(cosArg)) + Sig;\n",
    "  # size(Sig)\n",
    "  max(abs(Sig))\n",
    "endfor"
   ]
  },
  {
   "cell_type": "code",
   "execution_count": 19,
   "metadata": {},
   "outputs": [
    {
     "name": "stdout",
     "output_type": "stream",
     "text": [
      "ans = -38.697\n",
      "ans = -38.697\n",
      "toc: 0.00864315 seconds\n"
     ]
    },
    {
     "data": {
      "image/png": "[encoded data removed]",
      "text/plain": [
       "<IPython.core.display.Image object>"
      ]
     },
     "metadata": {},
     "output_type": "display_data"
    }
   ],
   "source": [
    "Sig(1)\n",
    "Sig(end)\n",
    "tic = time();\n",
    "# Repeat Sig to expand it to numPeriods\n",
    "Sig = [(Sig(1:end-1)' * ones(1, numPeriods))(:)', Sig(1)];\n",
    "printf(\"toc: %d seconds\\n\", time() - tic)\n",
    "# size(Tshort)\n",
    "# size(T)\n",
    "# size(Sig)\n",
    "plot(T, Sig)\n",
    "# grid on\n",
    "# grid minor\n",
    "# axis([-0.1,+0.1], \"tic\")"
   ]
  },
  {
   "cell_type": "code",
   "execution_count": 20,
   "metadata": {},
   "outputs": [
    {
     "data": {
      "image/png": "[encoded data removed]",
      "text/plain": [
       "<IPython.core.display.Image object>"
      ]
     },
     "metadata": {},
     "output_type": "display_data"
    }
   ],
   "source": [
    "RC = (1 - cos(2*pi*T/period))/2;\n",
    "plot(T, RC);"
   ]
  },
  {
   "cell_type": "code",
   "execution_count": 21,
   "metadata": {},
   "outputs": [],
   "source": [
    "E_cos_pulse = fftshift(fft(RC .* Sig, sampleRate*period*10 + 1));\n",
    "# E_cos_pulse = fftshift(fft(RC .* Sig));\n",
    "F_base = linspace(-sampleRate/2, sampleRate/2, columns(E_cos_pulse));"
   ]
  },
  {
   "cell_type": "code",
   "execution_count": 26,
   "metadata": {},
   "outputs": [
    {
     "data": {
      "image/png": "[encoded data removed]",
      "text/plain": [
       "<IPython.core.display.Image object>"
      ]
     },
     "metadata": {},
     "output_type": "display_data"
    }
   ],
   "source": [
    "plot(F_base, abs(E_cos_pulse))\n",
    "grid on\n",
    "grid minor\n",
    "axis([-fcHigh-100 fcHigh+100], \"tic\")"
   ]
  },
  {
   "cell_type": "code",
   "execution_count": null,
   "metadata": {},
   "outputs": [],
   "source": []
  }
 ],
 "metadata": {
  "kernelspec": {
   "display_name": "Octave",
   "language": "octave",
   "name": "octave"
  },
  "language_info": {
   "file_extension": ".m",
   "help_links": [
    {
     "text": "GNU Octave",
     "url": "https://www.gnu.org/software/octave/support.html"
    },
    {
     "text": "Octave Kernel",
     "url": "https://github.com/Calysto/octave_kernel"
    },
    {
     "text": "MetaKernel Magics",
     "url": "https://metakernel.readthedocs.io/en/latest/source/README.html"
    }
   ],
   "mimetype": "text/x-octave",
   "name": "octave",
   "version": "4.2.2"
  }
 },
 "nbformat": 4,
 "nbformat_minor": 2
}
