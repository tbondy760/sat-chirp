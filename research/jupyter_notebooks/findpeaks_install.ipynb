{
 "cells": [
  {
   "cell_type": "markdown",
   "metadata": {},
   "source": [
    "The following does the install as required to use `findpeaks`. It may produce the following messages initially:\n",
    "```\n",
    "warning: creating installation directory /home/terry/octave\n",
    "warning: called from\n",
    "    install at line 30 column 5\n",
    "    pkg at line 394 column 9\n",
    "```\n",
    "It produces the following messages:\n",
    "```\n",
    "For information about changes from previous versions of the struct package, run 'news control'.\n",
    "For information about changes from previous versions of the io package, run 'news signal'.\n",
    "```\n",
    "\n",
    "Note that this just needs to be done once for a given Jupyter lab invocation. Subsequent `Octave` kernels only need to invoke the following:\n",
    "```\n",
    "pkg load signal\n",
    "```"
   ]
  },
  {
   "cell_type": "code",
   "execution_count": 2,
   "metadata": {},
   "outputs": [
    {
     "name": "stdout",
     "output_type": "stream",
     "text": [
      "For information about changes from previous versions of the control package, run 'news control'.\n",
      "For information about changes from previous versions of the signal package, run 'news signal'.\n"
     ]
    }
   ],
   "source": [
    "pkg install -forge control\n",
    "pkg install -forge signal"
   ]
  }
 ],
 "metadata": {
  "kernelspec": {
   "display_name": "Octave",
   "language": "octave",
   "name": "octave"
  },
  "language_info": {
   "file_extension": ".m",
   "help_links": [
    {
     "text": "GNU Octave",
     "url": "https://www.gnu.org/software/octave/support.html"
    },
    {
     "text": "Octave Kernel",
     "url": "https://github.com/Calysto/octave_kernel"
    },
    {
     "text": "MetaKernel Magics",
     "url": "https://metakernel.readthedocs.io/en/latest/source/README.html"
    }
   ],
   "mimetype": "text/x-octave",
   "name": "octave",
   "version": "4.2.2"
  }
 },
 "nbformat": 4,
 "nbformat_minor": 2
}
