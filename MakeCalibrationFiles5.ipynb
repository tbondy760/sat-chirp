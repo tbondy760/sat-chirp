{
 "cells": [
  {
   "cell_type": "markdown",
   "metadata": {},
   "source": [
    "# Make Calibration WAV Files\n",
    "## By Terry Bondy, VA3TYB"
   ]
  },
  {
   "cell_type": "code",
   "execution_count": 1,
   "metadata": {},
   "outputs": [
    {
     "name": "stdout",
     "output_type": "stream",
     "text": [
      "Last updated: Tuesday 31 December 2019 UTC"
     ]
    }
   ],
   "source": [
    "printf(strftime (\"Last updated: %A %e %B %Y %Z\", localtime (time())))\n",
    "%plot --format svg\n",
    "# format long"
   ]
  },
  {
   "cell_type": "code",
   "execution_count": 2,
   "metadata": {},
   "outputs": [],
   "source": [
    "fcLow = 200;\n",
    "fcHigh = 2600;"
   ]
  },
  {
   "cell_type": "code",
   "execution_count": 3,
   "metadata": {},
   "outputs": [
    {
     "name": "stdout",
     "output_type": "stream",
     "text": [
      "fcMid =  721.11\r\n"
     ]
    }
   ],
   "source": [
    "fcMid = sqrt(fcHigh/fcLow) * fcLow"
   ]
  },
  {
   "cell_type": "code",
   "execution_count": 4,
   "metadata": {},
   "outputs": [
    {
     "name": "stdout",
     "output_type": "stream",
     "text": [
      "ans =  2401\n",
      "ans =  721.11\n"
     ]
    }
   ],
   "source": [
    "F = fcLow:1:fcHigh;\n",
    "columns(F)\n",
    "sqrt(fcLow*fcHigh)"
   ]
  },
  {
   "cell_type": "code",
   "execution_count": 5,
   "metadata": {},
   "outputs": [
    {
     "name": "stdout",
     "output_type": "stream",
     "text": [
      "jmin =  5.2983\n",
      "jmax =  7.8633\n",
      "jmid =  6.5808\n",
      "hmin =    1.5291e-04\n",
      "hmax =  1.2825\n"
     ]
    }
   ],
   "source": [
    "J = log(F);\n",
    "jmin = min(J)\n",
    "jmax = max(J)\n",
    "jmid = mean([jmin, jmax])\n",
    "H = abs(J - jmid);\n",
    "hmin = min(H)\n",
    "hmax = max(H)"
   ]
  },
  {
   "cell_type": "code",
   "execution_count": 6,
   "metadata": {},
   "outputs": [
    {
     "name": "stdout",
     "output_type": "stream",
     "text": [
      "Possible_Intervals =\n",
      "\n",
      " Columns 1 through 11:\n",
      "\n",
      "      2      3      4      5      6      8     10     12     15     16     20\n",
      "\n",
      " Columns 12 through 22:\n",
      "\n",
      "     24     25     30     32     40     48     50     60     75     80     96\n",
      "\n",
      " Columns 23 through 33:\n",
      "\n",
      "    100    120    150    160    200    240    300    400    480    600    800\n",
      "\n",
      " Columns 34 and 35:\n",
      "\n",
      "   1200   2400\n",
      "\n",
      "intervals =  15\n"
     ]
    }
   ],
   "source": [
    "# What are the factors of the number of frequencies?\n",
    "Factors = factor(columns(F)-1);\n",
    "# Determine the possible intervals by looking at all products of choose\n",
    "Possible_Intervals = unique(cell2mat(arrayfun(@(t) unique(prod(nchoosek(Factors, t), 2))', [1:columns(Factors)], \"UniformOutput\", false)))\n",
    "# Then pick one of them\n",
    "intervals = Possible_Intervals(9)"
   ]
  },
  {
   "cell_type": "markdown",
   "metadata": {},
   "source": [
    "Sort F so that it is in the order log distance from fcMid, and also compute what interval they are in."
   ]
  },
  {
   "cell_type": "code",
   "execution_count": 7,
   "metadata": {},
   "outputs": [],
   "source": [
    "G = sortrows(horzcat(H', ceil(intervals*H'/hmax), F'), [1]);"
   ]
  },
  {
   "cell_type": "markdown",
   "metadata": {},
   "source": [
    "Sample a number of rows"
   ]
  },
  {
   "cell_type": "code",
   "execution_count": 8,
   "metadata": {},
   "outputs": [
    {
     "name": "stdout",
     "output_type": "stream",
     "text": [
      "Sample =\r\n",
      "\r\n",
      "  0.000152907993856033                     1                   721\r\n",
      "     0.111291697227823                     2                   806\r\n",
      "     0.220490989192815                     3                   899\r\n",
      "     0.326963233703332                     4                   520\r\n",
      "     0.430421942071562                     6                  1109\r\n",
      "     0.529904077700022                     7                  1225\r\n",
      "     0.624843131131558                     8                  1347\r\n",
      "     0.714323988345509                     9                   353\r\n",
      "     0.800048529486476                    10                   324\r\n",
      "     0.880348471888118                    11                   299\r\n",
      "     0.956774539091467                    12                   277\r\n",
      "      1.02907015563475                    13                  2018\r\n",
      "      1.09753431122808                    13                  2161\r\n",
      "       1.1624776555502                    14                  2306\r\n",
      "      1.22420577060679                    15                   212\r\n",
      "      1.28247467873077                    15                   200\r\n",
      "      1.28247467873077                    15                   200\r\n",
      "\r\n"
     ]
    }
   ],
   "source": [
    "format long g\n",
    "Sample = vertcat(G(1:floor(end/intervals):end,:), G(rows(G),:))\n",
    "format"
   ]
  },
  {
   "cell_type": "code",
   "execution_count": 9,
   "metadata": {},
   "outputs": [
    {
     "name": "stdout",
     "output_type": "stream",
     "text": [
      "ans =\r\n",
      "\r\n",
      "   1.5291e-04   1.0000e+00   7.2100e+02\r\n",
      "\r\n"
     ]
    }
   ],
   "source": [
    "G(find(G(:,3)==721),:)"
   ]
  },
  {
   "cell_type": "code",
   "execution_count": 10,
   "metadata": {},
   "outputs": [
    {
     "name": "stdout",
     "output_type": "stream",
     "text": [
      "ans =  123\n",
      "ans =\n",
      "\n",
      " Columns 1 through 13:\n",
      "\n",
      "   123   125   126   129   132   138   142   151   156   167   176   188   201\n",
      "\n",
      " Columns 14 and 15:\n",
      "\n",
      "   215   232\n",
      "\n"
     ]
    }
   ],
   "source": [
    "sum(G(:,2) == 1)\n",
    "sum(G(:,2) == 1:1:intervals)"
   ]
  },
  {
   "cell_type": "markdown",
   "metadata": {},
   "source": [
    "Ensure that there are no values of H that are duplicated, meaning that there are a pair of frequencies, one each on each side of fcMid, that are equidistant log-wise, from fcMid. If there are, then we would have to be careful how we subdivide F later on. If there is at least one, then the following result will be zero."
   ]
  },
  {
   "cell_type": "code",
   "execution_count": 11,
   "metadata": {},
   "outputs": [
    {
     "name": "stdout",
     "output_type": "stream",
     "text": [
      "ans =    3.8469e-04\r\n"
     ]
    }
   ],
   "source": [
    "sort(abs(diff(H)))(1)"
   ]
  },
  {
   "cell_type": "markdown",
   "metadata": {},
   "source": [
    "Helps that fcMid is not integral, like members of F."
   ]
  },
  {
   "cell_type": "code",
   "execution_count": 12,
   "metadata": {},
   "outputs": [],
   "source": [
    "TestFreq = G(:,3);\n",
    "iter = 0;\n",
    "filename = sprintf(\"TestFreq.mat\", iter);\n",
    "save(filename,\"TestFreq\");\n",
    "# save \"TestFreq.mat\" TestFreq;"
   ]
  },
  {
   "cell_type": "code",
   "execution_count": 13,
   "metadata": {},
   "outputs": [],
   "source": [
    "sampleRate = 16000;\n",
    "numPeriods = 10;\n",
    "period = numPeriods;\n",
    "Tshort = 0:1/sampleRate:1;\n",
    "T = 0:1/sampleRate:period;"
   ]
  },
  {
   "cell_type": "markdown",
   "metadata": {},
   "source": [
    "Ensure that you run `Nonlin_min_Install` notebook to install this package."
   ]
  },
  {
   "cell_type": "code",
   "execution_count": 14,
   "metadata": {},
   "outputs": [],
   "source": [
    "pkg load optim"
   ]
  },
  {
   "cell_type": "code",
   "execution_count": 15,
   "metadata": {},
   "outputs": [],
   "source": [
    "# TestPhi is a column vector, 0 <= phi <= pi, length m\n",
    "# TestFreq is a column vector, length m\n",
    "# Sig is a row vector\n",
    "# Tshort is a row vector\n",
    "function cost = costAny(Phi_trial, CosTerm, Sig)\n",
    "  cost = max(abs(sum(cos(CosTerm + Phi_trial)) + Sig));\n",
    "endfunction"
   ]
  },
  {
   "cell_type": "code",
   "execution_count": null,
   "metadata": {
    "scrolled": false
   },
   "outputs": [
    {
     "name": "stdout",
     "output_type": "stream",
     "text": [
      "ans =\n",
      "\n",
      "       1   16001\n",
      "\n",
      "ans =  1\n",
      "toc: 0.0191379 seconds\n",
      "iter: 1\n",
      "ans =  5.0877\n",
      "iter: 2\n",
      "ans =  8.4277\n",
      "iter: 3\n",
      "ans =  10.994\n",
      "iter: 4\n",
      "ans =  12.808\n",
      "iter: 5\n",
      "ans =  14.850\n",
      "iter: 6\n",
      "ans =  16.778\n",
      "iter: 7\n",
      "ans =  19.419\n",
      "iter: 8\n",
      "ans =  20.937\n",
      "iter: 9\n",
      "ans =  22.375\n",
      "iter: 10\n",
      "ans =  23.670\n",
      "iter: 11\n",
      "ans =  24.814\n",
      "iter: 12\n",
      "ans =  26.770\n",
      "iter: 13\n",
      "ans =  27.543\n",
      "iter: 14\n",
      "ans =  29.035\n",
      "iter: 15\n",
      "ans =  30.518\n",
      "iter: 16\n",
      "ans =  31.677\n",
      "iter: 17\n",
      "ans =  32.956\n",
      "iter: 18\n",
      "ans =  34.508\n",
      "iter: 19\n",
      "ans =  35.707\n",
      "iter: 20\n",
      "ans =  37.020\n",
      "iter: 21\n",
      "ans =  38.759\n",
      "iter: 22\n",
      "ans =  39.394\n",
      "iter: 23\n",
      "ans =  40.426\n",
      "iter: 24\n",
      "ans =  41.574\n",
      "iter: 25\n",
      "ans =  42.075\n",
      "iter: 26\n",
      "ans =  42.473\n",
      "iter: 27\n",
      "ans =  43.253\n",
      "iter: 28\n",
      "ans =  44.580\n",
      "iter: 29\n",
      "ans =  44.637\n",
      "iter: 30\n",
      "ans =  45.795\n",
      "iter: 31\n",
      "ans =  47.249\n",
      "iter: 32\n",
      "ans =  48.572\n",
      "iter: 33\n",
      "ans =  49.655\n",
      "iter: 34\n",
      "ans =  50.318\n",
      "iter: 35\n",
      "ans =  51.131\n",
      "iter: 36\n",
      "ans =  52.149\n",
      "iter: 37\n",
      "ans =  52.874\n",
      "iter: 38\n",
      "ans =  53.951\n",
      "iter: 39\n",
      "ans =  55.227\n",
      "iter: 40\n",
      "ans =  55.664\n",
      "iter: 41\n",
      "ans =  56.903\n",
      "iter: 42\n",
      "ans =  58.439\n",
      "iter: 43\n",
      "ans =  58.788\n",
      "iter: 44\n",
      "ans =  59.697\n",
      "iter: 45\n",
      "ans =  61.038\n",
      "iter: 46\n",
      "ans =  62.423\n",
      "iter: 47\n",
      "ans =  63.457\n",
      "iter: 48\n",
      "ans =  64.161\n",
      "iter: 49\n",
      "ans =  65.370\n",
      "iter: 50\n",
      "ans =  65.376\n",
      "iter: 51\n",
      "ans =  66.645\n",
      "iter: 52\n",
      "temperature no. 1: 1.000000e-01, energy 6.951468e+01,\n",
      "tries with energy less / not less but accepted / rejected: / to far / new optimum\n",
      "378 / 342 / 880 / 373 / 50\n",
      "temperature no. 2: 1.000000e+01, energy 7.629266e+01,\n",
      "tries with energy less / not less but accepted / rejected: / to far / new optimum\n",
      "774 / 783 / 43 / 702 / 0\n",
      "temperature no. 3: 8.333333e+00, energy 7.449638e+01,\n",
      "tries with energy less / not less but accepted / rejected: / to far / new optimum\n",
      "768 / 793 / 39 / 813 / 0\n",
      "temperature no. 4: 6.944444e+00, energy 7.701518e+01,\n",
      "tries with energy less / not less but accepted / rejected: / to far / new optimum\n",
      "777 / 780 / 43 / 812 / 0\n",
      "temperature no. 5: 5.787037e+00, energy 7.511143e+01,\n",
      "tries with energy less / not less but accepted / rejected: / to far / new optimum\n",
      "759 / 784 / 57 / 800 / 0\n",
      "temperature no. 6: 4.822531e+00, energy 7.750780e+01,\n",
      "tries with energy less / not less but accepted / rejected: / to far / new optimum\n",
      "748 / 770 / 82 / 809 / 0\n",
      "temperature no. 7: 4.018776e+00, energy 7.322093e+01,\n",
      "tries with energy less / not less but accepted / rejected: / to far / new optimum\n",
      "782 / 733 / 85 / 778 / 0\n",
      "temperature no. 8: 3.348980e+00, energy 7.541667e+01,\n",
      "tries with energy less / not less but accepted / rejected: / to far / new optimum\n",
      "701 / 770 / 129 / 842 / 0\n",
      "temperature no. 9: 2.790816e+00, energy 7.557391e+01,\n",
      "tries with energy less / not less but accepted / rejected: / to far / new optimum\n",
      "711 / 750 / 139 / 809 / 0\n",
      "temperature no. 10: 2.325680e+00, energy 7.346093e+01,\n",
      "tries with energy less / not less but accepted / rejected: / to far / new optimum\n",
      "704 / 720 / 176 / 799 / 0\n",
      "temperature no. 11: 1.938067e+00, energy 7.729238e+01,\n",
      "tries with energy less / not less but accepted / rejected: / to far / new optimum\n",
      "705 / 692 / 203 / 809 / 0\n",
      "temperature no. 12: 1.615056e+00, energy 7.500573e+01,\n",
      "tries with energy less / not less but accepted / rejected: / to far / new optimum\n",
      "690 / 687 / 223 / 766 / 0"
     ]
    }
   ],
   "source": [
    "tic = time();\n",
    "TestFreq = [ G(1,3) ];\n",
    "TestPhi = [ 0 ];\n",
    "cosArg = 2*pi*TestFreq * Tshort + TestPhi;\n",
    "Sig = cos(cosArg);\n",
    "size(Sig)\n",
    "max(abs(Sig))\n",
    "printf(\"toc: %d seconds\\n\", time() - tic)\n",
    "numIndexes = 16;\n",
    "iter=1;\n",
    "for firstIndex = 2:numIndexes:rows(G)\n",
    "  printf(\"iter: %d\\n\", iter);\n",
    "  Sigfilename = sprintf(\"Sig_%d.mat\", iter);\n",
    "  if (2 != exist (Sigfilename, \"file\"))\n",
    "    TestFreq = G(firstIndex:firstIndex+numIndexes-1, 3);\n",
    "    CosTerm = 2*pi*TestFreq * Tshort;\n",
    "    tic = time();\n",
    "  \n",
    "    init_p = pi*rand(rows(TestFreq),1);\n",
    "    lbound = zeros(rows(TestFreq), 1);\n",
    "    ubound = pi .* ones(rows(TestFreq), 1);\n",
    "    [TestPhi, objf, cvg] = nonlin_min (@ (Phi_trial) costAny(Phi_trial, CosTerm, Sig), init_p, optimset (\"Algorithm\", \"samin\", \n",
    "      \"lbound\", lbound,\n",
    "      \"ubound\", ubound,\n",
    "      \"Display\", \"iter\"\n",
    "    ));\n",
    "    printf(\"toc: %d seconds\\n\", time() - tic)\n",
    "    cosArg = 2*pi*TestFreq * Tshort + TestPhi;\n",
    "    Sig = sum(cos(cosArg)) + Sig;\n",
    "    save(Sigfilename, \"Sig\");\n",
    "    filename = sprintf(\"TestFreq_%d.mat\", iter);\n",
    "    save(filename, \"TestFreq\");\n",
    "    filename = sprintf(\"TestPhi_%d.mat\", iter);\n",
    "    save(filename, \"TestPhi\");\n",
    "  else\n",
    "    load(Sigfilename)\n",
    "  endif\n",
    "  \n",
    "  max(abs(Sig))\n",
    "  iter++;\n",
    "endfor"
   ]
  },
  {
   "cell_type": "code",
   "execution_count": null,
   "metadata": {},
   "outputs": [],
   "source": [
    "Sig(1)\n",
    "Sig(end)\n",
    "# Repeat Sig to expand it to numPeriods\n",
    "Sig = [(Sig(1:end-1)' * ones(1, numPeriods))(:)', Sig(1)];"
   ]
  },
  {
   "cell_type": "code",
   "execution_count": null,
   "metadata": {},
   "outputs": [],
   "source": [
    "plot(T, Sig)"
   ]
  },
  {
   "cell_type": "code",
   "execution_count": null,
   "metadata": {},
   "outputs": [],
   "source": [
    "RC = (1 - cos(2*pi*T/period))/2;"
   ]
  },
  {
   "cell_type": "code",
   "execution_count": null,
   "metadata": {},
   "outputs": [],
   "source": [
    "E_cos_pulse = fftshift(fft(RC .* Sig, sampleRate*period*10 + 1));\n",
    "# E_cos_pulse = fftshift(fft(RC .* Sig));\n",
    "F_base = linspace(-sampleRate/2, sampleRate/2, columns(E_cos_pulse));"
   ]
  },
  {
   "cell_type": "code",
   "execution_count": null,
   "metadata": {},
   "outputs": [],
   "source": [
    "plot(F_base, abs(E_cos_pulse))\n",
    "grid on\n",
    "grid minor\n",
    "# axis([fcLow-10 fcLow+10], \"tic\")"
   ]
  },
  {
   "cell_type": "code",
   "execution_count": null,
   "metadata": {},
   "outputs": [],
   "source": []
  }
 ],
 "metadata": {
  "kernelspec": {
   "display_name": "Octave",
   "language": "octave",
   "name": "octave"
  },
  "language_info": {
   "file_extension": ".m",
   "help_links": [
    {
     "text": "GNU Octave",
     "url": "https://www.gnu.org/software/octave/support.html"
    },
    {
     "text": "Octave Kernel",
     "url": "https://github.com/Calysto/octave_kernel"
    },
    {
     "text": "MetaKernel Magics",
     "url": "https://metakernel.readthedocs.io/en/latest/source/README.html"
    }
   ],
   "mimetype": "text/x-octave",
   "name": "octave",
   "version": "4.2.2"
  }
 },
 "nbformat": 4,
 "nbformat_minor": 2
}
