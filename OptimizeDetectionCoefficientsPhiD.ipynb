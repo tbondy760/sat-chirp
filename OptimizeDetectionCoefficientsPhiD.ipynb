{
 "cells": [
  {
   "cell_type": "markdown",
   "metadata": {},
   "source": [
    "# Morse Coefficient Optimization\n",
    "## By Terry Bondy, VA3TYB"
   ]
  },
  {
   "cell_type": "code",
   "execution_count": 1,
   "metadata": {},
   "outputs": [
    {
     "name": "stdout",
     "output_type": "stream",
     "text": [
      "Last updated: Sunday  8 December 2019"
     ]
    }
   ],
   "source": [
    "printf(strftime (\"Last updated: %A %e %B %Y\", localtime (time ())))"
   ]
  },
  {
   "cell_type": "markdown",
   "metadata": {},
   "source": [
    "The notebook concerns itself with optimizing the detection coefficients $\\phi_d(i)$ from `MorseCoefficients` notebook where $\\phi_d(i)$ is is the $i^{th}$ detection optimizing phase value for the message.\n",
    "\n",
    "Turns out if $M$ is the number of bits, then only have to optimize $\\frac{M}{2}$ values, because for maximal detection, $\\phi_d(i) = -\\phi_d(M + 1 - i)$\n"
   ]
  },
  {
   "cell_type": "markdown",
   "metadata": {},
   "source": [
    "The following function computes a column vector representing the sound/silence coefficients $a_s(i)$ for the message to be sent."
   ]
  },
  {
   "cell_type": "code",
   "execution_count": 2,
   "metadata": {},
   "outputs": [],
   "source": [
    "function A_s = makeMorseSoundSilence(message)\n",
    "    baseCoeff = alphaToMorse(message)';\n",
    "    A_s = vertcat(baseCoeff, [ 0; 0; 0; 0; 0; 0; 0; ], flip(baseCoeff));\n",
    "    sz = rows(A_s);\n",
    "    # See if needs padding\n",
    "    if (sz < 551)\n",
    "        half = (551 - sz)/2;\n",
    "        A_s = vertcat(zeros(half,1), baseCoeff, [ 0; 0; 0; 0; 0; 0; 0; ], flip(baseCoeff), zeros(half,1));\n",
    "    endif        \n",
    "endfunction"
   ]
  },
  {
   "cell_type": "markdown",
   "metadata": {},
   "source": [
    "Try it out"
   ]
  },
  {
   "cell_type": "code",
   "execution_count": 3,
   "metadata": {},
   "outputs": [
    {
     "name": "stdout",
     "output_type": "stream",
     "text": [
      "ans =  551\n"
     ]
    }
   ],
   "source": [
    "A_s = makeMorseSoundSilence(\"QRG DE VA3TYB VA3TYB?\");\n",
    "rows(A_s)"
   ]
  },
  {
   "cell_type": "markdown",
   "metadata": {},
   "source": [
    "Determine the number of \"on\" bits."
   ]
  },
  {
   "cell_type": "code",
   "execution_count": 4,
   "metadata": {},
   "outputs": [
    {
     "name": "stdout",
     "output_type": "stream",
     "text": [
      "ans =  228\n"
     ]
    }
   ],
   "source": [
    "A_s' * A_s"
   ]
  },
  {
   "cell_type": "markdown",
   "metadata": {},
   "source": [
    "The following is the cost function used to optimize $\\phi_d(i)$."
   ]
  },
  {
   "cell_type": "code",
   "execution_count": 5,
   "metadata": {},
   "outputs": [],
   "source": [
    "# Phi_d is a column vector, 0 <= phi <= pi, length m\n",
    "# A_s is a column vector, 0 or 1s, length 2m + 1\n",
    "function cost = costAny(Phi_d, A_s)\n",
    "  # Make a test vector where the back half is a mirror and congugate of the front half for maximal detection\n",
    "  # Centre value is 1, because it is the unit vector that is a congugate of itself\n",
    "  test = A_s .* [ exp(j .* Phi_d); 1; exp(-j .* flip(Phi_d)) ];\n",
    "  cost = max(abs(conv(test,flip(test))))/(A_s' * A_s);\n",
    "endfunction"
   ]
  },
  {
   "cell_type": "markdown",
   "metadata": {},
   "source": [
    "Try it out. Should get an answer between 0.15 and 0.5 but usually between 0.25 and 0.4."
   ]
  },
  {
   "cell_type": "code",
   "execution_count": 6,
   "metadata": {},
   "outputs": [
    {
     "name": "stdout",
     "output_type": "stream",
     "text": [
      "ans =  0.24511\n"
     ]
    }
   ],
   "source": [
    "costAny(pi .* rand(floor(rows(A_s)/2), 1), A_s)"
   ]
  },
  {
   "cell_type": "markdown",
   "metadata": {},
   "source": [
    "Ensure that you run `Nonlin_min_Install` notebook to install this package."
   ]
  },
  {
   "cell_type": "code",
   "execution_count": 7,
   "metadata": {},
   "outputs": [],
   "source": [
    "pkg load optim"
   ]
  },
  {
   "cell_type": "markdown",
   "metadata": {},
   "source": [
    "Finally a function that will provide $a_s(i)$ and $\\phi_d(i)$ for a given message."
   ]
  },
  {
   "cell_type": "code",
   "execution_count": 8,
   "metadata": {},
   "outputs": [],
   "source": [
    "function [A_s, Phi_d, objf, cvg] = optimize(message)\n",
    "  A_s = makeMorseSoundSilence(message);\n",
    "  m = floor(rows(A_s)/2);\n",
    "  A_s_half = A_s(1:m);\n",
    "  init_p = pi .* rand(m, 1) .* A_s_half;\n",
    "  # Not varying all the parameters\n",
    "  fixed = not(logical(A_s_half));\n",
    "  lbound = zeros(m, 1);\n",
    "  ubound = pi .* ones(m, 1);\n",
    "  [Phi_d, objf, cvg] = nonlin_min (@ (Phi_trial) costAny(Phi_trial, A_s), init_p, optimset (\"Algorithm\", \"samin\", \n",
    "    \"fixed\", fixed,\n",
    "    \"lbound\", lbound,\n",
    "    \"ubound\", ubound,\n",
    "    \"Display\", \"iter\"\n",
    "  ));\n",
    "endfunction"
   ]
  },
  {
   "cell_type": "markdown",
   "metadata": {},
   "source": [
    "Try it out."
   ]
  },
  {
   "cell_type": "code",
   "execution_count": null,
   "metadata": {},
   "outputs": [
    {
     "name": "stdout",
     "output_type": "stream",
     "text": [
      "temperature no. 1: 1.000000e-01, energy 3.367722e-01,\n",
      "tries with energy less / not less but accepted / rejected: / to far / new optimum\n",
      "3688 / 5254 / 258 / 4537 / 7\n",
      "temperature no. 2: 8.333333e-02, energy 2.919526e-01,\n",
      "tries with energy less / not less but accepted / rejected: / to far / new optimum\n",
      "3610 / 5277 / 313 / 4611 / 1\n",
      "temperature no. 3: 6.944444e-02, energy 2.409643e-01,\n",
      "tries with energy less / not less but accepted / rejected: / to far / new optimum\n",
      "3570 / 5280 / 350 / 4583 / 4\n",
      "temperature no. 4: 5.787037e-02, energy 3.231423e-01,\n",
      "tries with energy less / not less but accepted / rejected: / to far / new optimum\n",
      "3539 / 5179 / 482 / 4677 / 0\n",
      "temperature no. 5: 4.822531e-02, energy 2.897285e-01,\n",
      "tries with energy less / not less but accepted / rejected: / to far / new optimum\n",
      "3474 / 5165 / 561 / 4572 / 0\n",
      "temperature no. 6: 4.018776e-02, energy 2.288672e-01,\n",
      "tries with energy less / not less but accepted / rejected: / to far / new optimum\n",
      "3475 / 5042 / 683 / 4615 / 0\n",
      "temperature no. 7: 3.348980e-02, energy 2.643261e-01,\n",
      "tries with energy less / not less but accepted / rejected: / to far / new optimum\n",
      "3340 / 5118 / 742 / 4555 / 1\n",
      "temperature no. 8: 2.790816e-02, energy 3.139238e-01,\n",
      "tries with energy less / not less but accepted / rejected: / to far / new optimum\n",
      "3338 / 4938 / 924 / 4559 / 1\n",
      "temperature no. 9: 2.325680e-02, energy 2.377605e-01,\n",
      "tries with energy less / not less but accepted / rejected: / to far / new optimum\n",
      "3231 / 4935 / 1034 / 4689 / 1\n",
      "temperature no. 10: 1.938067e-02, energy 2.710122e-01,\n",
      "tries with energy less / not less but accepted / rejected: / to far / new optimum\n",
      "3194 / 4686 / 1320 / 4609 / 0\n",
      "temperature no. 11: 1.615056e-02, energy 2.675849e-01,\n",
      "tries with energy less / not less but accepted / rejected: / to far / new optimum\n",
      "3039 / 4557 / 1604 / 4601 / 4\n",
      "temperature no. 12: 1.345880e-02, energy 2.428999e-01,\n",
      "tries with energy less / not less but accepted / rejected: / to far / new optimum\n",
      "2926 / 4455 / 1819 / 4555 / 8"
     ]
    }
   ],
   "source": [
    "[VA3ASE_A_s, VA3ASE_Phi_d, objf, cvg] = optimize(\"QRG DE VA3ASE VA3ASE?\");\n",
    "cvg\n",
    "objf\n"
   ]
  },
  {
   "cell_type": "code",
   "execution_count": null,
   "metadata": {},
   "outputs": [],
   "source": [
    "[VE3YRA_A_s, VE3YRA_Phi_d, objf, cvg] = optimize(\"QRG DE VE3YRA VE3YRA?\");\n",
    "cvg\n",
    "objf"
   ]
  },
  {
   "cell_type": "code",
   "execution_count": null,
   "metadata": {},
   "outputs": [],
   "source": [
    "[VA3TYB_A_s, VA3TYB_Phi_d, objf, cvg] = optimize(\"QRG DE VA3TYB VA3TYB?\");\n",
    "cvg\n",
    "objf"
   ]
  }
 ],
 "metadata": {
  "kernelspec": {
   "display_name": "Octave",
   "language": "octave",
   "name": "octave"
  },
  "language_info": {
   "file_extension": ".m",
   "help_links": [
    {
     "text": "GNU Octave",
     "url": "https://www.gnu.org/software/octave/support.html"
    },
    {
     "text": "Octave Kernel",
     "url": "https://github.com/Calysto/octave_kernel"
    },
    {
     "text": "MetaKernel Magics",
     "url": "https://metakernel.readthedocs.io/en/latest/source/README.html"
    }
   ],
   "mimetype": "text/x-octave",
   "name": "octave",
   "version": "4.2.2"
  }
 },
 "nbformat": 4,
 "nbformat_minor": 2
}
