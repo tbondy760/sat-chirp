{
 "cells": [
  {
   "cell_type": "markdown",
   "metadata": {},
   "source": [
    "# Create Coefficients For Messages\n",
    "## By Terry Bondy, VA3TYB"
   ]
  },
  {
   "cell_type": "code",
   "execution_count": 1,
   "metadata": {},
   "outputs": [
    {
     "name": "stdout",
     "output_type": "stream",
     "text": [
      "Last updated: Tuesday 26 November 2019"
     ]
    }
   ],
   "source": [
    "printf(strftime (\"Last updated: %A %e %B %Y\", localtime (time ())))"
   ]
  },
  {
   "cell_type": "markdown",
   "metadata": {},
   "source": [
    "Input the table"
   ]
  },
  {
   "cell_type": "code",
   "execution_count": 2,
   "metadata": {},
   "outputs": [],
   "source": [
    "MorseTable"
   ]
  },
  {
   "cell_type": "code",
   "execution_count": 3,
   "metadata": {},
   "outputs": [
    {
     "name": "stdout",
     "output_type": "stream",
     "text": [
      "Test = QRG DE VA3TYB?\n"
     ]
    }
   ],
   "source": [
    "Test = \"QRG DE VA3TYB?\""
   ]
  },
  {
   "cell_type": "code",
   "execution_count": 4,
   "metadata": {},
   "outputs": [
    {
     "name": "stdout",
     "output_type": "stream",
     "text": [
      "Trinary_for_test =\n",
      "\n",
      "10000000000000221200\n",
      "10000000000000012100\n",
      "10000000000000022100\n",
      "10000000000000000000\n",
      "10000000000000021100\n",
      "10000000000000000100\n",
      "10000000000000000000\n",
      "10000000000000111200\n",
      "10000000000000001200\n",
      "10000000000001112200\n",
      "10000000000000000200\n",
      "10000000000000212200\n",
      "10000000000000211100\n",
      "10000000000011221100\n",
      "\n"
     ]
    }
   ],
   "source": [
    "Trinary_for_test = dec2base(arrayfun(@(v) strfind(Morse_char_to_trinary_map, v)(1) - 1, Test) .* 9 .+ 3^19, 3)"
   ]
  },
  {
   "cell_type": "code",
   "execution_count": 5,
   "metadata": {},
   "outputs": [
    {
     "name": "stdout",
     "output_type": "stream",
     "text": [
      "Test_marks = \n",
      "{\n",
      "  [1,1] = aaa0aaa0a0aaa000\n",
      "  [2,1] = a0aaa0a000\n",
      "  [3,1] = aaa0aaa0a000\n",
      "  [4,1] = 00\n",
      "  [5,1] = aaa0a0a000\n",
      "  [6,1] = a000\n",
      "  [7,1] = 00\n",
      "  [8,1] = a0a0a0aaa000\n",
      "  [9,1] = a0aaa000\n",
      "  [10,1] = a0a0a0aaa0aaa000\n",
      "  [11,1] = aaa000\n",
      "  [12,1] = aaa0a0aaa0aaa000\n",
      "  [13,1] = aaa0a0a0a000\n",
      "  [14,1] = a0a0aaa0aaa0a0a000\n",
      "}\n"
     ]
    }
   ],
   "source": [
    "Test_marks = ...\n",
    "    # Do the processing for each character\n",
    "    arrayfun(@(v) ...\n",
    "        # Replace trailing zeroes with nothing\n",
    "#        strrep(\n",
    "                # Replace '2' with 'aaa0'\n",
    "                strrep(\n",
    "                       # Replace '1' with a 'a0'\n",
    "                       strrep(\n",
    "                              # Replace leading 1 and zeroes with nothing\n",
    "                              regexprep(v, \"^10{9,16}([12])|^10{17}(00)$\", \"$1\"),\n",
    "                              \"1\", \"a0\"),\n",
    "                       \"2\", \"aaa0\"),\n",
    "#                \"0\", \"\"),\n",
    "        cellstr(Trinary_for_test)\n",
    "    )"
   ]
  },
  {
   "cell_type": "code",
   "execution_count": 6,
   "metadata": {},
   "outputs": [
    {
     "name": "stdout",
     "output_type": "stream",
     "text": [
      "Test_marks_str =\n",
      "\n",
      "aaa0aaa0a0aaa000  \n",
      "a0aaa0a000        \n",
      "aaa0aaa0a000      \n",
      "00                \n",
      "aaa0a0a000        \n",
      "a000              \n",
      "00                \n",
      "a0a0a0aaa000      \n",
      "a0aaa000          \n",
      "a0a0a0aaa0aaa000  \n",
      "aaa000            \n",
      "aaa0a0aaa0aaa000  \n",
      "aaa0a0a0a000      \n",
      "a0a0aaa0aaa0a0a000\n",
      "\n"
     ]
    }
   ],
   "source": [
    "Test_marks_str = char(Test_marks(:,1))"
   ]
  },
  {
   "cell_type": "code",
   "execution_count": 7,
   "metadata": {},
   "outputs": [
    {
     "name": "stdout",
     "output_type": "stream",
     "text": [
      "ans =\n",
      "\n",
      "   14   18\n",
      "\n"
     ]
    }
   ],
   "source": [
    "size(Test_marks_str)"
   ]
  },
  {
   "cell_type": "code",
   "execution_count": 8,
   "metadata": {},
   "outputs": [
    {
     "name": "stdout",
     "output_type": "stream",
     "text": [
      "Test_marks_concat = aaa0aaa0a0aaa000a0aaa0a000aaa0aaa0a00000aaa0a0a000a00000a0a0a0aaa000a0aaa000a0a0a0aaa0aaa000aaa000aaa0a0aaa0aaa000aaa0a0a0a000a0a0aaa0aaa0a0a000\n"
     ]
    }
   ],
   "source": [
    "Test_marks_concat = strrep(reshape(Test_marks_str', 1, []), \" \", \"\")"
   ]
  },
  {
   "cell_type": "code",
   "execution_count": 9,
   "metadata": {},
   "outputs": [
    {
     "name": "stdout",
     "output_type": "stream",
     "text": [
      "Test_coeff =\n",
      "\n",
      " Columns 1 through 26:\n",
      "\n",
      "  1  1  1  0  1  1  1  0  1  0  1  1  1  0  0  0  1  0  1  1  1  0  1  0  0  0\n",
      "\n",
      " Columns 27 through 52:\n",
      "\n",
      "  1  1  1  0  1  1  1  0  1  0  0  0  0  0  1  1  1  0  1  0  1  0  0  0  1  0\n",
      "\n",
      " Columns 53 through 78:\n",
      "\n",
      "  0  0  0  0  1  0  1  0  1  0  1  1  1  0  0  0  1  0  1  1  1  0  0  0  1  0\n",
      "\n",
      " Columns 79 through 104:\n",
      "\n",
      "  1  0  1  0  1  1  1  0  1  1  1  0  0  0  1  1  1  0  0  0  1  1  1  0  1  0\n",
      "\n",
      " Columns 105 through 130:\n",
      "\n",
      "  1  1  1  0  1  1  1  0  0  0  1  1  1  0  1  0  1  0  1  0  0  0  1  0  1  0\n",
      "\n",
      " Columns 131 through 144:\n",
      "\n",
      "  1  1  1  0  1  1  1  0  1  0  1  0  0  0\n",
      "\n"
     ]
    }
   ],
   "source": [
    "Test_coeff = isalpha(Test_marks_concat)"
   ]
  },
  {
   "cell_type": "code",
   "execution_count": null,
   "metadata": {},
   "outputs": [],
   "source": []
  }
 ],
 "metadata": {
  "kernelspec": {
   "display_name": "Octave",
   "language": "octave",
   "name": "octave"
  },
  "language_info": {
   "file_extension": ".m",
   "help_links": [
    {
     "text": "GNU Octave",
     "url": "https://www.gnu.org/software/octave/support.html"
    },
    {
     "text": "Octave Kernel",
     "url": "https://github.com/Calysto/octave_kernel"
    },
    {
     "text": "MetaKernel Magics",
     "url": "https://metakernel.readthedocs.io/en/latest/source/README.html"
    }
   ],
   "mimetype": "text/x-octave",
   "name": "octave",
   "version": "4.2.2"
  }
 },
 "nbformat": 4,
 "nbformat_minor": 2
}
