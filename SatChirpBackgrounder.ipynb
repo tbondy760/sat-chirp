{
 "cells": [
  {
   "cell_type": "markdown",
   "metadata": {},
   "source": [
    "# Sat Chirp Backgrounder\n",
    "By Terry Bondy, VA3TYB"
   ]
  },
  {
   "cell_type": "code",
   "execution_count": 34,
   "metadata": {},
   "outputs": [
    {
     "name": "stdout",
     "output_type": "stream",
     "text": [
      "Last updated: Thursday 24 October 2019"
     ]
    }
   ],
   "source": [
    "printf(strftime (\"Last updated: %A %e %B %Y\", localtime (time ())))"
   ]
  },
  {
   "cell_type": "markdown",
   "metadata": {},
   "source": [
    "# Scope\n",
    "What is described here is background for a means of determining the \n",
    "instantaneous translating properties of a linear satellite by sending \n",
    "a single brief 'chirp' in the uplink and listening across the satellite band \n",
    "for the downlink with an SDR and doing some processing. These translation \n",
    "properties include:\n",
    "* The instantaneous tranlation frequency,\n",
    "* Whether the downlink is USB or LSB.\n",
    "\n",
    "# Producing This Document\n",
    "This document is produced using [Octave](https://www.gnu.org/software/octave/), an open source tool very similar to\n",
    "*Matlab*. The lines in the boxes are *Octave* commands to create the \n",
    "mathematical examples that are used. Octave is being run in a [Jupyter](https://jupyterlab.readthedocs.io/en/stable/) notebook which can be access from the internet, TBD.\n",
    "\n",
    "But first a bit of bookkeeping.\n"
   ]
  },
  {
   "cell_type": "code",
   "execution_count": null,
   "metadata": {},
   "outputs": [],
   "source": [
    "%plot --format svg"
   ]
  },
  {
   "cell_type": "markdown",
   "metadata": {},
   "source": [
    "# Strategy for Determining Downlink Frequency of the Uplink Chirp\n",
    "To further describe the strategy for determining the downlink frequency\n",
    "of the uplink chirp, the SDR will receive the complete satellite downlink\n",
    "band and do processing on it. It will look at the _frequency_ representation\n",
    "of the chirp that is decided on and determine its frequency offset.\n",
    "\n",
    "In order to determine the frequency offset, the process will use a \n",
    "[matched filter](https://en.wikipedia.org/wiki/Matched_filter). An example\n",
    "of a matched filter will demonstrate the two properties that will make it \n",
    "useful for this process:\n",
    "* It is easy to determine whether the signal originating the matched filter is present,\n",
    "* It is easy to determine when the signal originating the matched filter has completed."
   ]
  },
  {
   "cell_type": "markdown",
   "metadata": {},
   "source": [
    "For this example we wish to detect a 20 Hz cosine pulse 1s long."
   ]
  },
  {
   "cell_type": "code",
   "execution_count": null,
   "metadata": {},
   "outputs": [],
   "source": [
    "sample_rate = 6000; # Sampling at 6 kHz\n",
    "T_base = [0: 1/sample_rate: 1]; # The time base, sampling at 6 kHz\n",
    "V_cos_pulse = cos(2*pi*20*T_base);\n",
    "\n",
    "plot(T_base, V_cos_pulse)\n",
    "ylabel(\"Amplitude (V)\")\n",
    "xlabel(\"Time (s)\")\n",
    "title(\"Figure 1: Cosine Pulse - Time domain\")\n",
    "axis([-0.5 1.5 -2 2])"
   ]
  },
  {
   "cell_type": "markdown",
   "metadata": {},
   "source": [
    "As it turns out the matched filter is the time reversed version of the\n",
    "signal, which in this case is the signal itself because $cos(2\\pi*20*t) = cos(2\\pi*20*-t)$\n",
    "\n",
    "The output of the filter is determined by convolving the input signal\n",
    "with the matched filter.\n",
    "\n",
    "## Matched Filter (Time Domain) Background\n",
    "For the first part of the example, the input\n",
    "is the signal itself followed by 4 sec of silence, then the signal again, then 4 sec of silence, then the signal and then lastly 4 sec of silence."
   ]
  },
  {
   "cell_type": "code",
   "execution_count": null,
   "metadata": {},
   "outputs": [],
   "source": [
    "V_4s_silence = zeros(1, sample_rate*4);\n",
    "V_input = horzcat(V_cos_pulse, V_4s_silence, V_cos_pulse, V_4s_silence, V_cos_pulse, V_4s_silence);\n",
    "T_base = [0: 1/sample_rate: (size(V_input,2)-1)/sample_rate]; # The time base\n",
    "plot(T_base, V_input)\n",
    "ylabel(\"Amplitude (V)\")\n",
    "xlabel(\"Time (s)\")\n",
    "title(\"Figure 2: Input Signal - Time Domain\")\n",
    "axis([-0.5 15.5 -2 2])"
   ]
  },
  {
   "cell_type": "markdown",
   "metadata": {},
   "source": [
    "To do the matching, we convolve the time reversed signal we are searching for with the input signal. The peaks of the output indicate the moment of times the signal was detected."
   ]
  },
  {
   "cell_type": "code",
   "execution_count": null,
   "metadata": {},
   "outputs": [],
   "source": [
    "V_matching = flip(V_cos_pulse); # 'flip' does the time reversing, not really necessary for this signal\n",
    "V_matched = conv(V_matching, V_input);\n",
    "T_base = [0: 1/sample_rate: (size(V_matched,2)-1)/sample_rate]; # The time base, sampling at 6 kHz\n",
    "plot(T_base, V_matched)\n",
    "ylabel(\"Amplitude (V)\")\n",
    "xlabel(\"Time (s)\")\n",
    "title(\"Figure 3: Matched Filter Output - Time Domain\")\n",
    "axis([-0.5 15.5])"
   ]
  },
  {
   "cell_type": "markdown",
   "metadata": {},
   "source": [
    "The peaks of the envelope determines where each of the cosine pulses end.\n",
    "\n",
    "For the next part of the example, it will be determined if the signal\n",
    "can be detected in the presence of noise. First come up with\n",
    "the input signal with the noise at a SNR = -20."
   ]
  },
  {
   "cell_type": "code",
   "execution_count": null,
   "metadata": {},
   "outputs": [],
   "source": [
    "snr = -20; # dB\n",
    "# Linearize the SNR\n",
    "snr_lin = 10^(snr/10);\n",
    "# Determine the original signal power\n",
    "e_sig = sum(abs(V_cos_pulse).^2)/size(V_cos_pulse,2);\n",
    "# And then get noise spectral density\n",
    "n_0 = e_sig/snr_lin;\n",
    "n_sigma = sqrt(n_0);\n",
    "\n",
    "V_noise = n_sigma * randn(1,size(V_input,2));\n",
    "V_noisy_input = V_input .+ V_noise;\n",
    "T_base = [0: 1/sample_rate: (size(V_input,2)-1)/sample_rate]; # The time base\n",
    "plot(T_base, V_noisy_input)\n",
    "ylabel(\"Amplitude (V)\")\n",
    "xlabel(\"Time (s)\")\n",
    "title(\"Figure 4: Input Signal with Noise - Time Domain\")\n",
    "axis([-0.5 15.5])"
   ]
  },
  {
   "cell_type": "markdown",
   "metadata": {},
   "source": [
    "Can you see the pulse amongst the noise? Let's plot them next to each other\n",
    "for magnitude comparision (Figure 5)."
   ]
  },
  {
   "cell_type": "code",
   "execution_count": null,
   "metadata": {},
   "outputs": [],
   "source": [
    "V_compare = horzcat(V_input, V_noise);\n",
    "T_base = [0: 1/sample_rate: (size(V_compare,2)-1)/sample_rate]; # The time base\n",
    "plot(T_base, V_compare)\n",
    "ylabel(\"Amplitude (V)\")\n",
    "xlabel(\"Time (s)\")\n",
    "title(\"Figure 5: Magnitude Comparision of Cosine Pulses and Noise - Time Domain\")\n",
    "axis([-0.5 30.5])"
   ]
  },
  {
   "cell_type": "markdown",
   "metadata": {},
   "source": [
    "Finally lets examine the matched filter output (Figure 6)."
   ]
  },
  {
   "cell_type": "code",
   "execution_count": null,
   "metadata": {},
   "outputs": [],
   "source": [
    "V_matched = conv(V_matching, V_noisy_input);\n",
    "T_base = [0: 1/sample_rate: (size(V_matched,2)-1)/sample_rate]; # The time base, sampling at 6 kHz\n",
    "plot(T_base, V_matched)\n",
    "ylabel(\"Amplitude (V)\")\n",
    "xlabel(\"Time (s)\")\n",
    "title(\"Figure 6: Matched Filter Output - Time Domain\")\n",
    "axis([-0.5 15.5])"
   ]
  },
  {
   "cell_type": "markdown",
   "metadata": {},
   "source": [
    "So even though the cosine pulses are 20 dB less than the noise, the matched filter\n",
    "is able to pull them out."
   ]
  },
  {
   "cell_type": "markdown",
   "metadata": {},
   "source": [
    "# A Brief Review of Signal Analysis In The Time and Frequency Domains \n",
    "Before taking on using a matched filter in the _frequency_ domain, a short review of signal analysis in both the time and frequency domain.\n",
    "\n",
    "Consider again a 20 Hz cosine pulse lasting 1s (Figure 7)."
   ]
  },
  {
   "cell_type": "code",
   "execution_count": null,
   "metadata": {},
   "outputs": [],
   "source": [
    "T_base = [0: 1/sample_rate: 1]; # The time base, sampling at 6 kHz\n",
    "V_cos_pulse = cos(2*pi*20*T_base);\n",
    "\n",
    "plot(T_base, V_cos_pulse)\n",
    "ylabel(\"Amplitude (V)\")\n",
    "xlabel(\"Time (s)\")\n",
    "title(\"Figure 7: Cosine Pulse - Time domain\")\n",
    "axis([-0.5 1.5 -2.5 2.5])"
   ]
  },
  {
   "cell_type": "markdown",
   "metadata": {},
   "source": [
    "Now we use a fast-fourier-transform (FFT) to determine the frequency components of the signal (Figure 8).\n",
    "\n",
    "Use `fft` to do an analysis of the time signal in the \n",
    "frequency domain. Use `fftshift` to shift 0 Hz to the \n",
    "centre of the vector."
   ]
  },
  {
   "cell_type": "code",
   "execution_count": null,
   "metadata": {},
   "outputs": [],
   "source": [
    "V_of_f = fftshift(fft(V_cos_pulse));\n",
    "F_base = [-sample_rate/2: 1: sample_rate/2];\n",
    "plot(F_base, V_of_f)\n",
    "title(\"Figure 8: Cosine Pulse - Frequency domain\")\n",
    "axis([-25 25])"
   ]
  },
  {
   "cell_type": "markdown",
   "metadata": {},
   "source": [
    "The energy at +/- 20 Hz can be seen, although the resolution is lacking. To increase the resolution, the time sample can be extended. If the resolution was only 1 Hz when the sample was only 1s long, it will be 0.1 Hz when the sample is 10s long."
   ]
  },
  {
   "cell_type": "code",
   "execution_count": null,
   "metadata": {},
   "outputs": [],
   "source": [
    "V_9s_silence = zeros(1, sample_rate*9);\n",
    "V_of_f = fftshift(fft(horzcat(V_cos_pulse, V_9s_silence)));\n",
    "F_base = [-sample_rate/2: 1/10: sample_rate/2];\n",
    "plot(F_base, V_of_f)\n",
    "title(\"Figure 9: Cosine Pulse - Frequency domain\")\n",
    "axis([-35 35])"
   ]
  },
  {
   "cell_type": "markdown",
   "metadata": {},
   "source": [
    "It can be seen from the graph:\n",
    "* That the primary components consist of frequencies at and around +20 Hz and -20 Hz,\n",
    "* There is \"splatter\" approx 15 Hz on either side of the primary +/- 20 Hz components,\n",
    "* Real value signals will have +ve and -ve frequency components.\n",
    "\n",
    "The appearance of splatter can be reasoned by considering the cosine pulse as being modulated by an square pulse 1s long. To reduce the splatter, we \"soften\" our cosine pulse by modulating instead with a [raised cosine pulse](https://en.wikipedia.org/wiki/Raised-cosine_filter)."
   ]
  },
  {
   "cell_type": "code",
   "execution_count": null,
   "metadata": {},
   "outputs": [],
   "source": [
    "T_base = [0: 1/sample_rate: 1]; # The time base, sampling at 6 kHz\n",
    "V_cos_pulse = cos(2*pi*20*T_base) .* (cos(2*pi*(T_base - 0.5)) + 1)/2;\n",
    "\n",
    "plot(T_base, V_cos_pulse)\n",
    "ylabel(\"Amplitude (V)\")\n",
    "xlabel(\"Time (s)\")\n",
    "title(\"Figure 10: Cosine Pulse with Raised Cosine Modulation - Time domain\")\n",
    "axis([-0.5 1.5 -2.5 2.5])"
   ]
  },
  {
   "cell_type": "markdown",
   "metadata": {},
   "source": [
    "So let's examine this in the frequency domain."
   ]
  },
  {
   "cell_type": "code",
   "execution_count": null,
   "metadata": {},
   "outputs": [],
   "source": [
    "V_9s_silence = zeros(1, sample_rate*9);\n",
    "V_of_f = fftshift(fft(horzcat(V_cos_pulse, V_9s_silence)));\n",
    "F_base = [-sample_rate/2: 1/10: sample_rate/2];\n",
    "plot(F_base, V_of_f)\n",
    "title(\"Figure 11: Cosine Pulse with Raised Cosine Modulation - Frequency domain\")\n",
    "grid on\n",
    "grid minor\n",
    "axis([-35 35], \"tic\")"
   ]
  },
  {
   "cell_type": "markdown",
   "metadata": {},
   "source": [
    "The same process can be used\n",
    "with complex phasors by using `exp(i*2*pi*20*T)` or `exp(-i*2*pi*20*T)` in \n",
    "place of `cos(2*pi*20*T)`. For the +ve phasor the time signal looks the \n",
    "same (Figure 12)."
   ]
  },
  {
   "cell_type": "code",
   "execution_count": null,
   "metadata": {},
   "outputs": [],
   "source": [
    "T_base = [0: 1/sample_rate: 1]; # The time base, sampling at 6 kHz\n",
    "V_cos_pulse = exp(i*2*pi*20*T_base) .* (cos(2*pi*(T_base - 0.5)) + 1)/2;\n",
    "\n",
    "plot(T_base, V_cos_pulse)\n",
    "ylabel(\"Amplitude (V)\")\n",
    "xlabel(\"Time (s)\")\n",
    "title(\"Figure 13: exp(i*2*pi*20*t) Pulse with Raised Cosine Modulation - Time domain\")\n",
    "axis([-0.5 1.5 -2.5 2.5])"
   ]
  },
  {
   "cell_type": "markdown",
   "metadata": {},
   "source": [
    "And in the frequency domain (Figure 14)."
   ]
  },
  {
   "cell_type": "code",
   "execution_count": null,
   "metadata": {},
   "outputs": [],
   "source": [
    "V_9s_silence = zeros(1, sample_rate*9);\n",
    "V_of_f = fftshift(fft(horzcat(V_cos_pulse, V_9s_silence)));\n",
    "F_base = [-sample_rate/2: 1/10: sample_rate/2];\n",
    "plot(F_base, V_of_f)\n",
    "title(\"Figure 14: exp(i*2*pi*20*t) Pulse with Raised Cosine Modulation - Frequency domain\")\n",
    "grid on\n",
    "grid minor\n",
    "axis([-35 35], \"tic\")"
   ]
  },
  {
   "cell_type": "markdown",
   "metadata": {},
   "source": [
    "Looking at the figure it is very similar to Figure 11 except:\n",
    "* That there is only one sideband, the USB,\n",
    "* That the sideband has twice the energy.\n",
    "\n",
    "Now for `exp(-i*2*pi*20*T)` (Figure 15). "
   ]
  },
  {
   "cell_type": "code",
   "execution_count": null,
   "metadata": {},
   "outputs": [],
   "source": [
    "T_base = [0: 1/sample_rate: 1]; # The time base, sampling at 6 kHz\n",
    "V_cos_pulse = exp(-i*2*pi*20*T_base) .* (cos(2*pi*(T_base - 0.5)) + 1)/2;\n",
    "\n",
    "plot(T_base, V_cos_pulse)\n",
    "ylabel(\"Amplitude (V)\")\n",
    "xlabel(\"Time (s)\")\n",
    "title(\"Figure 16: exp(-i*2*pi*20*t) Pulse with Raised Cosine Modulation - Time domain\")\n",
    "axis([-0.5 1.5 -2.5 2.5])"
   ]
  },
  {
   "cell_type": "markdown",
   "metadata": {},
   "source": [
    "It looks identical to Figure 13. And in the frequency domain (Figure 17)."
   ]
  },
  {
   "cell_type": "code",
   "execution_count": null,
   "metadata": {},
   "outputs": [],
   "source": [
    "V_9s_silence = zeros(1, sample_rate*9);\n",
    "V_of_f = fftshift(fft(horzcat(V_cos_pulse, V_9s_silence)));\n",
    "F_base = [-sample_rate/2: 1/10: sample_rate/2];\n",
    "plot(F_base, V_of_f)\n",
    "title(\"Figure 17: exp(i*2*pi*20*t) Pulse with Raised Cosine Modulation - Frequency domain\")\n",
    "grid on\n",
    "grid minor\n",
    "axis([-35 35], \"tic\")"
   ]
  },
  {
   "cell_type": "markdown",
   "metadata": {},
   "source": [
    "Looking at the figure it is very similar to Figure 11 except:\n",
    "* That there is only one sideband, the LSB,\n",
    "* That the sideband has twice the energy.\n",
    "\n",
    "We have also indirectly demonstrated the trig identity\n",
    "$$\n",
    "cos(x) = \\frac{e^{ix} + e^{-ix}}{2}\n",
    "$$"
   ]
  },
  {
   "cell_type": "markdown",
   "metadata": {},
   "source": [
    "# Matched Filter In The Frequency Domain\n",
    "So far in the examples a matched filter is shown working in the time domain.\n",
    "Matched filters can also be used in the frequency domain. In this case it\n",
    "is possible to determine the frequency offset of the signal. The process\n",
    "is the following:\n",
    "* RF pulse $\t\\rightarrow$ FFT $\t\\rightarrow$ flip in frequency = matched filter\n",
    "* input signal $\t\\rightarrow$ FFT $\t\\rightarrow$ convolve with matched filter = matched filter output\n",
    "\n",
    "There is a property in time/frequency analysis that can be brought to bear,\n",
    "specifically convolution of two signals in one domain is multiplication in\n",
    "the other. So now the process becomes:\n",
    "* RF pulse $\t\\rightarrow$ FFT $\t\\rightarrow$ flip in frequency $\t\\rightarrow$ reverse FFT $\t\\rightarrow$ matched filter in time domain\n",
    "* input signal $\t\\rightarrow$ multiply by matched filter in time domain $\t\\rightarrow$ FFT = matched filter output"
   ]
  },
  {
   "cell_type": "markdown",
   "metadata": {},
   "source": [
    "For this example we are going to use the pulse from Figure 13, namely\n",
    "\n",
    "`V_cos_pulse = exp(i*2*pi*20*T_base) .* (cos(2*pi*(T_base - 0.5)) + 1)/2`\n",
    "\n",
    "Examine first the matched filter in the time domain (Figure 11)."
   ]
  },
  {
   "cell_type": "code",
   "execution_count": null,
   "metadata": {},
   "outputs": [],
   "source": [
    "T = [0: 1/48000: 1];\n",
    "V_of_t = exp(2*i*pi*20*T);\n",
    "V_input = horzcat(V_of_t, zeros(1, 48000*4));\n",
    "MatchedFilter_of_t = ifft(flip(fft(V_input)));\n",
    "plot([0: 1/48000: (size(MatchedFilter_of_t,2)-1)/48000], MatchedFilter_of_t)\n",
    "ylabel(\"Amplitude (V)\")\n",
    "xlabel(\"Time (s)\")\n",
    "title(\"Figure 11: Matched Filter - Time Domain\")\n",
    "axis('square')"
   ]
  },
  {
   "cell_type": "code",
   "execution_count": null,
   "metadata": {},
   "outputs": [],
   "source": [
    "snr = -20; # dB\n",
    "# Linearize the SNR\n",
    "snr_lin = 10^(snr/10);\n",
    "# Determine the original signal power\n",
    "e_sig = sum(abs(V_of_t).^2)/size(V_of_t,2);\n",
    "# And then get noise spectral density\n",
    "n_0 = e_sig/snr_lin;\n",
    "n_sigma = sqrt(n_0);\n",
    "\n",
    "V_noise = n_sigma * randn(1,size(V_input,2));\n",
    "\n",
    "V_signal = V_input .+ V_noise; # Use the same noise from the other example\n",
    "V_signal_2 = V_signal .* MatchedFilter_of_t;\n",
    "V_of_f = fft(V_signal_2)/(size(V_signal_2,2)/2);\n",
    "F = [0: 1/5: (size(V_signal,2)-1)/5]; # 5 comes from length of sample in time\n",
    "plot(F, V_of_f)\n",
    "ylabel(\"Amplitude (V)\");\n",
    "xlabel(\"Frequency (Hz)\");\n",
    "title(\"Figure 12: Modulating Triangular Pulse (exp(-i*2*pi*20*T)) - Frequency domain\")"
   ]
  },
  {
   "cell_type": "code",
   "execution_count": null,
   "metadata": {},
   "outputs": [],
   "source": [
    "So now lets use the same pulse, but shift its frequency to 120 Hz and\n",
    "add some noise, multiply by the matched filter, then look at a plot of the\n",
    "FFT."
   ]
  },
  {
   "cell_type": "code",
   "execution_count": null,
   "metadata": {},
   "outputs": [],
   "source": [
    "V_of_t = exp(2*i*pi*120*T);\n",
    "V_input = horzcat(V_of_t, zeros(1, 48000*4));\n",
    "\n",
    "\n",
    "snr = -20; # dB\n",
    "# Linearize the SNR\n",
    "snr_lin = 10^(snr/10);\n",
    "# Determine the original signal power\n",
    "e_sig = sum(abs(V_of_t).^2)/size(V_of_t,2);\n",
    "# And then get noise spectral density\n",
    "n_0 = e_sig/snr_lin;\n",
    "n_sigma = sqrt(n_0);\n",
    "\n",
    "V_noise = n_sigma * randn(1,size(V_input,2));\n",
    "V_signal = V_input .+ V_noise; # Use the same noise from the other example\n",
    "V_signal_2 = V_signal .* MatchedFilter_of_t;\n",
    "V_of_f = fft(V_signal_2)/(size(V_signal_2,2)/2);"
   ]
  },
  {
   "cell_type": "code",
   "execution_count": null,
   "metadata": {},
   "outputs": [],
   "source": [
    "F = [0: 1/5: (size(V_signal_2,2)-1)/5]; # 5 comes from length of sample in time"
   ]
  },
  {
   "cell_type": "code",
   "execution_count": null,
   "metadata": {},
   "outputs": [],
   "source": [
    "plot(F, V_of_f)\n",
    "ylabel(\"Amplitude (V)\");\n",
    "xlabel(\"Frequency (Hz)\");\n",
    "title(\"Figure 12: Modulating Triangular Pulse (exp(-i*2*pi*20*T)) - Frequency domain\")\n",
    "axis('square')"
   ]
  },
  {
   "cell_type": "code",
   "execution_count": null,
   "metadata": {},
   "outputs": [],
   "source": []
  }
 ],
 "metadata": {
  "kernelspec": {
   "display_name": "Octave",
   "language": "octave",
   "name": "octave"
  },
  "language_info": {
   "file_extension": ".m",
   "help_links": [
    {
     "text": "GNU Octave",
     "url": "https://www.gnu.org/software/octave/support.html"
    },
    {
     "text": "Octave Kernel",
     "url": "https://github.com/Calysto/octave_kernel"
    },
    {
     "text": "MetaKernel Magics",
     "url": "https://metakernel.readthedocs.io/en/latest/source/README.html"
    }
   ],
   "mimetype": "text/x-octave",
   "name": "octave",
   "version": "4.2.2"
  }
 },
 "nbformat": 4,
 "nbformat_minor": 2
}
