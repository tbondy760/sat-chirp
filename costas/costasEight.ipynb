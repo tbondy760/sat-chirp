{
 "cells": [
  {
   "cell_type": "markdown",
   "metadata": {},
   "source": [
    "# Determine Costas Array Frequencies, Order 8, For Yaesu Radios\n",
    "## By Terry Bondy, VA3TYB"
   ]
  },
  {
   "cell_type": "code",
   "execution_count": 1,
   "metadata": {},
   "outputs": [],
   "source": [
    "%plot --format svg"
   ]
  },
  {
   "cell_type": "code",
   "execution_count": 2,
   "metadata": {},
   "outputs": [
    {
     "name": "stdout",
     "output_type": "stream",
     "text": [
      "Last updated: Tuesday 25 February 2020"
     ]
    }
   ],
   "source": [
    "source(\"../common/preamble.m\")"
   ]
  },
  {
   "cell_type": "code",
   "execution_count": 3,
   "metadata": {},
   "outputs": [
    {
     "name": "stdout",
     "output_type": "stream",
     "text": [
      "radioFreqAudioBwLow =  200\n",
      "radioFreqAudioBwHigh =  2600\n",
      "radioFreqAudioBw =  2400\n",
      "radioFreqAudioMidBand =  721.11\n"
     ]
    }
   ],
   "source": [
    "source(\"../common/radio.m\")"
   ]
  },
  {
   "cell_type": "markdown",
   "metadata": {},
   "source": [
    "Want to spread the frequencies equidistant across the audio bandpass for the radio, but have it centered one the geometric center of the audio bandpass for the radio. That means:\n",
    "\n",
    " 1. $N = 8$,\n",
    " 1. $costas8Freq_{8} = costas8Freq_{1} + costas8FreqDelta * (N - 1)$\n",
    " 1. $\\frac{costas8Freq_{1}}{radioFreqAudioBwLow} = \\frac{radioFreqAudioBwHigh}{costas8Freq_{8}}$\n",
    " 1. $costas8Freq_{8} < radioFreqAudioBwHigh$\n",
    " 1. $radioFreqAudioBwLow < costas8Freq_{1}$\n",
    " \n",
    "Using 1, 2, 4, and 5 an upper limit can be set on $costas8FreqDelta$.\n",
    "$costas8FreqDelta < \\frac{radioFreqAudioBwHigh - radioFreqAudioBwLow}{7}$\n",
    "or "
   ]
  },
  {
   "cell_type": "code",
   "execution_count": 4,
   "metadata": {},
   "outputs": [
    {
     "name": "stdout",
     "output_type": "stream",
     "text": [
      "ans =  342.86\n"
     ]
    }
   ],
   "source": [
    "(radioFreqAudioBwHigh - radioFreqAudioBwLow)/7"
   ]
  },
  {
   "cell_type": "markdown",
   "metadata": {},
   "source": [
    "So let set"
   ]
  },
  {
   "cell_type": "code",
   "execution_count": 5,
   "metadata": {},
   "outputs": [],
   "source": [
    "global costas8FreqDelta = 300"
   ]
  },
  {
   "cell_type": "markdown",
   "metadata": {},
   "source": [
    "Substituting into 3. and re-arranging\n",
    "\n",
    " * $costas8Freq_{1} \\cdot costas8Freq_{8} = radioFreqAudioBwLow \\cdot radioFreqAudioBwHigh$\n",
    " * $costas8Freq_{1} \\cdot (costas8Freq_{1} + 300 \\cdot 7) = 200 \\cdot 2600$\n",
    " * $costas8Freq_{1}^{2} + costas8Freq_{1} \\cdot 2100 = 520000$\n",
    " \n",
    "Solving for the positive root provides"
   ]
  },
  {
   "cell_type": "code",
   "execution_count": 6,
   "metadata": {},
   "outputs": [
    {
     "name": "stdout",
     "output_type": "stream",
     "text": [
      "ans =\n",
      "\n",
      "  -2323.77\n",
      "    223.77\n",
      "\n"
     ]
    }
   ],
   "source": [
    "roots([1, 2100, -520000])"
   ]
  },
  {
   "cell_type": "markdown",
   "metadata": {},
   "source": [
    "Checking"
   ]
  },
  {
   "cell_type": "code",
   "execution_count": 7,
   "metadata": {},
   "outputs": [
    {
     "name": "stdout",
     "output_type": "stream",
     "text": [
      "ans =  300\n"
     ]
    }
   ],
   "source": [
    "(2323.77-223.77)/7"
   ]
  },
  {
   "cell_type": "code",
   "execution_count": 8,
   "metadata": {},
   "outputs": [
    {
     "name": "stdout",
     "output_type": "stream",
     "text": [
      "ans =  1.1189\n"
     ]
    }
   ],
   "source": [
    "223.77/radioFreqAudioBwLow"
   ]
  },
  {
   "cell_type": "code",
   "execution_count": 9,
   "metadata": {},
   "outputs": [
    {
     "name": "stdout",
     "output_type": "stream",
     "text": [
      "ans =  1.1189\n"
     ]
    }
   ],
   "source": [
    "radioFreqAudioBwHigh/2323.77"
   ]
  },
  {
   "cell_type": "markdown",
   "metadata": {},
   "source": [
    "Setting to a reasonable nearby integer"
   ]
  },
  {
   "cell_type": "code",
   "execution_count": 10,
   "metadata": {},
   "outputs": [],
   "source": [
    "global costas8FreqsCv = [225:costas8FreqDelta:2325](:)\n",
    "# global costas8FreqsCv = [300:costas8FreqDelta:2400](:)\n"
   ]
  },
  {
   "cell_type": "markdown",
   "metadata": {},
   "source": [
    "Need a frequency ordering. From _Modified Costas Signal, Levanon & Mozeson_ here is one:"
   ]
  },
  {
   "cell_type": "code",
   "execution_count": 11,
   "metadata": {},
   "outputs": [],
   "source": [
    "global costas8FreqIdxCv = [ 1 8 3 6 2 7 5 4 ](:);"
   ]
  },
  {
   "cell_type": "code",
   "execution_count": 12,
   "metadata": {},
   "outputs": [],
   "source": [
    "function sigValuesCv = costasBlock (...\n",
    "   sampleRate, ...\n",
    "   numPulses = 1, ...\n",
    "   freqOffset = 0, ...\n",
    "   FreqIdx, ...\n",
    "   Freqs ...\n",
    ")\n",
    "    sigValuesCv = [ 0 ];\n",
    "\n",
    "    if (size(FreqIdx) != size(Freqs))\n",
    "      error(\"Expecting size(FreqIdx) == size(Freqs)\")\n",
    "    endif\n",
    "    # Make a CV\n",
    "    Freqs = Freqs(:);\n",
    "    FreqIdx = FreqIdx(:);\n",
    "\n",
    "    nFreqs = rows(Freqs);\n",
    "    deltaFreq = Freqs(2) - Freqs(1);\n",
    "\n",
    "    # Rejig the frequency array and offset so have continuous phase/value for this algorithm\n",
    "    # regardless of the freqs values.\n",
    "    deltaOffset = Freqs(1) - deltaFreq;\n",
    "    Freqs = Freqs .- deltaOffset;\n",
    "    freqOffset += deltaOffset;\n",
    "\n",
    "    TimeCv = [0:1/sampleRate:numPulses/deltaFreq](:);\n",
    "    nTimeCv = rows(TimeCv)-1;\n",
    "    TimeLongCv = [0:1/sampleRate:numPulses*nFreqs/deltaFreq](:);\n",
    "    OffsetPhaseCv = TimeLongCv * freqOffset;\n",
    "    for idx = 1:1:nFreqs\n",
    "        timeLongOffset = (idx-1)*nTimeCv+1;\n",
    "        PhaseCv = TimeCv*Freqs(FreqIdx(idx)) .+ OffsetPhaseCv(timeLongOffset:timeLongOffset+nTimeCv);\n",
    "        SigLoopCV = i * exp(-i*2*pi*PhaseCv);\n",
    "        sigValuesCv = vertcat(sigValuesCv, SigLoopCV(2:end));\n",
    "    endfor\n",
    "endfunction"
   ]
  },
  {
   "cell_type": "code",
   "execution_count": 13,
   "metadata": {},
   "outputs": [],
   "source": [
    "function sigValuesCv = costas8Block (...\n",
    "   sampleRate, ...\n",
    "   numPulses = 1, ...\n",
    "   freqOffset = 0 ...\n",
    ")\n",
    "  global costas8FreqsCv;\n",
    "  global costas8FreqIdxCv;\n",
    "  sigValuesCv = costasBlock(sampleRate, numPulses, freqOffset, costas8FreqIdxCv, costas8FreqsCv);\n",
    "endfunction"
   ]
  },
  {
   "cell_type": "code",
   "execution_count": 14,
   "metadata": {},
   "outputs": [
    {
     "name": "stdout",
     "output_type": "stream",
     "text": [
      "BWchannel =  100000\n",
      "pulseSamples =  1024\n",
      "sampleRate =  307200\n"
     ]
    }
   ],
   "source": [
    "BWchannel = 100000\n",
    "pulseSamples = pow2(ceil(log2(BWchannel * 2/costas8FreqDelta)))\n",
    "sampleRate = pulseSamples * costas8FreqDelta"
   ]
  },
  {
   "cell_type": "code",
   "execution_count": 15,
   "metadata": {},
   "outputs": [
    {
     "name": "stdout",
     "output_type": "stream",
     "text": [
      "Variables in the current scope:\n",
      "\n",
      "BWchannel              costas8FreqsCv         radioFreqAudioBwLow\n",
      "ans                    pulseSamples           radioFreqAudioMidBand\n",
      "costas8FreqDelta       radioFreqAudioBw       sampleRate\n",
      "costas8FreqIdxCv       radioFreqAudioBwHigh\n",
      "\n"
     ]
    }
   ],
   "source": [
    "who"
   ]
  },
  {
   "cell_type": "code",
   "execution_count": 16,
   "metadata": {},
   "outputs": [
    {
     "name": "stdout",
     "output_type": "stream",
     "text": [
      "ans =\n",
      "\n",
      "   16385       1\n",
      "\n",
      "ans =  16.001\n"
     ]
    }
   ],
   "source": [
    "values = costas8Block(sampleRate, 2);\n",
    "size(values)\n",
    "rows(values)/1024"
   ]
  },
  {
   "cell_type": "code",
   "execution_count": null,
   "metadata": {},
   "outputs": [],
   "source": [
    "plot(1:1:rows(values),values)\n",
    "% grid on\n",
    "% grid minor\n",
    "% axis([-1 2], \"tic\")"
   ]
  },
  {
   "cell_type": "code",
   "execution_count": null,
   "metadata": {},
   "outputs": [],
   "source": [
    "plot(0:300/sampleRate:300*(rows(values)-1)/sampleRate,values)\n",
    "grid on\n",
    "grid minor\n",
    "axis([2-0.1 2+0.1], \"tic\")"
   ]
  },
  {
   "cell_type": "code",
   "execution_count": null,
   "metadata": {},
   "outputs": [],
   "source": [
    "function c = normxcorr2 (a, b)\n",
    "  if (nargin != 2)\n",
    "    print_usage ();\n",
    "  endif\n",
    "\n",
    "  ## If this happens, it is probably a mistake\n",
    "  if (ndims (a) > ndims (b) || any (postpad (size (a), ndims (b)) > size (b)))\n",
    "    warning (\"normxcorr2: TEMPLATE larger than IMG. Arguments may be swapped.\");\n",
    "  endif\n",
    "\n",
    "  a = double (a) - mean (a(:));\n",
    "%  b = double (b) - mean (b(:));\n",
    "  b = double (b);\n",
    "\n",
    "  a1 = ones (size (a));\n",
    "  ar = reshape (a(end:-1:1), size (a));\n",
    "\n",
    "  c = convn (b, conj (ar), \"valid\");\n",
    "  b = convn (b.^2, a1, \"valid\") .- convn (b, a1, \"valid\").^2 ./ (prod (size (a)));\n",
    "\n",
    "  ## remove small machine precision errors after substraction\n",
    "  b(b < 0) = 0;\n",
    "\n",
    "  a = sumsq (a(:));\n",
    "  c = reshape (c ./ sqrt (b * a), size (c));\n",
    "\n",
    "  c(isinf (c) | isnan (c)) = 0;\n",
    "endfunction\n"
   ]
  },
  {
   "cell_type": "code",
   "execution_count": null,
   "metadata": {},
   "outputs": [],
   "source": [
    "TimeCv = [0:1/sampleRate:(rows(values)-1)/sampleRate](:);\n",
    "plot(TimeCv, values)"
   ]
  },
  {
   "cell_type": "code",
   "execution_count": null,
   "metadata": {},
   "outputs": [],
   "source": [
    "TimeSubpulseCv = [0:1/sampleRate:(2*pulseSamples-1)/sampleRate](:);\n",
    "rows(TimeSubpulseCv)\n",
    "plot(TimeSubpulseCv, values(1:2*pulseSamples))"
   ]
  },
  {
   "cell_type": "code",
   "execution_count": null,
   "metadata": {},
   "outputs": [],
   "source": [
    "# Need raised cosine for sampling subpulse\n",
    "RaisedCosineCv = (1 - cos(2*pi*TimeSubpulseCv*costas8FreqDelta*pulseSamples/(rows(TimeSubpulseCv)-1)))/2;\n",
    "size(RaisedCosineCv)"
   ]
  },
  {
   "cell_type": "code",
   "execution_count": null,
   "metadata": {},
   "outputs": [],
   "source": [
    "plot(TimeSubpulseCv, RaisedCosineCv)"
   ]
  },
  {
   "cell_type": "code",
   "execution_count": null,
   "metadata": {},
   "outputs": [],
   "source": [
    "function Resp = freqResp (values, RaisedCosineCv, pulseSamples)\n",
    "    # Each column represents freq response at a given moment in time\n",
    "    Resp = [];\n",
    "    fracSubPulse = 4; # Must be a power of 2\n",
    "    indexIncr = pulseSamples/fracSubPulse;\n",
    "    freqOvr = 2; # Must be a power of 2\n",
    "    for idx = 1:indexIncr:rows(values)-(rows(RaisedCosineCv)-1)\n",
    "        SigLoopCV = [values(idx:idx+rows(RaisedCosineCv)-1) .* RaisedCosineCv](1:end-1);\n",
    "        FftLoopCV = fftshift(fft(SigLoopCV, rows(SigLoopCV)*freqOvr+1));\n",
    "        Resp = horzcat(Resp, FftLoopCV);\n",
    "    endfor\n",
    "endfunction"
   ]
  },
  {
   "cell_type": "code",
   "execution_count": null,
   "metadata": {},
   "outputs": [],
   "source": [
    "% Resp = rot90(freqResp(values, RaisedCosineCv, pulseSamples), 1);\n",
    "% size(Resp)\n",
    "size(values)\n",
    "Resp = freqResp([zeros(size(values)); values; zeros(size(values))], RaisedCosineCv, pulseSamples);\n",
    "Resp = Resp .* conj(Resp);\n",
    "Resp = rot90(Resp, -1);\n",
    "size(Resp)"
   ]
  },
  {
   "cell_type": "code",
   "execution_count": null,
   "metadata": {},
   "outputs": [],
   "source": [
    "% imshow(Resp(end*3/7:end*4/7,1:end))\n",
    "% imagesc(linspace(-sampleRate/2, sampleRate/2, columns(Resp)), 0:1:rows(Resp), Resp)\n",
    "imagesc(Resp(1:end,end*6/13:end*7/13))\n",
    "% axis([-1000 1000])"
   ]
  },
  {
   "cell_type": "code",
   "execution_count": null,
   "metadata": {},
   "outputs": [],
   "source": [
    "Esort = sort(Resp(:));\n",
    "size(Esort)"
   ]
  },
  {
   "cell_type": "code",
   "execution_count": null,
   "metadata": {},
   "outputs": [],
   "source": [
    "Ecumm = zeros(rows(Esort), 1);\n",
    "size(Ecumm)\n",
    "size(Esort)\n",
    "Ecumm(1) = Esort(1);\n",
    "for i = 2:rows(Esort)\n",
    "  Ecumm(i) = Ecumm(i-1) .+ Esort(i);\n",
    "endfor\n",
    "size(Ecumm)"
   ]
  },
  {
   "cell_type": "code",
   "execution_count": null,
   "metadata": {},
   "outputs": [],
   "source": [
    "blart = log10(Ecumm/sum(Esort));\n",
    "blart(isinf(blart)) = -30;\n",
    "plot(1:1:rows(Ecumm), blart)"
   ]
  },
  {
   "cell_type": "code",
   "execution_count": null,
   "metadata": {},
   "outputs": [],
   "source": [
    "find(blart >= -15)(1)\n",
    "Esort(ans)\n",
    "Esort(end)/ans\n",
    "blart(1)\n",
    "blart(end)"
   ]
  },
  {
   "cell_type": "code",
   "execution_count": null,
   "metadata": {},
   "outputs": [],
   "source": [
    "Esort = sort(Resp);\n",
    "size(Esort)"
   ]
  },
  {
   "cell_type": "code",
   "execution_count": null,
   "metadata": {},
   "outputs": [],
   "source": [
    "% FreqLoopCV = linspace(-sampleRate/2, sampleRate/2, columns(Esort));\n",
    "% plot(linspace(-sampleRate/2, sampleRate/2, columns(Esort)), Esort(end,1:end), Resp(1,1:end))\n",
    "plot(linspace(-sampleRate/2, sampleRate/2, columns(Esort)), Resp(93,1:end))\n",
    "grid on\n",
    "grid minor\n",
    "axis([-3000 7000 0 100], \"tic\")"
   ]
  },
  {
   "cell_type": "code",
   "execution_count": null,
   "metadata": {},
   "outputs": [],
   "source": [
    "find(Resp(1:end,1:end) == max(Resp));"
   ]
  },
  {
   "cell_type": "code",
   "execution_count": null,
   "metadata": {},
   "outputs": [],
   "source": [
    "rows(ans)\n"
   ]
  },
  {
   "cell_type": "code",
   "execution_count": null,
   "metadata": {},
   "outputs": [],
   "source": [
    "A = Resp;\n",
    "A(A >= 8.7391e-11) = 1;"
   ]
  },
  {
   "cell_type": "code",
   "execution_count": null,
   "metadata": {},
   "outputs": [],
   "source": [
    "\n",
    "imagesc(A)"
   ]
  },
  {
   "cell_type": "code",
   "execution_count": null,
   "metadata": {},
   "outputs": [],
   "source": []
  }
 ],
 "metadata": {
  "kernelspec": {
   "display_name": "Octave",
   "language": "octave",
   "name": "octave"
  },
  "language_info": {
   "file_extension": ".m",
   "help_links": [
    {
     "text": "GNU Octave",
     "url": "https://www.gnu.org/software/octave/support.html"
    },
    {
     "text": "Octave Kernel",
     "url": "https://github.com/Calysto/octave_kernel"
    },
    {
     "text": "MetaKernel Magics",
     "url": "https://metakernel.readthedocs.io/en/latest/source/README.html"
    }
   ],
   "mimetype": "text/x-octave",
   "name": "octave",
   "version": "4.2.2"
  }
 },
 "nbformat": 4,
 "nbformat_minor": 2
}
