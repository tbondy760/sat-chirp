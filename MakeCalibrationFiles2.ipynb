{
 "cells": [
  {
   "cell_type": "markdown",
   "metadata": {},
   "source": [
    "# Make Calibration WAV Files\n",
    "## By Terry Bondy, VA3TYB"
   ]
  },
  {
   "cell_type": "code",
   "execution_count": 1,
   "metadata": {},
   "outputs": [
    {
     "name": "stdout",
     "output_type": "stream",
     "text": [
      "Last updated: Saturday 28 December 2019 UTC"
     ]
    }
   ],
   "source": [
    "printf(strftime (\"Last updated: %A %e %B %Y %Z\", localtime (time())))\n",
    "%plot --format svg\n",
    "# format long"
   ]
  },
  {
   "cell_type": "code",
   "execution_count": 2,
   "metadata": {},
   "outputs": [],
   "source": [
    "fcLow = 200;\n",
    "fcHigh = 2600;"
   ]
  },
  {
   "cell_type": "code",
   "execution_count": 3,
   "metadata": {},
   "outputs": [
    {
     "name": "stdout",
     "output_type": "stream",
     "text": [
      "fcMid =  721.11\n"
     ]
    }
   ],
   "source": [
    "fcMid = sqrt(fcHigh/fcLow) * fcLow"
   ]
  },
  {
   "cell_type": "code",
   "execution_count": 4,
   "metadata": {},
   "outputs": [
    {
     "name": "stdout",
     "output_type": "stream",
     "text": [
      "ans =  2401\n",
      "ans =  721.11\n"
     ]
    }
   ],
   "source": [
    "F = fcLow:1:fcHigh;\n",
    "columns(F)\n",
    "sqrt(fcLow*fcHigh)"
   ]
  },
  {
   "cell_type": "code",
   "execution_count": 5,
   "metadata": {},
   "outputs": [
    {
     "name": "stdout",
     "output_type": "stream",
     "text": [
      "jmin =  5.2983\n",
      "jmax =  7.8633\n",
      "jmid =  6.5808\n",
      "hmin =    1.5291e-04\n",
      "hmax =  1.2825\n"
     ]
    }
   ],
   "source": [
    "J = log(F);\n",
    "jmin = min(J)\n",
    "jmax = max(J)\n",
    "jmid = mean([jmin, jmax])\n",
    "H = abs(J - jmid);\n",
    "hmin = min(H)\n",
    "hmax = max(H)"
   ]
  },
  {
   "cell_type": "code",
   "execution_count": 6,
   "metadata": {},
   "outputs": [
    {
     "name": "stdout",
     "output_type": "stream",
     "text": [
      "Possible_Intervals =\n",
      "\n",
      " Columns 1 through 11:\n",
      "\n",
      "      2      3      4      5      6      8     10     12     15     16     20\n",
      "\n",
      " Columns 12 through 22:\n",
      "\n",
      "     24     25     30     32     40     48     50     60     75     80     96\n",
      "\n",
      " Columns 23 through 33:\n",
      "\n",
      "    100    120    150    160    200    240    300    400    480    600    800\n",
      "\n",
      " Columns 34 and 35:\n",
      "\n",
      "   1200   2400\n",
      "\n",
      "intervals =  15\n"
     ]
    }
   ],
   "source": [
    "# What are the factors of the number of frequencies?\n",
    "Factors = factor(columns(F)-1);\n",
    "# Determine the possible intervals by looking at all products of choose\n",
    "Possible_Intervals = unique(cell2mat(arrayfun(@(t) unique(prod(nchoosek(Factors, t), 2))', [1:columns(Factors)], \"UniformOutput\", false)))\n",
    "# Then pick one of them\n",
    "intervals = Possible_Intervals(9)"
   ]
  },
  {
   "cell_type": "markdown",
   "metadata": {},
   "source": [
    "Sort F so that it is in the order log distance from fcMid, and also compute what interval they are in."
   ]
  },
  {
   "cell_type": "code",
   "execution_count": 7,
   "metadata": {},
   "outputs": [],
   "source": [
    "G = sortrows(horzcat(H', ceil(intervals*H'/hmax), F'), [1]);"
   ]
  },
  {
   "cell_type": "markdown",
   "metadata": {},
   "source": [
    "Sample a number of rows"
   ]
  },
  {
   "cell_type": "code",
   "execution_count": 8,
   "metadata": {},
   "outputs": [
    {
     "name": "stdout",
     "output_type": "stream",
     "text": [
      "Sample =\n",
      "\n",
      "  0.000152907993856033                     1                   721\n",
      "     0.111291697227823                     2                   806\n",
      "     0.220490989192815                     3                   899\n",
      "     0.326963233703332                     4                   520\n",
      "     0.430421942071562                     6                  1109\n",
      "     0.529904077700022                     7                  1225\n",
      "     0.624843131131558                     8                  1347\n",
      "     0.714323988345509                     9                   353\n",
      "     0.800048529486476                    10                   324\n",
      "     0.880348471888118                    11                   299\n",
      "     0.956774539091467                    12                   277\n",
      "      1.02907015563475                    13                  2018\n",
      "      1.09753431122808                    13                  2161\n",
      "       1.1624776555502                    14                  2306\n",
      "      1.22420577060679                    15                   212\n",
      "      1.28247467873077                    15                   200\n",
      "      1.28247467873077                    15                   200\n",
      "\n"
     ]
    }
   ],
   "source": [
    "format long g\n",
    "Sample = vertcat(G(1:floor(end/intervals):end,:), G(rows(G),:))\n",
    "format"
   ]
  },
  {
   "cell_type": "code",
   "execution_count": 9,
   "metadata": {},
   "outputs": [
    {
     "name": "stdout",
     "output_type": "stream",
     "text": [
      "ans =\n",
      "\n",
      "   1.5291e-04   1.0000e+00   7.2100e+02\n",
      "\n"
     ]
    }
   ],
   "source": [
    "G(find(G(:,3)==721),:)"
   ]
  },
  {
   "cell_type": "code",
   "execution_count": 10,
   "metadata": {},
   "outputs": [
    {
     "name": "stdout",
     "output_type": "stream",
     "text": [
      "ans =  123\n",
      "ans =\n",
      "\n",
      " Columns 1 through 13:\n",
      "\n",
      "   123   125   126   129   132   138   142   151   156   167   176   188   201\n",
      "\n",
      " Columns 14 and 15:\n",
      "\n",
      "   215   232\n",
      "\n"
     ]
    }
   ],
   "source": [
    "sum(G(:,2) == 1)\n",
    "sum(G(:,2) == 1:1:intervals)"
   ]
  },
  {
   "cell_type": "markdown",
   "metadata": {},
   "source": [
    "Ensure that there are no values of H that are duplicated, meaning that there are a pair of frequencies, one each on each side of fcMid, that are equidistant log-wise, from fcMid. If there are, then we would have to be careful how we subdivide F later on. If there is at least one, then the following result will be zero."
   ]
  },
  {
   "cell_type": "code",
   "execution_count": 11,
   "metadata": {},
   "outputs": [
    {
     "name": "stdout",
     "output_type": "stream",
     "text": [
      "ans =    3.8469e-04\n"
     ]
    }
   ],
   "source": [
    "sort(abs(diff(H)))(1)"
   ]
  },
  {
   "cell_type": "markdown",
   "metadata": {},
   "source": [
    "Helps that fcMid is not integral, like members of F."
   ]
  },
  {
   "cell_type": "code",
   "execution_count": 12,
   "metadata": {},
   "outputs": [],
   "source": [
    "sampleRate = 16000;\n",
    "numPeriods = 10;\n",
    "period = numPeriods;\n",
    "Tshort = 0:1/sampleRate:1;\n",
    "T = 0:1/sampleRate:period;"
   ]
  },
  {
   "cell_type": "markdown",
   "metadata": {},
   "source": [
    "Ensure that you run `Nonlin_min_Install` notebook to install this package."
   ]
  },
  {
   "cell_type": "code",
   "execution_count": 13,
   "metadata": {},
   "outputs": [],
   "source": [
    "pkg load optim"
   ]
  },
  {
   "cell_type": "code",
   "execution_count": 14,
   "metadata": {},
   "outputs": [],
   "source": [
    "# TestPhi is a column vector, 0 <= phi <= pi, length m\n",
    "# TestFreq is a column vector, length m\n",
    "# Sig is a row vector\n",
    "# Tshort is a row vector\n",
    "function cost = costAny(Phi_trial, TestFreq, Sig, Tshort)\n",
    "  cost = max(abs(sum(cos(2*pi*TestFreq * Tshort + Phi_trial)) + Sig));\n",
    "endfunction"
   ]
  },
  {
   "cell_type": "code",
   "execution_count": null,
   "metadata": {},
   "outputs": [
    {
     "name": "stdout",
     "output_type": "stream",
     "text": [
      "ans =\n",
      "\n",
      "       1   16001\n",
      "\n",
      "ans =  1\n",
      "toc: 0.0223579 seconds\n",
      "ans =  1\n",
      "temperature no. 1: 1.000000e-01, energy 2.001931e+01,\n",
      "tries with energy less / not less but accepted / rejected: / to far / new optimum\n",
      "2729 / 2597 / 6674 / 3295 / 292\n",
      "temperature no. 2: 1.000000e+01, energy 7.921055e+01,\n",
      "tries with energy less / not less but accepted / rejected: / to far / new optimum\n",
      "5796 / 5990 / 214 / 5421 / 1\n",
      "temperature no. 3: 8.333333e+00, energy 7.599078e+01,\n",
      "tries with energy less / not less but accepted / rejected: / to far / new optimum\n",
      "5842 / 5904 / 254 / 5953 / 0\n",
      "temperature no. 4: 6.944444e+00, energy 7.560114e+01,\n",
      "tries with energy less / not less but accepted / rejected: / to far / new optimum\n",
      "5793 / 5896 / 311 / 6005 / 0\n",
      "temperature no. 5: 5.787037e+00, energy 7.646156e+01,\n",
      "tries with energy less / not less but accepted / rejected: / to far / new optimum\n",
      "5708 / 5854 / 438 / 5953 / 0\n",
      "temperature no. 6: 4.822531e+00, energy 7.045334e+01,\n",
      "tries with energy less / not less but accepted / rejected: / to far / new optimum\n",
      "5769 / 5755 / 476 / 6050 / 0\n",
      "temperature no. 7: 4.018776e+00, energy 6.992116e+01,\n",
      "tries with energy less / not less but accepted / rejected: / to far / new optimum\n",
      "5699 / 5729 / 572 / 5948 / 0\n",
      "temperature no. 8: 3.348980e+00, energy 7.424529e+01,\n",
      "tries with energy less / not less but accepted / rejected: / to far / new optimum\n",
      "5644 / 5661 / 695 / 6072 / 0\n",
      "temperature no. 9: 2.790816e+00, energy 7.403762e+01,\n",
      "tries with energy less / not less but accepted / rejected: / to far / new optimum\n",
      "5625 / 5581 / 794 / 5940 / 0\n",
      "temperature no. 10: 2.325680e+00, energy 7.112376e+01,\n",
      "tries with energy less / not less but accepted / rejected: / to far / new optimum\n",
      "5469 / 5590 / 941 / 6013 / 0\n",
      "temperature no. 11: 1.938067e+00, energy 7.088682e+01,\n",
      "tries with energy less / not less but accepted / rejected: / to far / new optimum\n",
      "5369 / 5509 / 1122 / 6014 / 0\n",
      "temperature no. 12: 1.615056e+00, energy 6.571582e+01,\n",
      "tries with energy less / not less but accepted / rejected: / to far / new optimum\n",
      "5228 / 5406 / 1366 / 5879 / 0\n",
      "temperature no. 13: 1.345880e+00, energy 6.464031e+01,\n",
      "tries with energy less / not less but accepted / rejected: / to far / new optimum\n",
      "5068 / 5215 / 1717 / 5937 / 0\n",
      "temperature no. 14: 1.121567e+00, energy 6.484264e+01,\n",
      "tries with energy less / not less but accepted / rejected: / to far / new optimum\n",
      "4912 / 5037 / 2051 / 5938 / 0\n",
      "temperature no. 15: 9.346388e-01, energy 6.158462e+01,\n",
      "tries with energy less / not less but accepted / rejected: / to far / new optimum\n",
      "4776 / 4866 / 2358 / 5946 / 0\n",
      "temperature no. 16: 7.788657e-01, energy 6.513619e+01,\n",
      "tries with energy less / not less but accepted / rejected: / to far / new optimum\n",
      "4516 / 4570 / 2914 / 5883 / 0\n",
      "temperature no. 17: 6.490547e-01, energy 6.616829e+01,\n",
      "tries with energy less / not less but accepted / rejected: / to far / new optimum\n",
      "4243 / 4291 / 3466 / 5763 / 0\n",
      "temperature no. 18: 5.408789e-01, energy 5.557020e+01,\n",
      "tries with energy less / not less but accepted / rejected: / to far / new optimum\n",
      "3847 / 4005 / 4148 / 5536 / 0\n",
      "temperature no. 19: 4.507324e-01, energy 5.223976e+01,\n",
      "tries with energy less / not less but accepted / rejected: / to far / new optimum\n",
      "3524 / 3675 / 4801 / 5123 / 0\n",
      "temperature no. 20: 3.756104e-01, energy 4.730368e+01,\n",
      "tries with energy less / not less but accepted / rejected: / to far / new optimum\n",
      "3175 / 3360 / 5465 / 4757 / 0\n",
      "temperature no. 21: 3.130086e-01, energy 4.012965e+01,\n",
      "tries with energy less / not less but accepted / rejected: / to far / new optimum\n",
      "3082 / 3201 / 5717 / 4323 / 0\n",
      "temperature no. 22: 2.608405e-01, energy 3.276349e+01,\n",
      "tries with energy less / not less but accepted / rejected: / to far / new optimum\n",
      "2958 / 3031 / 6011 / 3757 / 0\n",
      "temperature no. 23: 2.173671e-01, energy 2.776972e+01,\n",
      "tries with energy less / not less but accepted / rejected: / to far / new optimum\n",
      "2937 / 3006 / 6057 / 3608 / 0\n",
      "temperature no. 24: 1.811393e-01, energy 2.559178e+01,\n",
      "tries with energy less / not less but accepted / rejected: / to far / new optimum\n",
      "2930 / 2973 / 6097 / 3258 / 0\n",
      "temperature no. 25: 1.509494e-01, energy 2.254470e+01,\n",
      "tries with energy less / not less but accepted / rejected: / to far / new optimum\n",
      "2956 / 2992 / 6052 / 3212 / 0\n",
      "temperature no. 26: 1.257912e-01, energy 2.183741e+01,\n",
      "tries with energy less / not less but accepted / rejected: / to far / new optimum\n",
      "2909 / 3005 / 6086 / 3064 / 0\n",
      "temperature no. 27: 1.048260e-01, energy 1.963382e+01,\n",
      "tries with energy less / not less but accepted / rejected: / to far / new optimum\n",
      "2918 / 3034 / 6048 / 2871 / 27\n",
      "temperature no. 28: 8.735497e-02, energy 1.886767e+01,\n",
      "tries with energy less / not less but accepted / rejected: / to far / new optimum\n",
      "2946 / 3002 / 6052 / 2716 / 2\n",
      "temperature no. 29: 7.279581e-02, energy 1.926032e+01,\n",
      "tries with energy less / not less but accepted / rejected: / to far / new optimum\n",
      "2969 / 2982 / 6049 / 2508 / 31\n",
      "temperature no. 30: 6.066317e-02, energy 1.854246e+01,\n",
      "tries with energy less / not less but accepted / rejected: / to far / new optimum\n",
      "2968 / 2985 / 6047 / 2412 / 3\n",
      "temperature no. 31: 5.055264e-02, energy 1.847640e+01,\n",
      "tries with energy less / not less but accepted / rejected: / to far / new optimum\n",
      "2997 / 3006 / 5997 / 2185 / 0\n",
      "temperature no. 32: 4.212720e-02, energy 1.821267e+01,\n",
      "tries with energy less / not less but accepted / rejected: / to far / new optimum\n",
      "2938 / 3006 / 6056 / 2101 / 13\n",
      "temperature no. 33: 3.510600e-02, energy 1.783055e+01,\n",
      "tries with energy less / not less but accepted / rejected: / to far / new optimum\n",
      "2950 / 2990 / 6060 / 2011 / 2\n",
      "temperature no. 34: 2.925500e-02, energy 1.759362e+01,\n",
      "tries with energy less / not less but accepted / rejected: / to far / new optimum\n",
      "2963 / 2987 / 6050 / 1765 / 20\n",
      "temperature no. 35: 2.437917e-02, energy 1.759540e+01,\n",
      "tries with energy less / not less but accepted / rejected: / to far / new optimum\n",
      "2945 / 3005 / 6050 / 1474 / 1\n",
      "temperature no. 36: 2.031597e-02, energy 1.748910e+01,\n",
      "tries with energy less / not less but accepted / rejected: / to far / new optimum\n",
      "2972 / 2981 / 6047 / 1521 / 8\n",
      "temperature no. 37: 1.692998e-02, energy 1.742726e+01,\n",
      "tries with energy less / not less but accepted / rejected: / to far / new optimum\n",
      "2974 / 2993 / 6033 / 1255 / 2\n",
      "temperature no. 38: 1.410831e-02, energy 1.728395e+01,\n",
      "tries with energy less / not less but accepted / rejected: / to far / new optimum\n",
      "2972 / 2986 / 6042 / 1166 / 20\n",
      "temperature no. 39: 1.175693e-02, energy 1.712730e+01,\n",
      "tries with energy less / not less but accepted / rejected: / to far / new optimum\n",
      "3027 / 2954 / 6019 / 1091 / 23\n",
      "temperature no. 40: 9.797441e-03, energy 1.695818e+01,\n",
      "tries with energy less / not less but accepted / rejected: / to far / new optimum\n",
      "2992 / 2942 / 6066 / 972 / 42\n",
      "temperature no. 41: 8.164534e-03, energy 1.694029e+01,\n",
      "tries with energy less / not less but accepted / rejected: / to far / new optimum\n",
      "3008 / 2939 / 6053 / 1038 / 27\n",
      "temperature no. 42: 6.803778e-03, energy 1.679712e+01,\n",
      "tries with energy less / not less but accepted / rejected: / to far / new optimum\n",
      "2974 / 3006 / 6020 / 857 / 36\n",
      "temperature no. 43: 5.669815e-03, energy 1.668891e+01,\n",
      "tries with energy less / not less but accepted / rejected: / to far / new optimum\n",
      "2985 / 2941 / 6074 / 767 / 20\n",
      "temperature no. 44: 4.724846e-03, energy 1.668018e+01,\n",
      "tries with energy less / not less but accepted / rejected: / to far / new optimum\n",
      "2977 / 2997 / 6026 / 755 / 15\n",
      "temperature no. 45: 3.937372e-03, energy 1.662474e+01,\n",
      "tries with energy less / not less but accepted / rejected: / to far / new optimum\n",
      "2953 / 2988 / 6059 / 733 / 36\n",
      "temperature no. 46: 3.281143e-03, energy 1.659805e+01,\n",
      "tries with energy less / not less but accepted / rejected: / to far / new optimum\n",
      "3005 / 2954 / 6041 / 663 / 8\n",
      "temperature no. 47: 2.734286e-03, energy 1.655164e+01,\n",
      "tries with energy less / not less but accepted / rejected: / to far / new optimum\n",
      "2917 / 2993 / 6090 / 709 / 26\n",
      "temperature no. 48: 2.278572e-03, energy 1.651788e+01,\n",
      "tries with energy less / not less but accepted / rejected: / to far / new optimum\n",
      "3008 / 2963 / 6029 / 594 / 40\n",
      "temperature no. 49: 1.898810e-03, energy 1.647498e+01,\n",
      "tries with energy less / not less but accepted / rejected: / to far / new optimum\n",
      "2926 / 2981 / 6093 / 606 / 38\n",
      "temperature no. 50: 1.582341e-03, energy 1.645079e+01,\n",
      "tries with energy less / not less but accepted / rejected: / to far / new optimum\n",
      "2991 / 2955 / 6054 / 473 / 43\n",
      "temperature no. 51: 1.318618e-03, energy 1.642771e+01,\n",
      "tries with energy less / not less but accepted / rejected: / to far / new optimum\n",
      "3075 / 2900 / 6025 / 418 / 26\n",
      "temperature no. 52: 1.098848e-03, energy 1.642121e+01,\n",
      "tries with energy less / not less but accepted / rejected: / to far / new optimum\n",
      "3001 / 2938 / 6061 / 437 / 29\n",
      "temperature no. 53: 9.157068e-04, energy 1.640101e+01,\n",
      "tries with energy less / not less but accepted / rejected: / to far / new optimum\n",
      "2984 / 2987 / 6029 / 415 / 35\n",
      "temperature no. 54: 7.630890e-04, energy 1.638745e+01,\n",
      "tries with energy less / not less but accepted / rejected: / to far / new optimum\n",
      "2977 / 2988 / 6035 / 399 / 72\n",
      "temperature no. 55: 6.359075e-04, energy 1.637454e+01,\n",
      "tries with energy less / not less but accepted / rejected: / to far / new optimum\n",
      "2950 / 2957 / 6093 / 388 / 28\n",
      "temperature no. 56: 5.299229e-04, energy 1.636953e+01,\n",
      "tries with energy less / not less but accepted / rejected: / to far / new optimum\n",
      "3031 / 2939 / 6030 / 322 / 23\n",
      "temperature no. 57: 4.416024e-04, energy 1.635688e+01,\n",
      "tries with energy less / not less but accepted / rejected: / to far / new optimum\n",
      "2994 / 2963 / 6043 / 290 / 62\n",
      "temperature no. 58: 3.680020e-04, energy 1.635209e+01,\n",
      "tries with energy less / not less but accepted / rejected: / to far / new optimum\n",
      "3034 / 2942 / 6024 / 339 / 58\n",
      "temperature no. 59: 3.066684e-04, energy 1.634589e+01,\n",
      "tries with energy less / not less but accepted / rejected: / to far / new optimum\n",
      "2953 / 3010 / 6037 / 296 / 37\n",
      "temperature no. 60: 2.555570e-04, energy 1.633904e+01,\n",
      "tries with energy less / not less but accepted / rejected: / to far / new optimum\n",
      "2942 / 2979 / 6079 / 258 / 78\n",
      "temperature no. 61: 2.129641e-04, energy 1.633288e+01,\n",
      "tries with energy less / not less but accepted / rejected: / to far / new optimum\n",
      "3005 / 2988 / 6007 / 265 / 79\n",
      "temperature no. 62: 1.774701e-04, energy 1.633033e+01,\n",
      "tries with energy less / not less but accepted / rejected: / to far / new optimum\n",
      "2941 / 2960 / 6099 / 223 / 55\n",
      "temperature no. 63: 1.478918e-04, energy 1.632870e+01,\n",
      "tries with energy less / not less but accepted / rejected: / to far / new optimum\n",
      "3000 / 2971 / 6029 / 185 / 32\n",
      "temperature no. 64: 1.232431e-04, energy 1.632301e+01,\n",
      "tries with energy less / not less but accepted / rejected: / to far / new optimum\n",
      "2987 / 2957 / 6056 / 183 / 98\n",
      "temperature no. 65: 1.027026e-04, energy 1.632194e+01,\n",
      "tries with energy less / not less but accepted / rejected: / to far / new optimum\n",
      "2963 / 2980 / 6057 / 135 / 28\n",
      "temperature no. 66: 8.558551e-05, energy 1.632065e+01,\n",
      "tries with energy less / not less but accepted / rejected: / to far / new optimum\n",
      "3033 / 2946 / 6021 / 152 / 44\n",
      "temperature no. 67: 7.132126e-05, energy 1.631820e+01,\n",
      "tries with energy less / not less but accepted / rejected: / to far / new optimum\n",
      "2980 / 2941 / 6079 / 207 / 80\n",
      "temperature no. 68: 5.943438e-05, energy 1.631643e+01,\n",
      "tries with energy less / not less but accepted / rejected: / to far / new optimum\n",
      "2978 / 2984 / 6038 / 187 / 72\n",
      "temperature no. 69: 4.952865e-05, energy 1.631479e+01,\n",
      "tries with energy less / not less but accepted / rejected: / to far / new optimum\n",
      "2993 / 2973 / 6034 / 185 / 69\n",
      "temperature no. 70: 4.127388e-05, energy 1.631455e+01,\n",
      "tries with energy less / not less but accepted / rejected: / to far / new optimum\n",
      "2951 / 2997 / 6052 / 220 / 17"
     ]
    }
   ],
   "source": [
    "tic = time();\n",
    "TestFreq = [ G(1,3) ];\n",
    "TestPhi = [ 0 ];\n",
    "cosArg = 2*pi*TestFreq * Tshort + TestPhi;\n",
    "Sig = cos(cosArg);\n",
    "size(Sig)\n",
    "max(abs(Sig))\n",
    "printf(\"toc: %d seconds\\n\", time() - tic)\n",
    "max(abs(Sig))\n",
    "numIndexes = 120;\n",
    "iter=1;\n",
    "for firstIndex = 2:numIndexes:rows(G)\n",
    "  TestFreq = G(firstIndex:firstIndex+numIndexes-1, 3);\n",
    "  tic = time();\n",
    "  # TestPhi = 2*pi*rand(rows(TestFreq),1);\n",
    "  # cosArg = 2*pi*TestFreq * Tshort + TestPhi;\n",
    "  # Sig = sum(cos(cosArg)) + Sig;\n",
    "  # size(Sig)\n",
    "  \n",
    "  \n",
    "  init_p = pi*rand(rows(TestFreq),1);\n",
    "  lbound = zeros(rows(TestFreq), 1);\n",
    "  ubound = pi .* ones(rows(TestFreq), 1);\n",
    "  [TestPhi, objf, cvg] = nonlin_min (@ (Phi_trial) costAny(Phi_trial, TestFreq, Sig, Tshort), init_p, optimset (\"Algorithm\", \"samin\", \n",
    "    \"lbound\", lbound,\n",
    "    \"ubound\", ubound,\n",
    "    \"Display\", \"iter\"\n",
    "  ));\n",
    "  printf(\"toc: %d seconds\\n\", time() - tic)\n",
    "  cosArg = 2*pi*TestFreq * Tshort + TestPhi;\n",
    "  Sig = sum(cos(cosArg)) + Sig;\n",
    "  size(Sig)\n",
    "  max(abs(Sig))\n",
    "  save sprintf(\"TestFreq_%d.mat\", iter) TestFreq;\n",
    "  save sprintf(\"TestPhi_%d.mat\", iter) TestPhi;\n",
    "  save sprintf(\"Sig_%d.mat\", iter) Sig;\n",
    "  iter++;\n",
    "endfor"
   ]
  },
  {
   "cell_type": "code",
   "execution_count": null,
   "metadata": {},
   "outputs": [],
   "source": [
    "Sig(1)\n",
    "Sig(end)\n",
    "tic = time();\n",
    "# Repeat Sig to expand it to numPeriods\n",
    "Sig = [(Sig(1:end-1)' * ones(1, numPeriods))(:)', Sig(1)];\n",
    "printf(\"toc: %d seconds\\n\", time() - tic)"
   ]
  },
  {
   "cell_type": "code",
   "execution_count": null,
   "metadata": {},
   "outputs": [],
   "source": [
    "tic = time();\n",
    "# SigShort = Sig(1:end-1);\n",
    "# Sig = [SigShort, SigShort, SigShort, SigShort, SigShort, SigShort, SigShort, SigShort, SigShort, Sig];\n",
    "printf(\"toc: %d seconds\\n\", time() - tic)"
   ]
  },
  {
   "cell_type": "code",
   "execution_count": null,
   "metadata": {},
   "outputs": [],
   "source": [
    "# size(Tshort)\n",
    "# size(T)\n",
    "# size(Sig)\n",
    "plot(T, Sig)\n",
    "# grid on\n",
    "# grid minor\n",
    "# axis([-0.1,+0.1], \"tic\")"
   ]
  },
  {
   "cell_type": "code",
   "execution_count": null,
   "metadata": {},
   "outputs": [],
   "source": [
    "RC = (1 - cos(2*pi*T/period))/2;\n",
    "plot(T, RC);"
   ]
  },
  {
   "cell_type": "code",
   "execution_count": null,
   "metadata": {},
   "outputs": [],
   "source": [
    "E_cos_pulse = fftshift(fft(RC .* Sig, sampleRate*period*10 + 1));\n",
    "# E_cos_pulse = fftshift(fft(RC .* Sig));\n",
    "F_base = linspace(-sampleRate/2, sampleRate/2, columns(E_cos_pulse));"
   ]
  },
  {
   "cell_type": "code",
   "execution_count": null,
   "metadata": {},
   "outputs": [],
   "source": [
    "plot(F_base, abs(E_cos_pulse))\n",
    "grid on\n",
    "grid minor\n",
    "# axis([fcLow-10 fcLow+10], \"tic\")"
   ]
  },
  {
   "cell_type": "code",
   "execution_count": null,
   "metadata": {},
   "outputs": [],
   "source": []
  }
 ],
 "metadata": {
  "kernelspec": {
   "display_name": "Octave",
   "language": "octave",
   "name": "octave"
  },
  "language_info": {
   "file_extension": ".m",
   "help_links": [
    {
     "text": "GNU Octave",
     "url": "https://www.gnu.org/software/octave/support.html"
    },
    {
     "text": "Octave Kernel",
     "url": "https://github.com/Calysto/octave_kernel"
    },
    {
     "text": "MetaKernel Magics",
     "url": "https://metakernel.readthedocs.io/en/latest/source/README.html"
    }
   ],
   "mimetype": "text/x-octave",
   "name": "octave",
   "version": "4.2.2"
  }
 },
 "nbformat": 4,
 "nbformat_minor": 2
}
